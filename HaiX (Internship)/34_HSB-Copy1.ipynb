{
 "cells": [
  {
   "cell_type": "code",
   "execution_count": 1,
   "metadata": {},
   "outputs": [],
   "source": [
    "import re\n",
    "import pandas as pd\n",
    "import numpy as np\n",
    "from sklearn.cluster import KMeans\n",
    "import umap\n",
    "import nltk;\n",
    "import spacy\n",
    "import string\n",
    "\n",
    "import matplotlib.pyplot as plt\n",
    "from matplotlib.axes._axes import _log as matplotlib_axes_logger\n",
    "matplotlib_axes_logger.setLevel('ERROR')\n",
    "import seaborn as sns\n",
    "sns.set(style='white', rc={'figure.figsize':(10,8)})\n",
    "\n",
    "np.random.seed(42)\n",
    "%config Completer.use_jedi = False\n",
    "pd.set_option('display.max_columns', 30)\n",
    "# pd.set_option('display.max_rows', 100)\n",
    "\n",
    "nlp = spacy.load(\"en_core_web_sm\")"
   ]
  },
  {
   "cell_type": "code",
   "execution_count": 2,
   "metadata": {
    "colab": {
     "base_uri": "https://localhost:8080/",
     "height": 621
    },
    "id": "ek3w6OZQsoqv",
    "outputId": "92306d37-cc10-4cb7-c62e-006de9eae451"
   },
   "outputs": [
    {
     "data": {
      "text/html": [
       "<div>\n",
       "<style scoped>\n",
       "    .dataframe tbody tr th:only-of-type {\n",
       "        vertical-align: middle;\n",
       "    }\n",
       "\n",
       "    .dataframe tbody tr th {\n",
       "        vertical-align: top;\n",
       "    }\n",
       "\n",
       "    .dataframe thead th {\n",
       "        text-align: right;\n",
       "    }\n",
       "</style>\n",
       "<table border=\"1\" class=\"dataframe\">\n",
       "  <thead>\n",
       "    <tr style=\"text-align: right;\">\n",
       "      <th></th>\n",
       "      <th>comments</th>\n",
       "    </tr>\n",
       "  </thead>\n",
       "  <tbody>\n",
       "    <tr>\n",
       "      <th>0</th>\n",
       "      <td>I would like to say a massive thank you to HSB...</td>\n",
       "    </tr>\n",
       "    <tr>\n",
       "      <th>1</th>\n",
       "      <td>\"Imaginations Run Wild?\" my backside- try gett...</td>\n",
       "    </tr>\n",
       "    <tr>\n",
       "      <th>2</th>\n",
       "      <td>If you would send me the neccesary number I wo...</td>\n",
       "    </tr>\n",
       "    <tr>\n",
       "      <th>3</th>\n",
       "      <td>Just past 1 hour waiting again, for the 3rd ti...</td>\n",
       "    </tr>\n",
       "    <tr>\n",
       "      <th>4</th>\n",
       "      <td>Melanie Humberstone</td>\n",
       "    </tr>\n",
       "  </tbody>\n",
       "</table>\n",
       "</div>"
      ],
      "text/plain": [
       "                                            comments\n",
       "0  I would like to say a massive thank you to HSB...\n",
       "1  \"Imaginations Run Wild?\" my backside- try gett...\n",
       "2  If you would send me the neccesary number I wo...\n",
       "3  Just past 1 hour waiting again, for the 3rd ti...\n",
       "4                                Melanie Humberstone"
      ]
     },
     "execution_count": 2,
     "metadata": {},
     "output_type": "execute_result"
    }
   ],
   "source": [
    "df = pd.read_csv('hsbc_comments.csv')\n",
    "df.rename(columns={\"message\":\"comments\"},inplace=True)\n",
    "df.head()"
   ]
  },
  {
   "cell_type": "code",
   "execution_count": 3,
   "metadata": {},
   "outputs": [
    {
     "data": {
      "text/plain": [
       "'This type of service is now happening everywhere!!!  I feel your pain!!!   Hope you guys are good.   If you need anything just ask \\\\U0001f44d\\\\U0001f3fc'"
      ]
     },
     "execution_count": 3,
     "metadata": {},
     "output_type": "execute_result"
    }
   ],
   "source": [
    "df.comments[286]"
   ]
  },
  {
   "cell_type": "code",
   "execution_count": 4,
   "metadata": {},
   "outputs": [],
   "source": [
    "# df.comments.replace(\"\\S*@\\S*\" , \"\", regex=True, inplace = True)\n",
    "# df.comments.replace(\"\\S*#\\S*\" , \"\", regex=True, inplace = True)\n",
    "# df.comments.replace(\"\\S*http\\S*\" , \"\", regex=True, inplace = True)\n",
    "# df.comments.replace(\"_\" , \" \", regex=True, inplace = True)\n",
    "# df.comments.replace(\"^\" , \" \", regex=True, inplace = True)\n",
    "# df.comments.replace(\"\\n\" , \" \", regex=True, inplace = True)"
   ]
  },
  {
   "cell_type": "code",
   "execution_count": 5,
   "metadata": {},
   "outputs": [
    {
     "data": {
      "text/plain": [
       "' This type of service is now happening everywhere!!!  I feel your pain!!!   Hope you guys are good.   If you need anything just ask \\\\U0001f44d\\\\U0001f3fc'"
      ]
     },
     "execution_count": 5,
     "metadata": {},
     "output_type": "execute_result"
    }
   ],
   "source": [
    "df.comments[286]"
   ]
  },
  {
   "cell_type": "code",
   "execution_count": 6,
   "metadata": {},
   "outputs": [],
   "source": [
    "# for i in string.punctuation:\n",
    "#     try:\n",
    "#         df.comments.replace(f\"\\{i}\" , \"\", regex=True, inplace = True)\n",
    "#     except: pass"
   ]
  },
  {
   "cell_type": "code",
   "execution_count": 7,
   "metadata": {},
   "outputs": [
    {
     "data": {
      "text/plain": [
       "' This type of service is now happening everywhere  I feel your pain   Hope you guys are good   If you need anything just ask U0001f44dU0001f3fc'"
      ]
     },
     "execution_count": 7,
     "metadata": {},
     "output_type": "execute_result"
    }
   ],
   "source": [
    "df.comments[286]"
   ]
  },
  {
   "cell_type": "code",
   "execution_count": 9,
   "metadata": {},
   "outputs": [],
   "source": [
    "# def remove_unicode(text):\n",
    "\n",
    "#     try:\n",
    "#         text = text.encode(\"latin_1\").decode(\"raw_unicode_escape\").encode('utf-16', 'surrogatepass').decode('utf-16')\n",
    "#     except:\n",
    "#         text = text\n",
    "\n",
    "#     emoji_pattern = re.compile(\"[\"\n",
    "#         u\"\\U0001F600-\\U0001F64F\"  # emoticons\n",
    "#         u\"\\U0001F300-\\U0001F5FF\"  # symbols & pictographs\n",
    "#         u\"\\U0001F680-\\U0001F6FF\"  # transport & map symbols\n",
    "#         u\"\\U0001F1E0-\\U0001F1FF\"  # flags (iOS)\n",
    "#         u\"\\U00002500-\\U00002BEF\"  # chinese char\n",
    "#         u\"\\U00002702-\\U000027B0\"\n",
    "#         u\"\\U00002702-\\U000027B0\"\n",
    "#         u\"\\U000024C2-\\U0001F251\"\n",
    "#         u\"\\U0001f926-\\U0001f937\"\n",
    "#         u\"\\U00010000-\\U0010ffff\"\n",
    "#         u\"\\u2640-\\u2642\" \n",
    "#         u\"\\u2600-\\u2B55\"\n",
    "#         u\"\\u200d\"\n",
    "#         u\"\\u23cf\"\n",
    "#         u\"\\u23e9\"\n",
    "#         u\"\\u231a\"\n",
    "#         u\"\\ufe0f\"  # dingbats\n",
    "#         u\"\\u3030\"\n",
    "#         \"]+\", re.UNICODE)\n",
    "\n",
    "#     text = re.sub(emoji_pattern, '', str(text))\n",
    "#     text = ''.join(text.split('\\\\n')) # to remove uncompiled \\n\n",
    "#     text = re.sub('\\n', '', text)     # to remove compiled \\n\n",
    "\n",
    "#     return text"
   ]
  },
  {
   "cell_type": "code",
   "execution_count": 10,
   "metadata": {},
   "outputs": [],
   "source": [
    "# def word_root(text):\n",
    "#     list_data3=[]\n",
    "#     text = remove_unicode(text)\n",
    "#     doc = nlp(text)\n",
    "#     for token in doc:\n",
    "#         if token.text.isalpha():\n",
    "#             lemma = token.lemma_\n",
    "#             list_data3.append(lemma)\n",
    "#         else:pass\n",
    "#     return \" \".join(list_data3)\n",
    "# df.comments = df.comments.apply(lambda x: word_root(str(x).lower()))  "
   ]
  },
  {
   "cell_type": "code",
   "execution_count": 11,
   "metadata": {},
   "outputs": [
    {
     "data": {
      "text/plain": [
       "                                                                                                                                                                                                                                                                                                                                                                                                                                                                                                                                                                                                                                                                                                                                                                                                                                                                15\n",
       "be glad to introduce to you this genuine company to earn cool cash while stay at home I be benefit from this company till datethat be why be share the goodnew with you because this be how I be direct tooclick on the link and contact mr shawn mende and start earn like                                                                                                                                                                                                                                                                                                                                                                                                                                                                                                                                                                                     10\n",
       "two different phone both on hold one for business banking consecutive call and the other on hold personal bankingnngot through to someone who I specifically tell not to put I on hold and transfer I straight over they advise they would do so and would come back to I in two minute this be twenty minute agonnhsbc staff be liar and con artist to get you off the phonenntime for the financial ombudsman                                                                                                                                                                                                                                                                                                                                                                                                                                                 10\n",
       "bad service two staff member that t have a clue about how to find a solution to a problemnnstaff i d number and n                                                                                                                                                                                                                                                                                                                                                                                                                                                                                                                                                                                                                                                                                                                                               10\n",
       "imagination run wild my backside try get your basic banking service right first I ve be try to get money transfer from my credit card account back into my current account which be a refund from british airway since january I be initially tell by someone call christian it would take day still no sign so on use the web chat service today I ve now be tell today tuesday january by someone call askshith that it will take up to working day from today ie january over hour it take I to get that information today from himher I keep get the run around from people overseas who apologise in a patronising way tell I that they understand all they ever do be apologise and nothing ever gets do they also try to blame some team somewhere its never they re fault what be you go to do about this to restore my confidence in your bank hsbc     7\n",
       "                                                                                                                                                                                                                                                                                                                                                                                                                                                                                                                                                                                                                                                                                                                                                                                                                                                                ..\n",
       "pity you t sort your mortgage department out absolute joke to deal with                                                                                                                                                                                                                                                                                                                                                                                                                                                                                                                                                                                                                                                                                                                                                                                          1\n",
       "hope hsbc will try to make more story of all other religious community also hsbc uk banking t depend on one religion                                                                                                                                                                                                                                                                                                                                                                                                                                                                                                                                                                                                                                                                                                                                             1\n",
       "use your app I would love to but the late update say my device be no long compatible so ca nt use it so I think I know online banking guess what I need a code and where do I get that fromthe                                                                                                                                                                                                                                                                                                                                                                                                                                                                                                                                                                                                                                                                   1\n",
       "finally give up have business account for year with hsbc as soon as other bank be open to new business account off be a disgrace for month now                                                                                                                                                                                                                                                                                                                                                                                                                                                                                                                                                                                                                                                                                                                   1\n",
       "I work for a homeless charity we struggle with obtain bank account for client be it possible to have some more information an email address would be brilliant as I have try to call with not any success thank you                                                                                                                                                                                                                                                                                                                                                                                                                                                                                                                                                                                                                                              1\n",
       "Name: comments, Length: 881, dtype: int64"
      ]
     },
     "execution_count": 11,
     "metadata": {},
     "output_type": "execute_result"
    }
   ],
   "source": [
    "df.comments.value_counts()"
   ]
  },
  {
   "cell_type": "code",
   "execution_count": 3,
   "metadata": {},
   "outputs": [],
   "source": [
    "df.replace('nan', np.nan, inplace = True)\n",
    "df.replace('', np.nan, inplace = True)\n",
    "df.replace('do', np.nan, inplace = True)\n",
    "df = df.dropna()"
   ]
  },
  {
   "cell_type": "code",
   "execution_count": 4,
   "metadata": {},
   "outputs": [
    {
     "data": {
      "text/plain": [
       "Two different phones - both on hold - One for business banking (3hrs+ consecutive calls), and the other on hold - personal banking.\\n\\nGot through to someone who I specifically told not to put me on hold and transfer me straight over - they advised they would do so and would come back to me in two minutes. This was twenty minutes ago!!\\n\\nHSBC STAFF ARE LIARS AND CON ARTISTS TO GET YOU OFF THE PHONE.\\n\\nTIME FOR THE FINANCIAL OMBUDSMEN!                                                                                                                                                                                                                                                                                                                                                                                                                                                                                                                                                                             10\n",
       "Am glad to introduce to you this Genuine company to earn cool cash while staying at home, I am benefiting from this company till date,that is why am sharing the goodnews with you because this was how I was directed too,click on the link and contact Mr Shawn Mendes and start earning like everyone\\n\\U0001f4e9\\U0001f4e9\\U0001f4e9\\U0001f4e9\\U0001f4e9\\U0001f4e9\\U0001f4e9\\U0001f4e9\\U0001f4e9\\U0001f4e9\\n\\U0001f447\\U0001f447\\U0001f447\\U0001f447\\U0001f447\\U0001f447\\U0001f447\\U0001f447\\U0001f447\\U0001f447\\nT.me/coinbase03\\nT.me/coinbase03\\nT.me/coinbase03\\nT.me/coinbase03\\n\\U0001f446\\U0001f446\\U0001f446\\U0001f446\\U0001f446\\U0001f446\\U0001f446\\U0001f446\\U0001f446\\U0001f446                                                                                                                                                                                                                                                                                                                                       10\n",
       "Worst service: two staff members that don\\u2019t have a clue about how to find a solution to a problem:\\n\\nStaff ID numbers 45014422 and 43899840 \\n                                                                                                                                                                                                                                                                                                                                                                                                                                                                                                                                                                                                                                                                                                                                                                                                                                                                                 10\n",
       "\"Imaginations Run Wild?\" my backside- try getting your basic banking services right first. I've been trying to get money transferred from my Credit Card Account back into my Current Account (Which was a refund from British Airways) since 4th January. I was initially told, by someone called Christian, it would take 4 days. Still no sign so on using the web chat service today I've now been told, today Tuesday 12 January by someone called Askshith, that it will take up to 6 working days (FROM TODAY) ie 20th January. Over 2 hours it took me to get that information today from him/her. I keep getting the run around from people overseas who apologise in a patronising way telling me that they \"understand\". All they ever do is apologise - and nothing ever gets done. They also try to blame some \"team\" somewhere. It's never they're fault.                                                                           What are you going to do about this to restore my confidence in your bank HSBC?     7\n",
       "This company gave me the WRONG information Sunday 1st November. Consequently I have this week spent a total of 6 hours and 10 minutes in phone calls with Barclaycard over a 4 day perios who have also confirmed the information given by HSBC was inaccurate. Subsequently I have once again this afternoon phoned HSBC only to be CUT OFF for the second time after forty minutes. \\n\\nThis has now left me with no other option than to contact:\\n1: The financial ombudsman \\n2. BBC Watchdog\\n3: A researcher I know personally who works for a well known TV show that exposes and brings to public attention situations like this.\\n\\nIt's absolutely astounding that all I wanted to do was make a simple balance transfer! \\n\\nIf you are going to employ cheap monkeys to operate a business, you can expect to turn into a zoo, which judging by the reviews here, you've succeeded. \\n\\nAbsolutely appalling service.\\n                                                                                                  6\n",
       "                                                                                                                                                                                                                                                                                                                                                                                                                                                                                                                                                                                                                                                                                                                                                                                                                                                                                                                                                                                                                                     ..\n",
       "Please can you e mail me re a account set up for below Subject: Re i plan to raise money for a memorial site fund for Covid.\\nHello please excuse my grammar / spelling i have a broken arm... i plan on creating a memorial  after  loosing my son 17 in a fire to raise money for a permanent site in the UK for a Memorial for all those who have lost a loved one due to Covid. I need help with ideas location name etc so we will never forget 2020 i have the time  i am today contacting as many press agencies media  outlets etc\\nKind Regards\\nJames Taylor\\nP.S As we know one man can  make a difference.\\n\\nI have had some great ideas such as Reginal Memorials                                                                                                                                                                                                                                                                                                                                                       1\n",
       "Still falling on deaf ears, Even ignoring me on messenger now, very annoying!!!                                                                                                                                                                                                                                                                                                                                                                                                                                                                                                                                                                                                                                                                                                                                                                                                                                                                                                                                                       1\n",
       "Sarah Whitty                                                                                                                                                                                                                                                                                                                                                                                                                                                                                                                                                                                                                                                                                                                                                                                                                                                                                                                                                                                                                          1\n",
       "Hi, I applied for a current account 2 weeks and haven\\u2019t heard anything by post or email, Is there a delay in these being processed?\\nIs there any sort of timescale on how long it make take to hear something? \\nMany thanks                                                                                                                                                                                                                                                                                                                                                                                                                                                                                                                                                                                                                                                                                                                                                                                                    1\n",
       "I be scam calls txts from u I don\\u2019t bank with u                                                                                                                                                                                                                                                                                                                                                                                                                                                                                                                                                                                                                                                                                                                                                                                                                                                                                                                                                                                  1\n",
       "Name: comments, Length: 906, dtype: int64"
      ]
     },
     "execution_count": 4,
     "metadata": {},
     "output_type": "execute_result"
    }
   ],
   "source": [
    "df.comments.value_counts()"
   ]
  },
  {
   "cell_type": "code",
   "execution_count": 5,
   "metadata": {},
   "outputs": [],
   "source": [
    "list_data = df.comments.unique().tolist()"
   ]
  },
  {
   "cell_type": "code",
   "execution_count": 6,
   "metadata": {},
   "outputs": [
    {
     "data": {
      "text/plain": [
       "906"
      ]
     },
     "execution_count": 6,
     "metadata": {},
     "output_type": "execute_result"
    }
   ],
   "source": [
    "len(list_data)"
   ]
  },
  {
   "cell_type": "code",
   "execution_count": 7,
   "metadata": {},
   "outputs": [],
   "source": [
    "from sentence_transformers import SentenceTransformer"
   ]
  },
  {
   "cell_type": "code",
   "execution_count": 8,
   "metadata": {},
   "outputs": [],
   "source": [
    "# distilbert-base-nli-mean-tokens\n",
    "# paraphrase-distilroberta-base-v1\n",
    "# roberta-large-nli-stsb-mean-tokens\n",
    "#allenai-specter\n"
   ]
  },
  {
   "cell_type": "code",
   "execution_count": 9,
   "metadata": {
    "colab": {
     "base_uri": "https://localhost:8080/",
     "height": 67,
     "referenced_widgets": [
      "6b163e4049ca4cbe8a24e7ac79ced8a5",
      "be0f028285fa4e8da720237e1b1279bf",
      "b02fccb0afa047999665079b5248015f",
      "10748c34bb5448d9a34cd200a3979d56",
      "b927e6a6b1c44be1be1f58d582da2f6a",
      "ea4553e744634f56a3128b209cac5330",
      "39fd5938a4df4de2891cd8393dd7af2f",
      "7e2aa975791049c8a7f588ed76b379c0"
     ]
    },
    "id": "BjwnhvRQtW2S",
    "outputId": "458d7bd4-ba13-4112-85a9-fb050e99008f"
   },
   "outputs": [
    {
     "data": {
      "application/vnd.jupyter.widget-view+json": {
       "model_id": "ec9fa907f81946b3a2fcdbf1fa365b18",
       "version_major": 2,
       "version_minor": 0
      },
      "text/plain": [
       "Batches:   0%|          | 0/29 [00:00<?, ?it/s]"
      ]
     },
     "metadata": {},
     "output_type": "display_data"
    }
   ],
   "source": [
    "model=SentenceTransformer('xlm-r-distilroberta-base-paraphrase-v1')\n",
    "embeddings = model.encode(list_data, show_progress_bar=True)"
   ]
  },
  {
   "cell_type": "code",
   "execution_count": 10,
   "metadata": {
    "id": "g8zUQEqTta2y"
   },
   "outputs": [],
   "source": [
    "best_model = umap.UMAP(n_components=5).fit_transform(embeddings)\n",
    "\n",
    "#n_neighbors=10, min_dist=0.0, "
   ]
  },
  {
   "cell_type": "code",
   "execution_count": 11,
   "metadata": {},
   "outputs": [
    {
     "data": {
      "image/png": "[encoded data removed]",
      "text/plain": [
       "<Figure size 720x576 with 1 Axes>"
      ]
     },
     "metadata": {},
     "output_type": "display_data"
    }
   ],
   "source": [
    "#inertia\n",
    "\n",
    "kmeans_per_k = [KMeans(n_clusters=k, random_state=42).fit(best_model)\n",
    "                for k in range(1, 10)]\n",
    "inertias = [model.inertia_ for model in kmeans_per_k]\n",
    "\n",
    "plt.plot(range(1, 10), inertias, \"bo-\")\n",
    "plt.xlabel(\"$k$\", fontsize=14)\n",
    "plt.ylabel(\"Inertia\", fontsize=14)\n",
    "plt.show()"
   ]
  },
  {
   "cell_type": "code",
   "execution_count": 12,
   "metadata": {},
   "outputs": [],
   "source": [
    "from nltk.cluster import KMeansClusterer,euclidean_distance\n",
    "clusterer =KMeansClusterer(3,euclidean_distance)\n",
    "cluster=np.array(clusterer.cluster(best_model,True))"
   ]
  },
  {
   "cell_type": "code",
   "execution_count": 84,
   "metadata": {},
   "outputs": [],
   "source": [
    "cluster = KMeans(n_clusters=5, init=\"k-means++\").fit_predict(best_model)"
   ]
  },
  {
   "cell_type": "code",
   "execution_count": 13,
   "metadata": {
    "colab": {
     "base_uri": "https://localhost:8080/",
     "height": 523
    },
    "id": "bqq2_WsRtbN3",
    "outputId": "8e6703c5-89b1-434e-e8e5-74468bf87f8b"
   },
   "outputs": [],
   "source": [
    "def plot(cluster = cluster):    \n",
    "\n",
    "    clustered = (cluster >= 0)\n",
    "    reduced_dim = umap.UMAP(n_components=2).fit_transform(embeddings)\n",
    "\n",
    "\n",
    "\n",
    "    unique, counts = np.unique(cluster, return_counts=True)\n",
    "    print(dict(zip(unique, counts)))\n",
    "\n",
    "    plt.scatter(reduced_dim[~clustered, 0],\n",
    "                reduced_dim[~clustered, 1],\n",
    "                c=(0.5,0.5,0.5),\n",
    "                # s=1,\n",
    "                alpha=0.5\n",
    "                )\n",
    "    plt.scatter(reduced_dim[clustered, 0],\n",
    "                reduced_dim[clustered, 1],\n",
    "                c=cluster[clustered],\n",
    "                # s=1,\n",
    "                cmap='Accent')\n",
    "    plt.show()"
   ]
  },
  {
   "cell_type": "code",
   "execution_count": 14,
   "metadata": {},
   "outputs": [
    {
     "name": "stdout",
     "output_type": "stream",
     "text": [
      "{0: 221, 1: 506, 2: 179}\n"
     ]
    },
    {
     "data": {
      "image/png": "[encoded data removed]",
      "text/plain": [
       "<Figure size 720x576 with 1 Axes>"
      ]
     },
     "metadata": {},
     "output_type": "display_data"
    }
   ],
   "source": [
    "plot()"
   ]
  },
  {
   "cell_type": "code",
   "execution_count": 87,
   "metadata": {},
   "outputs": [
    {
     "data": {
      "text/plain": [
       "880"
      ]
     },
     "execution_count": 87,
     "metadata": {},
     "output_type": "execute_result"
    }
   ],
   "source": [
    "len(cluster)"
   ]
  },
  {
   "cell_type": "code",
   "execution_count": 88,
   "metadata": {},
   "outputs": [
    {
     "data": {
      "text/html": [
       "<div>\n",
       "<style scoped>\n",
       "    .dataframe tbody tr th:only-of-type {\n",
       "        vertical-align: middle;\n",
       "    }\n",
       "\n",
       "    .dataframe tbody tr th {\n",
       "        vertical-align: top;\n",
       "    }\n",
       "\n",
       "    .dataframe thead th {\n",
       "        text-align: right;\n",
       "    }\n",
       "</style>\n",
       "<table border=\"1\" class=\"dataframe\">\n",
       "  <thead>\n",
       "    <tr style=\"text-align: right;\">\n",
       "      <th></th>\n",
       "      <th>cluster</th>\n",
       "      <th>comments</th>\n",
       "    </tr>\n",
       "  </thead>\n",
       "  <tbody>\n",
       "    <tr>\n",
       "      <th>0</th>\n",
       "      <td>0</td>\n",
       "      <td>imagination run wild backside try get your bas...</td>\n",
       "    </tr>\n",
       "    <tr>\n",
       "      <th>1</th>\n",
       "      <td>1</td>\n",
       "      <td>would like say massive thank you and the telep...</td>\n",
       "    </tr>\n",
       "    <tr>\n",
       "      <th>2</th>\n",
       "      <td>2</td>\n",
       "      <td>you would send the neccesary number would use ...</td>\n",
       "    </tr>\n",
       "    <tr>\n",
       "      <th>3</th>\n",
       "      <td>3</td>\n",
       "      <td>should know all about this mexico brazil big f...</td>\n",
       "    </tr>\n",
       "    <tr>\n",
       "      <th>4</th>\n",
       "      <td>4</td>\n",
       "      <td>melanie humberstone brilliant notice how they ...</td>\n",
       "    </tr>\n",
       "  </tbody>\n",
       "</table>\n",
       "</div>"
      ],
      "text/plain": [
       "   cluster                                           comments\n",
       "0        0  imagination run wild backside try get your bas...\n",
       "1        1  would like say massive thank you and the telep...\n",
       "2        2  you would send the neccesary number would use ...\n",
       "3        3  should know all about this mexico brazil big f...\n",
       "4        4  melanie humberstone brilliant notice how they ..."
      ]
     },
     "execution_count": 88,
     "metadata": {},
     "output_type": "execute_result"
    }
   ],
   "source": [
    "docs = pd.DataFrame(list_data,columns=[\"comments\"])\n",
    "docs[\"cluster\"] = cluster\n",
    "labeled_docs = docs.groupby([\"cluster\"], as_index=False).agg({\"comments\": \" \".join})\n",
    "labeled_docs.comments.replace(r\"\\S*hsbc\\S*\", \"\", regex=True, inplace = True)\n",
    "labeled_docs.comments.replace(r\"\\S*bank\\S*\", \"\", regex=True, inplace = True)\n",
    "labeled_docs.comments.replace(r\"\\S*barc\\S*\", \"\", regex=True, inplace = True)\n",
    "labeled_docs.comments.replace(r\"hypocrisy hypocrisy\", \"hypocrisy\", regex=True, inplace = True)\n",
    "labeled_docs.comments.replace(r\"hypocrisy hypocrisy\", \"hypocrisy\", regex=True, inplace = True)\n",
    "\n",
    "def shortener(text):\n",
    "    word_list = []\n",
    "    text = text.split(\" \")\n",
    "    [word_list.append(i) for i in text if len(i)>2]\n",
    "    return(\" \".join(word_list))\n",
    "\n",
    "labeled_docs.comments = labeled_docs.comments.apply(lambda x:shortener(x))\n",
    "labeled_docs"
   ]
  },
  {
   "cell_type": "code",
   "execution_count": 89,
   "metadata": {},
   "outputs": [
    {
     "name": "stdout",
     "output_type": "stream",
     "text": [
      "\u001b[1m   Trigram Cluster 1: \u001b[0m\n",
      "[('service benn try', 0.5282), ('service right try', 0.5104), ('service try day', 0.5103), ('account desperatley try', 0.5016), ('group try account', 0.4993), ('try customer service', 0.4894), ('try fix situation', 0.4756), ('hubby try hour', 0.4724), ('try time try', 0.4714), ('try business helpline', 0.4683)]\n",
      "\u001b[1m   Trigram Cluster 2: \u001b[0m\n",
      "[('say massive thank', 0.4773), ('account send letter', 0.4753), ('send letter bad', 0.4632), ('close account refuse', 0.4589), ('account information thank', 0.4572), ('thank inform offer', 0.4557), ('love donate year', 0.4557), ('thank telephone staff', 0.4413), ('efficient love donate', 0.4358), ('massive thank telephone', 0.4297)]\n",
      "\u001b[1m   Trigram Cluster 3: \u001b[0m\n",
      "[('hour wait phone', 0.5208), ('try telephone number', 0.5191), ('hour phone try', 0.5144), ('phone wait hour', 0.5137), ('telephone wait minute', 0.5056), ('wait phone hour', 0.5032), ('online service wait', 0.5018), ('contact wait hour', 0.4996), ('text hour wait', 0.4995), ('answer phone wait', 0.4944)]\n",
      "\u001b[1m   Trigram Cluster 4: \u001b[0m\n",
      "[('tell great pension', 0.5589), ('clawback pension unbelievably', 0.5476), ('heart interesting pension', 0.5435), ('tell clawback pension', 0.54), ('tell brilliant pension', 0.5328), ('claw huge pension', 0.5326), ('brilliant pension agoe', 0.5257), ('claw people pension', 0.5253), ('great pension packagesalarie', 0.5232), ('deduction clawback pension', 0.5153)]\n",
      "\u001b[1m   Trigram Cluster 5: \u001b[0m\n",
      "[('read respond island', 0.4384), ('rainfor destruction talk', 0.4351), ('monitor site reply', 0.4298), ('notice reply channel', 0.4244), ('destruction talk action', 0.4204), ('reply message watch', 0.4103), ('humberstone brilliant notice', 0.4025), ('teresa ede dis', 0.4016), ('appreciate read respond', 0.4015), ('action hypocrisy like', 0.3994)]\n"
     ]
    }
   ],
   "source": [
    "from keybert import KeyBERT\n",
    "array_text = labeled_docs.comments.tolist()\n",
    "    \n",
    "kw_extractor = KeyBERT(model=model)\n",
    "trigram = []\n",
    "for j in range(len(array_text)):\n",
    "    keywords = kw_extractor.extract_keywords(array_text[j],top_n=10,keyphrase_ngram_range=(3, 3))\n",
    "    print(f'\\033[1m   Trigram Cluster {j+1}: \\033[0m')\n",
    "    print([word for word in keywords])\n",
    "    trigram.append([word[0] for word in keywords])"
   ]
  },
  {
   "cell_type": "code",
   "execution_count": 90,
   "metadata": {},
   "outputs": [
    {
     "name": "stdout",
     "output_type": "stream",
     "text": [
      "\u001b[1m   Bigram Cluster 1: \u001b[0m\n",
      "[('service try', 0.4963), ('try account', 0.4757), ('hour try', 0.456), ('try refund', 0.4551), ('try send', 0.4517), ('chat try', 0.4493), ('occasion try', 0.4491), ('try blame', 0.4467), ('time try', 0.4448), ('weekend try', 0.4447)]\n",
      "\u001b[1m   Bigram Cluster 2: \u001b[0m\n",
      "[('love donate', 0.4591), ('resolve thank', 0.4472), ('send cheque', 0.4333), ('fraudster thank', 0.4331), ('account send', 0.4311), ('thank inform', 0.4218), ('forever send', 0.4148), ('massive thank', 0.4138), ('send letter', 0.4069), ('send money', 0.4054)]\n",
      "\u001b[1m   Bigram Cluster 3: \u001b[0m\n",
      "[('telephone wait', 0.4883), ('try phone', 0.4602), ('phone wait', 0.4594), ('telephone try', 0.4589), ('try telephone', 0.4541), ('complain telephone', 0.4475), ('phone try', 0.4341), ('contact wait', 0.4253), ('send number', 0.4245), ('telephone number', 0.4222)]\n",
      "\u001b[1m   Bigram Cluster 4: \u001b[0m\n",
      "[('clawback pension', 0.5182), ('interesting pension', 0.5024), ('great pension', 0.5007), ('huge pension', 0.4996), ('meagre pension', 0.4961), ('pension pension', 0.491), ('brilliant pension', 0.4908), ('claw pension', 0.4863), ('people pension', 0.4833), ('company pension', 0.483)]\n",
      "\u001b[1m   Bigram Cluster 5: \u001b[0m\n",
      "[('respond island', 0.4088), ('notice reply', 0.3963), ('respond message', 0.3933), ('earth majesty', 0.3888), ('reply channel', 0.3874), ('destruction talk', 0.3872), ('action hypocrisy', 0.3846), ('read respond', 0.3842), ('teresa ede', 0.3782), ('urgent reply', 0.3773)]\n"
     ]
    }
   ],
   "source": [
    "bigram=[]\n",
    "for j in range(len(array_text)):\n",
    "    keywords = kw_extractor.extract_keywords(array_text[j],top_n=10,keyphrase_ngram_range=(2, 2))\n",
    "    print(f'\\033[1m   Bigram Cluster {j+1}: \\033[0m' )\n",
    "    print([word for word in keywords])\n",
    "    bigram.append([word[0] for word in keywords])"
   ]
  },
  {
   "cell_type": "code",
   "execution_count": 91,
   "metadata": {},
   "outputs": [
    {
     "name": "stdout",
     "output_type": "stream",
     "text": [
      "\u001b[1m   Unigram Cluster 1: \u001b[0m\n",
      "[('try', 0.3976), ('stay', 0.3099), ('attempt', 0.3064), ('worknnplease', 0.2992), ('servicenmr', 0.2978), ('arrange', 0.2964), ('accountnnthe', 0.295), ('insist', 0.2937), ('excuse', 0.2934), ('complain', 0.2932)]\n",
      "\u001b[1m   Unigram Cluster 2: \u001b[0m\n",
      "[('thankfully', 0.3769), ('thank', 0.3623), ('wish', 0.3286), ('grateful', 0.3283), ('send', 0.3238), ('letter', 0.3105), ('careful', 0.307), ('kind', 0.3062), ('card', 0.3022), ('mail', 0.2997)]\n",
      "\u001b[1m   Unigram Cluster 3: \u001b[0m\n",
      "[('telephoneneven', 0.3735), ('internettelephone', 0.3304), ('telephone', 0.3227), ('appregister', 0.3), ('callback', 0.2676), ('thisnplease', 0.265), ('registeruse', 0.2606), ('complaintnnnobody', 0.2507), ('phone', 0.2472), ('customernyou', 0.2454)]\n",
      "\u001b[1m   Unigram Cluster 4: \u001b[0m\n",
      "[('pensioner', 0.3448), ('pension', 0.3347), ('fraud', 0.3121), ('trustee', 0.272), ('disgrace', 0.264), ('pay', 0.2413), ('retirement', 0.237), ('clawback', 0.2361), ('brazil', 0.2351), ('retire', 0.2351)]\n",
      "\u001b[1m   Unigram Cluster 5: \u001b[0m\n",
      "[('demiparadise', 0.3796), ('monitor', 0.3716), ('respond', 0.3713), ('environment', 0.3538), ('response', 0.3532), ('reply', 0.3479), ('facebook', 0.3467), ('destroy', 0.3453), ('speak', 0.341), ('humberstone', 0.3379)]\n"
     ]
    }
   ],
   "source": [
    "unigram=[]\n",
    "for j in range(len(array_text)):\n",
    "    keywords = kw_extractor.extract_keywords(array_text[j],top_n=10,keyphrase_ngram_range=(1, 1))\n",
    "    print(f'\\033[1m   Unigram Cluster {j+1}: \\033[0m' )\n",
    "    print([word for word in keywords])\n",
    "    unigram.append([word[0] for word in keywords])"
   ]
  },
  {
   "cell_type": "code",
   "execution_count": 92,
   "metadata": {},
   "outputs": [
    {
     "name": "stdout",
     "output_type": "stream",
     "text": [
      "\u001b[1m   Cluster 1: \u001b[0m\n",
      "['service benn try', 'service right try', 'try account', 'hour try', 'try refund', 'try', 'stay', 'attempt', 'worknnplease', 'servicenmr', 'arrange', 'accountnnthe', 'insist', 'excuse', 'complain']\n",
      "\u001b[1m   Cluster 2: \u001b[0m\n",
      "['say massive thank', 'account send letter', 'love donate', 'resolve thank', 'send cheque', 'thankfully', 'thank', 'wish', 'grateful', 'send', 'letter', 'careful', 'kind', 'card', 'mail']\n",
      "\u001b[1m   Cluster 3: \u001b[0m\n",
      "['hour wait phone', 'try telephone number', 'telephone wait', 'try telephone', 'complain telephone', 'telephoneneven', 'internettelephone', 'telephone', 'appregister', 'callback', 'thisnplease', 'registeruse', 'complaintnnnobody', 'phone', 'customernyou']\n",
      "\u001b[1m   Cluster 4: \u001b[0m\n",
      "['tell great pension', 'clawback pension unbelievably', 'clawback pension', 'interesting pension', 'huge pension', 'pensioner', 'pension', 'fraud', 'trustee', 'disgrace', 'pay', 'retirement', 'clawback', 'brazil', 'retire']\n"
     ]
    }
   ],
   "source": [
    "for i in range(4):\n",
    "    clusterer=[]\n",
    "    print(f'\\033[1m   Cluster {i+1}: \\033[0m')\n",
    "    clusterer.append(trigram[i][0])\n",
    "    \n",
    "    wor=[]\n",
    "    for w in trigram[i][1].split(\" \"):\n",
    "        wor.append(w in trigram[i][0])\n",
    "    if all(wor):\n",
    "        clusterer.append(trigram[i][2])\n",
    "    else:\n",
    "        clusterer.append(trigram[i][1])\n",
    "        \n",
    "    for m, n in zip(trigram[i][0:2]*5,bigram[i][0:10]):\n",
    "        first,second = n.split(\" \")\n",
    "        if not(first in m and second in m) and (first != second):\n",
    "            clusterer.append(n)\n",
    "    clusterer = clusterer[:5]\n",
    "    [clusterer.append(j) for j in unigram[i]]\n",
    "    print(clusterer)\n",
    "    "
   ]
  },
  {
   "cell_type": "code",
   "execution_count": null,
   "metadata": {},
   "outputs": [],
   "source": []
  }
 ],
 "metadata": {
  "colab": {
   "name": "Untitled5.ipynb",
   "provenance": []
  },
  "kernelspec": {
   "display_name": "Python 3",
   "language": "python",
   "name": "python3"
  },
  "language_info": {
   "codemirror_mode": {
    "name": "ipython",
    "version": 3
   },
   "file_extension": ".py",
   "mimetype": "text/x-python",
   "name": "python",
   "nbconvert_exporter": "python",
   "pygments_lexer": "ipython3",
   "version": "3.8.7"
  },
  "varInspector": {
   "cols": {
    "lenName": 16,
    "lenType": 16,
    "lenVar": 40
   },
   "kernels_config": {
    "python": {
     "delete_cmd_postfix": "",
     "delete_cmd_prefix": "del ",
     "library": "var_list.py",
     "varRefreshCmd": "print(var_dic_list())"
    },
    "r": {
     "delete_cmd_postfix": ") ",
     "delete_cmd_prefix": "rm(",
     "library": "var_list.r",
     "varRefreshCmd": "cat(var_dic_list()) "
    }
   },
   "types_to_exclude": [
    "module",
    "function",
    "builtin_function_or_method",
    "instance",
    "_Feature"
   ],
   "window_display": false
  },
  "widgets": {
   "application/vnd.jupyter.widget-state+json": {
    "10748c34bb5448d9a34cd200a3979d56": {
     "model_module": "@jupyter-widgets/controls",
     "model_name": "HTMLModel",
     "state": {
      "_dom_classes": [],
      "_model_module": "@jupyter-widgets/controls",
      "_model_module_version": "1.5.0",
      "_model_name": "HTMLModel",
      "_view_count": null,
      "_view_module": "@jupyter-widgets/controls",
      "_view_module_version": "1.5.0",
      "_view_name": "HTMLView",
      "description": "",
      "description_tooltip": null,
      "layout": "IPY_MODEL_7e2aa975791049c8a7f588ed76b379c0",
      "placeholder": "​",
      "style": "IPY_MODEL_39fd5938a4df4de2891cd8393dd7af2f",
      "value": " 140/140 [01:59&lt;00:00,  1.17it/s]"
     }
    },
    "39fd5938a4df4de2891cd8393dd7af2f": {
     "model_module": "@jupyter-widgets/controls",
     "model_name": "DescriptionStyleModel",
     "state": {
      "_model_module": "@jupyter-widgets/controls",
      "_model_module_version": "1.5.0",
      "_model_name": "DescriptionStyleModel",
      "_view_count": null,
      "_view_module": "@jupyter-widgets/base",
      "_view_module_version": "1.2.0",
      "_view_name": "StyleView",
      "description_width": ""
     }
    },
    "6b163e4049ca4cbe8a24e7ac79ced8a5": {
     "model_module": "@jupyter-widgets/controls",
     "model_name": "HBoxModel",
     "state": {
      "_dom_classes": [],
      "_model_module": "@jupyter-widgets/controls",
      "_model_module_version": "1.5.0",
      "_model_name": "HBoxModel",
      "_view_count": null,
      "_view_module": "@jupyter-widgets/controls",
      "_view_module_version": "1.5.0",
      "_view_name": "HBoxView",
      "box_style": "",
      "children": [
       "IPY_MODEL_b02fccb0afa047999665079b5248015f",
       "IPY_MODEL_10748c34bb5448d9a34cd200a3979d56"
      ],
      "layout": "IPY_MODEL_be0f028285fa4e8da720237e1b1279bf"
     }
    },
    "7e2aa975791049c8a7f588ed76b379c0": {
     "model_module": "@jupyter-widgets/base",
     "model_name": "LayoutModel",
     "state": {
      "_model_module": "@jupyter-widgets/base",
      "_model_module_version": "1.2.0",
      "_model_name": "LayoutModel",
      "_view_count": null,
      "_view_module": "@jupyter-widgets/base",
      "_view_module_version": "1.2.0",
      "_view_name": "LayoutView",
      "align_content": null,
      "align_items": null,
      "align_self": null,
      "border": null,
      "bottom": null,
      "display": null,
      "flex": null,
      "flex_flow": null,
      "grid_area": null,
      "grid_auto_columns": null,
      "grid_auto_flow": null,
      "grid_auto_rows": null,
      "grid_column": null,
      "grid_gap": null,
      "grid_row": null,
      "grid_template_areas": null,
      "grid_template_columns": null,
      "grid_template_rows": null,
      "height": null,
      "justify_content": null,
      "justify_items": null,
      "left": null,
      "margin": null,
      "max_height": null,
      "max_width": null,
      "min_height": null,
      "min_width": null,
      "object_fit": null,
      "object_position": null,
      "order": null,
      "overflow": null,
      "overflow_x": null,
      "overflow_y": null,
      "padding": null,
      "right": null,
      "top": null,
      "visibility": null,
      "width": null
     }
    },
    "b02fccb0afa047999665079b5248015f": {
     "model_module": "@jupyter-widgets/controls",
     "model_name": "FloatProgressModel",
     "state": {
      "_dom_classes": [],
      "_model_module": "@jupyter-widgets/controls",
      "_model_module_version": "1.5.0",
      "_model_name": "FloatProgressModel",
      "_view_count": null,
      "_view_module": "@jupyter-widgets/controls",
      "_view_module_version": "1.5.0",
      "_view_name": "ProgressView",
      "bar_style": "success",
      "description": "Batches: 100%",
      "description_tooltip": null,
      "layout": "IPY_MODEL_ea4553e744634f56a3128b209cac5330",
      "max": 140,
      "min": 0,
      "orientation": "horizontal",
      "style": "IPY_MODEL_b927e6a6b1c44be1be1f58d582da2f6a",
      "value": 140
     }
    },
    "b927e6a6b1c44be1be1f58d582da2f6a": {
     "model_module": "@jupyter-widgets/controls",
     "model_name": "ProgressStyleModel",
     "state": {
      "_model_module": "@jupyter-widgets/controls",
      "_model_module_version": "1.5.0",
      "_model_name": "ProgressStyleModel",
      "_view_count": null,
      "_view_module": "@jupyter-widgets/base",
      "_view_module_version": "1.2.0",
      "_view_name": "StyleView",
      "bar_color": null,
      "description_width": "initial"
     }
    },
    "be0f028285fa4e8da720237e1b1279bf": {
     "model_module": "@jupyter-widgets/base",
     "model_name": "LayoutModel",
     "state": {
      "_model_module": "@jupyter-widgets/base",
      "_model_module_version": "1.2.0",
      "_model_name": "LayoutModel",
      "_view_count": null,
      "_view_module": "@jupyter-widgets/base",
      "_view_module_version": "1.2.0",
      "_view_name": "LayoutView",
      "align_content": null,
      "align_items": null,
      "align_self": null,
      "border": null,
      "bottom": null,
      "display": null,
      "flex": null,
      "flex_flow": null,
      "grid_area": null,
      "grid_auto_columns": null,
      "grid_auto_flow": null,
      "grid_auto_rows": null,
      "grid_column": null,
      "grid_gap": null,
      "grid_row": null,
      "grid_template_areas": null,
      "grid_template_columns": null,
      "grid_template_rows": null,
      "height": null,
      "justify_content": null,
      "justify_items": null,
      "left": null,
      "margin": null,
      "max_height": null,
      "max_width": null,
      "min_height": null,
      "min_width": null,
      "object_fit": null,
      "object_position": null,
      "order": null,
      "overflow": null,
      "overflow_x": null,
      "overflow_y": null,
      "padding": null,
      "right": null,
      "top": null,
      "visibility": null,
      "width": null
     }
    },
    "ea4553e744634f56a3128b209cac5330": {
     "model_module": "@jupyter-widgets/base",
     "model_name": "LayoutModel",
     "state": {
      "_model_module": "@jupyter-widgets/base",
      "_model_module_version": "1.2.0",
      "_model_name": "LayoutModel",
      "_view_count": null,
      "_view_module": "@jupyter-widgets/base",
      "_view_module_version": "1.2.0",
      "_view_name": "LayoutView",
      "align_content": null,
      "align_items": null,
      "align_self": null,
      "border": null,
      "bottom": null,
      "display": null,
      "flex": null,
      "flex_flow": null,
      "grid_area": null,
      "grid_auto_columns": null,
      "grid_auto_flow": null,
      "grid_auto_rows": null,
      "grid_column": null,
      "grid_gap": null,
      "grid_row": null,
      "grid_template_areas": null,
      "grid_template_columns": null,
      "grid_template_rows": null,
      "height": null,
      "justify_content": null,
      "justify_items": null,
      "left": null,
      "margin": null,
      "max_height": null,
      "max_width": null,
      "min_height": null,
      "min_width": null,
      "object_fit": null,
      "object_position": null,
      "order": null,
      "overflow": null,
      "overflow_x": null,
      "overflow_y": null,
      "padding": null,
      "right": null,
      "top": null,
      "visibility": null,
      "width": null
     }
    }
   }
  }
 },
 "nbformat": 4,
 "nbformat_minor": 4
}

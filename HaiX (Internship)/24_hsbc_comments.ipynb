{
 "cells": [
  {
   "cell_type": "code",
   "execution_count": 1,
   "metadata": {},
   "outputs": [],
   "source": [
    "import re\n",
    "import pandas as pd\n",
    "import numpy as np\n",
    "from sklearn.cluster import KMeans\n",
    "import umap\n",
    "import nltk\n",
    "import spacy\n",
    "import string\n",
    "\n",
    "import matplotlib.pyplot as plt\n",
    "from matplotlib.axes._axes import _log as matplotlib_axes_logger\n",
    "matplotlib_axes_logger.setLevel('ERROR')\n",
    "import seaborn as sns\n",
    "sns.set(style='white', rc={'figure.figsize':(10,8)})\n",
    "\n",
    "np.random.seed(42)\n",
    "%config Completer.use_jedi = False\n",
    "pd.set_option('display.max_columns', 30)\n",
    "# pd.set_option('display.max_rows', 100)\n",
    "\n",
    "spaci = spacy.load(\"en_core_web_sm\")"
   ]
  },
  {
   "cell_type": "code",
   "execution_count": 2,
   "metadata": {
    "colab": {
     "base_uri": "https://localhost:8080/",
     "height": 621
    },
    "id": "ek3w6OZQsoqv",
    "outputId": "92306d37-cc10-4cb7-c62e-006de9eae451"
   },
   "outputs": [
    {
     "data": {
      "text/html": [
       "<div>\n",
       "<style scoped>\n",
       "    .dataframe tbody tr th:only-of-type {\n",
       "        vertical-align: middle;\n",
       "    }\n",
       "\n",
       "    .dataframe tbody tr th {\n",
       "        vertical-align: top;\n",
       "    }\n",
       "\n",
       "    .dataframe thead th {\n",
       "        text-align: right;\n",
       "    }\n",
       "</style>\n",
       "<table border=\"1\" class=\"dataframe\">\n",
       "  <thead>\n",
       "    <tr style=\"text-align: right;\">\n",
       "      <th></th>\n",
       "      <th>message</th>\n",
       "    </tr>\n",
       "  </thead>\n",
       "  <tbody>\n",
       "    <tr>\n",
       "      <th>0</th>\n",
       "      <td>I would like to say a massive thank you to HSB...</td>\n",
       "    </tr>\n",
       "    <tr>\n",
       "      <th>1</th>\n",
       "      <td>\"Imaginations Run Wild?\" my backside- try gett...</td>\n",
       "    </tr>\n",
       "    <tr>\n",
       "      <th>2</th>\n",
       "      <td>If you would send me the neccesary number I wo...</td>\n",
       "    </tr>\n",
       "    <tr>\n",
       "      <th>3</th>\n",
       "      <td>Just past 1 hour waiting again, for the 3rd ti...</td>\n",
       "    </tr>\n",
       "    <tr>\n",
       "      <th>4</th>\n",
       "      <td>Melanie Humberstone</td>\n",
       "    </tr>\n",
       "  </tbody>\n",
       "</table>\n",
       "</div>"
      ],
      "text/plain": [
       "                                             message\n",
       "0  I would like to say a massive thank you to HSB...\n",
       "1  \"Imaginations Run Wild?\" my backside- try gett...\n",
       "2  If you would send me the neccesary number I wo...\n",
       "3  Just past 1 hour waiting again, for the 3rd ti...\n",
       "4                                Melanie Humberstone"
      ]
     },
     "execution_count": 2,
     "metadata": {},
     "output_type": "execute_result"
    }
   ],
   "source": [
    "df = pd.read_csv('hsbc_comments.csv')\n",
    "df.head()"
   ]
  },
  {
   "cell_type": "code",
   "execution_count": 3,
   "metadata": {},
   "outputs": [],
   "source": [
    "df.message.replace(\"\\S*http\\S*\" , \"\", regex=True, inplace = True)\n",
    "df.message.replace(\"_\" , \" \", regex=True, inplace = True)\n",
    "df.message.replace(\"^\" , \" \", regex=True, inplace = True)"
   ]
  },
  {
   "cell_type": "code",
   "execution_count": 4,
   "metadata": {},
   "outputs": [],
   "source": [
    "for i in string.punctuation:\n",
    "    try:\n",
    "        df.fb_comment.replace(f\"\\{i}\" , \"\", regex=True, inplace = True)\n",
    "    except: pass"
   ]
  },
  {
   "cell_type": "code",
   "execution_count": 5,
   "metadata": {},
   "outputs": [
    {
     "data": {
      "text/plain": [
       "0     I would like to say a massive thank you to HS...\n",
       "1     \"Imaginations Run Wild?\" my backside- try get...\n",
       "2     If you would send me the neccesary number I w...\n",
       "3     Just past 1 hour waiting again, for the 3rd t...\n",
       "4                                  Melanie Humberstone\n",
       "Name: message, dtype: object"
      ]
     },
     "execution_count": 5,
     "metadata": {},
     "output_type": "execute_result"
    }
   ],
   "source": [
    "df.message.head()"
   ]
  },
  {
   "cell_type": "code",
   "execution_count": 6,
   "metadata": {},
   "outputs": [],
   "source": [
    "def remove_unicode(text):\n",
    "\n",
    "    try:\n",
    "        text = text.encode(\"latin_1\").decode(\"raw_unicode_escape\").encode('utf-16', 'surrogatepass').decode('utf-16')\n",
    "    except:\n",
    "        text = text\n",
    "\n",
    "    emoji_pattern = re.compile(\"[\"\n",
    "        u\"\\U0001F600-\\U0001F64F\"  # emoticons\n",
    "        u\"\\U0001F300-\\U0001F5FF\"  # symbols & pictographs\n",
    "        u\"\\U0001F680-\\U0001F6FF\"  # transport & map symbols\n",
    "        u\"\\U0001F1E0-\\U0001F1FF\"  # flags (iOS)\n",
    "        u\"\\U00002500-\\U00002BEF\"  # chinese char\n",
    "        u\"\\U00002702-\\U000027B0\"\n",
    "        u\"\\U00002702-\\U000027B0\"\n",
    "        u\"\\U000024C2-\\U0001F251\"\n",
    "        u\"\\U0001f926-\\U0001f937\"\n",
    "        u\"\\U00010000-\\U0010ffff\"\n",
    "        u\"\\u2640-\\u2642\" \n",
    "        u\"\\u2600-\\u2B55\"\n",
    "        u\"\\u200d\"\n",
    "        u\"\\u23cf\"\n",
    "        u\"\\u23e9\"\n",
    "        u\"\\u231a\"\n",
    "        u\"\\ufe0f\"  # dingbats\n",
    "        u\"\\u3030\"\n",
    "        \"]+\", re.UNICODE)\n",
    "\n",
    "    text = re.sub(emoji_pattern, '', str(text))\n",
    "    text = ''.join(text.split('\\\\n')) # to remove uncompiled \\n\n",
    "    text = re.sub('\\n', '', text)     # to remove compiled \\n\n",
    "\n",
    "    return text"
   ]
  },
  {
   "cell_type": "code",
   "execution_count": 7,
   "metadata": {},
   "outputs": [],
   "source": [
    "def word_root(text):\n",
    "    list_data3=[]\n",
    "    text = remove_unicode(text)\n",
    "    doc = spaci(text)\n",
    "    for token in doc:\n",
    "        if token.text.isalpha():\n",
    "            lemma = token.lemma_\n",
    "            list_data3.append(lemma)\n",
    "        else:pass\n",
    "    return \" \".join(list_data3)\n",
    "df.message = df.message.apply(lambda x: word_root(str(x).lower()))  "
   ]
  },
  {
   "cell_type": "code",
   "execution_count": 8,
   "metadata": {},
   "outputs": [
    {
     "data": {
      "text/plain": [
       "'I would like to say a massive thank you to hsbc and the telephone staff someone be use my card and you help I thorough the process of stop it immediately you be friendly and efficient I will always bank hsbc'"
      ]
     },
     "execution_count": 8,
     "metadata": {},
     "output_type": "execute_result"
    }
   ],
   "source": [
    "df.message[0]"
   ]
  },
  {
   "cell_type": "code",
   "execution_count": 9,
   "metadata": {
    "colab": {
     "base_uri": "https://localhost:8080/"
    },
    "id": "AJi9HfxAs-i6",
    "outputId": "d9488f7a-38fe-43f3-f66d-a032b478d821"
   },
   "outputs": [
    {
     "data": {
      "text/plain": [
       "(990,)"
      ]
     },
     "execution_count": 9,
     "metadata": {},
     "output_type": "execute_result"
    }
   ],
   "source": [
    "df_clean = df.message\n",
    "df_clean.shape"
   ]
  },
  {
   "cell_type": "code",
   "execution_count": 10,
   "metadata": {
    "colab": {
     "base_uri": "https://localhost:8080/"
    },
    "id": "fQrLe1lptC5s",
    "outputId": "66b96f28-a9a5-47b9-defa-0079ea6fe6d7"
   },
   "outputs": [
    {
     "data": {
      "text/plain": [
       "(990,)"
      ]
     },
     "execution_count": 10,
     "metadata": {},
     "output_type": "execute_result"
    }
   ],
   "source": [
    "df_clean = df_clean.dropna()\n",
    "df_clean.shape"
   ]
  },
  {
   "cell_type": "code",
   "execution_count": 11,
   "metadata": {
    "id": "47pXDb_dtU04"
   },
   "outputs": [],
   "source": [
    "list_data = df_clean.to_list()\n",
    "list_data = [str(sent) for sent in list_data]"
   ]
  },
  {
   "cell_type": "code",
   "execution_count": 12,
   "metadata": {},
   "outputs": [],
   "source": [
    "from sentence_transformers import SentenceTransformer"
   ]
  },
  {
   "cell_type": "code",
   "execution_count": 13,
   "metadata": {},
   "outputs": [],
   "source": [
    "# distilbert-base-nli-mean-tokens\n",
    "# paraphrase-distilroberta-base-v1"
   ]
  },
  {
   "cell_type": "code",
   "execution_count": 14,
   "metadata": {},
   "outputs": [
    {
     "data": {
      "application/vnd.jupyter.widget-view+json": {
       "model_id": "71311ad04b0443689658fec9669fefc1",
       "version_major": 2,
       "version_minor": 0
      },
      "text/plain": [
       "Batches:   0%|          | 0/31 [00:00<?, ?it/s]"
      ]
     },
     "metadata": {},
     "output_type": "display_data"
    }
   ],
   "source": [
    "model=SentenceTransformer('distilbert-base-nli-mean-tokens')\n",
    "embeddings1 = model.encode(list_data, show_progress_bar=True)"
   ]
  },
  {
   "cell_type": "code",
   "execution_count": 15,
   "metadata": {},
   "outputs": [],
   "source": [
    "# embeddings1[embeddings1.argmax()]"
   ]
  },
  {
   "cell_type": "code",
   "execution_count": 16,
   "metadata": {
    "colab": {
     "base_uri": "https://localhost:8080/",
     "height": 67,
     "referenced_widgets": [
      "6b163e4049ca4cbe8a24e7ac79ced8a5",
      "be0f028285fa4e8da720237e1b1279bf",
      "b02fccb0afa047999665079b5248015f",
      "10748c34bb5448d9a34cd200a3979d56",
      "b927e6a6b1c44be1be1f58d582da2f6a",
      "ea4553e744634f56a3128b209cac5330",
      "39fd5938a4df4de2891cd8393dd7af2f",
      "7e2aa975791049c8a7f588ed76b379c0"
     ]
    },
    "id": "BjwnhvRQtW2S",
    "outputId": "458d7bd4-ba13-4112-85a9-fb050e99008f"
   },
   "outputs": [
    {
     "data": {
      "application/vnd.jupyter.widget-view+json": {
       "model_id": "6adaf13a33e24d4da94c4f9f71425b0d",
       "version_major": 2,
       "version_minor": 0
      },
      "text/plain": [
       "Batches:   0%|          | 0/31 [00:00<?, ?it/s]"
      ]
     },
     "metadata": {},
     "output_type": "display_data"
    }
   ],
   "source": [
    "model=SentenceTransformer('xlm-r-distilroberta-base-paraphrase-v1')\n",
    "embeddings2 = model.encode(list_data, show_progress_bar=True)"
   ]
  },
  {
   "cell_type": "code",
   "execution_count": 17,
   "metadata": {},
   "outputs": [
    {
     "data": {
      "application/vnd.jupyter.widget-view+json": {
       "model_id": "2d4d59739d3145a99481e38b59eb61b1",
       "version_major": 2,
       "version_minor": 0
      },
      "text/plain": [
       "Batches:   0%|          | 0/31 [00:00<?, ?it/s]"
      ]
     },
     "metadata": {},
     "output_type": "display_data"
    }
   ],
   "source": [
    "model=SentenceTransformer('roberta-large-nli-stsb-mean-tokens')\n",
    "embeddings3 = model.encode(list_data, show_progress_bar=True)"
   ]
  },
  {
   "cell_type": "code",
   "execution_count": 18,
   "metadata": {},
   "outputs": [
    {
     "data": {
      "application/vnd.jupyter.widget-view+json": {
       "model_id": "38845c549be546bdbde912037cd7b967",
       "version_major": 2,
       "version_minor": 0
      },
      "text/plain": [
       "Batches:   0%|          | 0/31 [00:00<?, ?it/s]"
      ]
     },
     "metadata": {},
     "output_type": "display_data"
    }
   ],
   "source": [
    "model=SentenceTransformer('allenai-specter')\n",
    "embeddings4 = model.encode(list_data, show_progress_bar=True)"
   ]
  },
  {
   "cell_type": "code",
   "execution_count": 19,
   "metadata": {},
   "outputs": [],
   "source": [
    "UMAP_bert1 = umap.UMAP(n_components=5).fit_transform(embeddings1)\n",
    "\n",
    "UMAP_bert2 = umap.UMAP(n_components=5).fit_transform(embeddings2)\n",
    "\n",
    "UMAP_bert3 = umap.UMAP(n_components=5).fit_transform(embeddings3)\n",
    "\n",
    "UMAP_bert4 = umap.UMAP(n_components=5).fit_transform(embeddings4)\n",
    "\n",
    "#n_neighbors=10, min_dist=0.0, "
   ]
  },
  {
   "cell_type": "code",
   "execution_count": 39,
   "metadata": {},
   "outputs": [
    {
     "data": {
      "text/plain": [
       "{'UMAP_bert1': 0.03865895977210239,\n",
       " 'UMAP_bert2': 0.021247579213936402,\n",
       " 'UMAP_bert3': 0.01980537905352982,\n",
       " 'UMAP_bert4': 0.026406949371167603}"
      ]
     },
     "execution_count": 39,
     "metadata": {},
     "output_type": "execute_result"
    }
   ],
   "source": [
    "from pyclustertend import hopkins\n",
    "\n",
    "embeddings = {\"UMAP_bert1\" : UMAP_bert1, \"UMAP_bert2\" : UMAP_bert2,\n",
    "              \"UMAP_bert3\" : UMAP_bert3, \"UMAP_bert4\" : UMAP_bert4}\n",
    "              \n",
    "embeds = {}\n",
    "\n",
    "for key, emb in embeddings.items():\n",
    "    embeds[key] = hopkins(emb,emb.shape[0])\n",
    "\n",
    "embeds\n",
    "# embeddings[embeds.index(min(embeds))]\n",
    "# print(f\"the hopkins score for embeddings {i} is : {hs}\")"
   ]
  },
  {
   "cell_type": "code",
   "execution_count": 40,
   "metadata": {},
   "outputs": [
    {
     "data": {
      "text/plain": [
       "'UMAP_bert3'"
      ]
     },
     "execution_count": 40,
     "metadata": {},
     "output_type": "execute_result"
    }
   ],
   "source": [
    "best_embed_name = min(embeds, key=embeds.get)\n",
    "best_model = embeddings[best_embed_name]\n",
    "best_embed_name"
   ]
  },
  {
   "cell_type": "code",
   "execution_count": 41,
   "metadata": {},
   "outputs": [
    {
     "data": {
      "image/png": "[encoded data removed]",
      "text/plain": [
       "<Figure size 720x576 with 1 Axes>"
      ]
     },
     "metadata": {},
     "output_type": "display_data"
    }
   ],
   "source": [
    "#inertia\n",
    "\n",
    "kmeans_per_k = [KMeans(n_clusters=k, random_state=42).fit(best_model)\n",
    "                for k in range(1, 10)]\n",
    "inertias = [model.inertia_ for model in kmeans_per_k]\n",
    "\n",
    "plt.plot(range(1, 10), inertias, \"bo-\")\n",
    "plt.xlabel(\"$k$\", fontsize=14)\n",
    "plt.ylabel(\"Inertia\", fontsize=14)\n",
    "plt.show()"
   ]
  },
  {
   "cell_type": "code",
   "execution_count": 42,
   "metadata": {},
   "outputs": [],
   "source": [
    "# # docs = pd.DataFrame(df_clean)\n",
    "# # docs[\"cluster\"] = cluster\n",
    "# #deleting junk clusters\n",
    "# corpus = pd.DataFrame(df_clean)\n",
    "# corpus[\"cluster\"] = cluster\n",
    "# indexes = list(corpus[corpus.cluster == 4].index) + list(corpus[corpus.cluster == 1].index)\n",
    "# best_model = np.delete(best_model, indexes, 0)\n",
    "# corpus = corpus.drop(axis=0, index=indexes)"
   ]
  },
  {
   "cell_type": "code",
   "execution_count": 49,
   "metadata": {},
   "outputs": [
    {
     "data": {
      "text/plain": [
       "964"
      ]
     },
     "execution_count": 49,
     "metadata": {},
     "output_type": "execute_result"
    }
   ],
   "source": [
    "len(corpus)"
   ]
  },
  {
   "cell_type": "code",
   "execution_count": 53,
   "metadata": {},
   "outputs": [],
   "source": [
    "cluster = KMeans(n_clusters=5,init=\"k-means++\").fit_predict(best_model)"
   ]
  },
  {
   "cell_type": "code",
   "execution_count": 54,
   "metadata": {
    "colab": {
     "base_uri": "https://localhost:8080/",
     "height": 523
    },
    "id": "bqq2_WsRtbN3",
    "outputId": "8e6703c5-89b1-434e-e8e5-74468bf87f8b"
   },
   "outputs": [],
   "source": [
    "def plot(cluster = cluster):    \n",
    "\n",
    "    clustered = (cluster >= 0)\n",
    "    reduced_dim = umap.UMAP(n_components=2).fit_transform(embeddings3)\n",
    "\n",
    "\n",
    "\n",
    "    unique, counts = np.unique(cluster, return_counts=True)\n",
    "    print(dict(zip(unique, counts)))\n",
    "\n",
    "    plt.scatter(reduced_dim[~clustered, 0],\n",
    "                reduced_dim[~clustered, 1],\n",
    "                c=(0.5,0.5,0.5),\n",
    "                # s=1,\n",
    "                alpha=0.5\n",
    "                )\n",
    "    plt.scatter(reduced_dim[clustered, 0],\n",
    "                reduced_dim[clustered, 1],\n",
    "                c=cluster[clustered],\n",
    "                # s=1,\n",
    "                cmap='Spectral')\n",
    "    plt.show()"
   ]
  },
  {
   "cell_type": "code",
   "execution_count": 55,
   "metadata": {},
   "outputs": [
    {
     "name": "stdout",
     "output_type": "stream",
     "text": [
      "{0: 403, 1: 15, 2: 120, 3: 441, 4: 11}\n"
     ]
    },
    {
     "data": {
      "image/png": "[encoded data removed]",
      "text/plain": [
       "<Figure size 720x576 with 1 Axes>"
      ]
     },
     "metadata": {},
     "output_type": "display_data"
    }
   ],
   "source": [
    "plot()"
   ]
  },
  {
   "cell_type": "code",
   "execution_count": 56,
   "metadata": {},
   "outputs": [
    {
     "data": {
      "text/plain": [
       "(990,)"
      ]
     },
     "execution_count": 56,
     "metadata": {},
     "output_type": "execute_result"
    }
   ],
   "source": [
    "cluster.shape"
   ]
  },
  {
   "cell_type": "code",
   "execution_count": null,
   "metadata": {},
   "outputs": [],
   "source": []
  },
  {
   "cell_type": "code",
   "execution_count": 57,
   "metadata": {
    "id": "HrVmmyMGtbWR"
   },
   "outputs": [
    {
     "data": {
      "text/html": [
       "<div>\n",
       "<style scoped>\n",
       "    .dataframe tbody tr th:only-of-type {\n",
       "        vertical-align: middle;\n",
       "    }\n",
       "\n",
       "    .dataframe tbody tr th {\n",
       "        vertical-align: top;\n",
       "    }\n",
       "\n",
       "    .dataframe thead th {\n",
       "        text-align: right;\n",
       "    }\n",
       "</style>\n",
       "<table border=\"1\" class=\"dataframe\">\n",
       "  <thead>\n",
       "    <tr style=\"text-align: right;\">\n",
       "      <th></th>\n",
       "      <th>cluster</th>\n",
       "      <th>message</th>\n",
       "    </tr>\n",
       "  </thead>\n",
       "  <tbody>\n",
       "    <tr>\n",
       "      <th>0</th>\n",
       "      <td>0</td>\n",
       "      <td>imagination run wild my try get your basic  se...</td>\n",
       "    </tr>\n",
       "    <tr>\n",
       "      <th>1</th>\n",
       "      <td>1</td>\n",
       "      <td></td>\n",
       "    </tr>\n",
       "    <tr>\n",
       "      <th>2</th>\n",
       "      <td>2</td>\n",
       "      <td>melanie humberstone brilliant x stay safe our ...</td>\n",
       "    </tr>\n",
       "    <tr>\n",
       "      <th>3</th>\n",
       "      <td>3</td>\n",
       "      <td>I would like to say a massive thank you to  an...</td>\n",
       "    </tr>\n",
       "    <tr>\n",
       "      <th>4</th>\n",
       "      <td>4</td>\n",
       "      <td>bad service two staff member that do have a cl...</td>\n",
       "    </tr>\n",
       "  </tbody>\n",
       "</table>\n",
       "</div>"
      ],
      "text/plain": [
       "   cluster                                            message\n",
       "0        0  imagination run wild my try get your basic  se...\n",
       "1        1                                                   \n",
       "2        2  melanie humberstone brilliant x stay safe our ...\n",
       "3        3  I would like to say a massive thank you to  an...\n",
       "4        4  bad service two staff member that do have a cl..."
      ]
     },
     "execution_count": 57,
     "metadata": {},
     "output_type": "execute_result"
    }
   ],
   "source": [
    "docs2 = pd.DataFrame(df_clean)\n",
    "docs2[\"cluster\"] = cluster\n",
    "labeled_docs = docs2.groupby([\"cluster\"], as_index=False).agg({\"message\": \" \".join})\n",
    "labeled_docs.message.replace(r\"\\S*hsbc\\S*\", \"\", regex=True, inplace = True)\n",
    "labeled_docs.message.replace(r\"\\S*bank\\S*\", \"\", regex=True, inplace = True)\n",
    "labeled_docs.message.replace(r\"\\S*barc\\S*\", \"\", regex=True, inplace = True)\n",
    "labeled_docs"
   ]
  },
  {
   "cell_type": "code",
   "execution_count": 65,
   "metadata": {},
   "outputs": [
    {
     "data": {
      "text/plain": [
       "'bad service two staff member that do have a clue about how to find a solution to a problem staff i d number and bad service two staff member that do have a clue about how to find a solution to a problem staff i d number and bad service two staff member that do have a clue about how to find a solution to a problem staff i d number and no but I tired of try to sort out my mortgage with you sort your system out and make it all a bit clear for people staff do have a clue so how do you expect customer to understand bad service two staff member that do have a clue about how to find a solution to a problem staff i d number and bad service two staff member that do have a clue about how to find a solution to a problem staff i d number and bad service two staff member that do have a clue about how to find a solution to a problem staff i d number and bad service two staff member that do have a clue about how to find a solution to a problem staff i d number and bad service two staff member that do have a clue about how to find a solution to a problem staff i d number and bad service two staff member that do have a clue about how to find a solution to a problem staff i d number and bad service two staff member that do have a clue about how to find a solution to a problem staff i d number and'"
      ]
     },
     "execution_count": 65,
     "metadata": {},
     "output_type": "execute_result"
    }
   ],
   "source": [
    "labeled_docs.message[4]"
   ]
  },
  {
   "cell_type": "code",
   "execution_count": 58,
   "metadata": {},
   "outputs": [
    {
     "name": "stdout",
     "output_type": "stream",
     "text": [
      "-------------------- UMAP_bert3 --------------------\n",
      "Cluster 1\n",
      "['try', 'servicejust', 'account', 'attempt', 'service', 'stay', 'customersyet', 'operate', 'chatreadyou', 'keep']\n",
      "Cluster 2\n",
      "['thank', 'excellent', 'grateful', 'great', 'good', 'wonderful', 'awesome', 'lovely', 'brilliant', 'welcome']\n",
      "Cluster 3\n",
      "['tack', 'thankfully', 'goodbye', 'card', 'please', 'kindly', 'thank', 'ncp', 'careful', 'call']\n",
      "Cluster 4\n",
      "['staff', 'problem', 'service', 'solution', 'clue', 'people', 'bad', 'number', 'customer', 'understand']\n"
     ]
    }
   ],
   "source": [
    "from keybert import KeyBERT\n",
    "array_text = labeled_docs.message.tolist()\n",
    "\n",
    "model_names = {\"model1\":'distilbert-base-nli-mean-tokens',\n",
    "               \"model2\": \"xlm-r-distilroberta-base-paraphrase-v1\" ,\n",
    "               \"model3\": 'roberta-large-nli-stsb-mean-tokens',\n",
    "               \"model4\": \"allenai-specter\"}\n",
    "    \n",
    "print(\"-\"*20,best_embed_name,\"-\"*20)\n",
    "kw_extractor = KeyBERT('xlm-r-distilroberta-base-paraphrase-v1')\n",
    "k = 0\n",
    "for j in range(len(array_text)):\n",
    "    k+=1\n",
    "    keywords = kw_extractor.extract_keywords(array_text[j],top_n=10,min_df=2,stop_words=[\"gwych\",\"customersshockingsubstandardcustomerservice\"])\n",
    "    if not keywords:\n",
    "        k -= 1\n",
    "    else:\n",
    "        print(\"Cluster\", str(k))\n",
    "        print([word[0] for word in keywords])"
   ]
  },
  {
   "cell_type": "code",
   "execution_count": 59,
   "metadata": {},
   "outputs": [
    {
     "name": "stdout",
     "output_type": "stream",
     "text": [
      "Cluster 1\n",
      "['account try', 'service try', 'hour try', 'time try', 'try time']\n",
      "Cluster 2\n",
      "['thank you', 'service thank', 'thank to', 'thank for', 'great work']\n",
      "Cluster 3\n",
      "['tack send', 'send card', 'please thank', 'send cheque', 'tack']\n",
      "Cluster 4\n",
      "['problem staff', 'people staff', 'staff do', 'two staff', 'staff number']\n"
     ]
    }
   ],
   "source": [
    "kw_extractor = KeyBERT('xlm-r-distilroberta-base-paraphrase-v1')\n",
    "k = 0\n",
    "for j in range(len(array_text)):\n",
    "    k+=1\n",
    "    keywords = kw_extractor.extract_keywords(array_text[j],top_n=5,min_df=2,keyphrase_ngram_range=(1, 2),\n",
    "                                             stop_words=[\"gwych\",\"customersshockingsubstandardcustomerservice\"])\n",
    "    if not keywords:\n",
    "        k -= 1\n",
    "    else:\n",
    "        print(\"Cluster\", str(k))\n",
    "        print([word[0] for word in keywords])"
   ]
  },
  {
   "cell_type": "code",
   "execution_count": 66,
   "metadata": {},
   "outputs": [
    {
     "name": "stdout",
     "output_type": "stream",
     "text": [
      "Cluster 1\n",
      "['service benn try', 'my account try', 'account try', 'appalling service try', 'over hour try', 'service be try', 'service try', 'hour try', 'account hey try', 'anymore hour try']\n",
      "Cluster 2\n",
      "['service thank you', 'thank you do', 'beautiful service thank', 'great effort hi', 'thank you', 'very grateful appal', 'service thank', 'do good job', 'thank you sir', 'be grateful to']\n",
      "Cluster 3\n",
      "['tack send', 'send card and', 'pay my card', 'cancel my card', 'customer my card', 'tell my card', 'block my card', 'close my account', 'and send cheque', 'send card']\n",
      "Cluster 4\n",
      "['problem staff', 'problem staff number', 'to problem staff', 'people staff do', 'service two staff', 'for people staff', 'people staff', 'staff do', 'two staff', 'staff number and']\n"
     ]
    }
   ],
   "source": [
    "kw_extractor = KeyBERT('xlm-r-distilroberta-base-paraphrase-v1')\n",
    "k = 0\n",
    "for j in range(len(array_text)):\n",
    "    k+=1\n",
    "    keywords = kw_extractor.extract_keywords(array_text[j],top_n=10,min_df=2,keyphrase_ngram_range=(1, 3),\n",
    "                                             stop_words=[\"gwych\",\"customersshockingsubstandardcustomerservice\"])\n",
    "    if not keywords:\n",
    "        k -= 1\n",
    "    else:\n",
    "        print(\"Cluster\", str(k))\n",
    "        print([word[0] for word in keywords])"
   ]
  },
  {
   "cell_type": "code",
   "execution_count": null,
   "metadata": {},
   "outputs": [],
   "source": []
  }
 ],
 "metadata": {
  "colab": {
   "name": "Untitled5.ipynb",
   "provenance": []
  },
  "kernelspec": {
   "display_name": "Python 3",
   "language": "python",
   "name": "python3"
  },
  "language_info": {
   "codemirror_mode": {
    "name": "ipython",
    "version": 3
   },
   "file_extension": ".py",
   "mimetype": "text/x-python",
   "name": "python",
   "nbconvert_exporter": "python",
   "pygments_lexer": "ipython3",
   "version": "3.8.7"
  },
  "varInspector": {
   "cols": {
    "lenName": 16,
    "lenType": 16,
    "lenVar": 40
   },
   "kernels_config": {
    "python": {
     "delete_cmd_postfix": "",
     "delete_cmd_prefix": "del ",
     "library": "var_list.py",
     "varRefreshCmd": "print(var_dic_list())"
    },
    "r": {
     "delete_cmd_postfix": ") ",
     "delete_cmd_prefix": "rm(",
     "library": "var_list.r",
     "varRefreshCmd": "cat(var_dic_list()) "
    }
   },
   "types_to_exclude": [
    "module",
    "function",
    "builtin_function_or_method",
    "instance",
    "_Feature"
   ],
   "window_display": false
  },
  "widgets": {
   "application/vnd.jupyter.widget-state+json": {
    "10748c34bb5448d9a34cd200a3979d56": {
     "model_module": "@jupyter-widgets/controls",
     "model_name": "HTMLModel",
     "state": {
      "_dom_classes": [],
      "_model_module": "@jupyter-widgets/controls",
      "_model_module_version": "1.5.0",
      "_model_name": "HTMLModel",
      "_view_count": null,
      "_view_module": "@jupyter-widgets/controls",
      "_view_module_version": "1.5.0",
      "_view_name": "HTMLView",
      "description": "",
      "description_tooltip": null,
      "layout": "IPY_MODEL_7e2aa975791049c8a7f588ed76b379c0",
      "placeholder": "​",
      "style": "IPY_MODEL_39fd5938a4df4de2891cd8393dd7af2f",
      "value": " 140/140 [01:59&lt;00:00,  1.17it/s]"
     }
    },
    "39fd5938a4df4de2891cd8393dd7af2f": {
     "model_module": "@jupyter-widgets/controls",
     "model_name": "DescriptionStyleModel",
     "state": {
      "_model_module": "@jupyter-widgets/controls",
      "_model_module_version": "1.5.0",
      "_model_name": "DescriptionStyleModel",
      "_view_count": null,
      "_view_module": "@jupyter-widgets/base",
      "_view_module_version": "1.2.0",
      "_view_name": "StyleView",
      "description_width": ""
     }
    },
    "6b163e4049ca4cbe8a24e7ac79ced8a5": {
     "model_module": "@jupyter-widgets/controls",
     "model_name": "HBoxModel",
     "state": {
      "_dom_classes": [],
      "_model_module": "@jupyter-widgets/controls",
      "_model_module_version": "1.5.0",
      "_model_name": "HBoxModel",
      "_view_count": null,
      "_view_module": "@jupyter-widgets/controls",
      "_view_module_version": "1.5.0",
      "_view_name": "HBoxView",
      "box_style": "",
      "children": [
       "IPY_MODEL_b02fccb0afa047999665079b5248015f",
       "IPY_MODEL_10748c34bb5448d9a34cd200a3979d56"
      ],
      "layout": "IPY_MODEL_be0f028285fa4e8da720237e1b1279bf"
     }
    },
    "7e2aa975791049c8a7f588ed76b379c0": {
     "model_module": "@jupyter-widgets/base",
     "model_name": "LayoutModel",
     "state": {
      "_model_module": "@jupyter-widgets/base",
      "_model_module_version": "1.2.0",
      "_model_name": "LayoutModel",
      "_view_count": null,
      "_view_module": "@jupyter-widgets/base",
      "_view_module_version": "1.2.0",
      "_view_name": "LayoutView",
      "align_content": null,
      "align_items": null,
      "align_self": null,
      "border": null,
      "bottom": null,
      "display": null,
      "flex": null,
      "flex_flow": null,
      "grid_area": null,
      "grid_auto_columns": null,
      "grid_auto_flow": null,
      "grid_auto_rows": null,
      "grid_column": null,
      "grid_gap": null,
      "grid_row": null,
      "grid_template_areas": null,
      "grid_template_columns": null,
      "grid_template_rows": null,
      "height": null,
      "justify_content": null,
      "justify_items": null,
      "left": null,
      "margin": null,
      "max_height": null,
      "max_width": null,
      "min_height": null,
      "min_width": null,
      "object_fit": null,
      "object_position": null,
      "order": null,
      "overflow": null,
      "overflow_x": null,
      "overflow_y": null,
      "padding": null,
      "right": null,
      "top": null,
      "visibility": null,
      "width": null
     }
    },
    "b02fccb0afa047999665079b5248015f": {
     "model_module": "@jupyter-widgets/controls",
     "model_name": "FloatProgressModel",
     "state": {
      "_dom_classes": [],
      "_model_module": "@jupyter-widgets/controls",
      "_model_module_version": "1.5.0",
      "_model_name": "FloatProgressModel",
      "_view_count": null,
      "_view_module": "@jupyter-widgets/controls",
      "_view_module_version": "1.5.0",
      "_view_name": "ProgressView",
      "bar_style": "success",
      "description": "Batches: 100%",
      "description_tooltip": null,
      "layout": "IPY_MODEL_ea4553e744634f56a3128b209cac5330",
      "max": 140,
      "min": 0,
      "orientation": "horizontal",
      "style": "IPY_MODEL_b927e6a6b1c44be1be1f58d582da2f6a",
      "value": 140
     }
    },
    "b927e6a6b1c44be1be1f58d582da2f6a": {
     "model_module": "@jupyter-widgets/controls",
     "model_name": "ProgressStyleModel",
     "state": {
      "_model_module": "@jupyter-widgets/controls",
      "_model_module_version": "1.5.0",
      "_model_name": "ProgressStyleModel",
      "_view_count": null,
      "_view_module": "@jupyter-widgets/base",
      "_view_module_version": "1.2.0",
      "_view_name": "StyleView",
      "bar_color": null,
      "description_width": "initial"
     }
    },
    "be0f028285fa4e8da720237e1b1279bf": {
     "model_module": "@jupyter-widgets/base",
     "model_name": "LayoutModel",
     "state": {
      "_model_module": "@jupyter-widgets/base",
      "_model_module_version": "1.2.0",
      "_model_name": "LayoutModel",
      "_view_count": null,
      "_view_module": "@jupyter-widgets/base",
      "_view_module_version": "1.2.0",
      "_view_name": "LayoutView",
      "align_content": null,
      "align_items": null,
      "align_self": null,
      "border": null,
      "bottom": null,
      "display": null,
      "flex": null,
      "flex_flow": null,
      "grid_area": null,
      "grid_auto_columns": null,
      "grid_auto_flow": null,
      "grid_auto_rows": null,
      "grid_column": null,
      "grid_gap": null,
      "grid_row": null,
      "grid_template_areas": null,
      "grid_template_columns": null,
      "grid_template_rows": null,
      "height": null,
      "justify_content": null,
      "justify_items": null,
      "left": null,
      "margin": null,
      "max_height": null,
      "max_width": null,
      "min_height": null,
      "min_width": null,
      "object_fit": null,
      "object_position": null,
      "order": null,
      "overflow": null,
      "overflow_x": null,
      "overflow_y": null,
      "padding": null,
      "right": null,
      "top": null,
      "visibility": null,
      "width": null
     }
    },
    "ea4553e744634f56a3128b209cac5330": {
     "model_module": "@jupyter-widgets/base",
     "model_name": "LayoutModel",
     "state": {
      "_model_module": "@jupyter-widgets/base",
      "_model_module_version": "1.2.0",
      "_model_name": "LayoutModel",
      "_view_count": null,
      "_view_module": "@jupyter-widgets/base",
      "_view_module_version": "1.2.0",
      "_view_name": "LayoutView",
      "align_content": null,
      "align_items": null,
      "align_self": null,
      "border": null,
      "bottom": null,
      "display": null,
      "flex": null,
      "flex_flow": null,
      "grid_area": null,
      "grid_auto_columns": null,
      "grid_auto_flow": null,
      "grid_auto_rows": null,
      "grid_column": null,
      "grid_gap": null,
      "grid_row": null,
      "grid_template_areas": null,
      "grid_template_columns": null,
      "grid_template_rows": null,
      "height": null,
      "justify_content": null,
      "justify_items": null,
      "left": null,
      "margin": null,
      "max_height": null,
      "max_width": null,
      "min_height": null,
      "min_width": null,
      "object_fit": null,
      "object_position": null,
      "order": null,
      "overflow": null,
      "overflow_x": null,
      "overflow_y": null,
      "padding": null,
      "right": null,
      "top": null,
      "visibility": null,
      "width": null
     }
    }
   }
  }
 },
 "nbformat": 4,
 "nbformat_minor": 4
}

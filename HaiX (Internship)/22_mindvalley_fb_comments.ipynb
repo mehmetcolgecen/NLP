{
 "cells": [
  {
   "cell_type": "code",
   "execution_count": 4,
   "metadata": {},
   "outputs": [],
   "source": [
    "import re\n",
    "import pandas as pd\n",
    "import numpy as np\n",
    "from sklearn.cluster import KMeans\n",
    "import umap\n",
    "import nltk\n",
    "import spacy\n",
    "import string\n",
    "\n",
    "import matplotlib.pyplot as plt\n",
    "from matplotlib.axes._axes import _log as matplotlib_axes_logger\n",
    "matplotlib_axes_logger.setLevel('ERROR')\n",
    "import seaborn as sns\n",
    "sns.set(style='white', rc={'figure.figsize':(10,8)})\n",
    "\n",
    "np.random.seed(42)\n",
    "%config Completer.use_jedi = False\n",
    "pd.set_option('display.max_columns', 30)\n",
    "# pd.set_option('display.max_rows', 100)\n",
    "\n",
    "spaci = spacy.load(\"en_core_web_sm\")"
   ]
  },
  {
   "cell_type": "code",
   "execution_count": 5,
   "metadata": {
    "colab": {
     "base_uri": "https://localhost:8080/",
     "height": 621
    },
    "id": "ek3w6OZQsoqv",
    "outputId": "92306d37-cc10-4cb7-c62e-006de9eae451"
   },
   "outputs": [
    {
     "data": {
      "text/html": [
       "<div>\n",
       "<style scoped>\n",
       "    .dataframe tbody tr th:only-of-type {\n",
       "        vertical-align: middle;\n",
       "    }\n",
       "\n",
       "    .dataframe tbody tr th {\n",
       "        vertical-align: top;\n",
       "    }\n",
       "\n",
       "    .dataframe thead th {\n",
       "        text-align: right;\n",
       "    }\n",
       "</style>\n",
       "<table border=\"1\" class=\"dataframe\">\n",
       "  <thead>\n",
       "    <tr style=\"text-align: right;\">\n",
       "      <th></th>\n",
       "      <th>Unnamed: 0</th>\n",
       "      <th>comment</th>\n",
       "    </tr>\n",
       "  </thead>\n",
       "  <tbody>\n",
       "    <tr>\n",
       "      <th>0</th>\n",
       "      <td>0</td>\n",
       "      <td>After this class you'll see why Silicon Valley...</td>\n",
       "    </tr>\n",
       "    <tr>\n",
       "      <th>1</th>\n",
       "      <td>1</td>\n",
       "      <td>The shirt is almost identical to my moms fancy...</td>\n",
       "    </tr>\n",
       "    <tr>\n",
       "      <th>2</th>\n",
       "      <td>2</td>\n",
       "      <td>When you buy a program,  can you stop, backup,...</td>\n",
       "    </tr>\n",
       "    <tr>\n",
       "      <th>3</th>\n",
       "      <td>3</td>\n",
       "      <td>Exactly what is lucid dreaming? Thank you for ...</td>\n",
       "    </tr>\n",
       "    <tr>\n",
       "      <th>4</th>\n",
       "      <td>4</td>\n",
       "      <td>I have lucid dreams all the time, also have ov...</td>\n",
       "    </tr>\n",
       "  </tbody>\n",
       "</table>\n",
       "</div>"
      ],
      "text/plain": [
       "   Unnamed: 0                                            comment\n",
       "0           0  After this class you'll see why Silicon Valley...\n",
       "1           1  The shirt is almost identical to my moms fancy...\n",
       "2           2  When you buy a program,  can you stop, backup,...\n",
       "3           3  Exactly what is lucid dreaming? Thank you for ...\n",
       "4           4  I have lucid dreams all the time, also have ov..."
      ]
     },
     "execution_count": 5,
     "metadata": {},
     "output_type": "execute_result"
    }
   ],
   "source": [
    "df = pd.read_csv('mindvalley_fb_comments.csv')\n",
    "df.head()"
   ]
  },
  {
   "cell_type": "code",
   "execution_count": 6,
   "metadata": {},
   "outputs": [],
   "source": [
    "df.comment.replace(\"\\S*http\\S*\" , \"\", regex=True, inplace = True)\n",
    "df.comment.replace(\"_\" , \" \", regex=True, inplace = True)\n",
    "df.comment.replace(\"^\" , \" \", regex=True, inplace = True)"
   ]
  },
  {
   "cell_type": "code",
   "execution_count": 7,
   "metadata": {},
   "outputs": [],
   "source": [
    "for i in string.punctuation:\n",
    "    try:\n",
    "        df.comment.replace(f\"\\{i}\" , \"\", regex=True, inplace = True)\n",
    "    except: pass"
   ]
  },
  {
   "cell_type": "code",
   "execution_count": 8,
   "metadata": {},
   "outputs": [],
   "source": [
    "def remove_unicode(text):\n",
    "\n",
    "    try:\n",
    "        text = text.encode(\"latin_1\").decode(\"raw_unicode_escape\").encode('utf-16', 'surrogatepass').decode('utf-16')\n",
    "    except:\n",
    "        text = text\n",
    "\n",
    "    emoji_pattern = re.compile(\"[\"\n",
    "        u\"\\U0001F600-\\U0001F64F\"  # emoticons\n",
    "        u\"\\U0001F300-\\U0001F5FF\"  # symbols & pictographs\n",
    "        u\"\\U0001F680-\\U0001F6FF\"  # transport & map symbols\n",
    "        u\"\\U0001F1E0-\\U0001F1FF\"  # flags (iOS)\n",
    "        u\"\\U00002500-\\U00002BEF\"  # chinese char\n",
    "        u\"\\U00002702-\\U000027B0\"\n",
    "        u\"\\U00002702-\\U000027B0\"\n",
    "        u\"\\U000024C2-\\U0001F251\"\n",
    "        u\"\\U0001f926-\\U0001f937\"\n",
    "        u\"\\U00010000-\\U0010ffff\"\n",
    "        u\"\\u2640-\\u2642\" \n",
    "        u\"\\u2600-\\u2B55\"\n",
    "        u\"\\u200d\"\n",
    "        u\"\\u23cf\"\n",
    "        u\"\\u23e9\"\n",
    "        u\"\\u231a\"\n",
    "        u\"\\ufe0f\"  # dingbats\n",
    "        u\"\\u3030\"\n",
    "        \"]+\", re.UNICODE)\n",
    "\n",
    "    text = re.sub(emoji_pattern, '', str(text))\n",
    "    text = ''.join(text.split('\\\\n')) # to remove uncompiled \\n\n",
    "    text = re.sub('\\n', '', text)     # to remove compiled \\n\n",
    "\n",
    "    return text"
   ]
  },
  {
   "cell_type": "code",
   "execution_count": 9,
   "metadata": {},
   "outputs": [],
   "source": [
    "def word_root(text):\n",
    "    list_data3=[]\n",
    "    text = remove_unicode(text)\n",
    "    doc = spaci(text)\n",
    "    for token in doc:\n",
    "        if token.text.isalpha():\n",
    "            lemma = token.lemma_\n",
    "            list_data3.append(lemma)\n",
    "        else:pass\n",
    "    return \" \".join(list_data3)\n",
    "df.comment = df.comment.apply(lambda x: word_root(str(x).lower()))  "
   ]
  },
  {
   "cell_type": "code",
   "execution_count": 10,
   "metadata": {},
   "outputs": [
    {
     "data": {
      "text/plain": [
       "False"
      ]
     },
     "execution_count": 10,
     "metadata": {},
     "output_type": "execute_result"
    }
   ],
   "source": [
    "\"mahmut.\".isalpha()"
   ]
  },
  {
   "cell_type": "code",
   "execution_count": 11,
   "metadata": {},
   "outputs": [
    {
     "data": {
      "text/plain": [
       "'after this class you ll see why silicon valley company be flock to trainer like charlie to be the first to start utilise this unexplored frontier of personal growth check out this link to get start sweet dream'"
      ]
     },
     "execution_count": 11,
     "metadata": {},
     "output_type": "execute_result"
    }
   ],
   "source": [
    "df.comment[0]"
   ]
  },
  {
   "cell_type": "code",
   "execution_count": 12,
   "metadata": {
    "colab": {
     "base_uri": "https://localhost:8080/"
    },
    "id": "AJi9HfxAs-i6",
    "outputId": "d9488f7a-38fe-43f3-f66d-a032b478d821"
   },
   "outputs": [
    {
     "data": {
      "text/plain": [
       "(1244,)"
      ]
     },
     "execution_count": 12,
     "metadata": {},
     "output_type": "execute_result"
    }
   ],
   "source": [
    "df_clean = df.comment\n",
    "df_clean.shape"
   ]
  },
  {
   "cell_type": "code",
   "execution_count": 13,
   "metadata": {
    "colab": {
     "base_uri": "https://localhost:8080/"
    },
    "id": "fQrLe1lptC5s",
    "outputId": "66b96f28-a9a5-47b9-defa-0079ea6fe6d7"
   },
   "outputs": [
    {
     "data": {
      "text/plain": [
       "(1244,)"
      ]
     },
     "execution_count": 13,
     "metadata": {},
     "output_type": "execute_result"
    }
   ],
   "source": [
    "df_clean = df_clean.dropna()\n",
    "df_clean.shape"
   ]
  },
  {
   "cell_type": "code",
   "execution_count": 14,
   "metadata": {
    "id": "47pXDb_dtU04"
   },
   "outputs": [],
   "source": [
    "list_data = df_clean.to_list()\n",
    "list_data = [str(sent) for sent in list_data]"
   ]
  },
  {
   "cell_type": "code",
   "execution_count": 15,
   "metadata": {},
   "outputs": [],
   "source": [
    "from sentence_transformers import SentenceTransformer"
   ]
  },
  {
   "cell_type": "code",
   "execution_count": 16,
   "metadata": {},
   "outputs": [],
   "source": [
    "# distilbert-base-nli-mean-tokens\n",
    "# paraphrase-distilroberta-base-v1"
   ]
  },
  {
   "cell_type": "code",
   "execution_count": 17,
   "metadata": {},
   "outputs": [
    {
     "data": {
      "application/vnd.jupyter.widget-view+json": {
       "model_id": "77fb9bdee51547339f73e07f192c4f28",
       "version_major": 2,
       "version_minor": 0
      },
      "text/plain": [
       "Batches:   0%|          | 0/39 [00:00<?, ?it/s]"
      ]
     },
     "metadata": {},
     "output_type": "display_data"
    }
   ],
   "source": [
    "model=SentenceTransformer('distilbert-base-nli-mean-tokens')\n",
    "embeddings1 = model.encode(list_data, show_progress_bar=True)"
   ]
  },
  {
   "cell_type": "code",
   "execution_count": 18,
   "metadata": {
    "colab": {
     "base_uri": "https://localhost:8080/",
     "height": 67,
     "referenced_widgets": [
      "6b163e4049ca4cbe8a24e7ac79ced8a5",
      "be0f028285fa4e8da720237e1b1279bf",
      "b02fccb0afa047999665079b5248015f",
      "10748c34bb5448d9a34cd200a3979d56",
      "b927e6a6b1c44be1be1f58d582da2f6a",
      "ea4553e744634f56a3128b209cac5330",
      "39fd5938a4df4de2891cd8393dd7af2f",
      "7e2aa975791049c8a7f588ed76b379c0"
     ]
    },
    "id": "BjwnhvRQtW2S",
    "outputId": "458d7bd4-ba13-4112-85a9-fb050e99008f"
   },
   "outputs": [
    {
     "data": {
      "application/vnd.jupyter.widget-view+json": {
       "model_id": "ea7077c2603e4e4482fc02f3fd53bc1d",
       "version_major": 2,
       "version_minor": 0
      },
      "text/plain": [
       "Batches:   0%|          | 0/39 [00:00<?, ?it/s]"
      ]
     },
     "metadata": {},
     "output_type": "display_data"
    }
   ],
   "source": [
    "model=SentenceTransformer('xlm-r-distilroberta-base-paraphrase-v1')\n",
    "embeddings2 = model.encode(list_data, show_progress_bar=True)"
   ]
  },
  {
   "cell_type": "code",
   "execution_count": 19,
   "metadata": {},
   "outputs": [
    {
     "data": {
      "application/vnd.jupyter.widget-view+json": {
       "model_id": "fc82e5344cb340b39001a9f60b32baa2",
       "version_major": 2,
       "version_minor": 0
      },
      "text/plain": [
       "Batches:   0%|          | 0/39 [00:00<?, ?it/s]"
      ]
     },
     "metadata": {},
     "output_type": "display_data"
    }
   ],
   "source": [
    "model=SentenceTransformer('roberta-large-nli-stsb-mean-tokens')\n",
    "embeddings3 = model.encode(list_data, show_progress_bar=True)"
   ]
  },
  {
   "cell_type": "code",
   "execution_count": 20,
   "metadata": {},
   "outputs": [
    {
     "data": {
      "application/vnd.jupyter.widget-view+json": {
       "model_id": "4ac12de17d374bc7b63e1dec2ec2baaf",
       "version_major": 2,
       "version_minor": 0
      },
      "text/plain": [
       "Batches:   0%|          | 0/39 [00:00<?, ?it/s]"
      ]
     },
     "metadata": {},
     "output_type": "display_data"
    }
   ],
   "source": [
    "model=SentenceTransformer('allenai-specter')\n",
    "embeddings4 = model.encode(list_data, show_progress_bar=True)"
   ]
  },
  {
   "cell_type": "code",
   "execution_count": 21,
   "metadata": {},
   "outputs": [],
   "source": [
    "# UMAP_bert1 = umap.UMAP(n_components=5).fit_transform(embeddings1)\n",
    "\n",
    "# UMAP_bert2 = umap.UMAP(n_components=5).fit_transform(embeddings2)\n",
    "\n",
    "UMAP_bert3 = umap.UMAP(n_components=5).fit_transform(embeddings3)\n",
    "\n",
    "# UMAP_bert4 = umap.UMAP(n_components=5).fit_transform(embeddings4)\n",
    "\n",
    "#n_neighbors=10, min_dist=0.0, "
   ]
  },
  {
   "cell_type": "code",
   "execution_count": 22,
   "metadata": {},
   "outputs": [
    {
     "ename": "NameError",
     "evalue": "name 'UMAP_bert1' is not defined",
     "output_type": "error",
     "traceback": [
      "\u001b[1;31m---------------------------------------------------------------------------\u001b[0m",
      "\u001b[1;31mNameError\u001b[0m                                 Traceback (most recent call last)",
      "\u001b[1;32m<ipython-input-22-6d06f4130d30>\u001b[0m in \u001b[0;36m<module>\u001b[1;34m\u001b[0m\n\u001b[0;32m      1\u001b[0m \u001b[1;32mfrom\u001b[0m \u001b[0mpyclustertend\u001b[0m \u001b[1;32mimport\u001b[0m \u001b[0mhopkins\u001b[0m\u001b[1;33m\u001b[0m\u001b[1;33m\u001b[0m\u001b[0m\n\u001b[0;32m      2\u001b[0m \u001b[1;33m\u001b[0m\u001b[0m\n\u001b[1;32m----> 3\u001b[1;33m embeddings = {\"UMAP_bert1\" : UMAP_bert1, \"UMAP_bert2\" : UMAP_bert2,\n\u001b[0m\u001b[0;32m      4\u001b[0m               \"UMAP_bert3\" : UMAP_bert3, \"UMAP_bert4\" : UMAP_bert4}\n\u001b[0;32m      5\u001b[0m \u001b[1;33m\u001b[0m\u001b[0m\n",
      "\u001b[1;31mNameError\u001b[0m: name 'UMAP_bert1' is not defined"
     ]
    }
   ],
   "source": [
    "from pyclustertend import hopkins\n",
    "\n",
    "embeddings = {\"UMAP_bert1\" : UMAP_bert1, \"UMAP_bert2\" : UMAP_bert2,\n",
    "              \"UMAP_bert3\" : UMAP_bert3, \"UMAP_bert4\" : UMAP_bert4}\n",
    "              \n",
    "embeds = {}\n",
    "\n",
    "for key, emb in embeddings.items():\n",
    "    embeds[key] = hopkins(emb,emb.shape[0])\n",
    "\n",
    "embeds\n",
    "# embeddings[embeds.index(min(embeds))]\n",
    "# print(f\"the hopkins score for embeddings {i} is : {hs}\")"
   ]
  },
  {
   "cell_type": "code",
   "execution_count": null,
   "metadata": {},
   "outputs": [],
   "source": [
    "best_embed_name = min(embeds, key=embeds.get)\n",
    "best_embed_name = 'UMAP_bert3'\n",
    "best_model = embeddings[best_embed_name]\n",
    "best_embed_name"
   ]
  },
  {
   "cell_type": "code",
   "execution_count": null,
   "metadata": {},
   "outputs": [],
   "source": [
    "# #inertia\n",
    "\n",
    "# kmeans_per_k = [KMeans(n_clusters=k, random_state=42).fit(best_model)\n",
    "#                 for k in range(1, 10)]\n",
    "# inertias = [model.inertia_ for model in kmeans_per_k]\n",
    "\n",
    "# plt.plot(range(1, 10), inertias, \"bo-\")\n",
    "# plt.xlabel(\"$k$\", fontsize=14)\n",
    "# plt.ylabel(\"Inertia\", fontsize=14)\n",
    "# plt.show()"
   ]
  },
  {
   "cell_type": "code",
   "execution_count": null,
   "metadata": {},
   "outputs": [],
   "source": [
    "# # #deleting junk clusters\n",
    "# corpus = pd.DataFrame(df_clean)\n",
    "# corpus[\"cluster\"] = cluster\n",
    "# indexes = list(corpus[corpus.cluster == 1].index) + list(corpus[corpus.cluster == 2].index) + list(corpus[corpus.cluster == 3].index)\n",
    "# best_model = np.delete(best_model, indexes, 0)\n",
    "# corpus = corpus.drop(axis=0, index=indexes)"
   ]
  },
  {
   "cell_type": "code",
   "execution_count": null,
   "metadata": {},
   "outputs": [],
   "source": []
  },
  {
   "cell_type": "code",
   "execution_count": null,
   "metadata": {},
   "outputs": [],
   "source": [
    "cluster = KMeans(n_clusters=3,init=\"k-means++\").fit_predict(best_model)"
   ]
  },
  {
   "cell_type": "code",
   "execution_count": null,
   "metadata": {
    "colab": {
     "base_uri": "https://localhost:8080/",
     "height": 523
    },
    "id": "bqq2_WsRtbN3",
    "outputId": "8e6703c5-89b1-434e-e8e5-74468bf87f8b"
   },
   "outputs": [],
   "source": [
    "def plot(cluster = cluster):    \n",
    "\n",
    "    clustered = (cluster >= 0)\n",
    "    reduced_dim = umap.UMAP(n_components=2).fit_transform(embeddings3)\n",
    "\n",
    "\n",
    "\n",
    "    unique, counts = np.unique(cluster, return_counts=True)\n",
    "    print(dict(zip(unique, counts)))\n",
    "\n",
    "    plt.scatter(reduced_dim[~clustered, 0],\n",
    "                reduced_dim[~clustered, 1],\n",
    "                c=(0.5,0.5,0.5),\n",
    "                # s=1,\n",
    "                alpha=0.5\n",
    "                )\n",
    "    plt.scatter(reduced_dim[clustered, 0],\n",
    "                reduced_dim[clustered, 1],\n",
    "                c=cluster[clustered],\n",
    "                # s=1,\n",
    "                cmap='Spectral')\n",
    "    plt.show()"
   ]
  },
  {
   "cell_type": "code",
   "execution_count": null,
   "metadata": {},
   "outputs": [],
   "source": [
    "plot()"
   ]
  },
  {
   "cell_type": "code",
   "execution_count": null,
   "metadata": {
    "id": "HrVmmyMGtbWR"
   },
   "outputs": [],
   "source": [
    "docs2 = pd.DataFrame(corpus.comment)\n",
    "docs2[\"cluster\"] = cluster\n",
    "labeled_docs = docs2.groupby([\"cluster\"], as_index=False).agg({\"comment\": \" \".join})\n",
    "labeled_docs.comment.replace(r\"\\S*clas\\S*\", \"class\", regex=True, inplace = True)\n",
    "labeled_docs.comment.replace(r\"\\S*teach\\S*\", \"teach\", regex=True, inplace = True)\n",
    "labeled_docs"
   ]
  },
  {
   "cell_type": "code",
   "execution_count": null,
   "metadata": {},
   "outputs": [],
   "source": []
  },
  {
   "cell_type": "code",
   "execution_count": null,
   "metadata": {},
   "outputs": [],
   "source": [
    "from keybert import KeyBERT\n",
    "array_text = labeled_docs.comment.tolist()\n",
    "\n",
    "model_names = {\"model1\":'distilbert-base-nli-mean-tokens',\n",
    "               \"model2\": \"xlm-r-distilroberta-base-paraphrase-v1\" ,\n",
    "               \"model3\": 'roberta-large-nli-stsb-mean-tokens',\n",
    "               \"model4\": \"allenai-specter\"}\n",
    "    \n",
    "kw_extractor = KeyBERT('xlm-r-distilroberta-base-paraphrase-v1')\n",
    "k = 0\n",
    "for j in range(len(array_text)):\n",
    "    k+=1\n",
    "    keywords = kw_extractor.extract_keywords(array_text[j],top_n=10,stop_words=[\"pitbullgastrobarukrainemillionariopooreameruca\",\n",
    "                                                                                \"enseñanza\",\n",
    "                                                                                \"vishenthank\",\n",
    "                                                                                \"lisa\",\n",
    "                                                                                \"ooaasmamn\",\n",
    "                                                                                \"aprendizaje\"],)\n",
    "    if not keywords:\n",
    "        k -= 1\n",
    "    else:\n",
    "        print(\"Cluster\", str(k))\n",
    "        print([word[0] for word in keywords])"
   ]
  },
  {
   "cell_type": "code",
   "execution_count": null,
   "metadata": {},
   "outputs": [],
   "source": [
    "kw_extractor = KeyBERT('xlm-r-distilroberta-base-paraphrase-v1')\n",
    "k = 0\n",
    "for j in range(len(array_text)):\n",
    "    k+=1\n",
    "    keywords = kw_extractor.extract_keywords(array_text[j],top_n=10,keyphrase_ngram_range=(1, 2),\n",
    "                                             stop_words=[\"pitbullgastrobarukrainemillionariopooreameruca\",\n",
    "                                                                                \"enseñanza\",\n",
    "                                                                                \"vishenthank\",\n",
    "                                                                                \"lisa\",\n",
    "                                                                                \"ooaasmamn\",\n",
    "                                                                                \"aprendizaje\"],)\n",
    "    if not keywords:\n",
    "        k -= 1\n",
    "    else:\n",
    "        print(\"Cluster\", str(k))\n",
    "        print([word[0] for word in keywords])"
   ]
  },
  {
   "cell_type": "code",
   "execution_count": null,
   "metadata": {},
   "outputs": [],
   "source": [
    "kw_extractor = KeyBERT('xlm-r-distilroberta-base-paraphrase-v1')\n",
    "k = 0\n",
    "for j in range(len(array_text)):\n",
    "    k+=1\n",
    "    keywords = kw_extractor.extract_keywords(array_text[j],top_n=10,keyphrase_ngram_range=(1, 3),\n",
    "                                             stop_words=[\"pitbullgastrobarukrainemillionariopooreameruca\",\n",
    "                                                                                \"enseñanza\",\n",
    "                                                                                \"vishenthank\",\n",
    "                                                                                \"lisa\",\n",
    "                                                                                \"ooaasmamn\",\n",
    "                                                                                \"aprendizaje\"],)\n",
    "    if not keywords:\n",
    "        k -= 1\n",
    "    else:\n",
    "        print(\"Cluster\", str(k))\n",
    "        print([word[0] for word in keywords])"
   ]
  },
  {
   "cell_type": "code",
   "execution_count": null,
   "metadata": {},
   "outputs": [],
   "source": []
  }
 ],
 "metadata": {
  "colab": {
   "name": "Untitled5.ipynb",
   "provenance": []
  },
  "kernelspec": {
   "display_name": "Python 3",
   "language": "python",
   "name": "python3"
  },
  "language_info": {
   "codemirror_mode": {
    "name": "ipython",
    "version": 3
   },
   "file_extension": ".py",
   "mimetype": "text/x-python",
   "name": "python",
   "nbconvert_exporter": "python",
   "pygments_lexer": "ipython3",
   "version": "3.8.7"
  },
  "varInspector": {
   "cols": {
    "lenName": 16,
    "lenType": 16,
    "lenVar": 40
   },
   "kernels_config": {
    "python": {
     "delete_cmd_postfix": "",
     "delete_cmd_prefix": "del ",
     "library": "var_list.py",
     "varRefreshCmd": "print(var_dic_list())"
    },
    "r": {
     "delete_cmd_postfix": ") ",
     "delete_cmd_prefix": "rm(",
     "library": "var_list.r",
     "varRefreshCmd": "cat(var_dic_list()) "
    }
   },
   "types_to_exclude": [
    "module",
    "function",
    "builtin_function_or_method",
    "instance",
    "_Feature"
   ],
   "window_display": false
  },
  "widgets": {
   "application/vnd.jupyter.widget-state+json": {
    "10748c34bb5448d9a34cd200a3979d56": {
     "model_module": "@jupyter-widgets/controls",
     "model_name": "HTMLModel",
     "state": {
      "_dom_classes": [],
      "_model_module": "@jupyter-widgets/controls",
      "_model_module_version": "1.5.0",
      "_model_name": "HTMLModel",
      "_view_count": null,
      "_view_module": "@jupyter-widgets/controls",
      "_view_module_version": "1.5.0",
      "_view_name": "HTMLView",
      "description": "",
      "description_tooltip": null,
      "layout": "IPY_MODEL_7e2aa975791049c8a7f588ed76b379c0",
      "placeholder": "​",
      "style": "IPY_MODEL_39fd5938a4df4de2891cd8393dd7af2f",
      "value": " 140/140 [01:59&lt;00:00,  1.17it/s]"
     }
    },
    "39fd5938a4df4de2891cd8393dd7af2f": {
     "model_module": "@jupyter-widgets/controls",
     "model_name": "DescriptionStyleModel",
     "state": {
      "_model_module": "@jupyter-widgets/controls",
      "_model_module_version": "1.5.0",
      "_model_name": "DescriptionStyleModel",
      "_view_count": null,
      "_view_module": "@jupyter-widgets/base",
      "_view_module_version": "1.2.0",
      "_view_name": "StyleView",
      "description_width": ""
     }
    },
    "6b163e4049ca4cbe8a24e7ac79ced8a5": {
     "model_module": "@jupyter-widgets/controls",
     "model_name": "HBoxModel",
     "state": {
      "_dom_classes": [],
      "_model_module": "@jupyter-widgets/controls",
      "_model_module_version": "1.5.0",
      "_model_name": "HBoxModel",
      "_view_count": null,
      "_view_module": "@jupyter-widgets/controls",
      "_view_module_version": "1.5.0",
      "_view_name": "HBoxView",
      "box_style": "",
      "children": [
       "IPY_MODEL_b02fccb0afa047999665079b5248015f",
       "IPY_MODEL_10748c34bb5448d9a34cd200a3979d56"
      ],
      "layout": "IPY_MODEL_be0f028285fa4e8da720237e1b1279bf"
     }
    },
    "7e2aa975791049c8a7f588ed76b379c0": {
     "model_module": "@jupyter-widgets/base",
     "model_name": "LayoutModel",
     "state": {
      "_model_module": "@jupyter-widgets/base",
      "_model_module_version": "1.2.0",
      "_model_name": "LayoutModel",
      "_view_count": null,
      "_view_module": "@jupyter-widgets/base",
      "_view_module_version": "1.2.0",
      "_view_name": "LayoutView",
      "align_content": null,
      "align_items": null,
      "align_self": null,
      "border": null,
      "bottom": null,
      "display": null,
      "flex": null,
      "flex_flow": null,
      "grid_area": null,
      "grid_auto_columns": null,
      "grid_auto_flow": null,
      "grid_auto_rows": null,
      "grid_column": null,
      "grid_gap": null,
      "grid_row": null,
      "grid_template_areas": null,
      "grid_template_columns": null,
      "grid_template_rows": null,
      "height": null,
      "justify_content": null,
      "justify_items": null,
      "left": null,
      "margin": null,
      "max_height": null,
      "max_width": null,
      "min_height": null,
      "min_width": null,
      "object_fit": null,
      "object_position": null,
      "order": null,
      "overflow": null,
      "overflow_x": null,
      "overflow_y": null,
      "padding": null,
      "right": null,
      "top": null,
      "visibility": null,
      "width": null
     }
    },
    "b02fccb0afa047999665079b5248015f": {
     "model_module": "@jupyter-widgets/controls",
     "model_name": "FloatProgressModel",
     "state": {
      "_dom_classes": [],
      "_model_module": "@jupyter-widgets/controls",
      "_model_module_version": "1.5.0",
      "_model_name": "FloatProgressModel",
      "_view_count": null,
      "_view_module": "@jupyter-widgets/controls",
      "_view_module_version": "1.5.0",
      "_view_name": "ProgressView",
      "bar_style": "success",
      "description": "Batches: 100%",
      "description_tooltip": null,
      "layout": "IPY_MODEL_ea4553e744634f56a3128b209cac5330",
      "max": 140,
      "min": 0,
      "orientation": "horizontal",
      "style": "IPY_MODEL_b927e6a6b1c44be1be1f58d582da2f6a",
      "value": 140
     }
    },
    "b927e6a6b1c44be1be1f58d582da2f6a": {
     "model_module": "@jupyter-widgets/controls",
     "model_name": "ProgressStyleModel",
     "state": {
      "_model_module": "@jupyter-widgets/controls",
      "_model_module_version": "1.5.0",
      "_model_name": "ProgressStyleModel",
      "_view_count": null,
      "_view_module": "@jupyter-widgets/base",
      "_view_module_version": "1.2.0",
      "_view_name": "StyleView",
      "bar_color": null,
      "description_width": "initial"
     }
    },
    "be0f028285fa4e8da720237e1b1279bf": {
     "model_module": "@jupyter-widgets/base",
     "model_name": "LayoutModel",
     "state": {
      "_model_module": "@jupyter-widgets/base",
      "_model_module_version": "1.2.0",
      "_model_name": "LayoutModel",
      "_view_count": null,
      "_view_module": "@jupyter-widgets/base",
      "_view_module_version": "1.2.0",
      "_view_name": "LayoutView",
      "align_content": null,
      "align_items": null,
      "align_self": null,
      "border": null,
      "bottom": null,
      "display": null,
      "flex": null,
      "flex_flow": null,
      "grid_area": null,
      "grid_auto_columns": null,
      "grid_auto_flow": null,
      "grid_auto_rows": null,
      "grid_column": null,
      "grid_gap": null,
      "grid_row": null,
      "grid_template_areas": null,
      "grid_template_columns": null,
      "grid_template_rows": null,
      "height": null,
      "justify_content": null,
      "justify_items": null,
      "left": null,
      "margin": null,
      "max_height": null,
      "max_width": null,
      "min_height": null,
      "min_width": null,
      "object_fit": null,
      "object_position": null,
      "order": null,
      "overflow": null,
      "overflow_x": null,
      "overflow_y": null,
      "padding": null,
      "right": null,
      "top": null,
      "visibility": null,
      "width": null
     }
    },
    "ea4553e744634f56a3128b209cac5330": {
     "model_module": "@jupyter-widgets/base",
     "model_name": "LayoutModel",
     "state": {
      "_model_module": "@jupyter-widgets/base",
      "_model_module_version": "1.2.0",
      "_model_name": "LayoutModel",
      "_view_count": null,
      "_view_module": "@jupyter-widgets/base",
      "_view_module_version": "1.2.0",
      "_view_name": "LayoutView",
      "align_content": null,
      "align_items": null,
      "align_self": null,
      "border": null,
      "bottom": null,
      "display": null,
      "flex": null,
      "flex_flow": null,
      "grid_area": null,
      "grid_auto_columns": null,
      "grid_auto_flow": null,
      "grid_auto_rows": null,
      "grid_column": null,
      "grid_gap": null,
      "grid_row": null,
      "grid_template_areas": null,
      "grid_template_columns": null,
      "grid_template_rows": null,
      "height": null,
      "justify_content": null,
      "justify_items": null,
      "left": null,
      "margin": null,
      "max_height": null,
      "max_width": null,
      "min_height": null,
      "min_width": null,
      "object_fit": null,
      "object_position": null,
      "order": null,
      "overflow": null,
      "overflow_x": null,
      "overflow_y": null,
      "padding": null,
      "right": null,
      "top": null,
      "visibility": null,
      "width": null
     }
    }
   }
  }
 },
 "nbformat": 4,
 "nbformat_minor": 4
}

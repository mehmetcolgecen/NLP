{
 "cells": [
  {
   "cell_type": "code",
   "execution_count": 26,
   "metadata": {},
   "outputs": [
    {
     "name": "stderr",
     "output_type": "stream",
     "text": [
      "<ipython-input-26-f28b4a75d8b9>:4: SettingWithCopyWarning: \n",
      "A value is trying to be set on a copy of a slice from a DataFrame.\n",
      "Try using .loc[row_indexer,col_indexer] = value instead\n",
      "\n",
      "See the caveats in the documentation: https://pandas.pydata.org/pandas-docs/stable/user_guide/indexing.html#returning-a-view-versus-a-copy\n",
      "  data_text['index'] = data_text.index\n"
     ]
    }
   ],
   "source": [
    "import pandas as pd\n",
    "data = pd.read_csv('hsbc_twitter_DATA_not GENERAL.csv', error_bad_lines=False);\n",
    "data_text = data[['tweet']]\n",
    "data_text['index'] = data_text.index\n",
    "documents = data_text"
   ]
  },
  {
   "cell_type": "code",
   "execution_count": 27,
   "metadata": {},
   "outputs": [
    {
     "name": "stdout",
     "output_type": "stream",
     "text": [
      "4467\n",
      "                                               tweet  index\n",
      "0  @LondOgrad Hello Eugene, we do apologise for t...      0\n",
      "1  @ncohen4 @CooperativeBank @HSBC @HSBCUKBusines...      1\n",
      "2  @sharaola Good morning, sorry for your experie...      2\n",
      "3        @Bounce_BackLoan Still not a peep from HSBC      3\n",
      "4  @djm2481 @mgcmitchell @HSBC_UK Thanks for the ...      4\n"
     ]
    }
   ],
   "source": [
    "print(len(documents))\n",
    "print(documents[:5])"
   ]
  },
  {
   "cell_type": "code",
   "execution_count": 28,
   "metadata": {},
   "outputs": [
    {
     "name": "stderr",
     "output_type": "stream",
     "text": [
      "[nltk_data] Downloading package wordnet to\n",
      "[nltk_data]     C:\\Users\\USER\\AppData\\Roaming\\nltk_data...\n",
      "[nltk_data]   Package wordnet is already up-to-date!\n"
     ]
    },
    {
     "data": {
      "text/plain": [
       "True"
      ]
     },
     "execution_count": 28,
     "metadata": {},
     "output_type": "execute_result"
    }
   ],
   "source": [
    "import gensim\n",
    "from gensim.utils import simple_preprocess\n",
    "from gensim.parsing.preprocessing import STOPWORDS\n",
    "from nltk.stem import WordNetLemmatizer, SnowballStemmer\n",
    "from nltk.stem.porter import *\n",
    "import numpy as np\n",
    "np.random.seed(2018)\n",
    "import nltk\n",
    "nltk.download('wordnet')"
   ]
  },
  {
   "cell_type": "code",
   "execution_count": 29,
   "metadata": {},
   "outputs": [],
   "source": [
    "stemmer = SnowballStemmer(\"english\")"
   ]
  },
  {
   "cell_type": "code",
   "execution_count": 30,
   "metadata": {},
   "outputs": [],
   "source": [
    "def lemmatize_stemming(text):\n",
    "    return stemmer.stem(WordNetLemmatizer().lemmatize(text, pos='v'))\n",
    "def preprocess(text):\n",
    "    result = []\n",
    "    for token in gensim.utils.simple_preprocess(text):\n",
    "        if token not in gensim.parsing.preprocessing.STOPWORDS and len(token) > 3:\n",
    "            result.append(lemmatize_stemming(token))\n",
    "    return result"
   ]
  },
  {
   "cell_type": "code",
   "execution_count": 31,
   "metadata": {},
   "outputs": [
    {
     "name": "stdout",
     "output_type": "stream",
     "text": [
      "original document: \n",
      "['@Debasmita076', 'Hello', 'Debasmita,', 'thank', 'you', 'for', 'writing', 'into', 'us.', 'Address', 'change', 'options', 'are.', '1==', 'if', 'you', 'have', 'registered', 'for', 'Internet', 'Banking', '&amp;', 'have', 'a', 'security', 'device.', 'Please', 'log', 'in', 'â†’Click', 'on', 'Help', '&amp;', 'Support', 'â†’', 'to', 'the', 'left', 'side', 'you', 'have', 'an', 'option', 'Servicesâ†’', 'Send', 'a', 'SECURE', 'MESSAGE.', '(1/3)']\n",
      "\n",
      "\n",
      " tokenized and lemmatized document: \n",
      "['debasmita', 'hello', 'debasmita', 'thank', 'write', 'address', 'chang', 'option', 'regist', 'internet', 'bank', 'secur', 'devic', 'click', 'help', 'support', 'leav', 'option', 'servicesâ', 'send', 'secur', 'messag']\n"
     ]
    }
   ],
   "source": [
    "doc_sample = documents[documents['index'] == 4310].values[0][0]\n",
    "print('original document: ')\n",
    "words = []\n",
    "for word in doc_sample.split(' '):\n",
    "    words.append(word)\n",
    "print(words)\n",
    "print('\\n\\n tokenized and lemmatized document: ')\n",
    "print(preprocess(doc_sample))"
   ]
  },
  {
   "cell_type": "code",
   "execution_count": 33,
   "metadata": {},
   "outputs": [
    {
     "data": {
      "text/plain": [
       "0    [londograd, hello, eugen, apologis, delay, cur...\n",
       "1    [ncohen, cooperativebank, hsbc, hsbcukbusi, si...\n",
       "2    [sharaola, good, morn, sorri, experi, send, co...\n",
       "3                        [bounce_backloan, peep, hsbc]\n",
       "4    [mgcmitchel, hsbc_uk, thank, mention, paul, ha...\n",
       "5    [bounce_backloan, evid, get, hsbc, payout, thi...\n",
       "6    [good, morn, nani, happi, answer, hsbc, bank, ...\n",
       "7    [jsr_mzp, hello, thank, write, accept, imp, cr...\n",
       "8    [isrivat, hello, thank, write, request, kind, ...\n",
       "9    [miss_simmon, cooperativebank, hsbc, donâ, bot...\n",
       "Name: tweet, dtype: object"
      ]
     },
     "execution_count": 33,
     "metadata": {},
     "output_type": "execute_result"
    }
   ],
   "source": [
    "processed_docs = documents['tweet'].map(preprocess)\n",
    "processed_docs[:10]"
   ]
  },
  {
   "cell_type": "code",
   "execution_count": 34,
   "metadata": {},
   "outputs": [
    {
     "name": "stdout",
     "output_type": "stream",
     "text": [
      "0 apologis\n",
      "1 check\n",
      "2 current\n",
      "3 custom\n",
      "4 delay\n",
      "5 eugen\n",
      "6 hello\n",
      "7 huge\n",
      "8 line\n",
      "9 londograd\n",
      "10 manag\n"
     ]
    }
   ],
   "source": [
    "dictionary = gensim.corpora.Dictionary(processed_docs)\n",
    "count = 0\n",
    "for k, v in dictionary.iteritems():\n",
    "    print(k, v)\n",
    "    count += 1\n",
    "    if count > 10:\n",
    "        break"
   ]
  },
  {
   "cell_type": "code",
   "execution_count": 35,
   "metadata": {},
   "outputs": [],
   "source": [
    "dictionary.filter_extremes(no_below=15, no_above=0.5, keep_n=100000)"
   ]
  },
  {
   "cell_type": "code",
   "execution_count": 36,
   "metadata": {},
   "outputs": [
    {
     "data": {
      "text/plain": [
       "[(4, 1),\n",
       " (22, 1),\n",
       " (26, 1),\n",
       " (28, 1),\n",
       " (41, 1),\n",
       " (48, 1),\n",
       " (49, 1),\n",
       " (96, 1),\n",
       " (164, 1),\n",
       " (230, 1),\n",
       " (260, 1),\n",
       " (296, 1),\n",
       " (320, 1),\n",
       " (323, 1),\n",
       " (325, 1),\n",
       " (331, 2),\n",
       " (432, 2)]"
      ]
     },
     "execution_count": 36,
     "metadata": {},
     "output_type": "execute_result"
    }
   ],
   "source": [
    "bow_corpus = [dictionary.doc2bow(doc) for doc in processed_docs]\n",
    "bow_corpus[4310]"
   ]
  },
  {
   "cell_type": "code",
   "execution_count": 37,
   "metadata": {},
   "outputs": [
    {
     "name": "stdout",
     "output_type": "stream",
     "text": [
      "Word 4 (\"hello\") appears 1 time.\n",
      "Word 22 (\"help\") appears 1 time.\n",
      "Word 26 (\"send\") appears 1 time.\n",
      "Word 28 (\"thank\") appears 1 time.\n",
      "Word 41 (\"bank\") appears 1 time.\n",
      "Word 48 (\"write\") appears 1 time.\n",
      "Word 49 (\"click\") appears 1 time.\n",
      "Word 96 (\"leav\") appears 1 time.\n",
      "Word 164 (\"address\") appears 1 time.\n",
      "Word 230 (\"regist\") appears 1 time.\n",
      "Word 260 (\"internet\") appears 1 time.\n",
      "Word 296 (\"messag\") appears 1 time.\n",
      "Word 320 (\"support\") appears 1 time.\n",
      "Word 323 (\"chang\") appears 1 time.\n",
      "Word 325 (\"devic\") appears 1 time.\n",
      "Word 331 (\"secur\") appears 2 time.\n",
      "Word 432 (\"option\") appears 2 time.\n"
     ]
    }
   ],
   "source": [
    "bow_doc_4310 = bow_corpus[4310]\n",
    "for i in range(len(bow_doc_4310)):\n",
    "    print(\"Word {} (\\\"{}\\\") appears {} time.\".format(bow_doc_4310[i][0], \n",
    "                                               dictionary[bow_doc_4310[i][0]], \n",
    "bow_doc_4310[i][1]))"
   ]
  },
  {
   "cell_type": "code",
   "execution_count": 38,
   "metadata": {},
   "outputs": [
    {
     "name": "stdout",
     "output_type": "stream",
     "text": [
      "[(0, 0.2423440465578673),\n",
      " (1, 0.28042534231127497),\n",
      " (2, 0.18022717849633083),\n",
      " (3, 0.29376971285680803),\n",
      " (4, 0.21120326362048672),\n",
      " (5, 0.4067649614393323),\n",
      " (6, 0.31663194624956603),\n",
      " (7, 0.2734721360286706),\n",
      " (8, 0.3862224200620612),\n",
      " (9, 0.3237077398516211),\n",
      " (10, 0.3237077398516211)]\n"
     ]
    }
   ],
   "source": [
    "from gensim import corpora, models\n",
    "tfidf = models.TfidfModel(bow_corpus)\n",
    "corpus_tfidf = tfidf[bow_corpus]\n",
    "from pprint import pprint\n",
    "for doc in corpus_tfidf:\n",
    "    pprint(doc)\n",
    "    break"
   ]
  },
  {
   "cell_type": "code",
   "execution_count": 39,
   "metadata": {},
   "outputs": [],
   "source": [
    "lda_model = gensim.models.LdaMulticore(bow_corpus, num_topics=10, id2word=dictionary, passes=2, workers=2)"
   ]
  },
  {
   "cell_type": "code",
   "execution_count": 40,
   "metadata": {},
   "outputs": [
    {
     "name": "stdout",
     "output_type": "stream",
     "text": [
      "Topic: 0 \n",
      "Words: 0.026*\"bounce_backloan\" + 0.025*\"open\" + 0.024*\"hsbc_uk\" + 0.023*\"account\" + 0.022*\"time\" + 0.019*\"bank\" + 0.019*\"feeder\" + 0.018*\"loan\" + 0.018*\"hsbcukbusi\" + 0.017*\"bounc\"\n",
      "Topic: 1 \n",
      "Words: 0.044*\"account\" + 0.039*\"hsbc_uk\" + 0.035*\"thank\" + 0.034*\"bounce_backloan\" + 0.031*\"busi\" + 0.024*\"hsbcukbusi\" + 0.022*\"https\" + 0.021*\"help\" + 0.018*\"feeder\" + 0.017*\"need\"\n",
      "Topic: 2 \n",
      "Words: 0.051*\"thank\" + 0.028*\"hello\" + 0.027*\"send\" + 0.026*\"account\" + 0.021*\"https\" + 0.019*\"link\" + 0.018*\"bank\" + 0.018*\"bounce_backloan\" + 0.017*\"team\" + 0.016*\"check\"\n",
      "Topic: 3 \n",
      "Words: 0.056*\"bounce_backloan\" + 0.039*\"bank\" + 0.038*\"thank\" + 0.031*\"check\" + 0.031*\"account\" + 0.024*\"https\" + 0.021*\"credit\" + 0.020*\"hsbc_uk\" + 0.018*\"feeder\" + 0.017*\"hsbc_in\"\n",
      "Topic: 4 \n",
      "Words: 0.040*\"account\" + 0.032*\"busi\" + 0.031*\"loan\" + 0.031*\"person\" + 0.030*\"custom\" + 0.029*\"feeder\" + 0.029*\"bounc\" + 0.028*\"barclay\" + 0.027*\"worst\" + 0.026*\"absolut\"\n",
      "Topic: 5 \n",
      "Words: 0.033*\"bank\" + 0.029*\"https\" + 0.025*\"bounce_backloan\" + 0.025*\"email\" + 0.022*\"thank\" + 0.017*\"tata_cruc\" + 0.016*\"hsbc_uk\" + 0.015*\"phone\" + 0.015*\"hsbcukbusi\" + 0.014*\"account\"\n",
      "Topic: 6 \n",
      "Words: 0.055*\"bounce_backloan\" + 0.032*\"hsbc_uk\" + 0.030*\"account\" + 0.026*\"feeder\" + 0.022*\"appli\" + 0.021*\"hsbcukbusi\" + 0.020*\"wait\" + 0.019*\"option\" + 0.017*\"applic\" + 0.016*\"thank\"\n",
      "Topic: 7 \n",
      "Words: 0.050*\"bounce_backloan\" + 0.024*\"appli\" + 0.023*\"loan\" + 0.019*\"bounc\" + 0.017*\"custom\" + 0.015*\"come\" + 0.014*\"bank\" + 0.014*\"day\" + 0.014*\"account\" + 0.013*\"applic\"\n",
      "Topic: 8 \n",
      "Words: 0.036*\"bounce_backloan\" + 0.031*\"https\" + 0.026*\"bank\" + 0.025*\"week\" + 0.020*\"thank\" + 0.019*\"applic\" + 0.018*\"appli\" + 0.017*\"account\" + 0.015*\"busi\" + 0.015*\"loan\"\n",
      "Topic: 9 \n",
      "Words: 0.056*\"hsbc_uk\" + 0.054*\"bounce_backloan\" + 0.054*\"thank\" + 0.049*\"email\" + 0.020*\"wait\" + 0.019*\"account\" + 0.018*\"complaint\" + 0.013*\"say\" + 0.012*\"week\" + 0.012*\"know\"\n"
     ]
    }
   ],
   "source": [
    "for idx, topic in lda_model.print_topics(-1):\n",
    "    print('Topic: {} \\nWords: {}'.format(idx, topic))"
   ]
  },
  {
   "cell_type": "code",
   "execution_count": 41,
   "metadata": {},
   "outputs": [
    {
     "name": "stdout",
     "output_type": "stream",
     "text": [
      "Topic: 0 Word: 0.012*\"bounce_backloan\" + 0.011*\"applic\" + 0.011*\"account\" + 0.011*\"https\" + 0.011*\"appli\" + 0.010*\"thank\" + 0.009*\"know\" + 0.009*\"hsbc_uk\" + 0.009*\"receiv\" + 0.009*\"team\"\n",
      "Topic: 1 Word: 0.018*\"bank\" + 0.017*\"https\" + 0.016*\"account\" + 0.015*\"hsbc_uk\" + 0.014*\"bounce_backloan\" + 0.011*\"wait\" + 0.010*\"feeder\" + 0.010*\"tata_cruc\" + 0.010*\"busi\" + 0.009*\"thank\"\n",
      "Topic: 2 Word: 0.038*\"https\" + 0.014*\"bank\" + 0.013*\"bounce_backloan\" + 0.013*\"hsbc_uk\" + 0.012*\"today\" + 0.010*\"lloydsbank\" + 0.010*\"sign\" + 0.010*\"week\" + 0.008*\"appli\" + 0.008*\"account\"\n",
      "Topic: 3 Word: 0.033*\"bounce_backloan\" + 0.016*\"hsbc_uk\" + 0.015*\"thank\" + 0.011*\"https\" + 0.010*\"great\" + 0.010*\"appli\" + 0.010*\"email\" + 0.009*\"hello\" + 0.009*\"account\" + 0.008*\"look\"\n",
      "Topic: 4 Word: 0.018*\"thank\" + 0.016*\"hsbc_uk\" + 0.014*\"send\" + 0.014*\"hello\" + 0.010*\"bank\" + 0.010*\"servic\" + 0.009*\"https\" + 0.009*\"detail\" + 0.009*\"account\" + 0.009*\"team\"\n",
      "Topic: 5 Word: 0.019*\"thank\" + 0.017*\"hsbc_in\" + 0.015*\"work\" + 0.013*\"hsbc_uk\" + 0.013*\"help\" + 0.012*\"https\" + 0.010*\"branch\" + 0.009*\"charg\" + 0.009*\"time\" + 0.009*\"tell\"\n",
      "Topic: 6 Word: 0.019*\"hsbc_uk\" + 0.017*\"money\" + 0.014*\"year\" + 0.014*\"account\" + 0.014*\"bounce_backloan\" + 0.013*\"bank\" + 0.012*\"https\" + 0.011*\"wait\" + 0.010*\"custom\" + 0.010*\"appli\"\n",
      "Topic: 7 Word: 0.023*\"https\" + 0.014*\"bank\" + 0.011*\"applic\" + 0.010*\"help\" + 0.010*\"hsbc_uk\" + 0.009*\"million\" + 0.009*\"sure\" + 0.009*\"bounce_backloan\" + 0.009*\"thank\" + 0.008*\"process\"\n",
      "Topic: 8 Word: 0.080*\"tata_cruc\" + 0.037*\"tccq\" + 0.034*\"contest\" + 0.033*\"bank\" + 0.031*\"contestalert\" + 0.015*\"join\" + 0.011*\"bounce_backloan\" + 0.010*\"https\" + 0.009*\"take\" + 0.008*\"pay\"\n",
      "Topic: 9 Word: 0.033*\"hsbc_uk\" + 0.029*\"thank\" + 0.024*\"bounce_backloan\" + 0.022*\"hsbcukbusi\" + 0.021*\"account\" + 0.016*\"https\" + 0.015*\"feeder\" + 0.013*\"appli\" + 0.013*\"email\" + 0.010*\"busi\"\n"
     ]
    }
   ],
   "source": [
    "lda_model_tfidf = gensim.models.LdaMulticore(corpus_tfidf, num_topics=10, id2word=dictionary, passes=2, workers=4)\n",
    "for idx, topic in lda_model_tfidf.print_topics(-1):\n",
    "    print('Topic: {} Word: {}'.format(idx, topic))"
   ]
  },
  {
   "cell_type": "code",
   "execution_count": 42,
   "metadata": {},
   "outputs": [
    {
     "data": {
      "text/plain": [
       "['debasmita',\n",
       " 'hello',\n",
       " 'debasmita',\n",
       " 'thank',\n",
       " 'write',\n",
       " 'address',\n",
       " 'chang',\n",
       " 'option',\n",
       " 'regist',\n",
       " 'internet',\n",
       " 'bank',\n",
       " 'secur',\n",
       " 'devic',\n",
       " 'click',\n",
       " 'help',\n",
       " 'support',\n",
       " 'leav',\n",
       " 'option',\n",
       " 'servicesâ',\n",
       " 'send',\n",
       " 'secur',\n",
       " 'messag']"
      ]
     },
     "execution_count": 42,
     "metadata": {},
     "output_type": "execute_result"
    }
   ],
   "source": [
    "processed_docs[4310]"
   ]
  },
  {
   "cell_type": "code",
   "execution_count": 43,
   "metadata": {},
   "outputs": [
    {
     "name": "stdout",
     "output_type": "stream",
     "text": [
      "\n",
      "Score: 0.7802041172981262\t \n",
      "Topic: 0.055*\"bounce_backloan\" + 0.032*\"hsbc_uk\" + 0.030*\"account\" + 0.026*\"feeder\" + 0.022*\"appli\" + 0.021*\"hsbcukbusi\" + 0.020*\"wait\" + 0.019*\"option\" + 0.017*\"applic\" + 0.016*\"thank\"\n",
      "\n",
      "Score: 0.1797870248556137\t \n",
      "Topic: 0.051*\"thank\" + 0.028*\"hello\" + 0.027*\"send\" + 0.026*\"account\" + 0.021*\"https\" + 0.019*\"link\" + 0.018*\"bank\" + 0.018*\"bounce_backloan\" + 0.017*\"team\" + 0.016*\"check\"\n"
     ]
    }
   ],
   "source": [
    "for index, score in sorted(lda_model[bow_corpus[4310]], key=lambda tup: -1*tup[1]):\n",
    "    print(\"\\nScore: {}\\t \\nTopic: {}\".format(score, lda_model.print_topic(index, 10)))"
   ]
  },
  {
   "cell_type": "code",
   "execution_count": 44,
   "metadata": {},
   "outputs": [
    {
     "name": "stdout",
     "output_type": "stream",
     "text": [
      "\n",
      "Score: 0.4342068135738373\t \n",
      "Topic: 0.018*\"thank\" + 0.016*\"hsbc_uk\" + 0.014*\"send\" + 0.014*\"hello\" + 0.010*\"bank\" + 0.010*\"servic\" + 0.009*\"https\" + 0.009*\"detail\" + 0.009*\"account\" + 0.009*\"team\"\n",
      "\n",
      "Score: 0.3746648132801056\t \n",
      "Topic: 0.033*\"hsbc_uk\" + 0.029*\"thank\" + 0.024*\"bounce_backloan\" + 0.022*\"hsbcukbusi\" + 0.021*\"account\" + 0.016*\"https\" + 0.015*\"feeder\" + 0.013*\"appli\" + 0.013*\"email\" + 0.010*\"busi\"\n",
      "\n",
      "Score: 0.15611757338047028\t \n",
      "Topic: 0.019*\"thank\" + 0.017*\"hsbc_in\" + 0.015*\"work\" + 0.013*\"hsbc_uk\" + 0.013*\"help\" + 0.012*\"https\" + 0.010*\"branch\" + 0.009*\"charg\" + 0.009*\"time\" + 0.009*\"tell\"\n"
     ]
    }
   ],
   "source": [
    "for index, score in sorted(lda_model_tfidf[bow_corpus[4310]], key=lambda tup: -1*tup[1]):\n",
    "    print(\"\\nScore: {}\\t \\nTopic: {}\".format(score, lda_model_tfidf.print_topic(index, 10)))"
   ]
  },
  {
   "cell_type": "code",
   "execution_count": 45,
   "metadata": {},
   "outputs": [
    {
     "name": "stdout",
     "output_type": "stream",
     "text": [
      "Score: 0.36760929226875305\t Topic: 0.056*\"hsbc_uk\" + 0.054*\"bounce_backloan\" + 0.054*\"thank\" + 0.049*\"email\" + 0.020*\"wait\"\n",
      "Score: 0.3656103014945984\t Topic: 0.033*\"bank\" + 0.029*\"https\" + 0.025*\"bounce_backloan\" + 0.025*\"email\" + 0.022*\"thank\"\n",
      "Score: 0.03335218131542206\t Topic: 0.036*\"bounce_backloan\" + 0.031*\"https\" + 0.026*\"bank\" + 0.025*\"week\" + 0.020*\"thank\"\n",
      "Score: 0.03335188701748848\t Topic: 0.050*\"bounce_backloan\" + 0.024*\"appli\" + 0.023*\"loan\" + 0.019*\"bounc\" + 0.017*\"custom\"\n",
      "Score: 0.03335050866007805\t Topic: 0.044*\"account\" + 0.039*\"hsbc_uk\" + 0.035*\"thank\" + 0.034*\"bounce_backloan\" + 0.031*\"busi\"\n",
      "Score: 0.03334813937544823\t Topic: 0.040*\"account\" + 0.032*\"busi\" + 0.031*\"loan\" + 0.031*\"person\" + 0.030*\"custom\"\n",
      "Score: 0.03334522247314453\t Topic: 0.055*\"bounce_backloan\" + 0.032*\"hsbc_uk\" + 0.030*\"account\" + 0.026*\"feeder\" + 0.022*\"appli\"\n",
      "Score: 0.033344198018312454\t Topic: 0.051*\"thank\" + 0.028*\"hello\" + 0.027*\"send\" + 0.026*\"account\" + 0.021*\"https\"\n",
      "Score: 0.033344149589538574\t Topic: 0.056*\"bounce_backloan\" + 0.039*\"bank\" + 0.038*\"thank\" + 0.031*\"check\" + 0.031*\"account\"\n",
      "Score: 0.0333440899848938\t Topic: 0.026*\"bounce_backloan\" + 0.025*\"open\" + 0.024*\"hsbc_uk\" + 0.023*\"account\" + 0.022*\"time\"\n"
     ]
    }
   ],
   "source": [
    "unseen_document = 'How a Pentagon deal became an identity crisis for Google'\n",
    "bow_vector = dictionary.doc2bow(preprocess(unseen_document))\n",
    "for index, score in sorted(lda_model[bow_vector], key=lambda tup: -1*tup[1]):\n",
    "    print(\"Score: {}\\t Topic: {}\".format(score, lda_model.print_topic(index, 5)))"
   ]
  },
  {
   "cell_type": "code",
   "execution_count": null,
   "metadata": {},
   "outputs": [],
   "source": []
  },
  {
   "cell_type": "code",
   "execution_count": null,
   "metadata": {},
   "outputs": [],
   "source": []
  }
 ],
 "metadata": {
  "kernelspec": {
   "display_name": "Python 3",
   "language": "python",
   "name": "python3"
  },
  "language_info": {
   "codemirror_mode": {
    "name": "ipython",
    "version": 3
   },
   "file_extension": ".py",
   "mimetype": "text/x-python",
   "name": "python",
   "nbconvert_exporter": "python",
   "pygments_lexer": "ipython3",
   "version": "3.8.7"
  }
 },
 "nbformat": 4,
 "nbformat_minor": 4
}

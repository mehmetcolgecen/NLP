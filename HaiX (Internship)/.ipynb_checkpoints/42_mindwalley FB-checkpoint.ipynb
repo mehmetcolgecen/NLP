{
 "cells": [
  {
   "cell_type": "code",
   "execution_count": 1,
   "metadata": {},
   "outputs": [],
   "source": [
    "import re\n",
    "import pandas as pd\n",
    "import numpy as np\n",
    "from sklearn.cluster import KMeans\n",
    "import umap\n",
    "import nltk\n",
    "import spacy\n",
    "import string\n",
    "import hdbscan\n",
    "\n",
    "import preprocessor as p\n",
    "\n",
    "import matplotlib.pyplot as plt\n",
    "from matplotlib.axes._axes import _log as matplotlib_axes_logger\n",
    "matplotlib_axes_logger.setLevel('ERROR')\n",
    "import seaborn as sns\n",
    "sns.set(style='white', rc={'figure.figsize':(10,8)})\n",
    "\n",
    "np.random.seed(42)\n",
    "%config Completer.use_jedi = False\n",
    "pd.set_option('display.max_columns', 30)\n",
    "# pd.set_option('display.max_rows', 100)\n",
    "\n",
    "nlp = spacy.load(\"en_core_web_sm\")"
   ]
  },
  {
   "cell_type": "code",
   "execution_count": 2,
   "metadata": {
    "colab": {
     "base_uri": "https://localhost:8080/",
     "height": 621
    },
    "id": "ek3w6OZQsoqv",
    "outputId": "92306d37-cc10-4cb7-c62e-006de9eae451"
   },
   "outputs": [
    {
     "data": {
      "text/html": [
       "<div>\n",
       "<style scoped>\n",
       "    .dataframe tbody tr th:only-of-type {\n",
       "        vertical-align: middle;\n",
       "    }\n",
       "\n",
       "    .dataframe tbody tr th {\n",
       "        vertical-align: top;\n",
       "    }\n",
       "\n",
       "    .dataframe thead th {\n",
       "        text-align: right;\n",
       "    }\n",
       "</style>\n",
       "<table border=\"1\" class=\"dataframe\">\n",
       "  <thead>\n",
       "    <tr style=\"text-align: right;\">\n",
       "      <th></th>\n",
       "      <th>Unnamed: 0</th>\n",
       "      <th>comments</th>\n",
       "    </tr>\n",
       "  </thead>\n",
       "  <tbody>\n",
       "    <tr>\n",
       "      <th>0</th>\n",
       "      <td>0</td>\n",
       "      <td>After this class you'll see why Silicon Valley...</td>\n",
       "    </tr>\n",
       "    <tr>\n",
       "      <th>1</th>\n",
       "      <td>1</td>\n",
       "      <td>The shirt is almost identical to my moms fancy...</td>\n",
       "    </tr>\n",
       "    <tr>\n",
       "      <th>2</th>\n",
       "      <td>2</td>\n",
       "      <td>When you buy a program,  can you stop, backup,...</td>\n",
       "    </tr>\n",
       "    <tr>\n",
       "      <th>3</th>\n",
       "      <td>3</td>\n",
       "      <td>Exactly what is lucid dreaming? Thank you for ...</td>\n",
       "    </tr>\n",
       "    <tr>\n",
       "      <th>4</th>\n",
       "      <td>4</td>\n",
       "      <td>I have lucid dreams all the time, also have ov...</td>\n",
       "    </tr>\n",
       "  </tbody>\n",
       "</table>\n",
       "</div>"
      ],
      "text/plain": [
       "   Unnamed: 0                                           comments\n",
       "0           0  After this class you'll see why Silicon Valley...\n",
       "1           1  The shirt is almost identical to my moms fancy...\n",
       "2           2  When you buy a program,  can you stop, backup,...\n",
       "3           3  Exactly what is lucid dreaming? Thank you for ...\n",
       "4           4  I have lucid dreams all the time, also have ov..."
      ]
     },
     "execution_count": 2,
     "metadata": {},
     "output_type": "execute_result"
    }
   ],
   "source": [
    "df = pd.read_csv('mindvalley_fb_comments.csv')\n",
    "df.rename(columns={\"comment\":\"comments\"},inplace=True)\n",
    "df.head()"
   ]
  },
  {
   "cell_type": "code",
   "execution_count": 3,
   "metadata": {},
   "outputs": [],
   "source": [
    "df.comments.replace(\"\\n\" , \" \", regex=True, inplace = True)\n",
    "df.comments=df.comments.apply(lambda x:p.clean(str(x)))"
   ]
  },
  {
   "cell_type": "code",
   "execution_count": 4,
   "metadata": {},
   "outputs": [],
   "source": [
    "df.replace('nan', np.nan, inplace = True)\n",
    "df.replace('', np.nan, inplace = True)\n",
    "df.replace('do', np.nan, inplace = True)\n",
    "df = df.dropna()"
   ]
  },
  {
   "cell_type": "code",
   "execution_count": 5,
   "metadata": {},
   "outputs": [],
   "source": [
    "list_data = df.comments.unique().tolist()"
   ]
  },
  {
   "cell_type": "code",
   "execution_count": 6,
   "metadata": {},
   "outputs": [
    {
     "data": {
      "text/plain": [
       "1053"
      ]
     },
     "execution_count": 6,
     "metadata": {},
     "output_type": "execute_result"
    }
   ],
   "source": [
    "len(list_data)"
   ]
  },
  {
   "cell_type": "code",
   "execution_count": 7,
   "metadata": {},
   "outputs": [],
   "source": [
    "from sentence_transformers import SentenceTransformer"
   ]
  },
  {
   "cell_type": "code",
   "execution_count": 8,
   "metadata": {},
   "outputs": [],
   "source": [
    "# distilbert-base-nli-mean-tokens\n",
    "# paraphrase-distilroberta-base-v1\n",
    "# roberta-large-nli-stsb-mean-tokens\n",
    "#allenai-specter\n"
   ]
  },
  {
   "cell_type": "code",
   "execution_count": 9,
   "metadata": {
    "colab": {
     "base_uri": "https://localhost:8080/",
     "height": 67,
     "referenced_widgets": [
      "6b163e4049ca4cbe8a24e7ac79ced8a5",
      "be0f028285fa4e8da720237e1b1279bf",
      "b02fccb0afa047999665079b5248015f",
      "10748c34bb5448d9a34cd200a3979d56",
      "b927e6a6b1c44be1be1f58d582da2f6a",
      "ea4553e744634f56a3128b209cac5330",
      "39fd5938a4df4de2891cd8393dd7af2f",
      "7e2aa975791049c8a7f588ed76b379c0"
     ]
    },
    "id": "BjwnhvRQtW2S",
    "outputId": "458d7bd4-ba13-4112-85a9-fb050e99008f"
   },
   "outputs": [
    {
     "data": {
      "application/vnd.jupyter.widget-view+json": {
       "model_id": "69385fb4a477477c83b48f48d8c9390b",
       "version_major": 2,
       "version_minor": 0
      },
      "text/plain": [
       "Batches:   0%|          | 0/33 [00:00<?, ?it/s]"
      ]
     },
     "metadata": {},
     "output_type": "display_data"
    }
   ],
   "source": [
    "model=SentenceTransformer('xlm-r-distilroberta-base-paraphrase-v1')\n",
    "embeddings = model.encode(list_data, show_progress_bar=True)"
   ]
  },
  {
   "cell_type": "code",
   "execution_count": 10,
   "metadata": {
    "id": "g8zUQEqTta2y"
   },
   "outputs": [],
   "source": [
    "best_model = umap.UMAP(n_components=5).fit_transform(embeddings)\n",
    "\n",
    "#n_neighbors=10, min_dist=0.0, "
   ]
  },
  {
   "cell_type": "code",
   "execution_count": 11,
   "metadata": {},
   "outputs": [
    {
     "data": {
      "image/png": "[encoded data removed]",
      "text/plain": [
       "<Figure size 720x576 with 1 Axes>"
      ]
     },
     "metadata": {},
     "output_type": "display_data"
    }
   ],
   "source": [
    "#inertia\n",
    "\n",
    "kmeans_per_k = [KMeans(n_clusters=k, random_state=42).fit(best_model)\n",
    "                for k in range(1, 10)]\n",
    "inertias = [model.inertia_ for model in kmeans_per_k]\n",
    "\n",
    "plt.plot(range(1, 10), inertias, \"bo-\")\n",
    "plt.xlabel(\"$k$\", fontsize=14)\n",
    "plt.ylabel(\"Inertia\", fontsize=14)\n",
    "plt.show()"
   ]
  },
  {
   "cell_type": "code",
   "execution_count": 12,
   "metadata": {},
   "outputs": [],
   "source": [
    "# from nltk.cluster import KMeansClusterer,euclidean_distance\n",
    "# clusterer =KMeansClusterer(6,euclidean_distance)\n",
    "# cluster=np.array(clusterer.cluster(best_model,True))"
   ]
  },
  {
   "cell_type": "code",
   "execution_count": 13,
   "metadata": {},
   "outputs": [],
   "source": [
    "# cluster = KMeans(n_clusters=1, init=\"k-means++\").fit_predict(best_model)"
   ]
  },
  {
   "cell_type": "code",
   "execution_count": 14,
   "metadata": {},
   "outputs": [],
   "source": [
    "cluster = hdbscan.HDBSCAN().fit_predict(best_model)"
   ]
  },
  {
   "cell_type": "code",
   "execution_count": 15,
   "metadata": {
    "colab": {
     "base_uri": "https://localhost:8080/",
     "height": 523
    },
    "id": "bqq2_WsRtbN3",
    "outputId": "8e6703c5-89b1-434e-e8e5-74468bf87f8b"
   },
   "outputs": [],
   "source": [
    "def plot(cluster = cluster):    \n",
    "\n",
    "    clustered = (cluster >= 0)\n",
    "    reduced_dim = umap.UMAP(n_components=2).fit_transform(embeddings)\n",
    "\n",
    "\n",
    "\n",
    "    unique, counts = np.unique(cluster, return_counts=True)\n",
    "    print(dict(zip(unique, counts)))\n",
    "\n",
    "    plt.scatter(reduced_dim[~clustered, 0],\n",
    "                reduced_dim[~clustered, 1],\n",
    "                c=(0.5,0.5,0.5),\n",
    "                # s=1,\n",
    "                alpha=0.5\n",
    "                )\n",
    "    plt.scatter(reduced_dim[clustered, 0],\n",
    "                reduced_dim[clustered, 1],\n",
    "                c=cluster[clustered],\n",
    "                # s=1,\n",
    "                cmap='Accent')\n",
    "    plt.show()"
   ]
  },
  {
   "cell_type": "code",
   "execution_count": 16,
   "metadata": {},
   "outputs": [
    {
     "name": "stdout",
     "output_type": "stream",
     "text": [
      "{-1: 421, 0: 6, 1: 13, 2: 20, 3: 22, 4: 6, 5: 7, 6: 15, 7: 47, 8: 5, 9: 22, 10: 6, 11: 6, 12: 10, 13: 17, 14: 45, 15: 23, 16: 27, 17: 16, 18: 9, 19: 8, 20: 9, 21: 12, 22: 157, 23: 11, 24: 12, 25: 12, 26: 11, 27: 8, 28: 31, 29: 8, 30: 8, 31: 23}\n"
     ]
    },
    {
     "data": {
      "image/png": "[encoded data removed]",
      "text/plain": [
       "<Figure size 720x576 with 1 Axes>"
      ]
     },
     "metadata": {},
     "output_type": "display_data"
    }
   ],
   "source": [
    "plot()"
   ]
  },
  {
   "cell_type": "code",
   "execution_count": 17,
   "metadata": {},
   "outputs": [
    {
     "data": {
      "text/plain": [
       "1053"
      ]
     },
     "execution_count": 17,
     "metadata": {},
     "output_type": "execute_result"
    }
   ],
   "source": [
    "len(cluster)"
   ]
  },
  {
   "cell_type": "code",
   "execution_count": 18,
   "metadata": {},
   "outputs": [],
   "source": [
    "def word_root(text):\n",
    "    list_data3=[]\n",
    "    doc = nlp(text)\n",
    "    for token in doc:\n",
    "        if token.text.isalpha() and len(token.text)>2:\n",
    "            lemma = token.lemma_\n",
    "            list_data3.append(lemma)\n",
    "        else:pass\n",
    "    return \" \".join(list_data3)"
   ]
  },
  {
   "cell_type": "code",
   "execution_count": 19,
   "metadata": {},
   "outputs": [
    {
     "data": {
      "text/html": [
       "<div>\n",
       "<style scoped>\n",
       "    .dataframe tbody tr th:only-of-type {\n",
       "        vertical-align: middle;\n",
       "    }\n",
       "\n",
       "    .dataframe tbody tr th {\n",
       "        vertical-align: top;\n",
       "    }\n",
       "\n",
       "    .dataframe thead th {\n",
       "        text-align: right;\n",
       "    }\n",
       "</style>\n",
       "<table border=\"1\" class=\"dataframe\">\n",
       "  <thead>\n",
       "    <tr style=\"text-align: right;\">\n",
       "      <th></th>\n",
       "      <th>cluster</th>\n",
       "      <th>comments</th>\n",
       "    </tr>\n",
       "  </thead>\n",
       "  <tbody>\n",
       "    <tr>\n",
       "      <th>0</th>\n",
       "      <td>-1</td>\n",
       "      <td>after this class you see why silicon valley co...</td>\n",
       "    </tr>\n",
       "    <tr>\n",
       "      <th>1</th>\n",
       "      <td>0</td>\n",
       "      <td>sorry for post a message here we really need y...</td>\n",
       "    </tr>\n",
       "    <tr>\n",
       "      <th>2</th>\n",
       "      <td>1</td>\n",
       "      <td>genuine faithful love loving care encourage gr...</td>\n",
       "    </tr>\n",
       "    <tr>\n",
       "      <th>3</th>\n",
       "      <td>2</td>\n",
       "      <td>its an opportunity to learn and grow and under...</td>\n",
       "    </tr>\n",
       "    <tr>\n",
       "      <th>4</th>\n",
       "      <td>3</td>\n",
       "      <td>prayer to protect you and cure our lord we hav...</td>\n",
       "    </tr>\n",
       "    <tr>\n",
       "      <th>5</th>\n",
       "      <td>4</td>\n",
       "      <td>welcome mr happy morning hello hello hi hello ...</td>\n",
       "    </tr>\n",
       "    <tr>\n",
       "      <th>6</th>\n",
       "      <td>5</td>\n",
       "      <td>what a beautiful woman such a beautiful woman ...</td>\n",
       "    </tr>\n",
       "    <tr>\n",
       "      <th>7</th>\n",
       "      <td>6</td>\n",
       "      <td>arigato for the all money I have expend and I ...</td>\n",
       "    </tr>\n",
       "    <tr>\n",
       "      <th>8</th>\n",
       "      <td>7</td>\n",
       "      <td>the masterclass be dope and it free join charl...</td>\n",
       "    </tr>\n",
       "    <tr>\n",
       "      <th>9</th>\n",
       "      <td>8</td>\n",
       "      <td>great mind do extraordinary thing that what mi...</td>\n",
       "    </tr>\n",
       "    <tr>\n",
       "      <th>10</th>\n",
       "      <td>9</td>\n",
       "      <td>more gratitude and more power to you you be am...</td>\n",
       "    </tr>\n",
       "    <tr>\n",
       "      <th>11</th>\n",
       "      <td>10</td>\n",
       "      <td>an inspiring mom I like she as a role model fo...</td>\n",
       "    </tr>\n",
       "    <tr>\n",
       "      <th>12</th>\n",
       "      <td>11</td>\n",
       "      <td>after one month and not quite fail each time k...</td>\n",
       "    </tr>\n",
       "    <tr>\n",
       "      <th>13</th>\n",
       "      <td>12</td>\n",
       "      <td>mulumesc ptr sfat excellent you vishen lakhian...</td>\n",
       "    </tr>\n",
       "    <tr>\n",
       "      <th>14</th>\n",
       "      <td>13</td>\n",
       "      <td>so beautiful I love thisssss I love her love t...</td>\n",
       "    </tr>\n",
       "    <tr>\n",
       "      <th>15</th>\n",
       "      <td>14</td>\n",
       "      <td>thank guy never hurt to be remind that I be wo...</td>\n",
       "    </tr>\n",
       "    <tr>\n",
       "      <th>16</th>\n",
       "      <td>15</td>\n",
       "      <td>exactly what be lucid dreaming thank you for y...</td>\n",
       "    </tr>\n",
       "    <tr>\n",
       "      <th>17</th>\n",
       "      <td>16</td>\n",
       "      <td>true word truth hahaha exactly I m an educator...</td>\n",
       "    </tr>\n",
       "    <tr>\n",
       "      <th>18</th>\n",
       "      <td>17</td>\n",
       "      <td>it say no add sugar if you check the ingredien...</td>\n",
       "    </tr>\n",
       "    <tr>\n",
       "      <th>19</th>\n",
       "      <td>18</td>\n",
       "      <td>very inspiring very profound and powerful what...</td>\n",
       "    </tr>\n",
       "    <tr>\n",
       "      <th>20</th>\n",
       "      <td>19</td>\n",
       "      <td>its amazing awesome incredible awesome amazing...</td>\n",
       "    </tr>\n",
       "    <tr>\n",
       "      <th>21</th>\n",
       "      <td>20</td>\n",
       "      <td>too good sound great great nice great nice goo...</td>\n",
       "    </tr>\n",
       "    <tr>\n",
       "      <th>22</th>\n",
       "      <td>21</td>\n",
       "      <td>I agree both happiness and sadness pass but it...</td>\n",
       "    </tr>\n",
       "    <tr>\n",
       "      <th>23</th>\n",
       "      <td>22</td>\n",
       "      <td>holly cooke mona saad carly crouch jan hartman...</td>\n",
       "    </tr>\n",
       "    <tr>\n",
       "      <th>24</th>\n",
       "      <td>23</td>\n",
       "      <td>have a big purpose with you vishen got horribl...</td>\n",
       "    </tr>\n",
       "    <tr>\n",
       "      <th>25</th>\n",
       "      <td>24</td>\n",
       "      <td>I guess that it do have anything to do with be...</td>\n",
       "    </tr>\n",
       "    <tr>\n",
       "      <th>26</th>\n",
       "      <td>25</td>\n",
       "      <td>particularly in my field of engineer a univers...</td>\n",
       "    </tr>\n",
       "    <tr>\n",
       "      <th>27</th>\n",
       "      <td>26</td>\n",
       "      <td>I just sign up for silva method and ca nt acce...</td>\n",
       "    </tr>\n",
       "    <tr>\n",
       "      <th>28</th>\n",
       "      <td>27</td>\n",
       "      <td>muy buenos das estoy muy ad glad to see you on...</td>\n",
       "    </tr>\n",
       "    <tr>\n",
       "      <th>29</th>\n",
       "      <td>28</td>\n",
       "      <td>this be definatly fundamental practice so shal...</td>\n",
       "    </tr>\n",
       "    <tr>\n",
       "      <th>30</th>\n",
       "      <td>29</td>\n",
       "      <td>when you buy a program can you stop backup etc...</td>\n",
       "    </tr>\n",
       "    <tr>\n",
       "      <th>31</th>\n",
       "      <td>30</td>\n",
       "      <td>I have to keep listen to your video do you lis...</td>\n",
       "    </tr>\n",
       "    <tr>\n",
       "      <th>32</th>\n",
       "      <td>31</td>\n",
       "      <td>I would really appreciate a reply to my query ...</td>\n",
       "    </tr>\n",
       "  </tbody>\n",
       "</table>\n",
       "</div>"
      ],
      "text/plain": [
       "    cluster                                           comments\n",
       "0        -1  after this class you see why silicon valley co...\n",
       "1         0  sorry for post a message here we really need y...\n",
       "2         1  genuine faithful love loving care encourage gr...\n",
       "3         2  its an opportunity to learn and grow and under...\n",
       "4         3  prayer to protect you and cure our lord we hav...\n",
       "5         4  welcome mr happy morning hello hello hi hello ...\n",
       "6         5  what a beautiful woman such a beautiful woman ...\n",
       "7         6  arigato for the all money I have expend and I ...\n",
       "8         7  the masterclass be dope and it free join charl...\n",
       "9         8  great mind do extraordinary thing that what mi...\n",
       "10        9  more gratitude and more power to you you be am...\n",
       "11       10  an inspiring mom I like she as a role model fo...\n",
       "12       11  after one month and not quite fail each time k...\n",
       "13       12  mulumesc ptr sfat excellent you vishen lakhian...\n",
       "14       13  so beautiful I love thisssss I love her love t...\n",
       "15       14  thank guy never hurt to be remind that I be wo...\n",
       "16       15  exactly what be lucid dreaming thank you for y...\n",
       "17       16  true word truth hahaha exactly I m an educator...\n",
       "18       17  it say no add sugar if you check the ingredien...\n",
       "19       18  very inspiring very profound and powerful what...\n",
       "20       19  its amazing awesome incredible awesome amazing...\n",
       "21       20  too good sound great great nice great nice goo...\n",
       "22       21  I agree both happiness and sadness pass but it...\n",
       "23       22  holly cooke mona saad carly crouch jan hartman...\n",
       "24       23  have a big purpose with you vishen got horribl...\n",
       "25       24  I guess that it do have anything to do with be...\n",
       "26       25  particularly in my field of engineer a univers...\n",
       "27       26  I just sign up for silva method and ca nt acce...\n",
       "28       27  muy buenos das estoy muy ad glad to see you on...\n",
       "29       28  this be definatly fundamental practice so shal...\n",
       "30       29  when you buy a program can you stop backup etc...\n",
       "31       30  I have to keep listen to your video do you lis...\n",
       "32       31  I would really appreciate a reply to my query ..."
      ]
     },
     "execution_count": 19,
     "metadata": {},
     "output_type": "execute_result"
    }
   ],
   "source": [
    "docs = pd.DataFrame(list_data,columns=[\"comments\"])\n",
    "docs[\"cluster\"] = cluster\n",
    "labeled_docs = docs.groupby([\"cluster\"], as_index=False).agg({\"comments\": \" \".join})\n",
    "labeled_docs.comments = labeled_docs.comments.apply(lambda x: word_root(str(x).lower()))  \n",
    "labeled_docs"
   ]
  },
  {
   "cell_type": "code",
   "execution_count": 20,
   "metadata": {},
   "outputs": [
    {
     "name": "stdout",
     "output_type": "stream",
     "text": [
      "\u001b[1m   Bigram Cluster 1: \u001b[0m\n",
      "[('militer mohon', 0.5066), ('perhatian mendesak', 0.4527), ('kailangan namin', 0.4514), ('military want', 0.4508), ('kami membutuhkan', 0.4403), ('need urgent', 0.4352), ('urge urgent', 0.4251), ('urgent attention', 0.4185), ('world need', 0.4107), ('need help', 0.407)]\n",
      "\u001b[1m   Bigram Cluster 2: \u001b[0m\n",
      "[('generous love', 0.605), ('kind love', 0.6018), ('faithful love', 0.6015), ('loving care', 0.5849), ('loving kind', 0.579), ('passionate kind', 0.5511), ('love loving', 0.549), ('loyal loving', 0.5471), ('love love', 0.5412), ('passionate loyal', 0.5374)]\n",
      "\u001b[1m   Bigram Cluster 3: \u001b[0m\n",
      "[('learn history', 0.4598), ('love history', 0.4351), ('black history', 0.4228), ('time learn', 0.422), ('history love', 0.4097), ('educate black', 0.4085), ('history commemorate', 0.4084), ('opportunity learn', 0.4061), ('teach history', 0.4002), ('history black', 0.3916)]\n",
      "\u001b[1m   Bigram Cluster 4: \u001b[0m\n",
      "[('mercy allah', 0.5441), ('deserve forgive', 0.5311), ('ordain forgive', 0.5229), ('deserve forgiveness', 0.5216), ('forgive mercy', 0.5161), ('tomorrow forgive', 0.5059), ('merciful mercy', 0.5036), ('kindness forgiveness', 0.5016), ('changer forgive', 0.5005), ('forgive heavenly', 0.4998)]\n",
      "\u001b[1m   Bigram Cluster 5: \u001b[0m\n",
      "[('hello people', 0.5865), ('happy morning', 0.5732), ('morning hello', 0.563), ('hi hello', 0.5538), ('hello hi', 0.5449), ('people mexico', 0.5378), ('welcome mr', 0.5303), ('hello hello', 0.5154), ('mr happy', 0.403)]\n",
      "\u001b[1m   Bigram Cluster 6: \u001b[0m\n",
      "[('woman beautiful', 0.5877), ('beautiful woman', 0.5747), ('woman beauty', 0.5398), ('lovely speech', 0.516), ('humble woman', 0.514), ('beautiful mama', 0.4556), ('actress work', 0.4371), ('beautiful lovely', 0.4161), ('woman powerful', 0.4074), ('speech beaitiful', 0.399)]\n",
      "\u001b[1m   Bigram Cluster 7: \u001b[0m\n",
      "[('appreciation arigato', 0.4983), ('arigato thank', 0.4951), ('thank happy', 0.4801), ('year good', 0.4653), ('appreciation appreciation', 0.4621), ('good luck', 0.4576), ('arigato year', 0.4557), ('year welcome', 0.4406), ('year arigato', 0.4378), ('thank good', 0.4329)]\n",
      "\u001b[1m   Bigram Cluster 8: \u001b[0m\n",
      "[('masterclass learn', 0.5016), ('join masterclass', 0.4948), ('learn magic', 0.4842), ('awesome masterclass', 0.4708), ('set masterclass', 0.4527), ('masterclass join', 0.4456), ('free masterclass', 0.4444), ('week masterclass', 0.4443), ('course learn', 0.441), ('learn achieve', 0.4326)]\n",
      "\u001b[1m   Bigram Cluster 9: \u001b[0m\n",
      "[('change world', 0.6094), ('mindvalley world', 0.5768), ('mind extraordinary', 0.5388), ('vision change', 0.5294), ('mind change', 0.5247), ('create vision', 0.4977), ('great mind', 0.4886), ('world create', 0.4832), ('thing mindvalley', 0.465), ('life mind', 0.4421)]\n",
      "\u001b[1m   Bigram Cluster 10: \u001b[0m\n",
      "[('vishenthank incredible', 0.5739), ('vishen thank', 0.5412), ('birthday vishenthank', 0.5328), ('thank bless', 0.515), ('birthday thank', 0.5092), ('tremendously thank', 0.4955), ('huge thank', 0.4949), ('thank thank', 0.4917), ('thank amazing', 0.4874), ('surround thank', 0.4863)]\n",
      "\u001b[1m   Bigram Cluster 11: \u001b[0m\n",
      "[('inspiring mom', 0.4914), ('thank inspire', 0.3956), ('world inspiring', 0.3903), ('mom teach', 0.3821), ('teach kindness', 0.3796), ('model mom', 0.3792), ('empower learn', 0.3472), ('mom like', 0.3445), ('role model', 0.3428), ('happen empower', 0.3277)]\n",
      "\u001b[1m   Bigram Cluster 12: \u001b[0m\n",
      "[('exercise lose', 0.4845), ('weight week', 0.4122), ('week fat', 0.3867), ('incorporate cardio', 0.3705), ('people gym', 0.3656), ('really fitness', 0.3621), ('exercise proper', 0.362), ('super overweight', 0.3589), ('optimize diet', 0.3504), ('training exercise', 0.3469)]\n",
      "\u001b[1m   Bigram Cluster 13: \u001b[0m\n",
      "[('share thank', 0.5408), ('thank sharing', 0.5355), ('thank thank', 0.5244), ('brilliant thank', 0.5222), ('thank share', 0.5198), ('sure thank', 0.5008), ('wow thank', 0.4929), ('lakhiani thank', 0.4887), ('future thank', 0.4772), ('thank vishen', 0.4408)]\n",
      "\u001b[1m   Bigram Cluster 14: \u001b[0m\n",
      "[('love thisssss', 0.662), ('thisssss love', 0.655), ('love passionate', 0.6456), ('love love', 0.6178), ('guy love', 0.584), ('love gracia', 0.5811), ('beautiful love', 0.5737), ('lowrimore love', 0.5378), ('gracia love', 0.5338), ('love guy', 0.5269)]\n",
      "\u001b[1m   Bigram Cluster 15: \u001b[0m\n",
      "[('gratitud merci', 0.666), ('grazie grazie', 0.6363), ('worthy thank', 0.6316), ('trustworthy thank', 0.6294), ('thank appreciate', 0.6021), ('thank kind', 0.6013), ('thank guy', 0.595), ('siempre gratitud', 0.5936), ('thank thank', 0.5893), ('reminder thank', 0.5863)]\n",
      "\u001b[1m   Bigram Cluster 16: \u001b[0m\n",
      "[('lucid dream', 0.5785), ('lucid dreaming', 0.5766), ('inspiration lucid', 0.5742), ('reply lucid', 0.5429), ('interpret dream', 0.542), ('insomnia lucid', 0.4987), ('look lucid', 0.4926), ('help lucid', 0.4882), ('dream dream', 0.4699), ('morley lucid', 0.4644)]\n",
      "\u001b[1m   Bigram Cluster 17: \u001b[0m\n",
      "[('agree completely', 0.5021), ('great agree', 0.4993), ('agree matthew', 0.4971), ('agree yes', 0.4884), ('yes agree', 0.4779), ('educator agree', 0.468), ('true yes', 0.4582), ('yepp correct', 0.4486), ('yes true', 0.4418), ('true true', 0.4339)]\n",
      "\u001b[1m   Bigram Cluster 18: \u001b[0m\n",
      "[('label sugar', 0.6267), ('choice sugar', 0.6112), ('say sugar', 0.5882), ('mean sugar', 0.5828), ('externalize sugar', 0.582), ('add sugar', 0.5777), ('sugar add', 0.5763), ('absorb sugar', 0.5673), ('correct sugar', 0.5664), ('sugar orange', 0.558)]\n",
      "\u001b[1m   Bigram Cluster 19: \u001b[0m\n",
      "[('inspirational inspirational', 0.7632), ('incredible inspirational', 0.7544), ('motivate inspirational', 0.7543), ('inspirational motivate', 0.699), ('inspire inspiring', 0.6968), ('motivation beautiful', 0.6905), ('inspirational extremely', 0.6778), ('powerful motivation', 0.6541), ('inspiring profound', 0.578), ('positive inspire', 0.5715)]\n",
      "\u001b[1m   Bigram Cluster 20: \u001b[0m\n",
      "[('talent amazing', 0.7763), ('awesome amazing', 0.7383), ('amazing amazing', 0.736), ('awesome incredible', 0.7156), ('amazing awesome', 0.7153), ('incredible awesome', 0.6939), ('amazing amazed', 0.6795), ('amazed talent', 0.6524)]\n",
      "\u001b[1m   Bigram Cluster 21: \u001b[0m\n",
      "[('good lecture', 0.6632), ('good sound', 0.5622), ('nice good', 0.5361), ('lecture nice', 0.5137), ('nice goal', 0.5136), ('sound great', 0.5084), ('nice great', 0.5028), ('great nice', 0.4921), ('good good', 0.4817), ('great great', 0.4181)]\n",
      "\u001b[1m   Bigram Cluster 22: \u001b[0m\n",
      "[('happiness pass', 0.5095), ('happiness sadness', 0.4459), ('sadness pass', 0.4434), ('mean happiness', 0.4149), ('achieve happiness', 0.4035), ('true sadness', 0.4006), ('makung happiness', 0.3984), ('agree happiness', 0.3978), ('happiness lose', 0.3881), ('happiness lead', 0.3835)]\n",
      "\u001b[1m   Bigram Cluster 23: \u001b[0m\n",
      "[('charle cesen', 0.4317), ('mariam cisse', 0.4242), ('balancd alwys', 0.4114), ('rettie chryssa', 0.4086), ('pasveer chantal', 0.4007), ('elliott kearstin', 0.3934), ('crouch jan', 0.3914), ('gracie koziatek', 0.3895), ('cesen marry', 0.3862), ('chris mclean', 0.3852)]\n",
      "\u001b[1m   Bigram Cluster 24: \u001b[0m\n",
      "[('spiritually attack', 0.4455), ('purpose vishen', 0.3997), ('favor tome', 0.3789), ('favor espero', 0.3673), ('asistir pero', 0.3658), ('los le', 0.3527), ('domino el', 0.347), ('que necesito', 0.3437), ('muy preocupada', 0.3394), ('big purpose', 0.3359)]\n",
      "\u001b[1m   Bigram Cluster 25: \u001b[0m\n",
      "[('actually punish', 0.3015), ('decently treat', 0.3014), ('employee decently', 0.301), ('lakhiani reward', 0.2686), ('human treat', 0.265), ('reward soothe', 0.2594), ('rely employee', 0.2423), ('family colleague', 0.2403), ('engineering good', 0.2388), ('treat rely', 0.2362)]\n",
      "\u001b[1m   Bigram Cluster 26: \u001b[0m\n",
      "[('ability learn', 0.457), ('aprendizaje posee', 0.4192), ('enseanza aprendizaje', 0.4065), ('university degree', 0.4056), ('educacin superior', 0.3982), ('aprendizaje entonce', 0.3917), ('en educacin', 0.3865), ('aprendizaje en', 0.3791), ('aprendizaje pue', 0.3772), ('proceso aprendizaje', 0.374)]\n",
      "\u001b[1m   Bigram Cluster 27: \u001b[0m\n",
      "[('valley membership', 0.3912), ('membership evercoach', 0.3835), ('gym membership', 0.3802), ('evercoach course', 0.378), ('membership program', 0.3677), ('like enroll', 0.3504), ('anual membership', 0.335), ('enroll multiple', 0.3297), ('course include', 0.3295), ('membership anual', 0.3057)]\n",
      "\u001b[1m   Bigram Cluster 28: \u001b[0m\n",
      "[('das estoy', 0.4547), ('estoy muy', 0.4403), ('good beacuose', 0.4255), ('beuteful girl', 0.4012), ('good holly', 0.3998), ('ad glad', 0.393), ('happy beacuose', 0.393), ('tomy good', 0.3922), ('buenos das', 0.3911), ('hi beuteful', 0.3718)]\n",
      "\u001b[1m   Bigram Cluster 29: \u001b[0m\n",
      "[('facebook hmmmmm', 0.3988), ('quest studio', 0.3862), ('march soon', 0.3802), ('raza listen', 0.3662), ('big march', 0.3653), ('abdel time', 0.3652), ('build big', 0.3587), ('time way', 0.3546), ('ca nt', 0.352), ('way let', 0.3494)]\n",
      "\u001b[1m   Bigram Cluster 30: \u001b[0m\n",
      "[('program stop', 0.4418), ('buy program', 0.4197), ('sing undergrad', 0.4196), ('thank course', 0.3632), ('course nt', 0.3504), ('vishen video', 0.3181), ('perdone se', 0.3103), ('favor envirmelos', 0.3102), ('listen ariana', 0.3102), ('espaol perdone', 0.3001)]\n",
      "\u001b[1m   Bigram Cluster 31: \u001b[0m\n",
      "[('listen video', 0.6482), ('watch video', 0.6421), ('hilarious video', 0.6413), ('video fun', 0.5939), ('ca video', 0.5845), ('video listen', 0.5631), ('video video', 0.5529), ('video youtube', 0.5365), ('video joke', 0.5298), ('video cheer', 0.5076)]\n",
      "\u001b[1m   Bigram Cluster 32: \u001b[0m\n",
      "[('try email', 0.4742), ('email respond', 0.4349), ('send email', 0.4155), ('email long', 0.4143), ('help email', 0.4106), ('email send', 0.4071), ('email like', 0.4059), ('response email', 0.4055), ('contact reply', 0.404), ('say email', 0.3916)]\n"
     ]
    }
   ],
   "source": [
    "from keybert import KeyBERT\n",
    "array_text = labeled_docs.comments.tolist()\n",
    "kw_extractor = KeyBERT(model=model)\n",
    "bigram=[]\n",
    "for j in range(len(array_text)-1):\n",
    "    keywords = kw_extractor.extract_keywords(array_text[j+1],top_n=10,keyphrase_ngram_range=(2, 2))\n",
    "    print(f'\\033[1m   Bigram Cluster {j+1}: \\033[0m' )\n",
    "    print([word for word in keywords])\n",
    "    bigram.append([word[0] for word in keywords])"
   ]
  },
  {
   "cell_type": "code",
   "execution_count": 21,
   "metadata": {},
   "outputs": [
    {
     "name": "stdout",
     "output_type": "stream",
     "text": [
      "\u001b[1m   Unigram Cluster 1: \u001b[0m\n",
      "[('membutuhkan', 0.3749), ('urgent', 0.3502), ('bantu', 0.3484), ('mohon', 0.3368), ('need', 0.3193), ('mendesak', 0.3068), ('militer', 0.301), ('kailangan', 0.2988), ('assist', 0.296), ('want', 0.2957)]\n",
      "\u001b[1m   Unigram Cluster 2: \u001b[0m\n",
      "[('compassion', 0.4741), ('loving', 0.445), ('love', 0.4364), ('passionate', 0.4203), ('respect', 0.4037), ('loyal', 0.3918), ('kind', 0.3448), ('faithful', 0.3431), ('supportive', 0.3324), ('generous', 0.3221)]\n",
      "\u001b[1m   Unigram Cluster 3: \u001b[0m\n",
      "[('commemorate', 0.3125), ('learn', 0.2815), ('racism', 0.2788), ('history', 0.2701), ('educate', 0.2502), ('respectful', 0.2487), ('culture', 0.2447), ('awareness', 0.2298), ('explore', 0.2187), ('enjoy', 0.2174)]\n",
      "\u001b[1m   Unigram Cluster 4: \u001b[0m\n",
      "[('bless', 0.4324), ('merciful', 0.3867), ('prayer', 0.3554), ('deserve', 0.3516), ('kindness', 0.3393), ('heaven', 0.3249), ('repent', 0.3217), ('forgive', 0.3216), ('revenge', 0.3166), ('forgivable', 0.3122)]\n",
      "\u001b[1m   Unigram Cluster 5: \u001b[0m\n",
      "[('hello', 0.4543), ('welcome', 0.4465), ('mexico', 0.3787), ('hi', 0.3786), ('happy', 0.337), ('morning', 0.3295), ('people', 0.2149), ('mr', 0.198)]\n",
      "\u001b[1m   Unigram Cluster 6: \u001b[0m\n",
      "[('beauty', 0.4195), ('beautiful', 0.407), ('actress', 0.3659), ('lovely', 0.344), ('beaitiful', 0.3005), ('woman', 0.2959), ('speech', 0.2539), ('humble', 0.2491), ('humanity', 0.2279), ('brave', 0.2257)]\n",
      "\u001b[1m   Unigram Cluster 7: \u001b[0m\n",
      "[('appreciation', 0.4373), ('thank', 0.3798), ('good', 0.3186), ('luck', 0.3172), ('great', 0.3131), ('arigato', 0.3084), ('happy', 0.304), ('enjoy', 0.2955), ('welcome', 0.2898), ('nice', 0.2894)]\n",
      "\u001b[1m   Unigram Cluster 8: \u001b[0m\n",
      "[('masterclass', 0.3696), ('learn', 0.3507), ('mastery', 0.2831), ('dream', 0.2718), ('believe', 0.2704), ('mindful', 0.2701), ('meditation', 0.2697), ('lucid', 0.2668), ('achieve', 0.2632), ('class', 0.2603)]\n",
      "\u001b[1m   Unigram Cluster 9: \u001b[0m\n",
      "[('vision', 0.395), ('mindvalley', 0.3565), ('extraordinary', 0.3345), ('world', 0.3211), ('mind', 0.3103), ('change', 0.2733), ('thank', 0.2298), ('inteview', 0.2229), ('great', 0.1957), ('create', 0.1945)]\n",
      "\u001b[1m   Unigram Cluster 10: \u001b[0m\n",
      "[('vishenthank', 0.4627), ('thank', 0.3945), ('gratitude', 0.3461), ('celebrate', 0.3424), ('bless', 0.3389), ('grateful', 0.3338), ('blessing', 0.3333), ('generous', 0.3103), ('incredible', 0.3076), ('tremendous', 0.3028)]\n",
      "\u001b[1m   Unigram Cluster 11: \u001b[0m\n",
      "[('inspiring', 0.3221), ('inspire', 0.2924), ('entrepreneur', 0.2895), ('mom', 0.264), ('amazing', 0.2624), ('empower', 0.2431), ('kindness', 0.2308), ('educational', 0.212), ('mindvalley', 0.2093), ('thank', 0.2086)]\n",
      "\u001b[1m   Unigram Cluster 12: \u001b[0m\n",
      "[('exercise', 0.4154), ('fitness', 0.356), ('overweight', 0.3371), ('weight', 0.2684), ('diet', 0.2672), ('run', 0.259), ('try', 0.2432), ('trial', 0.2316), ('start', 0.2094), ('shape', 0.2082)]\n",
      "\u001b[1m   Unigram Cluster 13: \u001b[0m\n",
      "[('thank', 0.4863), ('excellent', 0.3611), ('mulumesc', 0.3429), ('share', 0.3301), ('supermarket', 0.3208), ('sharing', 0.318), ('label', 0.3007), ('vishen', 0.2971), ('sugar', 0.2928), ('savoury', 0.2908)]\n",
      "\u001b[1m   Unigram Cluster 14: \u001b[0m\n",
      "[('love', 0.5199), ('passionate', 0.473), ('embrace', 0.3624), ('beautiful', 0.3255), ('thisssss', 0.2358), ('gracia', 0.2159), ('sacrifice', 0.2156), ('lowrimore', 0.2048), ('hand', 0.1822), ('make', 0.182)]\n",
      "\u001b[1m   Unigram Cluster 15: \u001b[0m\n",
      "[('tack', 0.6125), ('grazie', 0.5574), ('merci', 0.5541), ('grateful', 0.4794), ('thank', 0.4747), ('gratitud', 0.4495), ('appreciate', 0.4078), ('trustworthy', 0.3717), ('congratulation', 0.3498), ('worthy', 0.3414)]\n",
      "\u001b[1m   Unigram Cluster 16: \u001b[0m\n",
      "[('dreaming', 0.4139), ('dream', 0.4012), ('lucid', 0.3525), ('insomnia', 0.3326), ('sleep', 0.3268), ('visualize', 0.2868), ('vision', 0.2847), ('interpret', 0.2594), ('meditation', 0.2565), ('mind', 0.2421)]\n",
      "\u001b[1m   Unigram Cluster 17: \u001b[0m\n",
      "[('agree', 0.4376), ('true', 0.332), ('correct', 0.3284), ('believe', 0.2858), ('absolutely', 0.2818), ('succeed', 0.2804), ('definitely', 0.2498), ('yes', 0.2475), ('educator', 0.2427), ('excellent', 0.2351)]\n",
      "\u001b[1m   Unigram Cluster 18: \u001b[0m\n",
      "[('sugar', 0.4699), ('nutrient', 0.3564), ('consume', 0.3436), ('ingredien', 0.3431), ('fruit', 0.3425), ('juice', 0.3364), ('smoothie', 0.3316), ('syrup', 0.3235), ('vegetable', 0.3234), ('nutrition', 0.312)]\n",
      "\u001b[1m   Unigram Cluster 19: \u001b[0m\n",
      "[('inspirational', 0.5826), ('inspiring', 0.5676), ('motivate', 0.5174), ('inspire', 0.517), ('motivation', 0.4959), ('powerful', 0.4029), ('incredible', 0.3851), ('beautiful', 0.359), ('extremely', 0.2896), ('positive', 0.22)]\n",
      "\u001b[1m   Unigram Cluster 20: \u001b[0m\n",
      "[('amazing', 0.6226), ('incredible', 0.5941), ('awesome', 0.5804), ('amazed', 0.442), ('talent', 0.407)]\n",
      "\u001b[1m   Unigram Cluster 21: \u001b[0m\n",
      "[('good', 0.4162), ('nice', 0.4152), ('sound', 0.3797), ('lecture', 0.3394), ('great', 0.3276), ('goal', 0.2883)]\n",
      "\u001b[1m   Unigram Cluster 22: \u001b[0m\n",
      "[('happiness', 0.3413), ('pass', 0.2681), ('agree', 0.2661), ('emotion', 0.2609), ('sadness', 0.2581), ('achieve', 0.2554), ('peace', 0.2509), ('emotionally', 0.2495), ('blessing', 0.2447), ('ease', 0.2385)]\n",
      "\u001b[1m   Unigram Cluster 23: \u001b[0m\n",
      "[('chryssa', 0.3992), ('ann', 0.3963), ('marry', 0.3834), ('follow', 0.3728), ('cesen', 0.3654), ('galvan', 0.3648), ('mariam', 0.3643), ('chantal', 0.364), ('jonalisa', 0.3634), ('tengan', 0.3539)]\n",
      "\u001b[1m   Unigram Cluster 24: \u001b[0m\n",
      "[('necesito', 0.3803), ('asistir', 0.3406), ('favor', 0.3045), ('attack', 0.302), ('preocupada', 0.2983), ('spiritually', 0.2967), ('estoy', 0.2955), ('soy', 0.2897), ('mi', 0.282), ('tengo', 0.2817)]\n",
      "\u001b[1m   Unigram Cluster 25: \u001b[0m\n",
      "[('deserve', 0.2271), ('treat', 0.2056), ('miserable', 0.2021), ('ultimate', 0.2005), ('reward', 0.1973), ('employee', 0.1724), ('edmeade', 0.1715), ('love', 0.1706), ('tradition', 0.1677), ('special', 0.1675)]\n",
      "\u001b[1m   Unigram Cluster 26: \u001b[0m\n",
      "[('aprendizaje', 0.3191), ('graduate', 0.2993), ('educacin', 0.2849), ('degree', 0.2754), ('apprentice', 0.2607), ('engineer', 0.252), ('learn', 0.2501), ('course', 0.2368), ('learning', 0.2347), ('education', 0.2313)]\n",
      "\u001b[1m   Unigram Cluster 27: \u001b[0m\n",
      "[('membership', 0.2602), ('course', 0.2404), ('enroll', 0.2051), ('class', 0.1984), ('mindvalley', 0.1921), ('masterclass', 0.1745), ('chalmer', 0.1616), ('check', 0.1545), ('exercise', 0.1508), ('fitness', 0.1501)]\n",
      "\u001b[1m   Unigram Cluster 28: \u001b[0m\n",
      "[('estoy', 0.4113), ('buenos', 0.337), ('yuo', 0.3141), ('beuteful', 0.3128), ('good', 0.3003), ('gratitute', 0.2988), ('beacuose', 0.2958), ('angel', 0.2916), ('roxas', 0.282), ('pilippene', 0.2679)]\n",
      "\u001b[1m   Unigram Cluster 29: \u001b[0m\n",
      "[('facebook', 0.3989), ('soon', 0.3491), ('march', 0.3442), ('stadia', 0.3419), ('way', 0.3367), ('abdel', 0.3355), ('book', 0.3343), ('let', 0.3341), ('sport', 0.3312), ('vishen', 0.3304)]\n",
      "\u001b[1m   Unigram Cluster 30: \u001b[0m\n",
      "[('program', 0.391), ('course', 0.3399), ('internship', 0.2943), ('perdone', 0.2855), ('undergrad', 0.2845), ('podran', 0.26), ('sing', 0.2591), ('ofcourse', 0.246), ('ariana', 0.2448), ('intro', 0.2381)]\n",
      "\u001b[1m   Unigram Cluster 31: \u001b[0m\n",
      "[('video', 0.488), ('youtube', 0.4289), ('watch', 0.4112), ('hilarious', 0.3611), ('listen', 0.3566), ('replay', 0.3061), ('fun', 0.3043), ('cheer', 0.2911), ('joke', 0.2836), ('live', 0.2722)]\n",
      "\u001b[1m   Unigram Cluster 32: \u001b[0m\n",
      "[('email', 0.2503), ('beware', 0.2458), ('want', 0.2425), ('send', 0.2309), ('message', 0.2307), ('try', 0.2288), ('contact', 0.2224), ('thank', 0.218), ('server', 0.2166), ('hello', 0.2106)]\n"
     ]
    }
   ],
   "source": [
    "unigram=[]\n",
    "for j in range(len(array_text)-1):\n",
    "    keywords = kw_extractor.extract_keywords(array_text[j+1],top_n=10,keyphrase_ngram_range=(1, 1))\n",
    "    print(f'\\033[1m   Unigram Cluster {j+1}: \\033[0m' )\n",
    "    print([word for word in keywords])\n",
    "    unigram.append([word[0] for word in keywords])"
   ]
  },
  {
   "cell_type": "code",
   "execution_count": 22,
   "metadata": {},
   "outputs": [
    {
     "name": "stdout",
     "output_type": "stream",
     "text": [
      "\u001b[1m   Cluster 1: \u001b[0m\n",
      "['membutuhkan', 'urgent', 'bantu', 'mohon', 'need', 'mendesak', 'militer', 'kailangan', 'assist', 'want', 'militer mohon', 'perhatian mendesak', 'kailangan namin', 'military want', 'kami membutuhkan', 'need urgent', 'urge urgent', 'urgent attention', 'world need', 'need help']\n",
      "\u001b[1m   Cluster 2: \u001b[0m\n",
      "['compassion', 'loving', 'love', 'passionate', 'respect', 'loyal', 'kind', 'faithful', 'supportive', 'generous', 'generous love', 'kind love', 'faithful love', 'loving care', 'passionate kind', 'loyal loving']\n",
      "\u001b[1m   Cluster 3: \u001b[0m\n",
      "['commemorate', 'learn', 'racism', 'history', 'educate', 'respectful', 'culture', 'awareness', 'explore', 'enjoy', 'learn history', 'love history', 'black history', 'time learn', 'educate black', 'history commemorate', 'opportunity learn', 'teach history']\n",
      "\u001b[1m   Cluster 4: \u001b[0m\n",
      "['bless', 'merciful', 'prayer', 'deserve', 'kindness', 'heaven', 'repent', 'forgive', 'revenge', 'forgivable', 'mercy allah', 'deserve forgive', 'ordain forgive', 'deserve forgiveness', 'tomorrow forgive', 'merciful mercy', 'kindness forgiveness', 'changer forgive', 'forgive heavenly']\n",
      "\u001b[1m   Cluster 5: \u001b[0m\n",
      "['hello', 'welcome', 'mexico', 'hi', 'happy', 'morning', 'people', 'mr', 'hello people', 'happy morning', 'hi hello', 'people mexico', 'welcome mr']\n",
      "\u001b[1m   Cluster 6: \u001b[0m\n",
      "['beauty', 'beautiful', 'actress', 'lovely', 'beaitiful', 'woman', 'speech', 'humble', 'humanity', 'brave', 'woman beautiful', 'woman beauty', 'lovely speech', 'humble woman', 'beautiful mama', 'actress work', 'woman powerful', 'speech beaitiful']\n",
      "\u001b[1m   Cluster 7: \u001b[0m\n",
      "['appreciation', 'thank', 'good', 'luck', 'great', 'arigato', 'happy', 'enjoy', 'welcome', 'nice', 'appreciation arigato', 'arigato thank', 'thank happy', 'year good', 'good luck', 'year welcome']\n",
      "\u001b[1m   Cluster 8: \u001b[0m\n",
      "['masterclass', 'learn', 'mastery', 'dream', 'believe', 'mindful', 'meditation', 'lucid', 'achieve', 'class', 'masterclass learn', 'join masterclass', 'learn magic', 'awesome masterclass', 'set masterclass', 'free masterclass', 'week masterclass', 'course learn', 'learn achieve']\n",
      "\u001b[1m   Cluster 9: \u001b[0m\n",
      "['vision', 'mindvalley', 'extraordinary', 'world', 'mind', 'change', 'thank', 'inteview', 'great', 'create', 'change world', 'mindvalley world', 'mind extraordinary', 'vision change', 'create vision', 'great mind', 'thing mindvalley', 'life mind']\n",
      "\u001b[1m   Cluster 10: \u001b[0m\n",
      "['vishenthank', 'thank', 'gratitude', 'celebrate', 'bless', 'grateful', 'blessing', 'generous', 'incredible', 'tremendous', 'vishenthank incredible', 'vishen thank', 'birthday vishenthank', 'thank bless', 'tremendously thank', 'huge thank', 'thank amazing', 'surround thank']\n",
      "\u001b[1m   Cluster 11: \u001b[0m\n",
      "['inspiring', 'inspire', 'entrepreneur', 'mom', 'amazing', 'empower', 'kindness', 'educational', 'mindvalley', 'thank', 'inspiring mom', 'thank inspire', 'world inspiring', 'mom teach', 'teach kindness', 'model mom', 'empower learn', 'mom like', 'role model', 'happen empower']\n",
      "\u001b[1m   Cluster 12: \u001b[0m\n",
      "['exercise', 'fitness', 'overweight', 'weight', 'diet', 'run', 'try', 'trial', 'start', 'shape', 'exercise lose', 'weight week', 'week fat', 'incorporate cardio', 'people gym', 'really fitness', 'exercise proper', 'super overweight', 'optimize diet', 'training exercise']\n",
      "\u001b[1m   Cluster 13: \u001b[0m\n",
      "['thank', 'excellent', 'mulumesc', 'share', 'supermarket', 'sharing', 'label', 'vishen', 'sugar', 'savoury', 'share thank', 'thank sharing', 'brilliant thank', 'sure thank', 'wow thank', 'lakhiani thank', 'future thank', 'thank vishen']\n",
      "\u001b[1m   Cluster 14: \u001b[0m\n",
      "['love', 'passionate', 'embrace', 'beautiful', 'thisssss', 'gracia', 'sacrifice', 'lowrimore', 'hand', 'make', 'love thisssss', 'love passionate', 'guy love', 'love gracia', 'beautiful love', 'lowrimore love']\n",
      "\u001b[1m   Cluster 15: \u001b[0m\n",
      "['tack', 'grazie', 'merci', 'grateful', 'thank', 'gratitud', 'appreciate', 'trustworthy', 'congratulation', 'worthy', 'gratitud merci', 'worthy thank', 'trustworthy thank', 'thank appreciate', 'thank kind', 'thank guy', 'siempre gratitud', 'reminder thank']\n",
      "\u001b[1m   Cluster 16: \u001b[0m\n",
      "['dreaming', 'dream', 'lucid', 'insomnia', 'sleep', 'visualize', 'vision', 'interpret', 'meditation', 'mind', 'lucid dream', 'lucid dreaming', 'inspiration lucid', 'reply lucid', 'interpret dream', 'insomnia lucid', 'look lucid', 'help lucid', 'morley lucid']\n",
      "\u001b[1m   Cluster 17: \u001b[0m\n",
      "['agree', 'true', 'correct', 'believe', 'absolutely', 'succeed', 'definitely', 'yes', 'educator', 'excellent', 'agree completely', 'great agree', 'agree matthew', 'agree yes', 'educator agree', 'true yes', 'yepp correct']\n",
      "\u001b[1m   Cluster 18: \u001b[0m\n",
      "['sugar', 'nutrient', 'consume', 'ingredien', 'fruit', 'juice', 'smoothie', 'syrup', 'vegetable', 'nutrition', 'label sugar', 'choice sugar', 'say sugar', 'mean sugar', 'externalize sugar', 'add sugar', 'absorb sugar', 'correct sugar', 'sugar orange']\n",
      "\u001b[1m   Cluster 19: \u001b[0m\n",
      "['inspirational', 'inspiring', 'motivate', 'inspire', 'motivation', 'powerful', 'incredible', 'beautiful', 'extremely', 'positive', 'inspirational inspirational', 'incredible inspirational', 'motivate inspirational', 'inspire inspiring', 'motivation beautiful', 'inspirational extremely', 'powerful motivation', 'inspiring profound', 'positive inspire']\n",
      "\u001b[1m   Cluster 20: \u001b[0m\n",
      "['amazing', 'incredible', 'awesome', 'amazed', 'talent', 'talent amazing', 'awesome amazing', 'awesome incredible', 'amazing amazed']\n",
      "\u001b[1m   Cluster 21: \u001b[0m\n",
      "['good', 'nice', 'sound', 'lecture', 'great', 'goal', 'good lecture', 'good sound', 'nice good', 'nice goal', 'sound great']\n",
      "\u001b[1m   Cluster 22: \u001b[0m\n",
      "['happiness', 'pass', 'agree', 'emotion', 'sadness', 'achieve', 'peace', 'emotionally', 'blessing', 'ease', 'happiness pass', 'happiness sadness', 'mean happiness', 'achieve happiness', 'true sadness', 'makung happiness', 'agree happiness', 'happiness lose', 'happiness lead']\n",
      "\u001b[1m   Cluster 23: \u001b[0m\n",
      "['chryssa', 'ann', 'marry', 'follow', 'cesen', 'galvan', 'mariam', 'chantal', 'jonalisa', 'tengan', 'charle cesen', 'mariam cisse', 'balancd alwys', 'rettie chryssa', 'pasveer chantal', 'elliott kearstin', 'crouch jan', 'gracie koziatek', 'cesen marry', 'chris mclean']\n",
      "\u001b[1m   Cluster 24: \u001b[0m\n",
      "['necesito', 'asistir', 'favor', 'attack', 'preocupada', 'spiritually', 'estoy', 'soy', 'mi', 'tengo', 'spiritually attack', 'purpose vishen', 'favor tome', 'favor espero', 'asistir pero', 'los le', 'domino el', 'que necesito', 'muy preocupada', 'big purpose']\n",
      "\u001b[1m   Cluster 25: \u001b[0m\n",
      "['deserve', 'treat', 'miserable', 'ultimate', 'reward', 'employee', 'edmeade', 'love', 'tradition', 'special', 'actually punish', 'decently treat', 'employee decently', 'lakhiani reward', 'human treat', 'reward soothe', 'rely employee', 'family colleague', 'engineering good']\n",
      "\u001b[1m   Cluster 26: \u001b[0m\n",
      "['aprendizaje', 'graduate', 'educacin', 'degree', 'apprentice', 'engineer', 'learn', 'course', 'learning', 'education', 'ability learn', 'aprendizaje posee', 'enseanza aprendizaje', 'university degree', 'educacin superior', 'aprendizaje entonce', 'en educacin', 'aprendizaje pue', 'proceso aprendizaje']\n",
      "\u001b[1m   Cluster 27: \u001b[0m\n",
      "['membership', 'course', 'enroll', 'class', 'mindvalley', 'masterclass', 'chalmer', 'check', 'exercise', 'fitness', 'valley membership', 'membership evercoach', 'gym membership', 'evercoach course', 'membership program', 'like enroll', 'anual membership', 'enroll multiple', 'course include']\n",
      "\u001b[1m   Cluster 28: \u001b[0m\n",
      "['estoy', 'buenos', 'yuo', 'beuteful', 'good', 'gratitute', 'beacuose', 'angel', 'roxas', 'pilippene', 'das estoy', 'estoy muy', 'good beacuose', 'beuteful girl', 'good holly', 'ad glad', 'happy beacuose', 'tomy good', 'buenos das', 'hi beuteful']\n",
      "\u001b[1m   Cluster 29: \u001b[0m\n",
      "['facebook', 'soon', 'march', 'stadia', 'way', 'abdel', 'book', 'let', 'sport', 'vishen', 'facebook hmmmmm', 'quest studio', 'march soon', 'raza listen', 'big march', 'abdel time', 'build big', 'time way', 'ca nt', 'way let']\n",
      "\u001b[1m   Cluster 30: \u001b[0m\n",
      "['program', 'course', 'internship', 'perdone', 'undergrad', 'podran', 'sing', 'ofcourse', 'ariana', 'intro', 'program stop', 'buy program', 'sing undergrad', 'thank course', 'course nt', 'vishen video', 'perdone se', 'favor envirmelos', 'listen ariana', 'espaol perdone']\n",
      "\u001b[1m   Cluster 31: \u001b[0m\n",
      "['video', 'youtube', 'watch', 'hilarious', 'listen', 'replay', 'fun', 'cheer', 'joke', 'live', 'listen video', 'watch video', 'hilarious video', 'video fun', 'ca video', 'video youtube', 'video joke', 'video cheer']\n",
      "\u001b[1m   Cluster 32: \u001b[0m\n",
      "['email', 'beware', 'want', 'send', 'message', 'try', 'contact', 'thank', 'server', 'hello', 'try email', 'email respond', 'send email', 'email long', 'help email', 'email like', 'response email', 'contact reply', 'say email']\n"
     ]
    }
   ],
   "source": [
    "for i in range(len(array_text)-1):\n",
    "    clusterer=[]\n",
    "    bigramer=[]\n",
    "    print(f'\\033[1m   Cluster {i+1}: \\033[0m')\n",
    "    [clusterer.append(j) for j in unigram[i]]\n",
    "    clusterer.append(bigram[i][0])\n",
    "    \n",
    "    for word in bigram[i][0].split(\" \"):\n",
    "        if word not in bigramer:\n",
    "            bigramer.append(word)\n",
    "    \n",
    "    for each in bigram[i]:\n",
    "        first,second=each.split(\" \")\n",
    "        if first != second and not(first in bigramer and second in bigramer):\n",
    "            clusterer.append(each)\n",
    "            if bigramer.append(first): first not in bigramer\n",
    "            if bigramer.append(second): second not in bigramer\n",
    "    print(clusterer)"
   ]
  },
  {
   "cell_type": "code",
   "execution_count": null,
   "metadata": {},
   "outputs": [],
   "source": []
  }
 ],
 "metadata": {
  "colab": {
   "name": "Untitled5.ipynb",
   "provenance": []
  },
  "kernelspec": {
   "display_name": "Python 3",
   "language": "python",
   "name": "python3"
  },
  "language_info": {
   "codemirror_mode": {
    "name": "ipython",
    "version": 3
   },
   "file_extension": ".py",
   "mimetype": "text/x-python",
   "name": "python",
   "nbconvert_exporter": "python",
   "pygments_lexer": "ipython3",
   "version": "3.8.7"
  },
  "varInspector": {
   "cols": {
    "lenName": 16,
    "lenType": 16,
    "lenVar": 40
   },
   "kernels_config": {
    "python": {
     "delete_cmd_postfix": "",
     "delete_cmd_prefix": "del ",
     "library": "var_list.py",
     "varRefreshCmd": "print(var_dic_list())"
    },
    "r": {
     "delete_cmd_postfix": ") ",
     "delete_cmd_prefix": "rm(",
     "library": "var_list.r",
     "varRefreshCmd": "cat(var_dic_list()) "
    }
   },
   "types_to_exclude": [
    "module",
    "function",
    "builtin_function_or_method",
    "instance",
    "_Feature"
   ],
   "window_display": false
  },
  "widgets": {
   "application/vnd.jupyter.widget-state+json": {
    "10748c34bb5448d9a34cd200a3979d56": {
     "model_module": "@jupyter-widgets/controls",
     "model_name": "HTMLModel",
     "state": {
      "_dom_classes": [],
      "_model_module": "@jupyter-widgets/controls",
      "_model_module_version": "1.5.0",
      "_model_name": "HTMLModel",
      "_view_count": null,
      "_view_module": "@jupyter-widgets/controls",
      "_view_module_version": "1.5.0",
      "_view_name": "HTMLView",
      "description": "",
      "description_tooltip": null,
      "layout": "IPY_MODEL_7e2aa975791049c8a7f588ed76b379c0",
      "placeholder": "​",
      "style": "IPY_MODEL_39fd5938a4df4de2891cd8393dd7af2f",
      "value": " 140/140 [01:59&lt;00:00,  1.17it/s]"
     }
    },
    "39fd5938a4df4de2891cd8393dd7af2f": {
     "model_module": "@jupyter-widgets/controls",
     "model_name": "DescriptionStyleModel",
     "state": {
      "_model_module": "@jupyter-widgets/controls",
      "_model_module_version": "1.5.0",
      "_model_name": "DescriptionStyleModel",
      "_view_count": null,
      "_view_module": "@jupyter-widgets/base",
      "_view_module_version": "1.2.0",
      "_view_name": "StyleView",
      "description_width": ""
     }
    },
    "6b163e4049ca4cbe8a24e7ac79ced8a5": {
     "model_module": "@jupyter-widgets/controls",
     "model_name": "HBoxModel",
     "state": {
      "_dom_classes": [],
      "_model_module": "@jupyter-widgets/controls",
      "_model_module_version": "1.5.0",
      "_model_name": "HBoxModel",
      "_view_count": null,
      "_view_module": "@jupyter-widgets/controls",
      "_view_module_version": "1.5.0",
      "_view_name": "HBoxView",
      "box_style": "",
      "children": [
       "IPY_MODEL_b02fccb0afa047999665079b5248015f",
       "IPY_MODEL_10748c34bb5448d9a34cd200a3979d56"
      ],
      "layout": "IPY_MODEL_be0f028285fa4e8da720237e1b1279bf"
     }
    },
    "7e2aa975791049c8a7f588ed76b379c0": {
     "model_module": "@jupyter-widgets/base",
     "model_name": "LayoutModel",
     "state": {
      "_model_module": "@jupyter-widgets/base",
      "_model_module_version": "1.2.0",
      "_model_name": "LayoutModel",
      "_view_count": null,
      "_view_module": "@jupyter-widgets/base",
      "_view_module_version": "1.2.0",
      "_view_name": "LayoutView",
      "align_content": null,
      "align_items": null,
      "align_self": null,
      "border": null,
      "bottom": null,
      "display": null,
      "flex": null,
      "flex_flow": null,
      "grid_area": null,
      "grid_auto_columns": null,
      "grid_auto_flow": null,
      "grid_auto_rows": null,
      "grid_column": null,
      "grid_gap": null,
      "grid_row": null,
      "grid_template_areas": null,
      "grid_template_columns": null,
      "grid_template_rows": null,
      "height": null,
      "justify_content": null,
      "justify_items": null,
      "left": null,
      "margin": null,
      "max_height": null,
      "max_width": null,
      "min_height": null,
      "min_width": null,
      "object_fit": null,
      "object_position": null,
      "order": null,
      "overflow": null,
      "overflow_x": null,
      "overflow_y": null,
      "padding": null,
      "right": null,
      "top": null,
      "visibility": null,
      "width": null
     }
    },
    "b02fccb0afa047999665079b5248015f": {
     "model_module": "@jupyter-widgets/controls",
     "model_name": "FloatProgressModel",
     "state": {
      "_dom_classes": [],
      "_model_module": "@jupyter-widgets/controls",
      "_model_module_version": "1.5.0",
      "_model_name": "FloatProgressModel",
      "_view_count": null,
      "_view_module": "@jupyter-widgets/controls",
      "_view_module_version": "1.5.0",
      "_view_name": "ProgressView",
      "bar_style": "success",
      "description": "Batches: 100%",
      "description_tooltip": null,
      "layout": "IPY_MODEL_ea4553e744634f56a3128b209cac5330",
      "max": 140,
      "min": 0,
      "orientation": "horizontal",
      "style": "IPY_MODEL_b927e6a6b1c44be1be1f58d582da2f6a",
      "value": 140
     }
    },
    "b927e6a6b1c44be1be1f58d582da2f6a": {
     "model_module": "@jupyter-widgets/controls",
     "model_name": "ProgressStyleModel",
     "state": {
      "_model_module": "@jupyter-widgets/controls",
      "_model_module_version": "1.5.0",
      "_model_name": "ProgressStyleModel",
      "_view_count": null,
      "_view_module": "@jupyter-widgets/base",
      "_view_module_version": "1.2.0",
      "_view_name": "StyleView",
      "bar_color": null,
      "description_width": "initial"
     }
    },
    "be0f028285fa4e8da720237e1b1279bf": {
     "model_module": "@jupyter-widgets/base",
     "model_name": "LayoutModel",
     "state": {
      "_model_module": "@jupyter-widgets/base",
      "_model_module_version": "1.2.0",
      "_model_name": "LayoutModel",
      "_view_count": null,
      "_view_module": "@jupyter-widgets/base",
      "_view_module_version": "1.2.0",
      "_view_name": "LayoutView",
      "align_content": null,
      "align_items": null,
      "align_self": null,
      "border": null,
      "bottom": null,
      "display": null,
      "flex": null,
      "flex_flow": null,
      "grid_area": null,
      "grid_auto_columns": null,
      "grid_auto_flow": null,
      "grid_auto_rows": null,
      "grid_column": null,
      "grid_gap": null,
      "grid_row": null,
      "grid_template_areas": null,
      "grid_template_columns": null,
      "grid_template_rows": null,
      "height": null,
      "justify_content": null,
      "justify_items": null,
      "left": null,
      "margin": null,
      "max_height": null,
      "max_width": null,
      "min_height": null,
      "min_width": null,
      "object_fit": null,
      "object_position": null,
      "order": null,
      "overflow": null,
      "overflow_x": null,
      "overflow_y": null,
      "padding": null,
      "right": null,
      "top": null,
      "visibility": null,
      "width": null
     }
    },
    "ea4553e744634f56a3128b209cac5330": {
     "model_module": "@jupyter-widgets/base",
     "model_name": "LayoutModel",
     "state": {
      "_model_module": "@jupyter-widgets/base",
      "_model_module_version": "1.2.0",
      "_model_name": "LayoutModel",
      "_view_count": null,
      "_view_module": "@jupyter-widgets/base",
      "_view_module_version": "1.2.0",
      "_view_name": "LayoutView",
      "align_content": null,
      "align_items": null,
      "align_self": null,
      "border": null,
      "bottom": null,
      "display": null,
      "flex": null,
      "flex_flow": null,
      "grid_area": null,
      "grid_auto_columns": null,
      "grid_auto_flow": null,
      "grid_auto_rows": null,
      "grid_column": null,
      "grid_gap": null,
      "grid_row": null,
      "grid_template_areas": null,
      "grid_template_columns": null,
      "grid_template_rows": null,
      "height": null,
      "justify_content": null,
      "justify_items": null,
      "left": null,
      "margin": null,
      "max_height": null,
      "max_width": null,
      "min_height": null,
      "min_width": null,
      "object_fit": null,
      "object_position": null,
      "order": null,
      "overflow": null,
      "overflow_x": null,
      "overflow_y": null,
      "padding": null,
      "right": null,
      "top": null,
      "visibility": null,
      "width": null
     }
    }
   }
  }
 },
 "nbformat": 4,
 "nbformat_minor": 4
}

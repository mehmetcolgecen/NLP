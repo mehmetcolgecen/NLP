{
 "cells": [
  {
   "cell_type": "code",
   "execution_count": 1,
   "metadata": {},
   "outputs": [],
   "source": [
    "import time\n",
    "start = time.time()"
   ]
  },
  {
   "cell_type": "code",
   "execution_count": 2,
   "metadata": {},
   "outputs": [],
   "source": [
    "import re\n",
    "import pandas as pd\n",
    "import numpy as np\n",
    "from sklearn.cluster import KMeans\n",
    "import umap\n",
    "import nltk\n",
    "import spacy\n",
    "import string\n",
    "import hdbscan\n",
    "\n",
    "import preprocessor as p\n",
    "\n",
    "import matplotlib.pyplot as plt\n",
    "from matplotlib.axes._axes import _log as matplotlib_axes_logger\n",
    "matplotlib_axes_logger.setLevel('ERROR')\n",
    "import seaborn as sns\n",
    "sns.set(style='white', rc={'figure.figsize':(10,8)})\n",
    "\n",
    "np.random.seed(42)\n",
    "%config Completer.use_jedi = False\n",
    "pd.set_option('display.max_columns', 30)\n",
    "# pd.set_option('display.max_rows', 100)\n",
    "\n",
    "nlp = spacy.load(\"en_core_web_sm\")"
   ]
  },
  {
   "cell_type": "code",
   "execution_count": 3,
   "metadata": {
    "colab": {
     "base_uri": "https://localhost:8080/",
     "height": 621
    },
    "id": "ek3w6OZQsoqv",
    "outputId": "92306d37-cc10-4cb7-c62e-006de9eae451"
   },
   "outputs": [
    {
     "data": {
      "text/html": [
       "<div>\n",
       "<style scoped>\n",
       "    .dataframe tbody tr th:only-of-type {\n",
       "        vertical-align: middle;\n",
       "    }\n",
       "\n",
       "    .dataframe tbody tr th {\n",
       "        vertical-align: top;\n",
       "    }\n",
       "\n",
       "    .dataframe thead th {\n",
       "        text-align: right;\n",
       "    }\n",
       "</style>\n",
       "<table border=\"1\" class=\"dataframe\">\n",
       "  <thead>\n",
       "    <tr style=\"text-align: right;\">\n",
       "      <th></th>\n",
       "      <th>Unnamed: 0</th>\n",
       "      <th>comments</th>\n",
       "    </tr>\n",
       "  </thead>\n",
       "  <tbody>\n",
       "    <tr>\n",
       "      <th>0</th>\n",
       "      <td>0</td>\n",
       "      <td>@octopus_energy I think your wheel is broken 🤣...</td>\n",
       "    </tr>\n",
       "    <tr>\n",
       "      <th>1</th>\n",
       "      <td>1</td>\n",
       "      <td>Our 3 stories of the week...\\n\\nNo 3: Kind cou...</td>\n",
       "    </tr>\n",
       "    <tr>\n",
       "      <th>2</th>\n",
       "      <td>2</td>\n",
       "      <td>@adamtranter Glad I jumped ship ages ago. Hope...</td>\n",
       "    </tr>\n",
       "    <tr>\n",
       "      <th>3</th>\n",
       "      <td>3</td>\n",
       "      <td>@newelland @octopus_energy I get that HRM is u...</td>\n",
       "    </tr>\n",
       "    <tr>\n",
       "      <th>4</th>\n",
       "      <td>4</td>\n",
       "      <td>@newelland @octopus_energy I've also wondered ...</td>\n",
       "    </tr>\n",
       "  </tbody>\n",
       "</table>\n",
       "</div>"
      ],
      "text/plain": [
       "   Unnamed: 0                                           comments\n",
       "0           0  @octopus_energy I think your wheel is broken 🤣...\n",
       "1           1  Our 3 stories of the week...\\n\\nNo 3: Kind cou...\n",
       "2           2  @adamtranter Glad I jumped ship ages ago. Hope...\n",
       "3           3  @newelland @octopus_energy I get that HRM is u...\n",
       "4           4  @newelland @octopus_energy I've also wondered ..."
      ]
     },
     "execution_count": 3,
     "metadata": {},
     "output_type": "execute_result"
    }
   ],
   "source": [
    "df = pd.read_csv('octopus_energy_tweets.csv')\n",
    "df.rename(columns={\"tweet\":\"comments\"},inplace=True)\n",
    "df.head()"
   ]
  },
  {
   "cell_type": "code",
   "execution_count": 4,
   "metadata": {},
   "outputs": [],
   "source": [
    "df.comments.replace(\"\\n\" , \" \", regex=True, inplace = True)\n",
    "df.comments=df.comments.apply(lambda x:p.clean(str(x)))"
   ]
  },
  {
   "cell_type": "code",
   "execution_count": 5,
   "metadata": {},
   "outputs": [],
   "source": [
    "df.replace('nan', np.nan, inplace = True)\n",
    "df.replace('', np.nan, inplace = True)\n",
    "df.replace('do', np.nan, inplace = True)\n",
    "df = df.dropna()\n",
    "df.reset_index(drop=True,inplace=True)"
   ]
  },
  {
   "cell_type": "code",
   "execution_count": 6,
   "metadata": {},
   "outputs": [],
   "source": [
    "list_data = df.comments.unique().tolist()"
   ]
  },
  {
   "cell_type": "code",
   "execution_count": 7,
   "metadata": {},
   "outputs": [],
   "source": [
    "from sentence_transformers import SentenceTransformer"
   ]
  },
  {
   "cell_type": "code",
   "execution_count": 8,
   "metadata": {},
   "outputs": [],
   "source": [
    "# distilbert-base-nli-mean-tokens\n",
    "# paraphrase-distilroberta-base-v1\n",
    "# roberta-large-nli-stsb-mean-tokens\n",
    "#allenai-specter\n"
   ]
  },
  {
   "cell_type": "code",
   "execution_count": 9,
   "metadata": {
    "colab": {
     "base_uri": "https://localhost:8080/",
     "height": 67,
     "referenced_widgets": [
      "6b163e4049ca4cbe8a24e7ac79ced8a5",
      "be0f028285fa4e8da720237e1b1279bf",
      "b02fccb0afa047999665079b5248015f",
      "10748c34bb5448d9a34cd200a3979d56",
      "b927e6a6b1c44be1be1f58d582da2f6a",
      "ea4553e744634f56a3128b209cac5330",
      "39fd5938a4df4de2891cd8393dd7af2f",
      "7e2aa975791049c8a7f588ed76b379c0"
     ]
    },
    "id": "BjwnhvRQtW2S",
    "outputId": "458d7bd4-ba13-4112-85a9-fb050e99008f"
   },
   "outputs": [
    {
     "data": {
      "application/vnd.jupyter.widget-view+json": {
       "model_id": "228a88fbfd864cd2a6e0f71fe4a0f876",
       "version_major": 2,
       "version_minor": 0
      },
      "text/plain": [
       "Batches:   0%|          | 0/16 [00:00<?, ?it/s]"
      ]
     },
     "metadata": {},
     "output_type": "display_data"
    },
    {
     "name": "stdout",
     "output_type": "stream",
     "text": [
      "Wall time: 53.1 s\n"
     ]
    }
   ],
   "source": [
    "%%time\n",
    "model=SentenceTransformer('xlm-r-distilroberta-base-paraphrase-v1')\n",
    "embeddings = model.encode(list_data, show_progress_bar=True)"
   ]
  },
  {
   "cell_type": "code",
   "execution_count": 10,
   "metadata": {
    "id": "g8zUQEqTta2y"
   },
   "outputs": [
    {
     "name": "stdout",
     "output_type": "stream",
     "text": [
      "Wall time: 10.2 s\n"
     ]
    }
   ],
   "source": [
    "%%time\n",
    "best_model = umap.UMAP(n_components=5,min_dist=0.0).fit_transform(embeddings)\n",
    "\n",
    "#n_neighbors=10, min_dist=0.0, "
   ]
  },
  {
   "cell_type": "code",
   "execution_count": 11,
   "metadata": {},
   "outputs": [
    {
     "data": {
      "image/png": "[encoded data removed]",
      "text/plain": [
       "<Figure size 720x576 with 1 Axes>"
      ]
     },
     "metadata": {},
     "output_type": "display_data"
    }
   ],
   "source": [
    "#inertia\n",
    "\n",
    "kmeans_per_k = [KMeans(n_clusters=k, random_state=42).fit(best_model)\n",
    "                for k in range(1, 10)]\n",
    "inertias = [model.inertia_ for model in kmeans_per_k]\n",
    "\n",
    "plt.plot(range(1, 10), inertias, \"bo-\")\n",
    "plt.xlabel(\"$k$\", fontsize=14)\n",
    "plt.ylabel(\"Inertia\", fontsize=14)\n",
    "plt.show()"
   ]
  },
  {
   "cell_type": "code",
   "execution_count": 12,
   "metadata": {},
   "outputs": [],
   "source": [
    "# from nltk.cluster import KMeansClusterer,euclidean_distance\n",
    "# clusterer =KMeansClusterer(6,euclidean_distance)\n",
    "# cluster=np.array(clusterer.cluster(best_model,True))"
   ]
  },
  {
   "cell_type": "code",
   "execution_count": 13,
   "metadata": {},
   "outputs": [],
   "source": [
    "# cluster = KMeans(n_clusters=1, init=\"k-means++\").fit_predict(best_model)"
   ]
  },
  {
   "cell_type": "code",
   "execution_count": 14,
   "metadata": {},
   "outputs": [],
   "source": [
    "cluster = hdbscan.HDBSCAN().fit_predict(best_model)"
   ]
  },
  {
   "cell_type": "code",
   "execution_count": 15,
   "metadata": {
    "colab": {
     "base_uri": "https://localhost:8080/",
     "height": 523
    },
    "id": "bqq2_WsRtbN3",
    "outputId": "8e6703c5-89b1-434e-e8e5-74468bf87f8b"
   },
   "outputs": [],
   "source": [
    "def plot(cluster = cluster):    \n",
    "\n",
    "    clustered = (cluster >= 0)\n",
    "    reduced_dim = umap.UMAP(n_components=2).fit_transform(embeddings)\n",
    "\n",
    "\n",
    "\n",
    "    unique, counts = np.unique(cluster, return_counts=True)\n",
    "    print(dict(zip(unique, counts)))\n",
    "\n",
    "    plt.scatter(reduced_dim[~clustered, 0],\n",
    "                reduced_dim[~clustered, 1],\n",
    "                c=(0.5,0.5,0.5),\n",
    "                # s=1,\n",
    "                alpha=0.5\n",
    "                )\n",
    "    plt.scatter(reduced_dim[clustered, 0],\n",
    "                reduced_dim[clustered, 1],\n",
    "                c=cluster[clustered],\n",
    "                # s=1,\n",
    "                cmap='hsv')\n",
    "    plt.show()"
   ]
  },
  {
   "cell_type": "code",
   "execution_count": 16,
   "metadata": {},
   "outputs": [
    {
     "name": "stdout",
     "output_type": "stream",
     "text": [
      "{-1: 152, 0: 27, 1: 8, 2: 44, 3: 15, 4: 21, 5: 10, 6: 8, 7: 43, 8: 9, 9: 28, 10: 16, 11: 9, 12: 7, 13: 12, 14: 16, 15: 6, 16: 32, 17: 36}\n"
     ]
    },
    {
     "data": {
      "image/png": "[encoded data removed]",
      "text/plain": [
       "<Figure size 720x576 with 1 Axes>"
      ]
     },
     "metadata": {},
     "output_type": "display_data"
    }
   ],
   "source": [
    "plot()"
   ]
  },
  {
   "cell_type": "code",
   "execution_count": 17,
   "metadata": {},
   "outputs": [
    {
     "data": {
      "text/plain": [
       "499"
      ]
     },
     "execution_count": 17,
     "metadata": {},
     "output_type": "execute_result"
    }
   ],
   "source": [
    "len(cluster)"
   ]
  },
  {
   "cell_type": "code",
   "execution_count": 18,
   "metadata": {},
   "outputs": [],
   "source": [
    "def word_root(text):\n",
    "    list_data3=[]\n",
    "    doc = nlp(text)\n",
    "    for token in doc:\n",
    "        if token.text.isalpha() and len(token.text)>2:\n",
    "            lemma = token.lemma_\n",
    "            list_data3.append(lemma)\n",
    "        else:pass\n",
    "    return \" \".join(list_data3)"
   ]
  },
  {
   "cell_type": "code",
   "execution_count": 19,
   "metadata": {
    "scrolled": true
   },
   "outputs": [
    {
     "data": {
      "text/html": [
       "<div>\n",
       "<style scoped>\n",
       "    .dataframe tbody tr th:only-of-type {\n",
       "        vertical-align: middle;\n",
       "    }\n",
       "\n",
       "    .dataframe tbody tr th {\n",
       "        vertical-align: top;\n",
       "    }\n",
       "\n",
       "    .dataframe thead th {\n",
       "        text-align: right;\n",
       "    }\n",
       "</style>\n",
       "<table border=\"1\" class=\"dataframe\">\n",
       "  <thead>\n",
       "    <tr style=\"text-align: right;\">\n",
       "      <th></th>\n",
       "      <th>cluster</th>\n",
       "      <th>comments</th>\n",
       "    </tr>\n",
       "  </thead>\n",
       "  <tbody>\n",
       "    <tr>\n",
       "      <th>0</th>\n",
       "      <td>-1</td>\n",
       "      <td>think your wheel break hit and roll back never...</td>\n",
       "    </tr>\n",
       "    <tr>\n",
       "      <th>1</th>\n",
       "      <td>0</td>\n",
       "      <td>octopus energy help natwest group customer swi...</td>\n",
       "    </tr>\n",
       "    <tr>\n",
       "      <th>2</th>\n",
       "      <td>1</td>\n",
       "      <td>see this meet michael liebreich amp ceo founde...</td>\n",
       "    </tr>\n",
       "    <tr>\n",
       "      <th>3</th>\n",
       "      <td>2</td>\n",
       "      <td>love this know too and encourage load other pe...</td>\n",
       "    </tr>\n",
       "    <tr>\n",
       "      <th>4</th>\n",
       "      <td>3</td>\n",
       "      <td>big one be absolutely brilliant explain everyt...</td>\n",
       "    </tr>\n",
       "    <tr>\n",
       "      <th>5</th>\n",
       "      <td>4</td>\n",
       "      <td>get that hrm use exert control over employee m...</td>\n",
       "    </tr>\n",
       "    <tr>\n",
       "      <th>6</th>\n",
       "      <td>5</td>\n",
       "      <td>get talk octolux inverter specific that proble...</td>\n",
       "    </tr>\n",
       "    <tr>\n",
       "      <th>7</th>\n",
       "      <td>6</td>\n",
       "      <td>think run out but more be order keep eye the t...</td>\n",
       "    </tr>\n",
       "    <tr>\n",
       "      <th>8</th>\n",
       "      <td>7</td>\n",
       "      <td>wonder anyone actually still work day wait for...</td>\n",
       "    </tr>\n",
       "    <tr>\n",
       "      <th>9</th>\n",
       "      <td>8</td>\n",
       "      <td>why difficult switch from you hear from some s...</td>\n",
       "    </tr>\n",
       "    <tr>\n",
       "      <th>10</th>\n",
       "      <td>9</td>\n",
       "      <td>dear you see say give manager training and gui...</td>\n",
       "    </tr>\n",
       "    <tr>\n",
       "      <th>11</th>\n",
       "      <td>10</td>\n",
       "      <td>pretend they have team have seriously make rec...</td>\n",
       "    </tr>\n",
       "    <tr>\n",
       "      <th>12</th>\n",
       "      <td>11</td>\n",
       "      <td>the only unicorn you need worry about be the o...</td>\n",
       "    </tr>\n",
       "    <tr>\n",
       "      <th>13</th>\n",
       "      <td>12</td>\n",
       "      <td>really be the master both time waste and sheer...</td>\n",
       "    </tr>\n",
       "    <tr>\n",
       "      <th>14</th>\n",
       "      <td>13</td>\n",
       "      <td>be with they for while brilliant company with ...</td>\n",
       "    </tr>\n",
       "    <tr>\n",
       "      <th>15</th>\n",
       "      <td>14</td>\n",
       "      <td>bit smart energy expert lol utterly devastate ...</td>\n",
       "    </tr>\n",
       "    <tr>\n",
       "      <th>16</th>\n",
       "      <td>15</td>\n",
       "      <td>mine too move from bulb and even pick the gree...</td>\n",
       "    </tr>\n",
       "    <tr>\n",
       "      <th>17</th>\n",
       "      <td>16</td>\n",
       "      <td>can have timetable for smart meter roll out sm...</td>\n",
       "    </tr>\n",
       "    <tr>\n",
       "      <th>18</th>\n",
       "      <td>17</td>\n",
       "      <td>switch your gas and electric before the price ...</td>\n",
       "    </tr>\n",
       "  </tbody>\n",
       "</table>\n",
       "</div>"
      ],
      "text/plain": [
       "    cluster                                           comments\n",
       "0        -1  think your wheel break hit and roll back never...\n",
       "1         0  octopus energy help natwest group customer swi...\n",
       "2         1  see this meet michael liebreich amp ceo founde...\n",
       "3         2  love this know too and encourage load other pe...\n",
       "4         3  big one be absolutely brilliant explain everyt...\n",
       "5         4  get that hrm use exert control over employee m...\n",
       "6         5  get talk octolux inverter specific that proble...\n",
       "7         6  think run out but more be order keep eye the t...\n",
       "8         7  wonder anyone actually still work day wait for...\n",
       "9         8  why difficult switch from you hear from some s...\n",
       "10        9  dear you see say give manager training and gui...\n",
       "11       10  pretend they have team have seriously make rec...\n",
       "12       11  the only unicorn you need worry about be the o...\n",
       "13       12  really be the master both time waste and sheer...\n",
       "14       13  be with they for while brilliant company with ...\n",
       "15       14  bit smart energy expert lol utterly devastate ...\n",
       "16       15  mine too move from bulb and even pick the gree...\n",
       "17       16  can have timetable for smart meter roll out sm...\n",
       "18       17  switch your gas and electric before the price ..."
      ]
     },
     "execution_count": 19,
     "metadata": {},
     "output_type": "execute_result"
    }
   ],
   "source": [
    "docs = pd.DataFrame(list_data,columns=[\"comments\"])\n",
    "docs[\"cluster\"] = cluster\n",
    "labeled_docs = docs.groupby([\"cluster\"], as_index=False).agg({\"comments\": \" \".join})\n",
    "labeled_docs.comments = labeled_docs.comments.apply(lambda x: word_root(str(x).lower()))  \n",
    "labeled_docs"
   ]
  },
  {
   "cell_type": "code",
   "execution_count": 20,
   "metadata": {
    "scrolled": true
   },
   "outputs": [
    {
     "name": "stdout",
     "output_type": "stream",
     "text": [
      "Top similar pairs:\n",
      "cluster 10 \t cluster 13 \t similarity: 0.6017\n",
      "cluster 5 \t cluster 10 \t similarity: 0.5679\n",
      "cluster 12 \t cluster 13 \t similarity: 0.5595\n",
      "cluster 7 \t cluster 9 \t similarity: 0.5491\n",
      "cluster 11 \t cluster 15 \t similarity: 0.5437\n",
      "cluster 15 \t cluster 18 \t similarity: 0.5273\n",
      "cluster 2 \t cluster 15 \t similarity: 0.5256\n",
      "cluster 3 \t cluster 9 \t similarity: 0.5133\n",
      "cluster 6 \t cluster 12 \t similarity: 0.5101\n",
      "cluster 8 \t cluster 9 \t similarity: 0.4964\n",
      "cluster 5 \t cluster 11 \t similarity: 0.4961\n",
      "cluster 10 \t cluster 12 \t similarity: 0.4912\n",
      "cluster 3 \t cluster 14 \t similarity: 0.4807\n",
      "cluster 6 \t cluster 11 \t similarity: 0.4785\n",
      "cluster 9 \t cluster 15 \t similarity: 0.4776\n",
      "cluster 7 \t cluster 8 \t similarity: 0.4763\n",
      "cluster 8 \t cluster 14 \t similarity: 0.4757\n",
      "cluster 5 \t cluster 13 \t similarity: 0.4742\n",
      "cluster 14 \t cluster 15 \t similarity: 0.4728\n",
      "cluster 10 \t cluster 11 \t similarity: 0.4669\n",
      "cluster 6 \t cluster 15 \t similarity: 0.4663\n",
      "cluster 3 \t cluster 10 \t similarity: 0.4635\n",
      "cluster 1 \t cluster 15 \t similarity: 0.4545\n",
      "cluster 9 \t cluster 12 \t similarity: 0.4530\n",
      "cluster 10 \t cluster 14 \t similarity: 0.4520\n",
      "cluster 9 \t cluster 14 \t similarity: 0.4495\n",
      "cluster 11 \t cluster 13 \t similarity: 0.4493\n",
      "cluster 1 \t cluster 6 \t similarity: 0.4479\n",
      "cluster 6 \t cluster 16 \t similarity: 0.4471\n",
      "cluster 2 \t cluster 6 \t similarity: 0.4471\n",
      "cluster 6 \t cluster 14 \t similarity: 0.4463\n",
      "cluster 3 \t cluster 8 \t similarity: 0.4416\n",
      "cluster 9 \t cluster 11 \t similarity: 0.4399\n",
      "cluster 8 \t cluster 12 \t similarity: 0.4367\n",
      "cluster 7 \t cluster 12 \t similarity: 0.4345\n",
      "cluster 12 \t cluster 14 \t similarity: 0.4345\n",
      "cluster 2 \t cluster 18 \t similarity: 0.4314\n",
      "cluster 11 \t cluster 14 \t similarity: 0.4310\n",
      "cluster 6 \t cluster 13 \t similarity: 0.4264\n",
      "cluster 11 \t cluster 12 \t similarity: 0.4253\n",
      "cluster 16 \t cluster 18 \t similarity: 0.4249\n",
      "cluster 6 \t cluster 9 \t similarity: 0.4247\n",
      "cluster 2 \t cluster 3 \t similarity: 0.4240\n",
      "cluster 4 \t cluster 14 \t similarity: 0.4171\n",
      "cluster 3 \t cluster 15 \t similarity: 0.4168\n",
      "cluster 11 \t cluster 18 \t similarity: 0.4166\n",
      "cluster 17 \t cluster 18 \t similarity: 0.4115\n",
      "cluster 2 \t cluster 14 \t similarity: 0.4048\n",
      "cluster 4 \t cluster 15 \t similarity: 0.4037\n",
      "cluster 2 \t cluster 17 \t similarity: 0.4034\n",
      "cluster 5 \t cluster 12 \t similarity: 0.4006\n",
      "cluster 7 \t cluster 14 \t similarity: 0.3990\n",
      "cluster 3 \t cluster 4 \t similarity: 0.3984\n",
      "cluster 1 \t cluster 16 \t similarity: 0.3924\n",
      "cluster 15 \t cluster 16 \t similarity: 0.3916\n",
      "cluster 1 \t cluster 11 \t similarity: 0.3909\n",
      "cluster 11 \t cluster 16 \t similarity: 0.3908\n",
      "cluster 8 \t cluster 17 \t similarity: 0.3899\n",
      "cluster 8 \t cluster 10 \t similarity: 0.3876\n",
      "cluster 9 \t cluster 18 \t similarity: 0.3842\n",
      "cluster 12 \t cluster 15 \t similarity: 0.3825\n",
      "cluster 1 \t cluster 3 \t similarity: 0.3825\n",
      "cluster 3 \t cluster 6 \t similarity: 0.3816\n",
      "cluster 3 \t cluster 13 \t similarity: 0.3808\n",
      "cluster 5 \t cluster 6 \t similarity: 0.3801\n",
      "cluster 14 \t cluster 18 \t similarity: 0.3798\n",
      "cluster 6 \t cluster 18 \t similarity: 0.3758\n",
      "cluster 1 \t cluster 9 \t similarity: 0.3714\n",
      "cluster 3 \t cluster 11 \t similarity: 0.3688\n",
      "cluster 14 \t cluster 17 \t similarity: 0.3664\n",
      "cluster 9 \t cluster 16 \t similarity: 0.3650\n",
      "cluster 3 \t cluster 12 \t similarity: 0.3648\n",
      "cluster 13 \t cluster 14 \t similarity: 0.3647\n",
      "cluster 3 \t cluster 7 \t similarity: 0.3647\n",
      "cluster 9 \t cluster 10 \t similarity: 0.3631\n",
      "cluster 4 \t cluster 7 \t similarity: 0.3629\n",
      "cluster 7 \t cluster 15 \t similarity: 0.3622\n",
      "cluster 13 \t cluster 15 \t similarity: 0.3600\n",
      "cluster 2 \t cluster 11 \t similarity: 0.3553\n",
      "cluster 2 \t cluster 9 \t similarity: 0.3538\n",
      "cluster 4 \t cluster 6 \t similarity: 0.3531\n",
      "cluster 6 \t cluster 7 \t similarity: 0.3528\n",
      "cluster 1 \t cluster 17 \t similarity: 0.3513\n",
      "cluster 4 \t cluster 9 \t similarity: 0.3495\n",
      "cluster 9 \t cluster 13 \t similarity: 0.3472\n",
      "cluster 3 \t cluster 17 \t similarity: 0.3392\n",
      "cluster 7 \t cluster 11 \t similarity: 0.3337\n",
      "cluster 4 \t cluster 11 \t similarity: 0.3318\n",
      "cluster 15 \t cluster 17 \t similarity: 0.3311\n",
      "cluster 1 \t cluster 14 \t similarity: 0.3308\n",
      "cluster 5 \t cluster 14 \t similarity: 0.3273\n",
      "cluster 5 \t cluster 9 \t similarity: 0.3232\n",
      "cluster 1 \t cluster 18 \t similarity: 0.3211\n",
      "cluster 6 \t cluster 17 \t similarity: 0.3192\n",
      "cluster 4 \t cluster 18 \t similarity: 0.3108\n",
      "cluster 6 \t cluster 10 \t similarity: 0.3105\n",
      "cluster 4 \t cluster 16 \t similarity: 0.3072\n",
      "cluster 12 \t cluster 17 \t similarity: 0.3071\n",
      "cluster 7 \t cluster 10 \t similarity: 0.3067\n",
      "cluster 12 \t cluster 16 \t similarity: 0.3062\n",
      "cluster 4 \t cluster 17 \t similarity: 0.3061\n",
      "cluster 2 \t cluster 4 \t similarity: 0.3044\n",
      "cluster 4 \t cluster 12 \t similarity: 0.3017\n",
      "cluster 1 \t cluster 12 \t similarity: 0.3005\n",
      "cluster 4 \t cluster 10 \t similarity: 0.3001\n",
      "cluster 13 \t cluster 17 \t similarity: 0.2996\n",
      "cluster 9 \t cluster 17 \t similarity: 0.2992\n",
      "cluster 2 \t cluster 16 \t similarity: 0.2961\n",
      "cluster 1 \t cluster 5 \t similarity: 0.2950\n",
      "cluster 10 \t cluster 17 \t similarity: 0.2934\n",
      "cluster 1 \t cluster 4 \t similarity: 0.2916\n",
      "cluster 1 \t cluster 2 \t similarity: 0.2869\n",
      "cluster 4 \t cluster 5 \t similarity: 0.2862\n",
      "cluster 8 \t cluster 13 \t similarity: 0.2860\n",
      "cluster 5 \t cluster 7 \t similarity: 0.2837\n",
      "cluster 6 \t cluster 8 \t similarity: 0.2815\n",
      "cluster 3 \t cluster 18 \t similarity: 0.2815\n",
      "cluster 7 \t cluster 17 \t similarity: 0.2780\n",
      "cluster 14 \t cluster 16 \t similarity: 0.2755\n",
      "cluster 7 \t cluster 16 \t similarity: 0.2752\n",
      "cluster 12 \t cluster 18 \t similarity: 0.2744\n",
      "cluster 7 \t cluster 18 \t similarity: 0.2736\n",
      "cluster 1 \t cluster 13 \t similarity: 0.2696\n",
      "cluster 3 \t cluster 16 \t similarity: 0.2690\n",
      "cluster 2 \t cluster 13 \t similarity: 0.2672\n",
      "cluster 5 \t cluster 16 \t similarity: 0.2667\n",
      "cluster 5 \t cluster 15 \t similarity: 0.2651\n",
      "cluster 11 \t cluster 17 \t similarity: 0.2632\n",
      "cluster 1 \t cluster 7 \t similarity: 0.2627\n",
      "cluster 3 \t cluster 5 \t similarity: 0.2542\n",
      "cluster 2 \t cluster 12 \t similarity: 0.2534\n",
      "cluster 2 \t cluster 8 \t similarity: 0.2528\n",
      "cluster 4 \t cluster 13 \t similarity: 0.2372\n",
      "cluster 8 \t cluster 11 \t similarity: 0.2319\n",
      "cluster 4 \t cluster 8 \t similarity: 0.2304\n",
      "cluster 8 \t cluster 18 \t similarity: 0.2277\n",
      "cluster 16 \t cluster 17 \t similarity: 0.2244\n",
      "cluster 10 \t cluster 15 \t similarity: 0.2235\n",
      "cluster 7 \t cluster 13 \t similarity: 0.2167\n",
      "cluster 2 \t cluster 7 \t similarity: 0.2087\n",
      "cluster 8 \t cluster 15 \t similarity: 0.2060\n",
      "cluster 2 \t cluster 10 \t similarity: 0.2042\n",
      "cluster 2 \t cluster 5 \t similarity: 0.1949\n",
      "cluster 13 \t cluster 16 \t similarity: 0.1939\n",
      "cluster 10 \t cluster 16 \t similarity: 0.1865\n",
      "cluster 8 \t cluster 16 \t similarity: 0.1849\n",
      "cluster 13 \t cluster 18 \t similarity: 0.1789\n",
      "cluster 1 \t cluster 10 \t similarity: 0.1778\n",
      "cluster 1 \t cluster 8 \t similarity: 0.1660\n",
      "cluster 10 \t cluster 18 \t similarity: 0.1406\n",
      "cluster 5 \t cluster 17 \t similarity: 0.1372\n",
      "cluster 5 \t cluster 8 \t similarity: 0.1337\n",
      "cluster 5 \t cluster 18 \t similarity: 0.1192\n",
      "Wall time: 4.31 s\n"
     ]
    }
   ],
   "source": [
    "%%time\n",
    "array_text = labeled_docs.comments.tolist()\n",
    "from sentence_transformers import SentenceTransformer, util\n",
    "\n",
    "sentences = array_text[1:]\n",
    "\n",
    "#Encode all sentences\n",
    "embeddings = model.encode(sentences)\n",
    "\n",
    "#Compute cosine similarity between all pairs\n",
    "cos_sim = util.pytorch_cos_sim(embeddings, embeddings)\n",
    "\n",
    "#Add all pairs to a list with their cosine similarity score\n",
    "all_sentence_combinations = []\n",
    "for i in range(len(cos_sim)-1):\n",
    "    for j in range(i+1, len(cos_sim)):\n",
    "        all_sentence_combinations.append([cos_sim[i][j], i, j])\n",
    "\n",
    "#Sort list by the highest cosine similarity score\n",
    "all_sentence_combinations = sorted(all_sentence_combinations, key=lambda x: x[0], reverse=True)\n",
    "similar = []\n",
    "print(\"Top similar pairs:\")\n",
    "for score, i, j in all_sentence_combinations:\n",
    "    print(\"cluster {} \\t cluster {} \\t similarity: {:.4f}\".format(i+1, j+1, cos_sim[i][j]))\n",
    "    similar.append((score,i+1,j+1))"
   ]
  },
  {
   "cell_type": "code",
   "execution_count": 21,
   "metadata": {},
   "outputs": [
    {
     "name": "stdout",
     "output_type": "stream",
     "text": [
      "Wall time: 56 ms\n"
     ]
    },
    {
     "name": "stderr",
     "output_type": "stream",
     "text": [
      "<timed exec>:9: SettingWithCopyWarning: \n",
      "A value is trying to be set on a copy of a slice from a DataFrame\n",
      "\n",
      "See the caveats in the documentation: https://pandas.pydata.org/pandas-docs/stable/user_guide/indexing.html#returning-a-view-versus-a-copy\n",
      "<timed exec>:10: SettingWithCopyWarning: \n",
      "A value is trying to be set on a copy of a slice from a DataFrame\n",
      "\n",
      "See the caveats in the documentation: https://pandas.pydata.org/pandas-docs/stable/user_guide/indexing.html#returning-a-view-versus-a-copy\n",
      "<timed exec>:7: SettingWithCopyWarning: \n",
      "A value is trying to be set on a copy of a slice from a DataFrame\n",
      "\n",
      "See the caveats in the documentation: https://pandas.pydata.org/pandas-docs/stable/user_guide/indexing.html#returning-a-view-versus-a-copy\n"
     ]
    }
   ],
   "source": [
    "%%time\n",
    "i=0\n",
    "while similar[i][0]>0.40:\n",
    "    one, two = sorted([similar[i][1],similar[i][2]])\n",
    "    if labeled_docs.comments[one] == \"\" and labeled_docs.comments[two] == \"\":\n",
    "        pass\n",
    "    elif labeled_docs.comments[one] == \"\" and labeled_docs.comments[two] != \"\":\n",
    "        labeled_docs.comments[one] = labeled_docs.comments[two]\n",
    "    else:\n",
    "        labeled_docs.comments[one] = labeled_docs.comments[one] +\" \"+labeled_docs.comments[two]\n",
    "    labeled_docs.comments[two]=\"\"\n",
    "    i+=1\n",
    "\n"
   ]
  },
  {
   "cell_type": "code",
   "execution_count": 22,
   "metadata": {},
   "outputs": [
    {
     "data": {
      "text/html": [
       "<div>\n",
       "<style scoped>\n",
       "    .dataframe tbody tr th:only-of-type {\n",
       "        vertical-align: middle;\n",
       "    }\n",
       "\n",
       "    .dataframe tbody tr th {\n",
       "        vertical-align: top;\n",
       "    }\n",
       "\n",
       "    .dataframe thead th {\n",
       "        text-align: right;\n",
       "    }\n",
       "</style>\n",
       "<table border=\"1\" class=\"dataframe\">\n",
       "  <thead>\n",
       "    <tr style=\"text-align: right;\">\n",
       "      <th></th>\n",
       "      <th>cluster</th>\n",
       "      <th>comments</th>\n",
       "    </tr>\n",
       "  </thead>\n",
       "  <tbody>\n",
       "    <tr>\n",
       "      <th>0</th>\n",
       "      <td>-1</td>\n",
       "      <td>think your wheel break hit and roll back never...</td>\n",
       "    </tr>\n",
       "    <tr>\n",
       "      <th>1</th>\n",
       "      <td>0</td>\n",
       "      <td>octopus energy help natwest group customer swi...</td>\n",
       "    </tr>\n",
       "    <tr>\n",
       "      <th>2</th>\n",
       "      <td>1</td>\n",
       "      <td>see this meet michael liebreich amp ceo founde...</td>\n",
       "    </tr>\n",
       "    <tr>\n",
       "      <th>3</th>\n",
       "      <td>3</td>\n",
       "      <td>big one be absolutely brilliant explain everyt...</td>\n",
       "    </tr>\n",
       "    <tr>\n",
       "      <th>4</th>\n",
       "      <td>4</td>\n",
       "      <td>get that hrm use exert control over employee m...</td>\n",
       "    </tr>\n",
       "    <tr>\n",
       "      <th>5</th>\n",
       "      <td>6</td>\n",
       "      <td>think run out but more be order keep eye the t...</td>\n",
       "    </tr>\n",
       "  </tbody>\n",
       "</table>\n",
       "</div>"
      ],
      "text/plain": [
       "   cluster                                           comments\n",
       "0       -1  think your wheel break hit and roll back never...\n",
       "1        0  octopus energy help natwest group customer swi...\n",
       "2        1  see this meet michael liebreich amp ceo founde...\n",
       "3        3  big one be absolutely brilliant explain everyt...\n",
       "4        4  get that hrm use exert control over employee m...\n",
       "5        6  think run out but more be order keep eye the t..."
      ]
     },
     "execution_count": 22,
     "metadata": {},
     "output_type": "execute_result"
    }
   ],
   "source": [
    "labeled_docs.replace('', np.nan, inplace = True)\n",
    "labeled_docs=labeled_docs.dropna()\n",
    "labeled_docs.reset_index(drop=True,inplace=True)\n",
    "labeled_docs"
   ]
  },
  {
   "cell_type": "code",
   "execution_count": 23,
   "metadata": {
    "scrolled": true
   },
   "outputs": [
    {
     "name": "stdout",
     "output_type": "stream",
     "text": [
      "Top similar pairs:\n",
      "cluster 3 \t cluster 5 \t similarity: 0.3629\n",
      "cluster 2 \t cluster 3 \t similarity: 0.3044\n",
      "cluster 1 \t cluster 4 \t similarity: 0.2950\n",
      "cluster 1 \t cluster 3 \t similarity: 0.2916\n",
      "cluster 1 \t cluster 2 \t similarity: 0.2869\n",
      "cluster 3 \t cluster 4 \t similarity: 0.2862\n",
      "cluster 4 \t cluster 5 \t similarity: 0.2837\n",
      "cluster 1 \t cluster 5 \t similarity: 0.2627\n",
      "cluster 2 \t cluster 5 \t similarity: 0.2087\n",
      "cluster 2 \t cluster 4 \t similarity: 0.1949\n",
      "Wall time: 1.25 s\n"
     ]
    }
   ],
   "source": [
    "%%time\n",
    "array_text = labeled_docs.comments.tolist()\n",
    "from sentence_transformers import SentenceTransformer, util\n",
    "\n",
    "sentences = array_text[1:]\n",
    "\n",
    "#Encode all sentences\n",
    "embeddings = model.encode(sentences)\n",
    "\n",
    "#Compute cosine similarity between all pairs\n",
    "cos_sim = util.pytorch_cos_sim(embeddings, embeddings)\n",
    "\n",
    "#Add all pairs to a list with their cosine similarity score\n",
    "all_sentence_combinations = []\n",
    "for i in range(len(cos_sim)-1):\n",
    "    for j in range(i+1, len(cos_sim)):\n",
    "        all_sentence_combinations.append([cos_sim[i][j], i, j])\n",
    "\n",
    "#Sort list by the highest cosine similarity score\n",
    "all_sentence_combinations = sorted(all_sentence_combinations, key=lambda x: x[0], reverse=True)\n",
    "similar = []\n",
    "print(\"Top similar pairs:\")\n",
    "for score, i, j in all_sentence_combinations:\n",
    "    print(\"cluster {} \\t cluster {} \\t similarity: {:.4f}\".format(i+1, j+1, cos_sim[i][j]))\n",
    "    similar.append((score,i+1,j+1))"
   ]
  },
  {
   "cell_type": "code",
   "execution_count": 24,
   "metadata": {},
   "outputs": [
    {
     "name": "stdout",
     "output_type": "stream",
     "text": [
      "Wall time: 0 ns\n"
     ]
    }
   ],
   "source": [
    "%%time\n",
    "i=0\n",
    "while similar[i][0]>0.40:\n",
    "    one, two = sorted([similar[i][1],similar[i][2]])\n",
    "    if labeled_docs.comments[one] == \"\" and labeled_docs.comments[two] == \"\":\n",
    "        pass\n",
    "    elif labeled_docs.comments[one] == \"\" and labeled_docs.comments[two] != \"\":\n",
    "        labeled_docs.comments[one] = labeled_docs.comments[two]\n",
    "    else:\n",
    "        labeled_docs.comments[one] = labeled_docs.comments[one] +\" \"+labeled_docs.comments[two]\n",
    "    labeled_docs.comments[two]=\"\"\n",
    "    i+=1"
   ]
  },
  {
   "cell_type": "code",
   "execution_count": 25,
   "metadata": {},
   "outputs": [
    {
     "name": "stderr",
     "output_type": "stream",
     "text": [
      "c:\\users\\user\\appdata\\local\\programs\\python\\python38\\lib\\site-packages\\pandas\\core\\frame.py:4521: SettingWithCopyWarning: \n",
      "A value is trying to be set on a copy of a slice from a DataFrame\n",
      "\n",
      "See the caveats in the documentation: https://pandas.pydata.org/pandas-docs/stable/user_guide/indexing.html#returning-a-view-versus-a-copy\n",
      "  return super().replace(\n"
     ]
    },
    {
     "data": {
      "text/html": [
       "<div>\n",
       "<style scoped>\n",
       "    .dataframe tbody tr th:only-of-type {\n",
       "        vertical-align: middle;\n",
       "    }\n",
       "\n",
       "    .dataframe tbody tr th {\n",
       "        vertical-align: top;\n",
       "    }\n",
       "\n",
       "    .dataframe thead th {\n",
       "        text-align: right;\n",
       "    }\n",
       "</style>\n",
       "<table border=\"1\" class=\"dataframe\">\n",
       "  <thead>\n",
       "    <tr style=\"text-align: right;\">\n",
       "      <th></th>\n",
       "      <th>cluster</th>\n",
       "      <th>comments</th>\n",
       "    </tr>\n",
       "  </thead>\n",
       "  <tbody>\n",
       "    <tr>\n",
       "      <th>0</th>\n",
       "      <td>-1</td>\n",
       "      <td>think your wheel break hit and roll back never...</td>\n",
       "    </tr>\n",
       "    <tr>\n",
       "      <th>1</th>\n",
       "      <td>0</td>\n",
       "      <td>octopus energy help natwest group customer swi...</td>\n",
       "    </tr>\n",
       "    <tr>\n",
       "      <th>2</th>\n",
       "      <td>1</td>\n",
       "      <td>see this meet michael liebreich amp ceo founde...</td>\n",
       "    </tr>\n",
       "    <tr>\n",
       "      <th>3</th>\n",
       "      <td>3</td>\n",
       "      <td>big one be absolutely brilliant explain everyt...</td>\n",
       "    </tr>\n",
       "    <tr>\n",
       "      <th>4</th>\n",
       "      <td>4</td>\n",
       "      <td>get that hrm use exert control over employee m...</td>\n",
       "    </tr>\n",
       "    <tr>\n",
       "      <th>5</th>\n",
       "      <td>6</td>\n",
       "      <td>think run out but more be order keep eye the t...</td>\n",
       "    </tr>\n",
       "  </tbody>\n",
       "</table>\n",
       "</div>"
      ],
      "text/plain": [
       "   cluster                                           comments\n",
       "0       -1  think your wheel break hit and roll back never...\n",
       "1        0  octopus energy help natwest group customer swi...\n",
       "2        1  see this meet michael liebreich amp ceo founde...\n",
       "3        3  big one be absolutely brilliant explain everyt...\n",
       "4        4  get that hrm use exert control over employee m...\n",
       "5        6  think run out but more be order keep eye the t..."
      ]
     },
     "execution_count": 25,
     "metadata": {},
     "output_type": "execute_result"
    }
   ],
   "source": [
    "labeled_docs.replace('', np.nan, inplace = True)\n",
    "labeled_docs=labeled_docs.dropna()\n",
    "labeled_docs.reset_index(drop=True,inplace=True)\n",
    "labeled_docs"
   ]
  },
  {
   "cell_type": "code",
   "execution_count": 26,
   "metadata": {},
   "outputs": [
    {
     "data": {
      "text/html": [
       "<div>\n",
       "<style scoped>\n",
       "    .dataframe tbody tr th:only-of-type {\n",
       "        vertical-align: middle;\n",
       "    }\n",
       "\n",
       "    .dataframe tbody tr th {\n",
       "        vertical-align: top;\n",
       "    }\n",
       "\n",
       "    .dataframe thead th {\n",
       "        text-align: right;\n",
       "    }\n",
       "</style>\n",
       "<table border=\"1\" class=\"dataframe\">\n",
       "  <thead>\n",
       "    <tr style=\"text-align: right;\">\n",
       "      <th></th>\n",
       "      <th>cluster</th>\n",
       "      <th>comments</th>\n",
       "    </tr>\n",
       "  </thead>\n",
       "  <tbody>\n",
       "    <tr>\n",
       "      <th>0</th>\n",
       "      <td>-1</td>\n",
       "      <td>think your wheel break hit and roll back never...</td>\n",
       "    </tr>\n",
       "    <tr>\n",
       "      <th>1</th>\n",
       "      <td>0</td>\n",
       "      <td>octopus energy help natwest group customer swi...</td>\n",
       "    </tr>\n",
       "    <tr>\n",
       "      <th>2</th>\n",
       "      <td>1</td>\n",
       "      <td>see this meet michael liebreich amp ceo founde...</td>\n",
       "    </tr>\n",
       "    <tr>\n",
       "      <th>3</th>\n",
       "      <td>3</td>\n",
       "      <td>big one be absolutely brilliant explain everyt...</td>\n",
       "    </tr>\n",
       "    <tr>\n",
       "      <th>4</th>\n",
       "      <td>4</td>\n",
       "      <td>get that hrm use exert control over employee m...</td>\n",
       "    </tr>\n",
       "    <tr>\n",
       "      <th>5</th>\n",
       "      <td>6</td>\n",
       "      <td>think run out but more be order keep eye the t...</td>\n",
       "    </tr>\n",
       "  </tbody>\n",
       "</table>\n",
       "</div>"
      ],
      "text/plain": [
       "   cluster                                           comments\n",
       "0       -1  think your wheel break hit and roll back never...\n",
       "1        0  octopus energy help natwest group customer swi...\n",
       "2        1  see this meet michael liebreich amp ceo founde...\n",
       "3        3  big one be absolutely brilliant explain everyt...\n",
       "4        4  get that hrm use exert control over employee m...\n",
       "5        6  think run out but more be order keep eye the t..."
      ]
     },
     "execution_count": 26,
     "metadata": {},
     "output_type": "execute_result"
    }
   ],
   "source": [
    "labeled_docs"
   ]
  },
  {
   "cell_type": "code",
   "execution_count": null,
   "metadata": {},
   "outputs": [],
   "source": []
  },
  {
   "cell_type": "code",
   "execution_count": 27,
   "metadata": {
    "scrolled": true
   },
   "outputs": [
    {
     "name": "stdout",
     "output_type": "stream",
     "text": [
      "\u001b[1m   Bigram Cluster 1: \u001b[0m\n",
      "[('octopus toy', 0.5114), ('switch octopus', 0.5021), ('love octopus', 0.4762), ('octopus app', 0.4743), ('toy octopus', 0.4738), ('octopus octopi', 0.4728), ('energy octopus', 0.4698), ('octopus energy', 0.4663), ('merge octopus', 0.4598), ('sign octopus', 0.4576)]\n",
      "\u001b[1m   Bigram Cluster 2: \u001b[0m\n",
      "[('podcast listen', 0.5998), ('excellent podcast', 0.4974), ('podcast highly', 0.471), ('podcast interesting', 0.4658), ('good podcast', 0.4576), ('watching listen', 0.4554), ('recommend listen', 0.4548), ('podcast walk', 0.4336), ('world listen', 0.4235), ('amp keynote', 0.4196)]\n",
      "\u001b[1m   Bigram Cluster 3: \u001b[0m\n",
      "[('look big', 0.4274), ('play big', 0.3797), ('buyer clueless', 0.3738), ('lie sound', 0.3559), ('sound quite', 0.3514), ('hear quite', 0.337), ('big know', 0.3291), ('differ gorgeous', 0.3285), ('big absolutely', 0.3266), ('know look', 0.3195)]\n",
      "\u001b[1m   Bigram Cluster 4: \u001b[0m\n",
      "[('adopt corporate', 0.5673), ('approach organizational', 0.4882), ('organizational design', 0.4426), ('company department', 0.4373), ('department company', 0.436), ('department create', 0.4345), ('create department', 0.4318), ('company switch', 0.4302), ('control employee', 0.4284), ('company work', 0.4113)]\n",
      "\u001b[1m   Bigram Cluster 5: \u001b[0m\n",
      "[('switch try', 0.4508), ('delete wait', 0.4077), ('account twice', 0.3982), ('account old', 0.3881), ('try email', 0.3857), ('send account', 0.3815), ('account look', 0.3725), ('account reactivate', 0.3716), ('log account', 0.3619), ('reply try', 0.3544)]\n",
      "Wall time: 37.4 s\n"
     ]
    }
   ],
   "source": [
    "%%time\n",
    "from keybert import KeyBERT\n",
    "array_text = labeled_docs.comments.tolist()\n",
    "kw_extractor = KeyBERT(model=model)\n",
    "bigram=[]\n",
    "for j in range(len(array_text)-1):\n",
    "    keywords = kw_extractor.extract_keywords(array_text[j+1],top_n=10,keyphrase_ngram_range=(2, 2))\n",
    "    print(f'\\033[1m   Bigram Cluster {j+1}: \\033[0m' )\n",
    "    print([word for word in keywords])\n",
    "    bigram.append([word[0] for word in keywords])"
   ]
  },
  {
   "cell_type": "code",
   "execution_count": 28,
   "metadata": {},
   "outputs": [
    {
     "name": "stdout",
     "output_type": "stream",
     "text": [
      "\u001b[1m   Unigram Cluster 1: \u001b[0m\n",
      "[('octopod', 0.4712), ('octopus', 0.4617), ('octopi', 0.4569), ('octopusenergy', 0.4465), ('octolux', 0.403), ('octoshine', 0.4026), ('octopusesese', 0.3964), ('infosec', 0.3877), ('adopt', 0.3848), ('support', 0.3772)]\n",
      "\u001b[1m   Unigram Cluster 2: \u001b[0m\n",
      "[('podcast', 0.4221), ('listen', 0.3679), ('electrical', 0.3258), ('electrification', 0.3152), ('electricity', 0.2954), ('electric', 0.293), ('watch', 0.2922), ('preach', 0.2834), ('conference', 0.2723), ('mph', 0.2701)]\n",
      "\u001b[1m   Unigram Cluster 3: \u001b[0m\n",
      "[('cheer', 0.3532), ('buyer', 0.315), ('big', 0.3057), ('beg', 0.2764), ('brilliant', 0.2748), ('dreamer', 0.272), ('gorgeous', 0.2586), ('look', 0.2555), ('sound', 0.2545), ('hear', 0.2486)]\n",
      "\u001b[1m   Unigram Cluster 4: \u001b[0m\n",
      "[('organizational', 0.4025), ('corporate', 0.3983), ('organisation', 0.3393), ('control', 0.3217), ('employ', 0.3056), ('management', 0.3035), ('company', 0.2998), ('devote', 0.2925), ('department', 0.2924), ('employee', 0.2872)]\n",
      "\u001b[1m   Unigram Cluster 5: \u001b[0m\n",
      "[('delete', 0.3228), ('try', 0.3105), ('switch', 0.3017), ('register', 0.3004), ('account', 0.2996), ('check', 0.2936), ('reset', 0.2708), ('chase', 0.2704), ('watch', 0.2654), ('transfer', 0.2646)]\n",
      "Wall time: 15.9 s\n"
     ]
    }
   ],
   "source": [
    "%%time\n",
    "unigram=[]\n",
    "for j in range(len(array_text)-1):\n",
    "    keywords = kw_extractor.extract_keywords(array_text[j+1],top_n=10,keyphrase_ngram_range=(1, 1))\n",
    "    print(f'\\033[1m   Unigram Cluster {j+1}: \\033[0m' )\n",
    "    print([word for word in keywords])\n",
    "    unigram.append([word[0] for word in keywords])"
   ]
  },
  {
   "cell_type": "code",
   "execution_count": 29,
   "metadata": {},
   "outputs": [
    {
     "name": "stdout",
     "output_type": "stream",
     "text": [
      "\u001b[1m   Cluster 1: \u001b[0m\n",
      "['octopod', 'octopus', 'octopi', 'octopusenergy', 'octolux', 'octoshine', 'octopusesese', 'infosec', 'adopt', 'support', 'octopus toy', 'switch octopus', 'love octopus', 'octopus app', 'octopus octopi', 'energy octopus', 'merge octopus', 'sign octopus']\n",
      "\u001b[1m   Cluster 2: \u001b[0m\n",
      "['podcast', 'listen', 'electrical', 'electrification', 'electricity', 'electric', 'watch', 'preach', 'conference', 'mph', 'podcast listen', 'excellent podcast', 'podcast highly', 'podcast interesting', 'good podcast', 'watching listen', 'recommend listen', 'podcast walk', 'world listen', 'amp keynote']\n",
      "\u001b[1m   Cluster 3: \u001b[0m\n",
      "['cheer', 'buyer', 'big', 'beg', 'brilliant', 'dreamer', 'gorgeous', 'look', 'sound', 'hear', 'look big', 'play big', 'buyer clueless', 'lie sound', 'sound quite', 'hear quite', 'big know', 'differ gorgeous', 'big absolutely']\n",
      "\u001b[1m   Cluster 4: \u001b[0m\n",
      "['organizational', 'corporate', 'organisation', 'control', 'employ', 'management', 'company', 'devote', 'department', 'employee', 'adopt corporate', 'approach organizational', 'organizational design', 'company department', 'department create', 'company switch', 'control employee', 'company work']\n",
      "\u001b[1m   Cluster 5: \u001b[0m\n",
      "['delete', 'try', 'switch', 'register', 'account', 'check', 'reset', 'chase', 'watch', 'transfer', 'switch try', 'delete wait', 'account twice', 'account old', 'try email', 'send account', 'account look', 'account reactivate', 'log account', 'reply try']\n"
     ]
    }
   ],
   "source": [
    "for i in range(len(array_text)-1):\n",
    "    clusterer=[]\n",
    "    bigramer=[]\n",
    "    print(f'\\033[1m   Cluster {i+1}: \\033[0m')\n",
    "    [clusterer.append(j) for j in unigram[i]]\n",
    "    clusterer.append(bigram[i][0])\n",
    "    \n",
    "    for word in bigram[i][0].split(\" \"):\n",
    "        if word not in bigramer:\n",
    "            bigramer.append(word)\n",
    "    \n",
    "    for each in bigram[i]:\n",
    "        first,second=each.split(\" \")\n",
    "        if first != second and not(first in bigramer and second in bigramer):\n",
    "            clusterer.append(each)\n",
    "            if bigramer.append(first): first not in bigramer\n",
    "            if bigramer.append(second): second not in bigramer\n",
    "    print(clusterer)"
   ]
  },
  {
   "cell_type": "code",
   "execution_count": 30,
   "metadata": {},
   "outputs": [
    {
     "name": "stdout",
     "output_type": "stream",
     "text": [
      "151.61188888549805\n"
     ]
    }
   ],
   "source": [
    "end = time.time()\n",
    "print(end - start)"
   ]
  }
 ],
 "metadata": {
  "colab": {
   "name": "Untitled5.ipynb",
   "provenance": []
  },
  "kernelspec": {
   "display_name": "Python 3",
   "language": "python",
   "name": "python3"
  },
  "language_info": {
   "codemirror_mode": {
    "name": "ipython",
    "version": 3
   },
   "file_extension": ".py",
   "mimetype": "text/x-python",
   "name": "python",
   "nbconvert_exporter": "python",
   "pygments_lexer": "ipython3",
   "version": "3.8.7"
  },
  "varInspector": {
   "cols": {
    "lenName": 16,
    "lenType": 16,
    "lenVar": 40
   },
   "kernels_config": {
    "python": {
     "delete_cmd_postfix": "",
     "delete_cmd_prefix": "del ",
     "library": "var_list.py",
     "varRefreshCmd": "print(var_dic_list())"
    },
    "r": {
     "delete_cmd_postfix": ") ",
     "delete_cmd_prefix": "rm(",
     "library": "var_list.r",
     "varRefreshCmd": "cat(var_dic_list()) "
    }
   },
   "types_to_exclude": [
    "module",
    "function",
    "builtin_function_or_method",
    "instance",
    "_Feature"
   ],
   "window_display": false
  },
  "widgets": {
   "application/vnd.jupyter.widget-state+json": {
    "10748c34bb5448d9a34cd200a3979d56": {
     "model_module": "@jupyter-widgets/controls",
     "model_name": "HTMLModel",
     "state": {
      "_dom_classes": [],
      "_model_module": "@jupyter-widgets/controls",
      "_model_module_version": "1.5.0",
      "_model_name": "HTMLModel",
      "_view_count": null,
      "_view_module": "@jupyter-widgets/controls",
      "_view_module_version": "1.5.0",
      "_view_name": "HTMLView",
      "description": "",
      "description_tooltip": null,
      "layout": "IPY_MODEL_7e2aa975791049c8a7f588ed76b379c0",
      "placeholder": "​",
      "style": "IPY_MODEL_39fd5938a4df4de2891cd8393dd7af2f",
      "value": " 140/140 [01:59&lt;00:00,  1.17it/s]"
     }
    },
    "39fd5938a4df4de2891cd8393dd7af2f": {
     "model_module": "@jupyter-widgets/controls",
     "model_name": "DescriptionStyleModel",
     "state": {
      "_model_module": "@jupyter-widgets/controls",
      "_model_module_version": "1.5.0",
      "_model_name": "DescriptionStyleModel",
      "_view_count": null,
      "_view_module": "@jupyter-widgets/base",
      "_view_module_version": "1.2.0",
      "_view_name": "StyleView",
      "description_width": ""
     }
    },
    "6b163e4049ca4cbe8a24e7ac79ced8a5": {
     "model_module": "@jupyter-widgets/controls",
     "model_name": "HBoxModel",
     "state": {
      "_dom_classes": [],
      "_model_module": "@jupyter-widgets/controls",
      "_model_module_version": "1.5.0",
      "_model_name": "HBoxModel",
      "_view_count": null,
      "_view_module": "@jupyter-widgets/controls",
      "_view_module_version": "1.5.0",
      "_view_name": "HBoxView",
      "box_style": "",
      "children": [
       "IPY_MODEL_b02fccb0afa047999665079b5248015f",
       "IPY_MODEL_10748c34bb5448d9a34cd200a3979d56"
      ],
      "layout": "IPY_MODEL_be0f028285fa4e8da720237e1b1279bf"
     }
    },
    "7e2aa975791049c8a7f588ed76b379c0": {
     "model_module": "@jupyter-widgets/base",
     "model_name": "LayoutModel",
     "state": {
      "_model_module": "@jupyter-widgets/base",
      "_model_module_version": "1.2.0",
      "_model_name": "LayoutModel",
      "_view_count": null,
      "_view_module": "@jupyter-widgets/base",
      "_view_module_version": "1.2.0",
      "_view_name": "LayoutView",
      "align_content": null,
      "align_items": null,
      "align_self": null,
      "border": null,
      "bottom": null,
      "display": null,
      "flex": null,
      "flex_flow": null,
      "grid_area": null,
      "grid_auto_columns": null,
      "grid_auto_flow": null,
      "grid_auto_rows": null,
      "grid_column": null,
      "grid_gap": null,
      "grid_row": null,
      "grid_template_areas": null,
      "grid_template_columns": null,
      "grid_template_rows": null,
      "height": null,
      "justify_content": null,
      "justify_items": null,
      "left": null,
      "margin": null,
      "max_height": null,
      "max_width": null,
      "min_height": null,
      "min_width": null,
      "object_fit": null,
      "object_position": null,
      "order": null,
      "overflow": null,
      "overflow_x": null,
      "overflow_y": null,
      "padding": null,
      "right": null,
      "top": null,
      "visibility": null,
      "width": null
     }
    },
    "b02fccb0afa047999665079b5248015f": {
     "model_module": "@jupyter-widgets/controls",
     "model_name": "FloatProgressModel",
     "state": {
      "_dom_classes": [],
      "_model_module": "@jupyter-widgets/controls",
      "_model_module_version": "1.5.0",
      "_model_name": "FloatProgressModel",
      "_view_count": null,
      "_view_module": "@jupyter-widgets/controls",
      "_view_module_version": "1.5.0",
      "_view_name": "ProgressView",
      "bar_style": "success",
      "description": "Batches: 100%",
      "description_tooltip": null,
      "layout": "IPY_MODEL_ea4553e744634f56a3128b209cac5330",
      "max": 140,
      "min": 0,
      "orientation": "horizontal",
      "style": "IPY_MODEL_b927e6a6b1c44be1be1f58d582da2f6a",
      "value": 140
     }
    },
    "b927e6a6b1c44be1be1f58d582da2f6a": {
     "model_module": "@jupyter-widgets/controls",
     "model_name": "ProgressStyleModel",
     "state": {
      "_model_module": "@jupyter-widgets/controls",
      "_model_module_version": "1.5.0",
      "_model_name": "ProgressStyleModel",
      "_view_count": null,
      "_view_module": "@jupyter-widgets/base",
      "_view_module_version": "1.2.0",
      "_view_name": "StyleView",
      "bar_color": null,
      "description_width": "initial"
     }
    },
    "be0f028285fa4e8da720237e1b1279bf": {
     "model_module": "@jupyter-widgets/base",
     "model_name": "LayoutModel",
     "state": {
      "_model_module": "@jupyter-widgets/base",
      "_model_module_version": "1.2.0",
      "_model_name": "LayoutModel",
      "_view_count": null,
      "_view_module": "@jupyter-widgets/base",
      "_view_module_version": "1.2.0",
      "_view_name": "LayoutView",
      "align_content": null,
      "align_items": null,
      "align_self": null,
      "border": null,
      "bottom": null,
      "display": null,
      "flex": null,
      "flex_flow": null,
      "grid_area": null,
      "grid_auto_columns": null,
      "grid_auto_flow": null,
      "grid_auto_rows": null,
      "grid_column": null,
      "grid_gap": null,
      "grid_row": null,
      "grid_template_areas": null,
      "grid_template_columns": null,
      "grid_template_rows": null,
      "height": null,
      "justify_content": null,
      "justify_items": null,
      "left": null,
      "margin": null,
      "max_height": null,
      "max_width": null,
      "min_height": null,
      "min_width": null,
      "object_fit": null,
      "object_position": null,
      "order": null,
      "overflow": null,
      "overflow_x": null,
      "overflow_y": null,
      "padding": null,
      "right": null,
      "top": null,
      "visibility": null,
      "width": null
     }
    },
    "ea4553e744634f56a3128b209cac5330": {
     "model_module": "@jupyter-widgets/base",
     "model_name": "LayoutModel",
     "state": {
      "_model_module": "@jupyter-widgets/base",
      "_model_module_version": "1.2.0",
      "_model_name": "LayoutModel",
      "_view_count": null,
      "_view_module": "@jupyter-widgets/base",
      "_view_module_version": "1.2.0",
      "_view_name": "LayoutView",
      "align_content": null,
      "align_items": null,
      "align_self": null,
      "border": null,
      "bottom": null,
      "display": null,
      "flex": null,
      "flex_flow": null,
      "grid_area": null,
      "grid_auto_columns": null,
      "grid_auto_flow": null,
      "grid_auto_rows": null,
      "grid_column": null,
      "grid_gap": null,
      "grid_row": null,
      "grid_template_areas": null,
      "grid_template_columns": null,
      "grid_template_rows": null,
      "height": null,
      "justify_content": null,
      "justify_items": null,
      "left": null,
      "margin": null,
      "max_height": null,
      "max_width": null,
      "min_height": null,
      "min_width": null,
      "object_fit": null,
      "object_position": null,
      "order": null,
      "overflow": null,
      "overflow_x": null,
      "overflow_y": null,
      "padding": null,
      "right": null,
      "top": null,
      "visibility": null,
      "width": null
     }
    }
   }
  }
 },
 "nbformat": 4,
 "nbformat_minor": 4
}

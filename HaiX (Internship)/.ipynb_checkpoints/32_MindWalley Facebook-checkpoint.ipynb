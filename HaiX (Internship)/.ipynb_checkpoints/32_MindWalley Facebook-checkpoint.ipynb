{
 "cells": [
  {
   "cell_type": "code",
   "execution_count": null,
   "metadata": {},
   "outputs": [],
   "source": [
    "import re\n",
    "import pandas as pd\n",
    "import numpy as np\n",
    "from sklearn.cluster import KMeans\n",
    "import umap\n",
    "import nltk;\n",
    "import spacy\n",
    "import string\n",
    "\n",
    "import matplotlib.pyplot as plt\n",
    "from matplotlib.axes._axes import _log as matplotlib_axes_logger\n",
    "matplotlib_axes_logger.setLevel('ERROR')\n",
    "import seaborn as sns\n",
    "sns.set(style='white', rc={'figure.figsize':(10,8)})\n",
    "\n",
    "np.random.seed(42)\n",
    "%config Completer.use_jedi = False\n",
    "pd.set_option('display.max_columns', 30)\n",
    "# pd.set_option('display.max_rows', 100)\n",
    "\n",
    "nlp = spacy.load(\"en_core_web_sm\")"
   ]
  },
  {
   "cell_type": "code",
   "execution_count": null,
   "metadata": {
    "colab": {
     "base_uri": "https://localhost:8080/",
     "height": 621
    },
    "id": "ek3w6OZQsoqv",
    "outputId": "92306d37-cc10-4cb7-c62e-006de9eae451"
   },
   "outputs": [],
   "source": [
    "df = pd.read_csv('mindvalley_fb_comments.csv')\n",
    "df.rename(columns={\"comment\":\"comments\"},inplace=True)\n",
    "df.head()"
   ]
  },
  {
   "cell_type": "code",
   "execution_count": null,
   "metadata": {},
   "outputs": [],
   "source": [
    "df.comments[286]"
   ]
  },
  {
   "cell_type": "code",
   "execution_count": null,
   "metadata": {},
   "outputs": [],
   "source": [
    "df.comments.replace(\"\\S*@\\S*\" , \"\", regex=True, inplace = True)\n",
    "df.comments.replace(\"\\S*#\\S*\" , \"\", regex=True, inplace = True)\n",
    "df.comments.replace(\"\\S*http\\S*\" , \"\", regex=True, inplace = True)\n",
    "df.comments.replace(\"_\" , \" \", regex=True, inplace = True)\n",
    "df.comments.replace(\"^\" , \" \", regex=True, inplace = True)\n",
    "df.comments.replace(\"\\n\" , \" \", regex=True, inplace = True)"
   ]
  },
  {
   "cell_type": "code",
   "execution_count": null,
   "metadata": {},
   "outputs": [],
   "source": [
    "df.comments[286]"
   ]
  },
  {
   "cell_type": "code",
   "execution_count": null,
   "metadata": {},
   "outputs": [],
   "source": [
    "for i in string.punctuation:\n",
    "    try:\n",
    "        df.comments.replace(f\"\\{i}\" , \"\", regex=True, inplace = True)\n",
    "    except: pass"
   ]
  },
  {
   "cell_type": "code",
   "execution_count": null,
   "metadata": {},
   "outputs": [],
   "source": [
    "df.comments[286]"
   ]
  },
  {
   "cell_type": "code",
   "execution_count": null,
   "metadata": {},
   "outputs": [],
   "source": [
    "junk_words = \"ve xx tqvm yessssssssssit youuuuuu nan nt citi kashif a very were yet than through via here rishisunak more much getting go going ive dont able when which who year barclays hsbcin amp like an no any since after banking im there out how starlingbank starling one only again over other then am may some do cant about banks would could its even their after has them get got within now all just if what or at had hsbcukbusiness up by into will an was our us so been hsbcuk co om ke ha gone your we can from as but to the hsbc and of you for are have they is my hsbc_uk with it in on this ðÿ be not bank me that\"\n",
    "junk_words_list = junk_words.split(\" \")"
   ]
  },
  {
   "cell_type": "code",
   "execution_count": null,
   "metadata": {},
   "outputs": [],
   "source": [
    "def remove_unicode(text):\n",
    "\n",
    "    try:\n",
    "        text = text.encode(\"latin_1\").decode(\"raw_unicode_escape\").encode('utf-16', 'surrogatepass').decode('utf-16')\n",
    "    except:\n",
    "        text = text\n",
    "\n",
    "    emoji_pattern = re.compile(\"[\"\n",
    "        u\"\\U0001F600-\\U0001F64F\"  # emoticons\n",
    "        u\"\\U0001F300-\\U0001F5FF\"  # symbols & pictographs\n",
    "        u\"\\U0001F680-\\U0001F6FF\"  # transport & map symbols\n",
    "        u\"\\U0001F1E0-\\U0001F1FF\"  # flags (iOS)\n",
    "        u\"\\U00002500-\\U00002BEF\"  # chinese char\n",
    "        u\"\\U00002702-\\U000027B0\"\n",
    "        u\"\\U00002702-\\U000027B0\"\n",
    "        u\"\\U000024C2-\\U0001F251\"\n",
    "        u\"\\U0001f926-\\U0001f937\"\n",
    "        u\"\\U00010000-\\U0010ffff\"\n",
    "        u\"\\u2640-\\u2642\" \n",
    "        u\"\\u2600-\\u2B55\"\n",
    "        u\"\\u200d\"\n",
    "        u\"\\u23cf\"\n",
    "        u\"\\u23e9\"\n",
    "        u\"\\u231a\"\n",
    "        u\"\\ufe0f\"  # dingbats\n",
    "        u\"\\u3030\"\n",
    "        \"]+\", re.UNICODE)\n",
    "\n",
    "    text = re.sub(emoji_pattern, '', str(text))\n",
    "    text = ''.join(text.split('\\\\n')) # to remove uncompiled \\n\n",
    "    text = re.sub('\\n', '', text)     # to remove compiled \\n\n",
    "\n",
    "    return text"
   ]
  },
  {
   "cell_type": "code",
   "execution_count": null,
   "metadata": {},
   "outputs": [],
   "source": [
    "def word_root(text):\n",
    "    list_data3=[]\n",
    "    text = remove_unicode(text)\n",
    "    doc = nlp(text)\n",
    "    for token in doc:\n",
    "        if token.text.isalpha():\n",
    "            lemma = token.lemma_\n",
    "            list_data3.append(lemma)\n",
    "        else:pass\n",
    "    return \" \".join(list_data3)\n",
    "df.comments = df.comments.apply(lambda x: word_root(str(x).lower()))  "
   ]
  },
  {
   "cell_type": "code",
   "execution_count": null,
   "metadata": {},
   "outputs": [],
   "source": [
    "df.comments.value_counts()"
   ]
  },
  {
   "cell_type": "code",
   "execution_count": null,
   "metadata": {},
   "outputs": [],
   "source": [
    "df.replace('nan', np.nan, inplace = True)\n",
    "df.replace('', np.nan, inplace = True)\n",
    "df.replace('do', np.nan, inplace = True)\n",
    "df = df.dropna()"
   ]
  },
  {
   "cell_type": "code",
   "execution_count": null,
   "metadata": {},
   "outputs": [],
   "source": [
    "df.comments.value_counts()"
   ]
  },
  {
   "cell_type": "code",
   "execution_count": null,
   "metadata": {},
   "outputs": [],
   "source": [
    "list_data = df.comments.unique().tolist()"
   ]
  },
  {
   "cell_type": "code",
   "execution_count": null,
   "metadata": {},
   "outputs": [],
   "source": [
    "len(list_data)"
   ]
  },
  {
   "cell_type": "code",
   "execution_count": null,
   "metadata": {},
   "outputs": [],
   "source": [
    "from sentence_transformers import SentenceTransformer"
   ]
  },
  {
   "cell_type": "code",
   "execution_count": null,
   "metadata": {},
   "outputs": [],
   "source": [
    "# distilbert-base-nli-mean-tokens\n",
    "# paraphrase-distilroberta-base-v1\n",
    "# roberta-large-nli-stsb-mean-tokens\n",
    "#allenai-specter\n"
   ]
  },
  {
   "cell_type": "code",
   "execution_count": null,
   "metadata": {
    "colab": {
     "base_uri": "https://localhost:8080/",
     "height": 67,
     "referenced_widgets": [
      "6b163e4049ca4cbe8a24e7ac79ced8a5",
      "be0f028285fa4e8da720237e1b1279bf",
      "b02fccb0afa047999665079b5248015f",
      "10748c34bb5448d9a34cd200a3979d56",
      "b927e6a6b1c44be1be1f58d582da2f6a",
      "ea4553e744634f56a3128b209cac5330",
      "39fd5938a4df4de2891cd8393dd7af2f",
      "7e2aa975791049c8a7f588ed76b379c0"
     ]
    },
    "id": "BjwnhvRQtW2S",
    "outputId": "458d7bd4-ba13-4112-85a9-fb050e99008f"
   },
   "outputs": [],
   "source": [
    "model=SentenceTransformer('xlm-r-distilroberta-base-paraphrase-v1')\n",
    "embeddings = model.encode(list_data, show_progress_bar=True)"
   ]
  },
  {
   "cell_type": "code",
   "execution_count": null,
   "metadata": {
    "id": "g8zUQEqTta2y"
   },
   "outputs": [],
   "source": [
    "best_model = umap.UMAP(n_components=5).fit_transform(embeddings)\n",
    "\n",
    "#n_neighbors=10, min_dist=0.0, "
   ]
  },
  {
   "cell_type": "code",
   "execution_count": null,
   "metadata": {},
   "outputs": [],
   "source": [
    "#inertia\n",
    "\n",
    "kmeans_per_k = [KMeans(n_clusters=k, random_state=42).fit(best_model)\n",
    "                for k in range(1, 10)]\n",
    "inertias = [model.inertia_ for model in kmeans_per_k]\n",
    "\n",
    "plt.plot(range(1, 10), inertias, \"bo-\")\n",
    "plt.xlabel(\"$k$\", fontsize=14)\n",
    "plt.ylabel(\"Inertia\", fontsize=14)\n",
    "plt.show()"
   ]
  },
  {
   "cell_type": "code",
   "execution_count": null,
   "metadata": {},
   "outputs": [],
   "source": [
    "# from nltk.cluster import KMeansClusterer,euclidean_distance\n",
    "# clusterer =KMeansClusterer(6,euclidean_distance)\n",
    "# cluster=np.array(clusterer.cluster(best_model,True))"
   ]
  },
  {
   "cell_type": "code",
   "execution_count": null,
   "metadata": {},
   "outputs": [],
   "source": [
    "cluster = KMeans(n_clusters=4, init=\"k-means++\").fit_predict(best_model)"
   ]
  },
  {
   "cell_type": "code",
   "execution_count": null,
   "metadata": {
    "colab": {
     "base_uri": "https://localhost:8080/",
     "height": 523
    },
    "id": "bqq2_WsRtbN3",
    "outputId": "8e6703c5-89b1-434e-e8e5-74468bf87f8b"
   },
   "outputs": [],
   "source": [
    "def plot(cluster = cluster):    \n",
    "\n",
    "    clustered = (cluster >= 0)\n",
    "    reduced_dim = umap.UMAP(n_components=2).fit_transform(embeddings)\n",
    "\n",
    "\n",
    "\n",
    "    unique, counts = np.unique(cluster, return_counts=True)\n",
    "    print(dict(zip(unique, counts)))\n",
    "\n",
    "    plt.scatter(reduced_dim[~clustered, 0],\n",
    "                reduced_dim[~clustered, 1],\n",
    "                c=(0.5,0.5,0.5),\n",
    "                # s=1,\n",
    "                alpha=0.5\n",
    "                )\n",
    "    plt.scatter(reduced_dim[clustered, 0],\n",
    "                reduced_dim[clustered, 1],\n",
    "                c=cluster[clustered],\n",
    "                # s=1,\n",
    "                cmap='Accent')\n",
    "    plt.show()"
   ]
  },
  {
   "cell_type": "code",
   "execution_count": null,
   "metadata": {},
   "outputs": [],
   "source": [
    "plot()"
   ]
  },
  {
   "cell_type": "code",
   "execution_count": null,
   "metadata": {},
   "outputs": [],
   "source": [
    "len(cluster)"
   ]
  },
  {
   "cell_type": "code",
   "execution_count": null,
   "metadata": {},
   "outputs": [],
   "source": [
    "docs = pd.DataFrame(list_data,columns=[\"comments\"])\n",
    "docs[\"cluster\"] = cluster\n",
    "labeled_docs = docs.groupby([\"cluster\"], as_index=False).agg({\"comments\": \" \".join})\n",
    "labeled_docs.comments.replace(r\"\\S*clas\\S*\", \"class\", regex=True, inplace = True)\n",
    "labeled_docs.comments.replace(r\"\\S*teach\\S*\", \"teach\", regex=True, inplace = True)\n",
    "labeled_docs"
   ]
  },
  {
   "cell_type": "code",
   "execution_count": null,
   "metadata": {},
   "outputs": [],
   "source": [
    "from keybert import KeyBERT\n",
    "array_text = labeled_docs.comments.tolist()\n",
    "    \n",
    "kw_extractor = KeyBERT(model=model)\n",
    "trigram = []\n",
    "for j in range(len(array_text)):\n",
    "    keywords = kw_extractor.extract_keywords(array_text[j],top_n=10,keyphrase_ngram_range=(3, 3))\n",
    "    print(f'\\033[1m   Trigram Cluster {j+1}: \\033[0m')\n",
    "    print([word for word in keywords])\n",
    "    trigram.append([word[0] for word in keywords])"
   ]
  },
  {
   "cell_type": "code",
   "execution_count": null,
   "metadata": {},
   "outputs": [],
   "source": [
    "bigram=[]\n",
    "for j in range(len(array_text)):\n",
    "    keywords = kw_extractor.extract_keywords(array_text[j],top_n=3,keyphrase_ngram_range=(2, 2))\n",
    "    print(f'\\033[1m   Bigram Cluster {j+1}: \\033[0m' )\n",
    "    print([word for word in keywords])\n",
    "    bigram.append([word[0] for word in keywords])"
   ]
  },
  {
   "cell_type": "code",
   "execution_count": null,
   "metadata": {},
   "outputs": [],
   "source": [
    "unigram=[]\n",
    "for j in range(len(array_text)):\n",
    "    keywords = kw_extractor.extract_keywords(array_text[j],top_n=10,keyphrase_ngram_range=(1, 1))\n",
    "    print(f'\\033[1m   Unigram Cluster {j+1}: \\033[0m' )\n",
    "    print([word for word in keywords])\n",
    "    unigram.append([word[0] for word in keywords])"
   ]
  },
  {
   "cell_type": "code",
   "execution_count": null,
   "metadata": {},
   "outputs": [],
   "source": [
    "for i in range(4):\n",
    "    clusterer=[]\n",
    "    print(f'\\033[1m   Cluster {i+1}: \\033[0m')\n",
    "    clusterer.append(trigram[i][0])\n",
    "    \n",
    "    wor=[]\n",
    "    for w in trigram[i][1].split(\" \"):\n",
    "        wor.append(w in trigram[i][0])\n",
    "    if all(wor):\n",
    "        clusterer.append(trigram[i][2])\n",
    "    else:\n",
    "        clusterer.append(trigram[i][1])\n",
    "        \n",
    "    for m, n in zip(trigram[i][0:2]*5,bigram[i][0:10]):\n",
    "        first,second = n.split(\" \")\n",
    "        if not(first in m and second in m):\n",
    "            clusterer.append(n)\n",
    "    clusterer = clusterer[:5]\n",
    "    [clusterer.append(j) for j in unigram[i]]\n",
    "    print(clusterer)\n",
    "    "
   ]
  },
  {
   "cell_type": "code",
   "execution_count": null,
   "metadata": {},
   "outputs": [],
   "source": []
  }
 ],
 "metadata": {
  "colab": {
   "name": "Untitled5.ipynb",
   "provenance": []
  },
  "kernelspec": {
   "display_name": "Python 3",
   "language": "python",
   "name": "python3"
  },
  "language_info": {
   "codemirror_mode": {
    "name": "ipython",
    "version": 3
   },
   "file_extension": ".py",
   "mimetype": "text/x-python",
   "name": "python",
   "nbconvert_exporter": "python",
   "pygments_lexer": "ipython3",
   "version": "3.8.7"
  },
  "varInspector": {
   "cols": {
    "lenName": 16,
    "lenType": 16,
    "lenVar": 40
   },
   "kernels_config": {
    "python": {
     "delete_cmd_postfix": "",
     "delete_cmd_prefix": "del ",
     "library": "var_list.py",
     "varRefreshCmd": "print(var_dic_list())"
    },
    "r": {
     "delete_cmd_postfix": ") ",
     "delete_cmd_prefix": "rm(",
     "library": "var_list.r",
     "varRefreshCmd": "cat(var_dic_list()) "
    }
   },
   "types_to_exclude": [
    "module",
    "function",
    "builtin_function_or_method",
    "instance",
    "_Feature"
   ],
   "window_display": false
  },
  "widgets": {
   "application/vnd.jupyter.widget-state+json": {
    "10748c34bb5448d9a34cd200a3979d56": {
     "model_module": "@jupyter-widgets/controls",
     "model_name": "HTMLModel",
     "state": {
      "_dom_classes": [],
      "_model_module": "@jupyter-widgets/controls",
      "_model_module_version": "1.5.0",
      "_model_name": "HTMLModel",
      "_view_count": null,
      "_view_module": "@jupyter-widgets/controls",
      "_view_module_version": "1.5.0",
      "_view_name": "HTMLView",
      "description": "",
      "description_tooltip": null,
      "layout": "IPY_MODEL_7e2aa975791049c8a7f588ed76b379c0",
      "placeholder": "​",
      "style": "IPY_MODEL_39fd5938a4df4de2891cd8393dd7af2f",
      "value": " 140/140 [01:59&lt;00:00,  1.17it/s]"
     }
    },
    "39fd5938a4df4de2891cd8393dd7af2f": {
     "model_module": "@jupyter-widgets/controls",
     "model_name": "DescriptionStyleModel",
     "state": {
      "_model_module": "@jupyter-widgets/controls",
      "_model_module_version": "1.5.0",
      "_model_name": "DescriptionStyleModel",
      "_view_count": null,
      "_view_module": "@jupyter-widgets/base",
      "_view_module_version": "1.2.0",
      "_view_name": "StyleView",
      "description_width": ""
     }
    },
    "6b163e4049ca4cbe8a24e7ac79ced8a5": {
     "model_module": "@jupyter-widgets/controls",
     "model_name": "HBoxModel",
     "state": {
      "_dom_classes": [],
      "_model_module": "@jupyter-widgets/controls",
      "_model_module_version": "1.5.0",
      "_model_name": "HBoxModel",
      "_view_count": null,
      "_view_module": "@jupyter-widgets/controls",
      "_view_module_version": "1.5.0",
      "_view_name": "HBoxView",
      "box_style": "",
      "children": [
       "IPY_MODEL_b02fccb0afa047999665079b5248015f",
       "IPY_MODEL_10748c34bb5448d9a34cd200a3979d56"
      ],
      "layout": "IPY_MODEL_be0f028285fa4e8da720237e1b1279bf"
     }
    },
    "7e2aa975791049c8a7f588ed76b379c0": {
     "model_module": "@jupyter-widgets/base",
     "model_name": "LayoutModel",
     "state": {
      "_model_module": "@jupyter-widgets/base",
      "_model_module_version": "1.2.0",
      "_model_name": "LayoutModel",
      "_view_count": null,
      "_view_module": "@jupyter-widgets/base",
      "_view_module_version": "1.2.0",
      "_view_name": "LayoutView",
      "align_content": null,
      "align_items": null,
      "align_self": null,
      "border": null,
      "bottom": null,
      "display": null,
      "flex": null,
      "flex_flow": null,
      "grid_area": null,
      "grid_auto_columns": null,
      "grid_auto_flow": null,
      "grid_auto_rows": null,
      "grid_column": null,
      "grid_gap": null,
      "grid_row": null,
      "grid_template_areas": null,
      "grid_template_columns": null,
      "grid_template_rows": null,
      "height": null,
      "justify_content": null,
      "justify_items": null,
      "left": null,
      "margin": null,
      "max_height": null,
      "max_width": null,
      "min_height": null,
      "min_width": null,
      "object_fit": null,
      "object_position": null,
      "order": null,
      "overflow": null,
      "overflow_x": null,
      "overflow_y": null,
      "padding": null,
      "right": null,
      "top": null,
      "visibility": null,
      "width": null
     }
    },
    "b02fccb0afa047999665079b5248015f": {
     "model_module": "@jupyter-widgets/controls",
     "model_name": "FloatProgressModel",
     "state": {
      "_dom_classes": [],
      "_model_module": "@jupyter-widgets/controls",
      "_model_module_version": "1.5.0",
      "_model_name": "FloatProgressModel",
      "_view_count": null,
      "_view_module": "@jupyter-widgets/controls",
      "_view_module_version": "1.5.0",
      "_view_name": "ProgressView",
      "bar_style": "success",
      "description": "Batches: 100%",
      "description_tooltip": null,
      "layout": "IPY_MODEL_ea4553e744634f56a3128b209cac5330",
      "max": 140,
      "min": 0,
      "orientation": "horizontal",
      "style": "IPY_MODEL_b927e6a6b1c44be1be1f58d582da2f6a",
      "value": 140
     }
    },
    "b927e6a6b1c44be1be1f58d582da2f6a": {
     "model_module": "@jupyter-widgets/controls",
     "model_name": "ProgressStyleModel",
     "state": {
      "_model_module": "@jupyter-widgets/controls",
      "_model_module_version": "1.5.0",
      "_model_name": "ProgressStyleModel",
      "_view_count": null,
      "_view_module": "@jupyter-widgets/base",
      "_view_module_version": "1.2.0",
      "_view_name": "StyleView",
      "bar_color": null,
      "description_width": "initial"
     }
    },
    "be0f028285fa4e8da720237e1b1279bf": {
     "model_module": "@jupyter-widgets/base",
     "model_name": "LayoutModel",
     "state": {
      "_model_module": "@jupyter-widgets/base",
      "_model_module_version": "1.2.0",
      "_model_name": "LayoutModel",
      "_view_count": null,
      "_view_module": "@jupyter-widgets/base",
      "_view_module_version": "1.2.0",
      "_view_name": "LayoutView",
      "align_content": null,
      "align_items": null,
      "align_self": null,
      "border": null,
      "bottom": null,
      "display": null,
      "flex": null,
      "flex_flow": null,
      "grid_area": null,
      "grid_auto_columns": null,
      "grid_auto_flow": null,
      "grid_auto_rows": null,
      "grid_column": null,
      "grid_gap": null,
      "grid_row": null,
      "grid_template_areas": null,
      "grid_template_columns": null,
      "grid_template_rows": null,
      "height": null,
      "justify_content": null,
      "justify_items": null,
      "left": null,
      "margin": null,
      "max_height": null,
      "max_width": null,
      "min_height": null,
      "min_width": null,
      "object_fit": null,
      "object_position": null,
      "order": null,
      "overflow": null,
      "overflow_x": null,
      "overflow_y": null,
      "padding": null,
      "right": null,
      "top": null,
      "visibility": null,
      "width": null
     }
    },
    "ea4553e744634f56a3128b209cac5330": {
     "model_module": "@jupyter-widgets/base",
     "model_name": "LayoutModel",
     "state": {
      "_model_module": "@jupyter-widgets/base",
      "_model_module_version": "1.2.0",
      "_model_name": "LayoutModel",
      "_view_count": null,
      "_view_module": "@jupyter-widgets/base",
      "_view_module_version": "1.2.0",
      "_view_name": "LayoutView",
      "align_content": null,
      "align_items": null,
      "align_self": null,
      "border": null,
      "bottom": null,
      "display": null,
      "flex": null,
      "flex_flow": null,
      "grid_area": null,
      "grid_auto_columns": null,
      "grid_auto_flow": null,
      "grid_auto_rows": null,
      "grid_column": null,
      "grid_gap": null,
      "grid_row": null,
      "grid_template_areas": null,
      "grid_template_columns": null,
      "grid_template_rows": null,
      "height": null,
      "justify_content": null,
      "justify_items": null,
      "left": null,
      "margin": null,
      "max_height": null,
      "max_width": null,
      "min_height": null,
      "min_width": null,
      "object_fit": null,
      "object_position": null,
      "order": null,
      "overflow": null,
      "overflow_x": null,
      "overflow_y": null,
      "padding": null,
      "right": null,
      "top": null,
      "visibility": null,
      "width": null
     }
    }
   }
  }
 },
 "nbformat": 4,
 "nbformat_minor": 4
}

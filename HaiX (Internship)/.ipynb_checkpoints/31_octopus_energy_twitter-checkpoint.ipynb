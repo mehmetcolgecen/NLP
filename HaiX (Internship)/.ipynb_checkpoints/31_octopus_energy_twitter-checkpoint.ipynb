{
 "cells": [
  {
   "cell_type": "code",
   "execution_count": 5,
   "metadata": {},
   "outputs": [],
   "source": [
    "import re\n",
    "import pandas as pd\n",
    "import numpy as np\n",
    "from sklearn.cluster import KMeans\n",
    "import umap\n",
    "import nltk;\n",
    "import spacy\n",
    "import string\n",
    "\n",
    "import matplotlib.pyplot as plt\n",
    "from matplotlib.axes._axes import _log as matplotlib_axes_logger\n",
    "matplotlib_axes_logger.setLevel('ERROR')\n",
    "import seaborn as sns\n",
    "sns.set(style='white', rc={'figure.figsize':(10,8)})\n",
    "\n",
    "np.random.seed(42)\n",
    "%config Completer.use_jedi = False\n",
    "pd.set_option('display.max_columns', 30)\n",
    "# pd.set_option('display.max_rows', 100)\n",
    "\n",
    "nlp = spacy.load(\"en_core_web_sm\")"
   ]
  },
  {
   "cell_type": "code",
   "execution_count": 6,
   "metadata": {
    "colab": {
     "base_uri": "https://localhost:8080/",
     "height": 621
    },
    "id": "ek3w6OZQsoqv",
    "outputId": "92306d37-cc10-4cb7-c62e-006de9eae451"
   },
   "outputs": [
    {
     "data": {
      "text/html": [
       "<div>\n",
       "<style scoped>\n",
       "    .dataframe tbody tr th:only-of-type {\n",
       "        vertical-align: middle;\n",
       "    }\n",
       "\n",
       "    .dataframe tbody tr th {\n",
       "        vertical-align: top;\n",
       "    }\n",
       "\n",
       "    .dataframe thead th {\n",
       "        text-align: right;\n",
       "    }\n",
       "</style>\n",
       "<table border=\"1\" class=\"dataframe\">\n",
       "  <thead>\n",
       "    <tr style=\"text-align: right;\">\n",
       "      <th></th>\n",
       "      <th>Unnamed: 0</th>\n",
       "      <th>comments</th>\n",
       "    </tr>\n",
       "  </thead>\n",
       "  <tbody>\n",
       "    <tr>\n",
       "      <th>0</th>\n",
       "      <td>0</td>\n",
       "      <td>Congratulations Laura</td>\n",
       "    </tr>\n",
       "    <tr>\n",
       "      <th>1</th>\n",
       "      <td>1</td>\n",
       "      <td>Rang u as my smart meter ain't working on scre...</td>\n",
       "    </tr>\n",
       "    <tr>\n",
       "      <th>2</th>\n",
       "      <td>2</td>\n",
       "      <td>I just applied switched to Octopus , but can I...</td>\n",
       "    </tr>\n",
       "    <tr>\n",
       "      <th>3</th>\n",
       "      <td>3</td>\n",
       "      <td>What do I need to do to get smart metres...</td>\n",
       "    </tr>\n",
       "    <tr>\n",
       "      <th>4</th>\n",
       "      <td>4</td>\n",
       "      <td>Could of phoned me</td>\n",
       "    </tr>\n",
       "  </tbody>\n",
       "</table>\n",
       "</div>"
      ],
      "text/plain": [
       "   Unnamed: 0                                           comments\n",
       "0           0                              Congratulations Laura\n",
       "1           1  Rang u as my smart meter ain't working on scre...\n",
       "2           2  I just applied switched to Octopus , but can I...\n",
       "3           3        What do I need to do to get smart metres...\n",
       "4           4                                Could of phoned me "
      ]
     },
     "execution_count": 6,
     "metadata": {},
     "output_type": "execute_result"
    }
   ],
   "source": [
    "df = pd.read_csv('octopus_energy_fb_comments.csv')\n",
    "df.rename(columns={\"fb_comment\":\"comments\"},inplace=True)\n",
    "df.head()"
   ]
  },
  {
   "cell_type": "code",
   "execution_count": 7,
   "metadata": {},
   "outputs": [
    {
     "data": {
      "text/plain": [
       "'Wind beneath my wings\\nWinDiesel (Vin Diesel)\\nWinDirection'"
      ]
     },
     "execution_count": 7,
     "metadata": {},
     "output_type": "execute_result"
    }
   ],
   "source": [
    "df.comments[286]"
   ]
  },
  {
   "cell_type": "code",
   "execution_count": 8,
   "metadata": {},
   "outputs": [],
   "source": [
    "df.comments.replace(\"\\S*@\\S*\" , \"\", regex=True, inplace = True)\n",
    "df.comments.replace(\"\\S*#\\S*\" , \"\", regex=True, inplace = True)\n",
    "df.comments.replace(\"\\S*http\\S*\" , \"\", regex=True, inplace = True)\n",
    "df.comments.replace(\"_\" , \" \", regex=True, inplace = True)\n",
    "df.comments.replace(\"^\" , \" \", regex=True, inplace = True)\n",
    "df.comments.replace(\"\\n\" , \" \", regex=True, inplace = True)"
   ]
  },
  {
   "cell_type": "code",
   "execution_count": 9,
   "metadata": {},
   "outputs": [
    {
     "data": {
      "text/plain": [
       "' Wind beneath my wings WinDiesel (Vin Diesel) WinDirection'"
      ]
     },
     "execution_count": 9,
     "metadata": {},
     "output_type": "execute_result"
    }
   ],
   "source": [
    "df.comments[286]"
   ]
  },
  {
   "cell_type": "code",
   "execution_count": 10,
   "metadata": {},
   "outputs": [],
   "source": [
    "for i in string.punctuation:\n",
    "    try:\n",
    "        df.comments.replace(f\"\\{i}\" , \"\", regex=True, inplace = True)\n",
    "    except: pass"
   ]
  },
  {
   "cell_type": "code",
   "execution_count": 11,
   "metadata": {},
   "outputs": [
    {
     "data": {
      "text/plain": [
       "' Wind beneath my wings WinDiesel Vin Diesel WinDirection'"
      ]
     },
     "execution_count": 11,
     "metadata": {},
     "output_type": "execute_result"
    }
   ],
   "source": [
    "df.comments[286]"
   ]
  },
  {
   "cell_type": "code",
   "execution_count": 12,
   "metadata": {},
   "outputs": [],
   "source": [
    "junk_words = \"ve xx tqvm yessssssssssit youuuuuu nan nt citi kashif a very were yet than through via here rishisunak more much getting go going ive dont able when which who year barclays hsbcin amp like an no any since after banking im there out how starlingbank starling one only again over other then am may some do cant about banks would could its even their after has them get got within now all just if what or at had hsbcukbusiness up by into will an was our us so been hsbcuk co om ke ha gone your we can from as but to the hsbc and of you for are have they is my hsbc_uk with it in on this ðÿ be not bank me that\"\n",
    "junk_words_list = junk_words.split(\" \")"
   ]
  },
  {
   "cell_type": "code",
   "execution_count": 13,
   "metadata": {},
   "outputs": [],
   "source": [
    "def remove_unicode(text):\n",
    "\n",
    "    try:\n",
    "        text = text.encode(\"latin_1\").decode(\"raw_unicode_escape\").encode('utf-16', 'surrogatepass').decode('utf-16')\n",
    "    except:\n",
    "        text = text\n",
    "\n",
    "    emoji_pattern = re.compile(\"[\"\n",
    "        u\"\\U0001F600-\\U0001F64F\"  # emoticons\n",
    "        u\"\\U0001F300-\\U0001F5FF\"  # symbols & pictographs\n",
    "        u\"\\U0001F680-\\U0001F6FF\"  # transport & map symbols\n",
    "        u\"\\U0001F1E0-\\U0001F1FF\"  # flags (iOS)\n",
    "        u\"\\U00002500-\\U00002BEF\"  # chinese char\n",
    "        u\"\\U00002702-\\U000027B0\"\n",
    "        u\"\\U00002702-\\U000027B0\"\n",
    "        u\"\\U000024C2-\\U0001F251\"\n",
    "        u\"\\U0001f926-\\U0001f937\"\n",
    "        u\"\\U00010000-\\U0010ffff\"\n",
    "        u\"\\u2640-\\u2642\" \n",
    "        u\"\\u2600-\\u2B55\"\n",
    "        u\"\\u200d\"\n",
    "        u\"\\u23cf\"\n",
    "        u\"\\u23e9\"\n",
    "        u\"\\u231a\"\n",
    "        u\"\\ufe0f\"  # dingbats\n",
    "        u\"\\u3030\"\n",
    "        \"]+\", re.UNICODE)\n",
    "\n",
    "    text = re.sub(emoji_pattern, '', str(text))\n",
    "    text = ''.join(text.split('\\\\n')) # to remove uncompiled \\n\n",
    "    text = re.sub('\\n', '', text)     # to remove compiled \\n\n",
    "\n",
    "    return text"
   ]
  },
  {
   "cell_type": "code",
   "execution_count": 14,
   "metadata": {},
   "outputs": [],
   "source": [
    "def word_root(text):\n",
    "    list_data3=[]\n",
    "    text = remove_unicode(text)\n",
    "    doc = nlp(text)\n",
    "    for token in doc:\n",
    "        if token.text.isalpha():\n",
    "            lemma = token.lemma_\n",
    "            list_data3.append(lemma)\n",
    "        else:pass\n",
    "    return \" \".join(list_data3)\n",
    "df.comments = df.comments.apply(lambda x: word_root(str(x).lower()))  "
   ]
  },
  {
   "cell_type": "code",
   "execution_count": 15,
   "metadata": {},
   "outputs": [
    {
     "data": {
      "text/plain": [
       "                                                                                                                                                                      15\n",
       "lisa middleton                                                                                                                                                        10\n",
       "nan                                                                                                                                                                    6\n",
       "do                                                                                                                                                                     2\n",
       "amazing                                                                                                                                                                2\n",
       "                                                                                                                                                                      ..\n",
       "jayne amanda let do this                                                                                                                                               1\n",
       "congratulation                                                                                                                                                         1\n",
       "be there a reason I can no long fb message you I send numerous message and no reply I be suppose to be contact by you after my smart meter app and hear nothing        1\n",
       "you have send I a bill for the to february for electricity as a smart meter reading I do t have one and I have my reading in the which you have already bill I for     1\n",
       "I need to speak to someone online                                                                                                                                      1\n",
       "Name: comments, Length: 735, dtype: int64"
      ]
     },
     "execution_count": 15,
     "metadata": {},
     "output_type": "execute_result"
    }
   ],
   "source": [
    "df.comments.value_counts()"
   ]
  },
  {
   "cell_type": "code",
   "execution_count": 16,
   "metadata": {},
   "outputs": [],
   "source": [
    "df.replace('nan', np.nan, inplace = True)\n",
    "df.replace('', np.nan, inplace = True)\n",
    "df.replace('do', np.nan, inplace = True)\n",
    "df = df.dropna()"
   ]
  },
  {
   "cell_type": "code",
   "execution_count": 17,
   "metadata": {},
   "outputs": [
    {
     "data": {
      "text/plain": [
       "lisa middleton                                                                                                                                                                                                      10\n",
       "very very bad customer service they block your e mail specialy miss claudine very rude person they make I for one month flat one bed just for electricity and no one wanna talk with you to help what s be wrong     2\n",
       "referal link to sign up and split                                                                                                                                                                                    2\n",
       "please can you stop your sale people knock on my door at I do nt care how old and grumpy I sound the last thing I want be a long chat about something I do nt want this late at night                                2\n",
       "amazing                                                                                                                                                                                                              2\n",
       "                                                                                                                                                                                                                    ..\n",
       "you have send I a bill for the to february for electricity as a smart meter reading I do t have one and I have my reading in the which you have already bill I for                                                   1\n",
       "apple and cider mincemeat traybake                                                                                                                                                                                   1\n",
       "congratulation its always good to see a good company prosper                                                                                                                                                         1\n",
       "seem like a good idea at the time baked apple dumpling                                                                                                                                                               1\n",
       "I need to speak to someone online                                                                                                                                                                                    1\n",
       "Name: comments, Length: 732, dtype: int64"
      ]
     },
     "execution_count": 17,
     "metadata": {},
     "output_type": "execute_result"
    }
   ],
   "source": [
    "df.comments.value_counts()"
   ]
  },
  {
   "cell_type": "code",
   "execution_count": 18,
   "metadata": {},
   "outputs": [],
   "source": [
    "list_data = df.comments.unique().tolist()"
   ]
  },
  {
   "cell_type": "code",
   "execution_count": 19,
   "metadata": {},
   "outputs": [
    {
     "data": {
      "text/plain": [
       "732"
      ]
     },
     "execution_count": 19,
     "metadata": {},
     "output_type": "execute_result"
    }
   ],
   "source": [
    "len(list_data)"
   ]
  },
  {
   "cell_type": "code",
   "execution_count": 20,
   "metadata": {},
   "outputs": [],
   "source": [
    "from sentence_transformers import SentenceTransformer"
   ]
  },
  {
   "cell_type": "code",
   "execution_count": 21,
   "metadata": {},
   "outputs": [],
   "source": [
    "# distilbert-base-nli-mean-tokens\n",
    "# paraphrase-distilroberta-base-v1\n",
    "# roberta-large-nli-stsb-mean-tokens\n",
    "#allenai-specter\n"
   ]
  },
  {
   "cell_type": "code",
   "execution_count": 23,
   "metadata": {
    "colab": {
     "base_uri": "https://localhost:8080/",
     "height": 67,
     "referenced_widgets": [
      "6b163e4049ca4cbe8a24e7ac79ced8a5",
      "be0f028285fa4e8da720237e1b1279bf",
      "b02fccb0afa047999665079b5248015f",
      "10748c34bb5448d9a34cd200a3979d56",
      "b927e6a6b1c44be1be1f58d582da2f6a",
      "ea4553e744634f56a3128b209cac5330",
      "39fd5938a4df4de2891cd8393dd7af2f",
      "7e2aa975791049c8a7f588ed76b379c0"
     ]
    },
    "id": "BjwnhvRQtW2S",
    "outputId": "458d7bd4-ba13-4112-85a9-fb050e99008f"
   },
   "outputs": [
    {
     "data": {
      "application/vnd.jupyter.widget-view+json": {
       "model_id": "1467142a4062497497a1acdf98075da3",
       "version_major": 2,
       "version_minor": 0
      },
      "text/plain": [
       "Batches:   0%|          | 0/23 [00:00<?, ?it/s]"
      ]
     },
     "metadata": {},
     "output_type": "display_data"
    }
   ],
   "source": [
    "model=SentenceTransformer('xlm-r-distilroberta-base-paraphrase-v1')\n",
    "embeddings = model.encode(list_data, show_progress_bar=True)"
   ]
  },
  {
   "cell_type": "code",
   "execution_count": 24,
   "metadata": {
    "id": "g8zUQEqTta2y"
   },
   "outputs": [],
   "source": [
    "best_model = umap.UMAP(n_components=5).fit_transform(embeddings)\n",
    "\n",
    "#n_neighbors=10, min_dist=0.0, "
   ]
  },
  {
   "cell_type": "code",
   "execution_count": 25,
   "metadata": {},
   "outputs": [
    {
     "data": {
      "image/png": "[encoded data removed]",
      "text/plain": [
       "<Figure size 720x576 with 1 Axes>"
      ]
     },
     "metadata": {},
     "output_type": "display_data"
    }
   ],
   "source": [
    "#inertia\n",
    "\n",
    "kmeans_per_k = [KMeans(n_clusters=k, random_state=42).fit(best_model)\n",
    "                for k in range(1, 10)]\n",
    "inertias = [model.inertia_ for model in kmeans_per_k]\n",
    "\n",
    "plt.plot(range(1, 10), inertias, \"bo-\")\n",
    "plt.xlabel(\"$k$\", fontsize=14)\n",
    "plt.ylabel(\"Inertia\", fontsize=14)\n",
    "plt.show()"
   ]
  },
  {
   "cell_type": "code",
   "execution_count": 26,
   "metadata": {},
   "outputs": [],
   "source": [
    "# from nltk.cluster import KMeansClusterer,euclidean_distance\n",
    "# clusterer =KMeansClusterer(6,euclidean_distance)\n",
    "# cluster=np.array(clusterer.cluster(best_model,True))"
   ]
  },
  {
   "cell_type": "code",
   "execution_count": 45,
   "metadata": {},
   "outputs": [],
   "source": [
    "cluster = KMeans(n_clusters=6, init=\"k-means++\").fit_predict(best_model)"
   ]
  },
  {
   "cell_type": "code",
   "execution_count": 46,
   "metadata": {
    "colab": {
     "base_uri": "https://localhost:8080/",
     "height": 523
    },
    "id": "bqq2_WsRtbN3",
    "outputId": "8e6703c5-89b1-434e-e8e5-74468bf87f8b"
   },
   "outputs": [],
   "source": [
    "def plot(cluster = cluster):    \n",
    "\n",
    "    clustered = (cluster >= 0)\n",
    "    reduced_dim = umap.UMAP(n_components=2).fit_transform(embeddings)\n",
    "\n",
    "\n",
    "\n",
    "    unique, counts = np.unique(cluster, return_counts=True)\n",
    "    print(dict(zip(unique, counts)))\n",
    "\n",
    "    plt.scatter(reduced_dim[~clustered, 0],\n",
    "                reduced_dim[~clustered, 1],\n",
    "                c=(0.5,0.5,0.5),\n",
    "                # s=1,\n",
    "                alpha=0.5\n",
    "                )\n",
    "    plt.scatter(reduced_dim[clustered, 0],\n",
    "                reduced_dim[clustered, 1],\n",
    "                c=cluster[clustered],\n",
    "                # s=1,\n",
    "                cmap='Accent')\n",
    "    plt.show()"
   ]
  },
  {
   "cell_type": "code",
   "execution_count": 47,
   "metadata": {},
   "outputs": [
    {
     "name": "stdout",
     "output_type": "stream",
     "text": [
      "{0: 27, 1: 128, 2: 96, 3: 95, 4: 296, 5: 90}\n"
     ]
    },
    {
     "data": {
      "image/png": "[encoded data removed]",
      "text/plain": [
       "<Figure size 720x576 with 1 Axes>"
      ]
     },
     "metadata": {},
     "output_type": "display_data"
    }
   ],
   "source": [
    "plot()"
   ]
  },
  {
   "cell_type": "code",
   "execution_count": 48,
   "metadata": {},
   "outputs": [
    {
     "data": {
      "text/plain": [
       "732"
      ]
     },
     "execution_count": 48,
     "metadata": {},
     "output_type": "execute_result"
    }
   ],
   "source": [
    "len(cluster)"
   ]
  },
  {
   "cell_type": "code",
   "execution_count": 49,
   "metadata": {},
   "outputs": [
    {
     "data": {
      "text/html": [
       "<div>\n",
       "<style scoped>\n",
       "    .dataframe tbody tr th:only-of-type {\n",
       "        vertical-align: middle;\n",
       "    }\n",
       "\n",
       "    .dataframe tbody tr th {\n",
       "        vertical-align: top;\n",
       "    }\n",
       "\n",
       "    .dataframe thead th {\n",
       "        text-align: right;\n",
       "    }\n",
       "</style>\n",
       "<table border=\"1\" class=\"dataframe\">\n",
       "  <thead>\n",
       "    <tr style=\"text-align: right;\">\n",
       "      <th></th>\n",
       "      <th>cluster</th>\n",
       "      <th>comments</th>\n",
       "    </tr>\n",
       "  </thead>\n",
       "  <tbody>\n",
       "    <tr>\n",
       "      <th>0</th>\n",
       "      <td>0</td>\n",
       "      <td>enter my apple pie cupcake my christmas cake b...</td>\n",
       "    </tr>\n",
       "    <tr>\n",
       "      <th>1</th>\n",
       "      <td>1</td>\n",
       "      <td>well do octopus another happy customer good de...</td>\n",
       "    </tr>\n",
       "    <tr>\n",
       "      <th>2</th>\n",
       "      <td>2</td>\n",
       "      <td>could of phone I what about loyal customer all...</td>\n",
       "    </tr>\n",
       "    <tr>\n",
       "      <th>3</th>\n",
       "      <td>3</td>\n",
       "      <td>ring u as my smart meter ai nt work on screen ...</td>\n",
       "    </tr>\n",
       "    <tr>\n",
       "      <th>4</th>\n",
       "      <td>4</td>\n",
       "      <td>congratulation laura be there any news on come...</td>\n",
       "    </tr>\n",
       "    <tr>\n",
       "      <th>5</th>\n",
       "      <td>5</td>\n",
       "      <td>I m sure I be the millionth customer but I mis...</td>\n",
       "    </tr>\n",
       "  </tbody>\n",
       "</table>\n",
       "</div>"
      ],
      "text/plain": [
       "   cluster                                           comments\n",
       "0        0  enter my apple pie cupcake my christmas cake b...\n",
       "1        1  well do octopus another happy customer good de...\n",
       "2        2  could of phone I what about loyal customer all...\n",
       "3        3  ring u as my smart meter ai nt work on screen ...\n",
       "4        4  congratulation laura be there any news on come...\n",
       "5        5  I m sure I be the millionth customer but I mis..."
      ]
     },
     "execution_count": 49,
     "metadata": {},
     "output_type": "execute_result"
    }
   ],
   "source": [
    "docs = pd.DataFrame(list_data,columns=[\"comments\"])\n",
    "docs[\"cluster\"] = cluster\n",
    "labeled_docs = docs.groupby([\"cluster\"], as_index=False).agg({\"comments\": \" \".join})\n",
    "labeled_docs.comments.replace(r\"\\S*octo\\S*\", \"octopus\", regex=True, inplace = True)\n",
    "labeled_docs.comments.replace(r\"\\S*octu\\S*\", \"octopus\", regex=True, inplace = True)\n",
    "labeled_docs.comments.replace(r\"\\S*wind\\S*\", \"wind\", regex=True, inplace = True)\n",
    "labeled_docs.comments.replace(r\"\\S*electric\\S*\", \"electric\", regex=True, inplace = True)\n",
    "labeled_docs.comments.replace(r\"\\S*utilitia\\S*\", \"utilita\", regex=True, inplace = True)\n",
    "labeled_docs.comments.replace(r\"metre\", \"meter\", regex=True, inplace = True)\n",
    "labeled_docs"
   ]
  },
  {
   "cell_type": "code",
   "execution_count": 50,
   "metadata": {},
   "outputs": [
    {
     "name": "stdout",
     "output_type": "stream",
     "text": [
      "\u001b[1m   Cluster 1: \u001b[0m\n",
      "[('gran apple cake', 0.6514), ('make apple cake', 0.6492), ('apple chocolate cake', 0.6487), ('apple cake apple', 0.6429), ('cake apple pie', 0.642), ('german apple cake', 0.6347), ('apple use cake', 0.6324), ('apple pie cupcake', 0.6245), ('apple cake recipe', 0.6222), ('glaze apple cake', 0.6188)]\n",
      "\u001b[1m   Cluster 2: \u001b[0m\n",
      "[('change octopus good', 0.6396), ('switch octopus thank', 0.619), ('octopus great choice', 0.6172), ('happy customer octopus', 0.6136), ('great service octopus', 0.6127), ('love octopus customer', 0.6127), ('company octopus glad', 0.6115), ('giveaway loyal octopus', 0.6101), ('great thank octopus', 0.6041), ('octopus good octopus', 0.6025)]\n",
      "\u001b[1m   Cluster 3: \u001b[0m\n",
      "[('awesome company switch', 0.443), ('rate great customer', 0.44), ('customer increase hi', 0.4288), ('phone loyal customer', 0.4179), ('company end phone', 0.413), ('previously npower customer', 0.3936), ('sort customer service', 0.3899), ('make great company', 0.3896), ('thank awesome company', 0.3862), ('work terrible customer', 0.3848)]\n",
      "\u001b[1m   Cluster 4: \u001b[0m\n",
      "[('octopus smart meter', 0.6064), ('smart meter octopus', 0.5896), ('install smart meter', 0.5737), ('request smart meter', 0.5687), ('try smart meter', 0.5683), ('smart meter instal', 0.5671), ('query smart meter', 0.5665), ('instal smart meter', 0.5617), ('octopus need meter', 0.5572), ('octopus night meter', 0.5558)]\n",
      "\u001b[1m   Cluster 5: \u001b[0m\n",
      "[('change electric car', 0.5103), ('love electric car', 0.4817), ('win love electric', 0.4639), ('afford electric car', 0.4637), ('love change electric', 0.4588), ('change energy supplier', 0.4467), ('switch fantastic news', 0.4392), ('electric car lol', 0.4378), ('need electric car', 0.4335), ('choice obvious electric', 0.4229)]\n",
      "\u001b[1m   Cluster 6: \u001b[0m\n",
      "[('customer miss phone', 0.537), ('reply email phone', 0.5249), ('customer thank email', 0.5099), ('reply phone answering', 0.5073), ('miss phone guy', 0.505), ('customer email people', 0.5008), ('email appalling customer', 0.4929), ('phone thank absolute', 0.4904), ('answer email appalling', 0.4854), ('thank email wait', 0.4839)]\n"
     ]
    }
   ],
   "source": [
    "from keybert import KeyBERT\n",
    "array_text = labeled_docs.comments.tolist()\n",
    "    \n",
    "kw_extractor = KeyBERT(model=model)\n",
    "trigram = []\n",
    "for j in range(len(array_text)):\n",
    "    keywords = kw_extractor.extract_keywords(array_text[j],top_n=10,keyphrase_ngram_range=(3, 3))\n",
    "    print(f'\\033[1m   Trigram Cluster {j+1}: \\033[0m')\n",
    "    print([word for word in keywords])\n",
    "    trigram.append([word[0] for word in keywords])"
   ]
  },
  {
   "cell_type": "code",
   "execution_count": 51,
   "metadata": {},
   "outputs": [
    {
     "name": "stdout",
     "output_type": "stream",
     "text": [
      "\u001b[1m   Cluster 1: \u001b[0m\n",
      "[('apple cake', 0.6166), ('cake apple', 0.5979), ('apple cookie', 0.5911), ('chocolate cake', 0.5649), ('apple pie', 0.5362), ('cake make', 0.5323), ('pie apple', 0.5287), ('apple chocolate', 0.528), ('pie cupcake', 0.5238), ('make cake', 0.5228)]\n",
      "\u001b[1m   Cluster 2: \u001b[0m\n",
      "[('good octopus', 0.5876), ('octopus great', 0.5858), ('octopus good', 0.5818), ('happy octopus', 0.5804), ('octopus glad', 0.5739), ('nice octopus', 0.5722), ('thank octopus', 0.5678), ('fix octopus', 0.5675), ('octopus kindly', 0.5673), ('donor octopus', 0.5648)]\n",
      "\u001b[1m   Cluster 3: \u001b[0m\n",
      "[('npower customer', 0.399), ('sort customer', 0.3982), ('loyal customer', 0.3726), ('awesome company', 0.3646), ('company switch', 0.3645), ('customer increase', 0.3581), ('terrible customer', 0.3551), ('great customer', 0.3504), ('electric customer', 0.3481), ('ve customer', 0.3455)]\n",
      "\u001b[1m   Cluster 4: \u001b[0m\n",
      "[('meter octopus', 0.5233), ('install meter', 0.522), ('smart meter', 0.5152), ('ask meter', 0.4928), ('say meter', 0.4911), ('instal meter', 0.4888), ('near meter', 0.4886), ('fitting meter', 0.4808), ('need meter', 0.4746), ('meter instal', 0.4726)]\n",
      "\u001b[1m   Cluster 5: \u001b[0m\n",
      "[('change electric', 0.4743), ('love electric', 0.4446), ('afford electric', 0.4268), ('electric car', 0.418), ('tomorrow renewable', 0.4141), ('electric amazing', 0.4057), ('buy electric', 0.4037), ('need electric', 0.3956), ('electric prefer', 0.3944), ('electric wale', 0.3934)]\n",
      "\u001b[1m   Cluster 6: \u001b[0m\n",
      "[('reply phone', 0.4704), ('customer email', 0.4363), ('email ignore', 0.4307), ('phone thank', 0.427), ('miss phone', 0.4257), ('terrible telephone', 0.4249), ('phone answering', 0.4206), ('customer miss', 0.42), ('email appalling', 0.4096), ('customer thank', 0.4093)]\n"
     ]
    }
   ],
   "source": [
    "bigram=[]\n",
    "for j in range(len(array_text)):\n",
    "    keywords = kw_extractor.extract_keywords(array_text[j],top_n=10,keyphrase_ngram_range=(2, 2))\n",
    "    print(f'\\033[1m   Bigram Cluster {j+1}: \\033[0m' )\n",
    "    print([word for word in keywords])\n",
    "    bigram.append([word[0] for word in keywords])"
   ]
  },
  {
   "cell_type": "code",
   "execution_count": 52,
   "metadata": {},
   "outputs": [
    {
     "name": "stdout",
     "output_type": "stream",
     "text": [
      "\u001b[1m   Cluster 1: \u001b[0m\n",
      "[('cake', 0.46), ('apple', 0.4029), ('cookie', 0.3992), ('cupcake', 0.3851), ('chocolate', 0.3653), ('cranberry', 0.3358), ('pie', 0.266), ('bake', 0.2541), ('cinnamon', 0.2423), ('archie', 0.2417)]\n",
      "\u001b[1m   Cluster 2: \u001b[0m\n",
      "[('octopus', 0.5016), ('cute', 0.2919), ('nice', 0.2704), ('oct', 0.2601), ('good', 0.2565), ('happily', 0.2554), ('thank', 0.2493), ('outgoing', 0.2488), ('hoop', 0.2473), ('great', 0.2419)]\n",
      "\u001b[1m   Cluster 3: \u001b[0m\n",
      "[('provider', 0.3081), ('customer', 0.2892), ('pay', 0.2503), ('switch', 0.2434), ('company', 0.2421), ('payment', 0.2318), ('supplier', 0.2231), ('receive', 0.2069), ('profit', 0.2016), ('account', 0.2007)]\n",
      "\u001b[1m   Cluster 4: \u001b[0m\n",
      "[('octopus', 0.4027), ('meter', 0.3805), ('electric', 0.2838), ('battery', 0.2763), ('installer', 0.262), ('utilita', 0.2609), ('plush', 0.2552), ('quiz', 0.2518), ('eo', 0.2464), ('purport', 0.2436)]\n",
      "\u001b[1m   Cluster 5: \u001b[0m\n",
      "[('electric', 0.3506), ('provide', 0.3385), ('switch', 0.3353), ('jess', 0.3285), ('vin', 0.3282), ('supply', 0.3257), ('voltaire', 0.3172), ('produce', 0.3171), ('supplier', 0.3113), ('offer', 0.3081)]\n",
      "\u001b[1m   Cluster 6: \u001b[0m\n",
      "[('sorry', 0.2834), ('phone', 0.2598), ('telephone', 0.2525), ('satisfactory', 0.2296), ('lucky', 0.2239), ('terrible', 0.2229), ('ignore', 0.2197), ('messanger', 0.2145), ('customer', 0.2125), ('error', 0.2108)]\n"
     ]
    }
   ],
   "source": [
    "unigram=[]\n",
    "for j in range(len(array_text)):\n",
    "    keywords = kw_extractor.extract_keywords(array_text[j],top_n=10,keyphrase_ngram_range=(1, 1))\n",
    "    print(f'\\033[1m   Unigram Cluster {j+1}: \\033[0m' )\n",
    "    print([word for word in keywords])\n",
    "    unigram.append([word[0] for word in keywords])"
   ]
  },
  {
   "cell_type": "code",
   "execution_count": 107,
   "metadata": {},
   "outputs": [
    {
     "name": "stdout",
     "output_type": "stream",
     "text": [
      "\u001b[1m   Cluster 1: \u001b[0m\n",
      "['gran apple cake', 'make apple cake', 'apple cookie', 'chocolate cake', 'apple pie', 'cake', 'apple', 'cookie', 'cupcake', 'chocolate', 'cranberry', 'pie', 'bake', 'cinnamon', 'archie']\n",
      "\u001b[1m   Cluster 2: \u001b[0m\n",
      "['change octopus good', 'switch octopus thank', 'octopus great', 'happy octopus', 'octopus glad', 'octopus', 'cute', 'nice', 'oct', 'good', 'happily', 'thank', 'outgoing', 'hoop', 'great']\n",
      "\u001b[1m   Cluster 3: \u001b[0m\n",
      "['awesome company switch', 'rate great customer', 'npower customer', 'sort customer', 'loyal customer', 'provider', 'customer', 'pay', 'switch', 'company', 'payment', 'supplier', 'receive', 'profit', 'account']\n",
      "\u001b[1m   Cluster 4: \u001b[0m\n",
      "['octopus smart meter', 'install smart meter', 'install meter', 'ask meter', 'say meter', 'octopus', 'meter', 'electric', 'battery', 'installer', 'utilita', 'plush', 'quiz', 'eo', 'purport']\n",
      "\u001b[1m   Cluster 5: \u001b[0m\n",
      "['change electric car', 'love electric car', 'afford electric', 'tomorrow renewable', 'electric amazing', 'electric', 'provide', 'switch', 'jess', 'vin', 'supply', 'voltaire', 'produce', 'supplier', 'offer']\n",
      "\u001b[1m   Cluster 6: \u001b[0m\n",
      "['customer miss phone', 'reply email phone', 'reply phone', 'customer email', 'email ignore', 'sorry', 'phone', 'telephone', 'satisfactory', 'lucky', 'terrible', 'ignore', 'messanger', 'customer', 'error']\n"
     ]
    }
   ],
   "source": [
    "for i in range(6):\n",
    "    clusterer=[]\n",
    "    print(f'\\033[1m   Cluster {i+1}: \\033[0m')\n",
    "    clusterer.append(trigram[i][0])\n",
    "    \n",
    "    wor=[]\n",
    "    for w in trigram[i][1].split(\" \"):\n",
    "        wor.append(w in trigram[i][0])\n",
    "    if all(wor):\n",
    "        clusterer.append(trigram[i][2])\n",
    "    else:\n",
    "        clusterer.append(trigram[i][1])\n",
    "        \n",
    "    for m, n in zip(trigram[i][0:2]*5,bigram[i][0:10]):\n",
    "        first,second = n.split(\" \")\n",
    "        if not(first in m and second in m):\n",
    "            clusterer.append(n)\n",
    "    clusterer = clusterer[:5]\n",
    "    [clusterer.append(j) for j in unigram[i]]\n",
    "    print(clusterer)\n",
    "    "
   ]
  },
  {
   "cell_type": "code",
   "execution_count": null,
   "metadata": {},
   "outputs": [],
   "source": []
  }
 ],
 "metadata": {
  "colab": {
   "name": "Untitled5.ipynb",
   "provenance": []
  },
  "kernelspec": {
   "display_name": "Python 3",
   "language": "python",
   "name": "python3"
  },
  "language_info": {
   "codemirror_mode": {
    "name": "ipython",
    "version": 3
   },
   "file_extension": ".py",
   "mimetype": "text/x-python",
   "name": "python",
   "nbconvert_exporter": "python",
   "pygments_lexer": "ipython3",
   "version": "3.8.7"
  },
  "varInspector": {
   "cols": {
    "lenName": 16,
    "lenType": 16,
    "lenVar": 40
   },
   "kernels_config": {
    "python": {
     "delete_cmd_postfix": "",
     "delete_cmd_prefix": "del ",
     "library": "var_list.py",
     "varRefreshCmd": "print(var_dic_list())"
    },
    "r": {
     "delete_cmd_postfix": ") ",
     "delete_cmd_prefix": "rm(",
     "library": "var_list.r",
     "varRefreshCmd": "cat(var_dic_list()) "
    }
   },
   "types_to_exclude": [
    "module",
    "function",
    "builtin_function_or_method",
    "instance",
    "_Feature"
   ],
   "window_display": false
  },
  "widgets": {
   "application/vnd.jupyter.widget-state+json": {
    "10748c34bb5448d9a34cd200a3979d56": {
     "model_module": "@jupyter-widgets/controls",
     "model_name": "HTMLModel",
     "state": {
      "_dom_classes": [],
      "_model_module": "@jupyter-widgets/controls",
      "_model_module_version": "1.5.0",
      "_model_name": "HTMLModel",
      "_view_count": null,
      "_view_module": "@jupyter-widgets/controls",
      "_view_module_version": "1.5.0",
      "_view_name": "HTMLView",
      "description": "",
      "description_tooltip": null,
      "layout": "IPY_MODEL_7e2aa975791049c8a7f588ed76b379c0",
      "placeholder": "​",
      "style": "IPY_MODEL_39fd5938a4df4de2891cd8393dd7af2f",
      "value": " 140/140 [01:59&lt;00:00,  1.17it/s]"
     }
    },
    "39fd5938a4df4de2891cd8393dd7af2f": {
     "model_module": "@jupyter-widgets/controls",
     "model_name": "DescriptionStyleModel",
     "state": {
      "_model_module": "@jupyter-widgets/controls",
      "_model_module_version": "1.5.0",
      "_model_name": "DescriptionStyleModel",
      "_view_count": null,
      "_view_module": "@jupyter-widgets/base",
      "_view_module_version": "1.2.0",
      "_view_name": "StyleView",
      "description_width": ""
     }
    },
    "6b163e4049ca4cbe8a24e7ac79ced8a5": {
     "model_module": "@jupyter-widgets/controls",
     "model_name": "HBoxModel",
     "state": {
      "_dom_classes": [],
      "_model_module": "@jupyter-widgets/controls",
      "_model_module_version": "1.5.0",
      "_model_name": "HBoxModel",
      "_view_count": null,
      "_view_module": "@jupyter-widgets/controls",
      "_view_module_version": "1.5.0",
      "_view_name": "HBoxView",
      "box_style": "",
      "children": [
       "IPY_MODEL_b02fccb0afa047999665079b5248015f",
       "IPY_MODEL_10748c34bb5448d9a34cd200a3979d56"
      ],
      "layout": "IPY_MODEL_be0f028285fa4e8da720237e1b1279bf"
     }
    },
    "7e2aa975791049c8a7f588ed76b379c0": {
     "model_module": "@jupyter-widgets/base",
     "model_name": "LayoutModel",
     "state": {
      "_model_module": "@jupyter-widgets/base",
      "_model_module_version": "1.2.0",
      "_model_name": "LayoutModel",
      "_view_count": null,
      "_view_module": "@jupyter-widgets/base",
      "_view_module_version": "1.2.0",
      "_view_name": "LayoutView",
      "align_content": null,
      "align_items": null,
      "align_self": null,
      "border": null,
      "bottom": null,
      "display": null,
      "flex": null,
      "flex_flow": null,
      "grid_area": null,
      "grid_auto_columns": null,
      "grid_auto_flow": null,
      "grid_auto_rows": null,
      "grid_column": null,
      "grid_gap": null,
      "grid_row": null,
      "grid_template_areas": null,
      "grid_template_columns": null,
      "grid_template_rows": null,
      "height": null,
      "justify_content": null,
      "justify_items": null,
      "left": null,
      "margin": null,
      "max_height": null,
      "max_width": null,
      "min_height": null,
      "min_width": null,
      "object_fit": null,
      "object_position": null,
      "order": null,
      "overflow": null,
      "overflow_x": null,
      "overflow_y": null,
      "padding": null,
      "right": null,
      "top": null,
      "visibility": null,
      "width": null
     }
    },
    "b02fccb0afa047999665079b5248015f": {
     "model_module": "@jupyter-widgets/controls",
     "model_name": "FloatProgressModel",
     "state": {
      "_dom_classes": [],
      "_model_module": "@jupyter-widgets/controls",
      "_model_module_version": "1.5.0",
      "_model_name": "FloatProgressModel",
      "_view_count": null,
      "_view_module": "@jupyter-widgets/controls",
      "_view_module_version": "1.5.0",
      "_view_name": "ProgressView",
      "bar_style": "success",
      "description": "Batches: 100%",
      "description_tooltip": null,
      "layout": "IPY_MODEL_ea4553e744634f56a3128b209cac5330",
      "max": 140,
      "min": 0,
      "orientation": "horizontal",
      "style": "IPY_MODEL_b927e6a6b1c44be1be1f58d582da2f6a",
      "value": 140
     }
    },
    "b927e6a6b1c44be1be1f58d582da2f6a": {
     "model_module": "@jupyter-widgets/controls",
     "model_name": "ProgressStyleModel",
     "state": {
      "_model_module": "@jupyter-widgets/controls",
      "_model_module_version": "1.5.0",
      "_model_name": "ProgressStyleModel",
      "_view_count": null,
      "_view_module": "@jupyter-widgets/base",
      "_view_module_version": "1.2.0",
      "_view_name": "StyleView",
      "bar_color": null,
      "description_width": "initial"
     }
    },
    "be0f028285fa4e8da720237e1b1279bf": {
     "model_module": "@jupyter-widgets/base",
     "model_name": "LayoutModel",
     "state": {
      "_model_module": "@jupyter-widgets/base",
      "_model_module_version": "1.2.0",
      "_model_name": "LayoutModel",
      "_view_count": null,
      "_view_module": "@jupyter-widgets/base",
      "_view_module_version": "1.2.0",
      "_view_name": "LayoutView",
      "align_content": null,
      "align_items": null,
      "align_self": null,
      "border": null,
      "bottom": null,
      "display": null,
      "flex": null,
      "flex_flow": null,
      "grid_area": null,
      "grid_auto_columns": null,
      "grid_auto_flow": null,
      "grid_auto_rows": null,
      "grid_column": null,
      "grid_gap": null,
      "grid_row": null,
      "grid_template_areas": null,
      "grid_template_columns": null,
      "grid_template_rows": null,
      "height": null,
      "justify_content": null,
      "justify_items": null,
      "left": null,
      "margin": null,
      "max_height": null,
      "max_width": null,
      "min_height": null,
      "min_width": null,
      "object_fit": null,
      "object_position": null,
      "order": null,
      "overflow": null,
      "overflow_x": null,
      "overflow_y": null,
      "padding": null,
      "right": null,
      "top": null,
      "visibility": null,
      "width": null
     }
    },
    "ea4553e744634f56a3128b209cac5330": {
     "model_module": "@jupyter-widgets/base",
     "model_name": "LayoutModel",
     "state": {
      "_model_module": "@jupyter-widgets/base",
      "_model_module_version": "1.2.0",
      "_model_name": "LayoutModel",
      "_view_count": null,
      "_view_module": "@jupyter-widgets/base",
      "_view_module_version": "1.2.0",
      "_view_name": "LayoutView",
      "align_content": null,
      "align_items": null,
      "align_self": null,
      "border": null,
      "bottom": null,
      "display": null,
      "flex": null,
      "flex_flow": null,
      "grid_area": null,
      "grid_auto_columns": null,
      "grid_auto_flow": null,
      "grid_auto_rows": null,
      "grid_column": null,
      "grid_gap": null,
      "grid_row": null,
      "grid_template_areas": null,
      "grid_template_columns": null,
      "grid_template_rows": null,
      "height": null,
      "justify_content": null,
      "justify_items": null,
      "left": null,
      "margin": null,
      "max_height": null,
      "max_width": null,
      "min_height": null,
      "min_width": null,
      "object_fit": null,
      "object_position": null,
      "order": null,
      "overflow": null,
      "overflow_x": null,
      "overflow_y": null,
      "padding": null,
      "right": null,
      "top": null,
      "visibility": null,
      "width": null
     }
    }
   }
  }
 },
 "nbformat": 4,
 "nbformat_minor": 4
}

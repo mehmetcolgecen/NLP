{
 "cells": [
  {
   "cell_type": "code",
   "execution_count": 4,
   "metadata": {},
   "outputs": [],
   "source": [
    "import re\n",
    "import pandas as pd\n",
    "import numpy as np\n",
    "from sklearn.cluster import KMeans\n",
    "import umap\n",
    "import nltk\n",
    "import spacy\n",
    "import string\n",
    "import hdbscan\n",
    "\n",
    "import preprocessor as p\n",
    "\n",
    "import matplotlib.pyplot as plt\n",
    "from matplotlib.axes._axes import _log as matplotlib_axes_logger\n",
    "matplotlib_axes_logger.setLevel('ERROR')\n",
    "import seaborn as sns\n",
    "sns.set(style='white', rc={'figure.figsize':(10,8)})\n",
    "\n",
    "np.random.seed(42)\n",
    "%config Completer.use_jedi = False\n",
    "pd.set_option('display.max_columns', 30)\n",
    "# pd.set_option('display.max_rows', 100)\n",
    "\n",
    "nlp = spacy.load(\"en_core_web_sm\")"
   ]
  },
  {
   "cell_type": "code",
   "execution_count": 5,
   "metadata": {
    "colab": {
     "base_uri": "https://localhost:8080/",
     "height": 621
    },
    "id": "ek3w6OZQsoqv",
    "outputId": "92306d37-cc10-4cb7-c62e-006de9eae451"
   },
   "outputs": [
    {
     "data": {
      "text/html": [
       "<div>\n",
       "<style scoped>\n",
       "    .dataframe tbody tr th:only-of-type {\n",
       "        vertical-align: middle;\n",
       "    }\n",
       "\n",
       "    .dataframe tbody tr th {\n",
       "        vertical-align: top;\n",
       "    }\n",
       "\n",
       "    .dataframe thead th {\n",
       "        text-align: right;\n",
       "    }\n",
       "</style>\n",
       "<table border=\"1\" class=\"dataframe\">\n",
       "  <thead>\n",
       "    <tr style=\"text-align: right;\">\n",
       "      <th></th>\n",
       "      <th>Unnamed: 0</th>\n",
       "      <th>comments</th>\n",
       "    </tr>\n",
       "  </thead>\n",
       "  <tbody>\n",
       "    <tr>\n",
       "      <th>0</th>\n",
       "      <td>0</td>\n",
       "      <td>@octopus_energy I think your wheel is broken 🤣...</td>\n",
       "    </tr>\n",
       "    <tr>\n",
       "      <th>1</th>\n",
       "      <td>1</td>\n",
       "      <td>Our 3 stories of the week...\\n\\nNo 3: Kind cou...</td>\n",
       "    </tr>\n",
       "    <tr>\n",
       "      <th>2</th>\n",
       "      <td>2</td>\n",
       "      <td>@adamtranter Glad I jumped ship ages ago. Hope...</td>\n",
       "    </tr>\n",
       "    <tr>\n",
       "      <th>3</th>\n",
       "      <td>3</td>\n",
       "      <td>@newelland @octopus_energy I get that HRM is u...</td>\n",
       "    </tr>\n",
       "    <tr>\n",
       "      <th>4</th>\n",
       "      <td>4</td>\n",
       "      <td>@newelland @octopus_energy I've also wondered ...</td>\n",
       "    </tr>\n",
       "  </tbody>\n",
       "</table>\n",
       "</div>"
      ],
      "text/plain": [
       "   Unnamed: 0                                           comments\n",
       "0           0  @octopus_energy I think your wheel is broken 🤣...\n",
       "1           1  Our 3 stories of the week...\\n\\nNo 3: Kind cou...\n",
       "2           2  @adamtranter Glad I jumped ship ages ago. Hope...\n",
       "3           3  @newelland @octopus_energy I get that HRM is u...\n",
       "4           4  @newelland @octopus_energy I've also wondered ..."
      ]
     },
     "execution_count": 5,
     "metadata": {},
     "output_type": "execute_result"
    }
   ],
   "source": [
    "df = pd.read_csv('mindvalley_tweets.csv')\n",
    "df.rename(columns={\"tweet\":\"comments\"},inplace=True)\n",
    "df.head()"
   ]
  },
  {
   "cell_type": "code",
   "execution_count": 6,
   "metadata": {},
   "outputs": [],
   "source": [
    "df.comments.replace(\"\\n\" , \" \", regex=True, inplace = True)\n",
    "df.comments=df.comments.apply(lambda x:p.clean(str(x)))"
   ]
  },
  {
   "cell_type": "code",
   "execution_count": 7,
   "metadata": {},
   "outputs": [],
   "source": [
    "df.replace('nan', np.nan, inplace = True)\n",
    "df.replace('', np.nan, inplace = True)\n",
    "df.replace('do', np.nan, inplace = True)\n",
    "df = df.dropna()"
   ]
  },
  {
   "cell_type": "code",
   "execution_count": 8,
   "metadata": {},
   "outputs": [],
   "source": [
    "list_data = df.comments.unique().tolist()"
   ]
  },
  {
   "cell_type": "code",
   "execution_count": 9,
   "metadata": {},
   "outputs": [
    {
     "data": {
      "text/plain": [
       "499"
      ]
     },
     "execution_count": 9,
     "metadata": {},
     "output_type": "execute_result"
    }
   ],
   "source": [
    "len(list_data)"
   ]
  },
  {
   "cell_type": "code",
   "execution_count": 10,
   "metadata": {},
   "outputs": [],
   "source": [
    "from sentence_transformers import SentenceTransformer"
   ]
  },
  {
   "cell_type": "code",
   "execution_count": 11,
   "metadata": {},
   "outputs": [],
   "source": [
    "# distilbert-base-nli-mean-tokens\n",
    "# paraphrase-distilroberta-base-v1\n",
    "# roberta-large-nli-stsb-mean-tokens\n",
    "#allenai-specter\n"
   ]
  },
  {
   "cell_type": "code",
   "execution_count": 12,
   "metadata": {
    "colab": {
     "base_uri": "https://localhost:8080/",
     "height": 67,
     "referenced_widgets": [
      "6b163e4049ca4cbe8a24e7ac79ced8a5",
      "be0f028285fa4e8da720237e1b1279bf",
      "b02fccb0afa047999665079b5248015f",
      "10748c34bb5448d9a34cd200a3979d56",
      "b927e6a6b1c44be1be1f58d582da2f6a",
      "ea4553e744634f56a3128b209cac5330",
      "39fd5938a4df4de2891cd8393dd7af2f",
      "7e2aa975791049c8a7f588ed76b379c0"
     ]
    },
    "id": "BjwnhvRQtW2S",
    "outputId": "458d7bd4-ba13-4112-85a9-fb050e99008f"
   },
   "outputs": [
    {
     "data": {
      "application/vnd.jupyter.widget-view+json": {
       "model_id": "20731d8bbc914271b173057e1be704a5",
       "version_major": 2,
       "version_minor": 0
      },
      "text/plain": [
       "Batches:   0%|          | 0/16 [00:00<?, ?it/s]"
      ]
     },
     "metadata": {},
     "output_type": "display_data"
    }
   ],
   "source": [
    "model=SentenceTransformer('xlm-r-distilroberta-base-paraphrase-v1')\n",
    "embeddings = model.encode(list_data, show_progress_bar=True)"
   ]
  },
  {
   "cell_type": "code",
   "execution_count": 13,
   "metadata": {
    "id": "g8zUQEqTta2y"
   },
   "outputs": [],
   "source": [
    "best_model = umap.UMAP(n_components=5).fit_transform(embeddings)\n",
    "\n",
    "#n_neighbors=10, min_dist=0.0, "
   ]
  },
  {
   "cell_type": "code",
   "execution_count": 14,
   "metadata": {},
   "outputs": [
    {
     "data": {
      "image/png": "[encoded data removed]",
      "text/plain": [
       "<Figure size 720x576 with 1 Axes>"
      ]
     },
     "metadata": {},
     "output_type": "display_data"
    }
   ],
   "source": [
    "#inertia\n",
    "\n",
    "kmeans_per_k = [KMeans(n_clusters=k, random_state=42).fit(best_model)\n",
    "                for k in range(1, 10)]\n",
    "inertias = [model.inertia_ for model in kmeans_per_k]\n",
    "\n",
    "plt.plot(range(1, 10), inertias, \"bo-\")\n",
    "plt.xlabel(\"$k$\", fontsize=14)\n",
    "plt.ylabel(\"Inertia\", fontsize=14)\n",
    "plt.show()"
   ]
  },
  {
   "cell_type": "code",
   "execution_count": 15,
   "metadata": {},
   "outputs": [],
   "source": [
    "# from nltk.cluster import KMeansClusterer,euclidean_distance\n",
    "# clusterer =KMeansClusterer(6,euclidean_distance)\n",
    "# cluster=np.array(clusterer.cluster(best_model,True))"
   ]
  },
  {
   "cell_type": "code",
   "execution_count": 16,
   "metadata": {},
   "outputs": [],
   "source": [
    "# cluster = KMeans(n_clusters=1, init=\"k-means++\").fit_predict(best_model)"
   ]
  },
  {
   "cell_type": "code",
   "execution_count": 17,
   "metadata": {},
   "outputs": [],
   "source": [
    "cluster = hdbscan.HDBSCAN().fit_predict(best_model)"
   ]
  },
  {
   "cell_type": "code",
   "execution_count": 18,
   "metadata": {
    "colab": {
     "base_uri": "https://localhost:8080/",
     "height": 523
    },
    "id": "bqq2_WsRtbN3",
    "outputId": "8e6703c5-89b1-434e-e8e5-74468bf87f8b"
   },
   "outputs": [],
   "source": [
    "def plot(cluster = cluster):    \n",
    "\n",
    "    clustered = (cluster >= 0)\n",
    "    reduced_dim = umap.UMAP(n_components=2).fit_transform(embeddings)\n",
    "\n",
    "\n",
    "\n",
    "    unique, counts = np.unique(cluster, return_counts=True)\n",
    "    print(dict(zip(unique, counts)))\n",
    "\n",
    "    plt.scatter(reduced_dim[~clustered, 0],\n",
    "                reduced_dim[~clustered, 1],\n",
    "                c=(0.5,0.5,0.5),\n",
    "                # s=1,\n",
    "                alpha=0.5\n",
    "                )\n",
    "    plt.scatter(reduced_dim[clustered, 0],\n",
    "                reduced_dim[clustered, 1],\n",
    "                c=cluster[clustered],\n",
    "                # s=1,\n",
    "                cmap='Accent')\n",
    "    plt.show()"
   ]
  },
  {
   "cell_type": "code",
   "execution_count": 19,
   "metadata": {},
   "outputs": [
    {
     "name": "stdout",
     "output_type": "stream",
     "text": [
      "{-1: 136, 0: 25, 1: 7, 2: 133, 3: 13, 4: 12, 5: 42, 6: 8, 7: 7, 8: 13, 9: 16, 10: 16, 11: 32, 12: 9, 13: 30}\n"
     ]
    },
    {
     "data": {
      "image/png": "[encoded data removed]",
      "text/plain": [
       "<Figure size 720x576 with 1 Axes>"
      ]
     },
     "metadata": {},
     "output_type": "display_data"
    }
   ],
   "source": [
    "plot()"
   ]
  },
  {
   "cell_type": "code",
   "execution_count": 20,
   "metadata": {},
   "outputs": [
    {
     "data": {
      "text/plain": [
       "499"
      ]
     },
     "execution_count": 20,
     "metadata": {},
     "output_type": "execute_result"
    }
   ],
   "source": [
    "len(cluster)"
   ]
  },
  {
   "cell_type": "code",
   "execution_count": 23,
   "metadata": {},
   "outputs": [],
   "source": [
    "def word_root(text):\n",
    "    list_data3=[]\n",
    "    doc = nlp(text)\n",
    "    for token in doc:\n",
    "        if token.text.isalpha() and len(token.text)>2:\n",
    "            lemma = token.lemma_\n",
    "            list_data3.append(lemma)\n",
    "        else:pass\n",
    "    return \" \".join(list_data3)"
   ]
  },
  {
   "cell_type": "code",
   "execution_count": 24,
   "metadata": {},
   "outputs": [
    {
     "data": {
      "text/html": [
       "<div>\n",
       "<style scoped>\n",
       "    .dataframe tbody tr th:only-of-type {\n",
       "        vertical-align: middle;\n",
       "    }\n",
       "\n",
       "    .dataframe tbody tr th {\n",
       "        vertical-align: top;\n",
       "    }\n",
       "\n",
       "    .dataframe thead th {\n",
       "        text-align: right;\n",
       "    }\n",
       "</style>\n",
       "<table border=\"1\" class=\"dataframe\">\n",
       "  <thead>\n",
       "    <tr style=\"text-align: right;\">\n",
       "      <th></th>\n",
       "      <th>cluster</th>\n",
       "      <th>comments</th>\n",
       "    </tr>\n",
       "  </thead>\n",
       "  <tbody>\n",
       "    <tr>\n",
       "      <th>0</th>\n",
       "      <td>-1</td>\n",
       "      <td>I think your wheel be break l it hit and roll ...</td>\n",
       "    </tr>\n",
       "    <tr>\n",
       "      <th>1</th>\n",
       "      <td>0</td>\n",
       "      <td>octopus energy help natwest group customer swi...</td>\n",
       "    </tr>\n",
       "    <tr>\n",
       "      <th>2</th>\n",
       "      <td>1</td>\n",
       "      <td>I could listen to all day enthuse wildly about...</td>\n",
       "    </tr>\n",
       "    <tr>\n",
       "      <th>3</th>\n",
       "      <td>2</td>\n",
       "      <td>I get that hrm be use to exert control over em...</td>\n",
       "    </tr>\n",
       "    <tr>\n",
       "      <th>4</th>\n",
       "      <td>3</td>\n",
       "      <td>yeah I hear mostly good thing about they he be...</td>\n",
       "    </tr>\n",
       "    <tr>\n",
       "      <th>5</th>\n",
       "      <td>4</td>\n",
       "      <td>we ve be with they for a while brilliant compa...</td>\n",
       "    </tr>\n",
       "    <tr>\n",
       "      <th>6</th>\n",
       "      <td>5</td>\n",
       "      <td>love this I know we too and I encourage load o...</td>\n",
       "    </tr>\n",
       "    <tr>\n",
       "      <th>7</th>\n",
       "      <td>6</td>\n",
       "      <td>why be it so difficult to switch from you to I...</td>\n",
       "    </tr>\n",
       "    <tr>\n",
       "      <th>8</th>\n",
       "      <td>7</td>\n",
       "      <td>I just check online banking and it show a pend...</td>\n",
       "    </tr>\n",
       "    <tr>\n",
       "      <th>9</th>\n",
       "      <td>8</td>\n",
       "      <td>wonder if anyone be actually still work at day...</td>\n",
       "    </tr>\n",
       "    <tr>\n",
       "      <th>10</th>\n",
       "      <td>9</td>\n",
       "      <td>thank I have send a message as they ve be inst...</td>\n",
       "    </tr>\n",
       "    <tr>\n",
       "      <th>11</th>\n",
       "      <td>10</td>\n",
       "      <td>for your energy policy lecture utterly devasta...</td>\n",
       "    </tr>\n",
       "    <tr>\n",
       "      <th>12</th>\n",
       "      <td>11</td>\n",
       "      <td>can we have a timetable for smart meter roll o...</td>\n",
       "    </tr>\n",
       "    <tr>\n",
       "      <th>13</th>\n",
       "      <td>12</td>\n",
       "      <td>of a cent a kwh or c kwh be that due to cheap ...</td>\n",
       "    </tr>\n",
       "    <tr>\n",
       "      <th>14</th>\n",
       "      <td>13</td>\n",
       "      <td>switch your gas and electric before the price ...</td>\n",
       "    </tr>\n",
       "  </tbody>\n",
       "</table>\n",
       "</div>"
      ],
      "text/plain": [
       "    cluster                                           comments\n",
       "0        -1  I think your wheel be break l it hit and roll ...\n",
       "1         0  octopus energy help natwest group customer swi...\n",
       "2         1  I could listen to all day enthuse wildly about...\n",
       "3         2  I get that hrm be use to exert control over em...\n",
       "4         3  yeah I hear mostly good thing about they he be...\n",
       "5         4  we ve be with they for a while brilliant compa...\n",
       "6         5  love this I know we too and I encourage load o...\n",
       "7         6  why be it so difficult to switch from you to I...\n",
       "8         7  I just check online banking and it show a pend...\n",
       "9         8  wonder if anyone be actually still work at day...\n",
       "10        9  thank I have send a message as they ve be inst...\n",
       "11       10  for your energy policy lecture utterly devasta...\n",
       "12       11  can we have a timetable for smart meter roll o...\n",
       "13       12  of a cent a kwh or c kwh be that due to cheap ...\n",
       "14       13  switch your gas and electric before the price ..."
      ]
     },
     "execution_count": 24,
     "metadata": {},
     "output_type": "execute_result"
    }
   ],
   "source": [
    "docs = pd.DataFrame(list_data,columns=[\"comments\"])\n",
    "docs[\"cluster\"] = cluster\n",
    "labeled_docs = docs.groupby([\"cluster\"], as_index=False).agg({\"comments\": \" \".join})\n",
    "labeled_docs.comments = labeled_docs.comments.apply(lambda x: word_root(str(x).lower()))  \n",
    "labeled_docs"
   ]
  },
  {
   "cell_type": "code",
   "execution_count": 25,
   "metadata": {},
   "outputs": [
    {
     "name": "stdout",
     "output_type": "stream",
     "text": [
      "\u001b[1m   Bigram Cluster 1: \u001b[0m\n",
      "[('switch octopus', 0.5125), ('octopus toy', 0.507), ('toy octopus', 0.4822), ('nt octopusenergy', 0.4788), ('merge octopus', 0.4778), ('octopus octopi', 0.4772), ('energy octopus', 0.4749), ('octopus live', 0.4723), ('octopus app', 0.4698), ('octopus energy', 0.4678)]\n",
      "\u001b[1m   Bigram Cluster 2: \u001b[0m\n",
      "[('podcast listen', 0.5941), ('good podcast', 0.5488), ('podcast interesting', 0.5442), ('interview podcast', 0.5268), ('podcast highly', 0.4809), ('today podcast', 0.4733), ('podcast global', 0.4619), ('watching listen', 0.4461), ('send podcast', 0.4364), ('amp podcast', 0.4355)]\n",
      "\u001b[1m   Bigram Cluster 3: \u001b[0m\n",
      "[('like organisational', 0.4398), ('company tendency', 0.4221), ('personnel management', 0.402), ('company work', 0.4012), ('management ve', 0.4006), ('approach organizational', 0.3984), ('worker organisation', 0.3923), ('management team', 0.3896), ('work leadership', 0.3877), ('talent management', 0.3847)]\n",
      "\u001b[1m   Bigram Cluster 4: \u001b[0m\n",
      "[('differ gorgeous', 0.4127), ('hear quite', 0.4073), ('hear good', 0.3987), ('sound quite', 0.3898), ('absolutely brilliant', 0.3775), ('buyer clueless', 0.3706), ('quite similar', 0.3705), ('quite disastrous', 0.3634), ('beg differ', 0.3453), ('quite bad', 0.325)]\n",
      "\u001b[1m   Bigram Cluster 5: \u001b[0m\n",
      "[('great company', 0.5297), ('fantastic company', 0.5127), ('brilliant company', 0.4793), ('service fantastic', 0.474), ('efficient service', 0.4295), ('terrible service', 0.4246), ('great customer', 0.401), ('fab great', 0.3831), ('good customer', 0.3652), ('usually excellent', 0.3552)]\n",
      "\u001b[1m   Bigram Cluster 6: \u001b[0m\n",
      "[('adorable thank', 0.5821), ('awesome thank', 0.5267), ('great thank', 0.5215), ('close thank', 0.5181), ('thank love', 0.5178), ('thank hello', 0.5164), ('yey thank', 0.5117), ('watch thankyou', 0.4981), ('thank sharing', 0.4927), ('help thank', 0.4917)]\n",
      "\u001b[1m   Bigram Cluster 7: \u001b[0m\n",
      "[('switch eon', 0.4661), ('choose switch', 0.457), ('difficult switch', 0.403), ('transfer eon', 0.3856), ('switch hear', 0.372), ('switch whilst', 0.3651), ('nt choose', 0.3638), ('network transfer', 0.3281), ('green network', 0.3245), ('start switch', 0.3228)]\n",
      "\u001b[1m   Bigram Cluster 8: \u001b[0m\n",
      "[('ve account', 0.4008), ('account old', 0.3978), ('log account', 0.3729), ('account thing', 0.3711), ('merge account', 0.352), ('happen account', 0.3507), ('online banking', 0.3499), ('account reactivate', 0.3232), ('just check', 0.3196), ('setup just', 0.3184)]\n",
      "\u001b[1m   Bigram Cluster 9: \u001b[0m\n",
      "[('reply email', 0.4291), ('day wait', 0.4194), ('response email', 0.4179), ('try phone', 0.4044), ('pick email', 0.3968), ('email response', 0.3877), ('hey email', 0.3859), ('email send', 0.3837), ('wait response', 0.3786), ('week email', 0.3782)]\n",
      "\u001b[1m   Bigram Cluster 10: \u001b[0m\n",
      "[('thank send', 0.5281), ('send thank', 0.5112), ('send message', 0.4963), ('help message', 0.4678), ('just send', 0.4404), ('service hi', 0.4191), ('message ve', 0.4133), ('tariff thank', 0.3998), ('thank thank', 0.3911), ('thank speedy', 0.3848)]\n",
      "\u001b[1m   Bigram Cluster 11: \u001b[0m\n",
      "[('energy supplier', 0.4139), ('change supplier', 0.4079), ('switch supplier', 0.3965), ('energy provider', 0.375), ('energy policy', 0.3704), ('energy listen', 0.3675), ('recommend supplier', 0.3627), ('energy company', 0.3248), ('discover investor', 0.3189), ('supplier unless', 0.3174)]\n",
      "\u001b[1m   Bigram Cluster 12: \u001b[0m\n",
      "[('smart meter', 0.4821), ('meter faulty', 0.4551), ('meter read', 0.4544), ('meter instal', 0.4538), ('need meter', 0.4529), ('meter expect', 0.4528), ('electric meter', 0.4461), ('send meter', 0.4422), ('clarify meter', 0.441), ('service meter', 0.4382)]\n",
      "\u001b[1m   Bigram Cluster 13: \u001b[0m\n",
      "[('cheap renewable', 0.438), ('renewable solar', 0.4282), ('swb solar', 0.4201), ('flexible tariff', 0.4106), ('wind turbine', 0.4067), ('solar wind', 0.4026), ('turbine tesla', 0.3947), ('electricity generation', 0.3942), ('tesla tariff', 0.3751), ('mention wind', 0.3743)]\n",
      "\u001b[1m   Bigram Cluster 14: \u001b[0m\n",
      "[('electric price', 0.501), ('switch gas', 0.4858), ('electricity cheap', 0.4806), ('charge gas', 0.4788), ('gas electric', 0.4514), ('charge electricity', 0.4477), ('gas overall', 0.4335), ('electricity kwh', 0.4306), ('kwh gas', 0.426), ('cheap gas', 0.4236)]\n"
     ]
    }
   ],
   "source": [
    "from keybert import KeyBERT\n",
    "array_text = labeled_docs.comments.tolist()\n",
    "kw_extractor = KeyBERT(model=model)\n",
    "bigram=[]\n",
    "for j in range(len(array_text)-1):\n",
    "    keywords = kw_extractor.extract_keywords(array_text[j+1],top_n=10,keyphrase_ngram_range=(2, 2))\n",
    "    print(f'\\033[1m   Bigram Cluster {j+1}: \\033[0m' )\n",
    "    print([word for word in keywords])\n",
    "    bigram.append([word[0] for word in keywords])"
   ]
  },
  {
   "cell_type": "code",
   "execution_count": 26,
   "metadata": {},
   "outputs": [
    {
     "name": "stdout",
     "output_type": "stream",
     "text": [
      "\u001b[1m   Unigram Cluster 1: \u001b[0m\n",
      "[('octopus', 0.4588), ('octopusenergy', 0.4427), ('octopod', 0.4209), ('octopi', 0.4185), ('octoshine', 0.3887), ('octopusesese', 0.388), ('pet', 0.3194), ('poop', 0.3041), ('twitter', 0.2888), ('support', 0.2781)]\n",
      "\u001b[1m   Unigram Cluster 2: \u001b[0m\n",
      "[('podcast', 0.4356), ('listen', 0.3095), ('interview', 0.2425), ('watching', 0.2368), ('electrification', 0.2292), ('technology', 0.2277), ('episode', 0.2245), ('tomorrow', 0.2217), ('session', 0.2206), ('interesting', 0.2183)]\n",
      "\u001b[1m   Unigram Cluster 3: \u001b[0m\n",
      "[('organisational', 0.3968), ('organizational', 0.3895), ('corporate', 0.3427), ('organisation', 0.3425), ('management', 0.3425), ('employer', 0.3358), ('employment', 0.3183), ('employee', 0.3181), ('employ', 0.3132), ('failure', 0.3108)]\n",
      "\u001b[1m   Unigram Cluster 4: \u001b[0m\n",
      "[('gorgeous', 0.3076), ('cheer', 0.2881), ('similar', 0.2723), ('buyer', 0.2719), ('quite', 0.269), ('hear', 0.2676), ('good', 0.2618), ('brilliant', 0.2571), ('differ', 0.2429), ('oooh', 0.2236)]\n",
      "\u001b[1m   Unigram Cluster 5: \u001b[0m\n",
      "[('excellent', 0.3599), ('fantastic', 0.2919), ('company', 0.2917), ('brilliant', 0.2832), ('good', 0.2772), ('terrible', 0.2721), ('great', 0.2631), ('funniest', 0.2534), ('pretty', 0.2489), ('service', 0.2451)]\n",
      "\u001b[1m   Unigram Cluster 6: \u001b[0m\n",
      "[('thankyou', 0.5113), ('thank', 0.4669), ('hello', 0.4109), ('congratulation', 0.3834), ('nice', 0.3823), ('lovely', 0.3821), ('adorable', 0.3743), ('wish', 0.372), ('wonderful', 0.3583), ('awesome', 0.3448)]\n",
      "\u001b[1m   Unigram Cluster 7: \u001b[0m\n",
      "[('switch', 0.3566), ('choose', 0.2896), ('transfer', 0.2652), ('eon', 0.2548), ('green', 0.2327), ('gne', 0.2154), ('waiting', 0.2104), ('hug', 0.19), ('want', 0.1854), ('hey', 0.1761)]\n",
      "\u001b[1m   Unigram Cluster 8: \u001b[0m\n",
      "[('account', 0.362), ('incase', 0.2393), ('banking', 0.2376), ('setup', 0.2335), ('check', 0.2307), ('customer', 0.2055), ('chase', 0.1877), ('just', 0.1819), ('delete', 0.1809), ('wait', 0.1786)]\n",
      "\u001b[1m   Unigram Cluster 9: \u001b[0m\n",
      "[('phone', 0.2319), ('wait', 0.2311), ('repeatedly', 0.2218), ('day', 0.2204), ('email', 0.2204), ('send', 0.2143), ('try', 0.2113), ('contact', 0.2023), ('reply', 0.2002), ('receive', 0.1995)]\n",
      "\u001b[1m   Unigram Cluster 10: \u001b[0m\n",
      "[('send', 0.3898), ('message', 0.3574), ('thank', 0.3357), ('email', 0.3115), ('gmail', 0.3086), ('sorry', 0.2922), ('volunteer', 0.2759), ('hi', 0.2756), ('assistance', 0.2709), ('lady', 0.2648)]\n",
      "\u001b[1m   Unigram Cluster 11: \u001b[0m\n",
      "[('supplier', 0.2672), ('provider', 0.247), ('switch', 0.2421), ('important', 0.2279), ('change', 0.2232), ('investor', 0.2177), ('supply', 0.2134), ('commitment', 0.2094), ('honest', 0.2038), ('apple', 0.1987)]\n",
      "\u001b[1m   Unigram Cluster 12: \u001b[0m\n",
      "[('meter', 0.3542), ('metre', 0.2853), ('march', 0.2802), ('timetable', 0.2522), ('electricity', 0.2399), ('number', 0.2321), ('electric', 0.2305), ('expect', 0.2255), ('battery', 0.2249), ('visit', 0.2234)]\n",
      "\u001b[1m   Unigram Cluster 13: \u001b[0m\n",
      "[('electricity', 0.3497), ('wind', 0.3033), ('turbine', 0.2993), ('tariff', 0.2807), ('supply', 0.2789), ('need', 0.2651), ('battery', 0.2544), ('solar', 0.2527), ('twitter', 0.2297), ('demand', 0.2234)]\n",
      "\u001b[1m   Unigram Cluster 14: \u001b[0m\n",
      "[('electricity', 0.3671), ('electric', 0.3389), ('gas', 0.3357), ('pricing', 0.3137), ('charge', 0.3098), ('charging', 0.298), ('temperature', 0.2967), ('heating', 0.2942), ('price', 0.2905), ('radio', 0.2738)]\n"
     ]
    }
   ],
   "source": [
    "unigram=[]\n",
    "for j in range(len(array_text)-1):\n",
    "    keywords = kw_extractor.extract_keywords(array_text[j+1],top_n=10,keyphrase_ngram_range=(1, 1))\n",
    "    print(f'\\033[1m   Unigram Cluster {j+1}: \\033[0m' )\n",
    "    print([word for word in keywords])\n",
    "    unigram.append([word[0] for word in keywords])"
   ]
  },
  {
   "cell_type": "code",
   "execution_count": 27,
   "metadata": {},
   "outputs": [
    {
     "name": "stdout",
     "output_type": "stream",
     "text": [
      "\u001b[1m   Cluster 1: \u001b[0m\n",
      "['octopus', 'octopusenergy', 'octopod', 'octopi', 'octoshine', 'octopusesese', 'pet', 'poop', 'twitter', 'support', 'switch octopus', 'octopus toy', 'nt octopusenergy', 'merge octopus', 'octopus octopi', 'energy octopus', 'octopus live', 'octopus app']\n",
      "\u001b[1m   Cluster 2: \u001b[0m\n",
      "['podcast', 'listen', 'interview', 'watching', 'electrification', 'technology', 'episode', 'tomorrow', 'session', 'interesting', 'podcast listen', 'good podcast', 'podcast interesting', 'interview podcast', 'podcast highly', 'today podcast', 'podcast global', 'watching listen', 'send podcast', 'amp podcast']\n",
      "\u001b[1m   Cluster 3: \u001b[0m\n",
      "['organisational', 'organizational', 'corporate', 'organisation', 'management', 'employer', 'employment', 'employee', 'employ', 'failure', 'like organisational', 'company tendency', 'personnel management', 'company work', 'management ve', 'approach organizational', 'worker organisation', 'management team', 'work leadership', 'talent management']\n",
      "\u001b[1m   Cluster 4: \u001b[0m\n",
      "['gorgeous', 'cheer', 'similar', 'buyer', 'quite', 'hear', 'good', 'brilliant', 'differ', 'oooh', 'differ gorgeous', 'hear quite', 'hear good', 'sound quite', 'absolutely brilliant', 'buyer clueless', 'quite similar', 'quite disastrous', 'beg differ', 'quite bad']\n",
      "\u001b[1m   Cluster 5: \u001b[0m\n",
      "['excellent', 'fantastic', 'company', 'brilliant', 'good', 'terrible', 'great', 'funniest', 'pretty', 'service', 'great company', 'fantastic company', 'brilliant company', 'service fantastic', 'efficient service', 'terrible service', 'great customer', 'fab great', 'good customer', 'usually excellent']\n",
      "\u001b[1m   Cluster 6: \u001b[0m\n",
      "['thankyou', 'thank', 'hello', 'congratulation', 'nice', 'lovely', 'adorable', 'wish', 'wonderful', 'awesome', 'adorable thank', 'awesome thank', 'great thank', 'close thank', 'thank love', 'thank hello', 'yey thank', 'watch thankyou', 'thank sharing', 'help thank']\n",
      "\u001b[1m   Cluster 7: \u001b[0m\n",
      "['switch', 'choose', 'transfer', 'eon', 'green', 'gne', 'waiting', 'hug', 'want', 'hey', 'switch eon', 'choose switch', 'difficult switch', 'transfer eon', 'switch hear', 'switch whilst', 'nt choose', 'network transfer', 'green network', 'start switch']\n",
      "\u001b[1m   Cluster 8: \u001b[0m\n",
      "['account', 'incase', 'banking', 'setup', 'check', 'customer', 'chase', 'just', 'delete', 'wait', 've account', 'account old', 'log account', 'account thing', 'merge account', 'happen account', 'online banking', 'account reactivate', 'just check', 'setup just']\n",
      "\u001b[1m   Cluster 9: \u001b[0m\n",
      "['phone', 'wait', 'repeatedly', 'day', 'email', 'send', 'try', 'contact', 'reply', 'receive', 'reply email', 'day wait', 'response email', 'try phone', 'pick email', 'hey email', 'email send', 'week email']\n",
      "\u001b[1m   Cluster 10: \u001b[0m\n",
      "['send', 'message', 'thank', 'email', 'gmail', 'sorry', 'volunteer', 'hi', 'assistance', 'lady', 'thank send', 'send message', 'help message', 'just send', 'service hi', 'message ve', 'tariff thank', 'thank speedy']\n",
      "\u001b[1m   Cluster 11: \u001b[0m\n",
      "['supplier', 'provider', 'switch', 'important', 'change', 'investor', 'supply', 'commitment', 'honest', 'apple', 'energy supplier', 'change supplier', 'switch supplier', 'energy provider', 'energy policy', 'energy listen', 'recommend supplier', 'energy company', 'discover investor', 'supplier unless']\n",
      "\u001b[1m   Cluster 12: \u001b[0m\n",
      "['meter', 'metre', 'march', 'timetable', 'electricity', 'number', 'electric', 'expect', 'battery', 'visit', 'smart meter', 'meter faulty', 'meter read', 'meter instal', 'need meter', 'meter expect', 'electric meter', 'send meter', 'clarify meter', 'service meter']\n",
      "\u001b[1m   Cluster 13: \u001b[0m\n",
      "['electricity', 'wind', 'turbine', 'tariff', 'supply', 'need', 'battery', 'solar', 'twitter', 'demand', 'cheap renewable', 'renewable solar', 'swb solar', 'flexible tariff', 'wind turbine', 'turbine tesla', 'electricity generation', 'mention wind']\n",
      "\u001b[1m   Cluster 14: \u001b[0m\n",
      "['electricity', 'electric', 'gas', 'pricing', 'charge', 'charging', 'temperature', 'heating', 'price', 'radio', 'electric price', 'switch gas', 'electricity cheap', 'charge gas', 'gas overall', 'electricity kwh']\n"
     ]
    }
   ],
   "source": [
    "for i in range(len(array_text)-1):\n",
    "    clusterer=[]\n",
    "    bigramer=[]\n",
    "    print(f'\\033[1m   Cluster {i+1}: \\033[0m')\n",
    "    [clusterer.append(j) for j in unigram[i]]\n",
    "    clusterer.append(bigram[i][0])\n",
    "    \n",
    "    for word in bigram[i][0].split(\" \"):\n",
    "        if word not in bigramer:\n",
    "            bigramer.append(word)\n",
    "    \n",
    "    for each in bigram[i]:\n",
    "        first,second=each.split(\" \")\n",
    "        if first != second and not(first in bigramer and second in bigramer):\n",
    "            clusterer.append(each)\n",
    "            if bigramer.append(first): first not in bigramer\n",
    "            if bigramer.append(second): second not in bigramer\n",
    "    print(clusterer)"
   ]
  },
  {
   "cell_type": "code",
   "execution_count": null,
   "metadata": {},
   "outputs": [],
   "source": []
  }
 ],
 "metadata": {
  "colab": {
   "name": "Untitled5.ipynb",
   "provenance": []
  },
  "kernelspec": {
   "display_name": "Python 3",
   "language": "python",
   "name": "python3"
  },
  "language_info": {
   "codemirror_mode": {
    "name": "ipython",
    "version": 3
   },
   "file_extension": ".py",
   "mimetype": "text/x-python",
   "name": "python",
   "nbconvert_exporter": "python",
   "pygments_lexer": "ipython3",
   "version": "3.8.7"
  },
  "varInspector": {
   "cols": {
    "lenName": 16,
    "lenType": 16,
    "lenVar": 40
   },
   "kernels_config": {
    "python": {
     "delete_cmd_postfix": "",
     "delete_cmd_prefix": "del ",
     "library": "var_list.py",
     "varRefreshCmd": "print(var_dic_list())"
    },
    "r": {
     "delete_cmd_postfix": ") ",
     "delete_cmd_prefix": "rm(",
     "library": "var_list.r",
     "varRefreshCmd": "cat(var_dic_list()) "
    }
   },
   "types_to_exclude": [
    "module",
    "function",
    "builtin_function_or_method",
    "instance",
    "_Feature"
   ],
   "window_display": false
  },
  "widgets": {
   "application/vnd.jupyter.widget-state+json": {
    "10748c34bb5448d9a34cd200a3979d56": {
     "model_module": "@jupyter-widgets/controls",
     "model_name": "HTMLModel",
     "state": {
      "_dom_classes": [],
      "_model_module": "@jupyter-widgets/controls",
      "_model_module_version": "1.5.0",
      "_model_name": "HTMLModel",
      "_view_count": null,
      "_view_module": "@jupyter-widgets/controls",
      "_view_module_version": "1.5.0",
      "_view_name": "HTMLView",
      "description": "",
      "description_tooltip": null,
      "layout": "IPY_MODEL_7e2aa975791049c8a7f588ed76b379c0",
      "placeholder": "​",
      "style": "IPY_MODEL_39fd5938a4df4de2891cd8393dd7af2f",
      "value": " 140/140 [01:59&lt;00:00,  1.17it/s]"
     }
    },
    "39fd5938a4df4de2891cd8393dd7af2f": {
     "model_module": "@jupyter-widgets/controls",
     "model_name": "DescriptionStyleModel",
     "state": {
      "_model_module": "@jupyter-widgets/controls",
      "_model_module_version": "1.5.0",
      "_model_name": "DescriptionStyleModel",
      "_view_count": null,
      "_view_module": "@jupyter-widgets/base",
      "_view_module_version": "1.2.0",
      "_view_name": "StyleView",
      "description_width": ""
     }
    },
    "6b163e4049ca4cbe8a24e7ac79ced8a5": {
     "model_module": "@jupyter-widgets/controls",
     "model_name": "HBoxModel",
     "state": {
      "_dom_classes": [],
      "_model_module": "@jupyter-widgets/controls",
      "_model_module_version": "1.5.0",
      "_model_name": "HBoxModel",
      "_view_count": null,
      "_view_module": "@jupyter-widgets/controls",
      "_view_module_version": "1.5.0",
      "_view_name": "HBoxView",
      "box_style": "",
      "children": [
       "IPY_MODEL_b02fccb0afa047999665079b5248015f",
       "IPY_MODEL_10748c34bb5448d9a34cd200a3979d56"
      ],
      "layout": "IPY_MODEL_be0f028285fa4e8da720237e1b1279bf"
     }
    },
    "7e2aa975791049c8a7f588ed76b379c0": {
     "model_module": "@jupyter-widgets/base",
     "model_name": "LayoutModel",
     "state": {
      "_model_module": "@jupyter-widgets/base",
      "_model_module_version": "1.2.0",
      "_model_name": "LayoutModel",
      "_view_count": null,
      "_view_module": "@jupyter-widgets/base",
      "_view_module_version": "1.2.0",
      "_view_name": "LayoutView",
      "align_content": null,
      "align_items": null,
      "align_self": null,
      "border": null,
      "bottom": null,
      "display": null,
      "flex": null,
      "flex_flow": null,
      "grid_area": null,
      "grid_auto_columns": null,
      "grid_auto_flow": null,
      "grid_auto_rows": null,
      "grid_column": null,
      "grid_gap": null,
      "grid_row": null,
      "grid_template_areas": null,
      "grid_template_columns": null,
      "grid_template_rows": null,
      "height": null,
      "justify_content": null,
      "justify_items": null,
      "left": null,
      "margin": null,
      "max_height": null,
      "max_width": null,
      "min_height": null,
      "min_width": null,
      "object_fit": null,
      "object_position": null,
      "order": null,
      "overflow": null,
      "overflow_x": null,
      "overflow_y": null,
      "padding": null,
      "right": null,
      "top": null,
      "visibility": null,
      "width": null
     }
    },
    "b02fccb0afa047999665079b5248015f": {
     "model_module": "@jupyter-widgets/controls",
     "model_name": "FloatProgressModel",
     "state": {
      "_dom_classes": [],
      "_model_module": "@jupyter-widgets/controls",
      "_model_module_version": "1.5.0",
      "_model_name": "FloatProgressModel",
      "_view_count": null,
      "_view_module": "@jupyter-widgets/controls",
      "_view_module_version": "1.5.0",
      "_view_name": "ProgressView",
      "bar_style": "success",
      "description": "Batches: 100%",
      "description_tooltip": null,
      "layout": "IPY_MODEL_ea4553e744634f56a3128b209cac5330",
      "max": 140,
      "min": 0,
      "orientation": "horizontal",
      "style": "IPY_MODEL_b927e6a6b1c44be1be1f58d582da2f6a",
      "value": 140
     }
    },
    "b927e6a6b1c44be1be1f58d582da2f6a": {
     "model_module": "@jupyter-widgets/controls",
     "model_name": "ProgressStyleModel",
     "state": {
      "_model_module": "@jupyter-widgets/controls",
      "_model_module_version": "1.5.0",
      "_model_name": "ProgressStyleModel",
      "_view_count": null,
      "_view_module": "@jupyter-widgets/base",
      "_view_module_version": "1.2.0",
      "_view_name": "StyleView",
      "bar_color": null,
      "description_width": "initial"
     }
    },
    "be0f028285fa4e8da720237e1b1279bf": {
     "model_module": "@jupyter-widgets/base",
     "model_name": "LayoutModel",
     "state": {
      "_model_module": "@jupyter-widgets/base",
      "_model_module_version": "1.2.0",
      "_model_name": "LayoutModel",
      "_view_count": null,
      "_view_module": "@jupyter-widgets/base",
      "_view_module_version": "1.2.0",
      "_view_name": "LayoutView",
      "align_content": null,
      "align_items": null,
      "align_self": null,
      "border": null,
      "bottom": null,
      "display": null,
      "flex": null,
      "flex_flow": null,
      "grid_area": null,
      "grid_auto_columns": null,
      "grid_auto_flow": null,
      "grid_auto_rows": null,
      "grid_column": null,
      "grid_gap": null,
      "grid_row": null,
      "grid_template_areas": null,
      "grid_template_columns": null,
      "grid_template_rows": null,
      "height": null,
      "justify_content": null,
      "justify_items": null,
      "left": null,
      "margin": null,
      "max_height": null,
      "max_width": null,
      "min_height": null,
      "min_width": null,
      "object_fit": null,
      "object_position": null,
      "order": null,
      "overflow": null,
      "overflow_x": null,
      "overflow_y": null,
      "padding": null,
      "right": null,
      "top": null,
      "visibility": null,
      "width": null
     }
    },
    "ea4553e744634f56a3128b209cac5330": {
     "model_module": "@jupyter-widgets/base",
     "model_name": "LayoutModel",
     "state": {
      "_model_module": "@jupyter-widgets/base",
      "_model_module_version": "1.2.0",
      "_model_name": "LayoutModel",
      "_view_count": null,
      "_view_module": "@jupyter-widgets/base",
      "_view_module_version": "1.2.0",
      "_view_name": "LayoutView",
      "align_content": null,
      "align_items": null,
      "align_self": null,
      "border": null,
      "bottom": null,
      "display": null,
      "flex": null,
      "flex_flow": null,
      "grid_area": null,
      "grid_auto_columns": null,
      "grid_auto_flow": null,
      "grid_auto_rows": null,
      "grid_column": null,
      "grid_gap": null,
      "grid_row": null,
      "grid_template_areas": null,
      "grid_template_columns": null,
      "grid_template_rows": null,
      "height": null,
      "justify_content": null,
      "justify_items": null,
      "left": null,
      "margin": null,
      "max_height": null,
      "max_width": null,
      "min_height": null,
      "min_width": null,
      "object_fit": null,
      "object_position": null,
      "order": null,
      "overflow": null,
      "overflow_x": null,
      "overflow_y": null,
      "padding": null,
      "right": null,
      "top": null,
      "visibility": null,
      "width": null
     }
    }
   }
  }
 },
 "nbformat": 4,
 "nbformat_minor": 4
}

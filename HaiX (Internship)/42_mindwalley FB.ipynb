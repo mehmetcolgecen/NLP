{
 "cells": [
  {
   "cell_type": "code",
   "execution_count": 1,
   "metadata": {},
   "outputs": [],
   "source": [
    "import re\n",
    "import pandas as pd\n",
    "import numpy as np\n",
    "from sklearn.cluster import KMeans\n",
    "import umap\n",
    "import nltk\n",
    "import spacy\n",
    "import string\n",
    "import hdbscan\n",
    "\n",
    "import preprocessor as p\n",
    "\n",
    "import matplotlib.pyplot as plt\n",
    "from matplotlib.axes._axes import _log as matplotlib_axes_logger\n",
    "matplotlib_axes_logger.setLevel('ERROR')\n",
    "import seaborn as sns\n",
    "sns.set(style='white', rc={'figure.figsize':(10,8)})\n",
    "\n",
    "np.random.seed(42)\n",
    "%config Completer.use_jedi = False\n",
    "pd.set_option('display.max_columns', 30)\n",
    "# pd.set_option('display.max_rows', 100)\n",
    "\n",
    "nlp = spacy.load(\"en_core_web_sm\")"
   ]
  },
  {
   "cell_type": "code",
   "execution_count": 2,
   "metadata": {
    "colab": {
     "base_uri": "https://localhost:8080/",
     "height": 621
    },
    "id": "ek3w6OZQsoqv",
    "outputId": "92306d37-cc10-4cb7-c62e-006de9eae451"
   },
   "outputs": [
    {
     "data": {
      "text/html": [
       "<div>\n",
       "<style scoped>\n",
       "    .dataframe tbody tr th:only-of-type {\n",
       "        vertical-align: middle;\n",
       "    }\n",
       "\n",
       "    .dataframe tbody tr th {\n",
       "        vertical-align: top;\n",
       "    }\n",
       "\n",
       "    .dataframe thead th {\n",
       "        text-align: right;\n",
       "    }\n",
       "</style>\n",
       "<table border=\"1\" class=\"dataframe\">\n",
       "  <thead>\n",
       "    <tr style=\"text-align: right;\">\n",
       "      <th></th>\n",
       "      <th>Unnamed: 0</th>\n",
       "      <th>comments</th>\n",
       "    </tr>\n",
       "  </thead>\n",
       "  <tbody>\n",
       "    <tr>\n",
       "      <th>0</th>\n",
       "      <td>0</td>\n",
       "      <td>After this class you'll see why Silicon Valley...</td>\n",
       "    </tr>\n",
       "    <tr>\n",
       "      <th>1</th>\n",
       "      <td>1</td>\n",
       "      <td>The shirt is almost identical to my moms fancy...</td>\n",
       "    </tr>\n",
       "    <tr>\n",
       "      <th>2</th>\n",
       "      <td>2</td>\n",
       "      <td>When you buy a program,  can you stop, backup,...</td>\n",
       "    </tr>\n",
       "    <tr>\n",
       "      <th>3</th>\n",
       "      <td>3</td>\n",
       "      <td>Exactly what is lucid dreaming? Thank you for ...</td>\n",
       "    </tr>\n",
       "    <tr>\n",
       "      <th>4</th>\n",
       "      <td>4</td>\n",
       "      <td>I have lucid dreams all the time, also have ov...</td>\n",
       "    </tr>\n",
       "  </tbody>\n",
       "</table>\n",
       "</div>"
      ],
      "text/plain": [
       "   Unnamed: 0                                           comments\n",
       "0           0  After this class you'll see why Silicon Valley...\n",
       "1           1  The shirt is almost identical to my moms fancy...\n",
       "2           2  When you buy a program,  can you stop, backup,...\n",
       "3           3  Exactly what is lucid dreaming? Thank you for ...\n",
       "4           4  I have lucid dreams all the time, also have ov..."
      ]
     },
     "execution_count": 2,
     "metadata": {},
     "output_type": "execute_result"
    }
   ],
   "source": [
    "df = pd.read_csv('mindvalley_fb_comments.csv')\n",
    "df.rename(columns={\"comment\":\"comments\"},inplace=True)\n",
    "df.head()"
   ]
  },
  {
   "cell_type": "code",
   "execution_count": 3,
   "metadata": {},
   "outputs": [],
   "source": [
    "df.comments.replace(\"\\n\" , \" \", regex=True, inplace = True)\n",
    "df.comments=df.comments.apply(lambda x:p.clean(str(x)))"
   ]
  },
  {
   "cell_type": "code",
   "execution_count": 4,
   "metadata": {},
   "outputs": [],
   "source": [
    "df.replace('nan', np.nan, inplace = True)\n",
    "df.replace('', np.nan, inplace = True)\n",
    "df.replace('do', np.nan, inplace = True)\n",
    "df = df.dropna()"
   ]
  },
  {
   "cell_type": "code",
   "execution_count": 5,
   "metadata": {},
   "outputs": [],
   "source": [
    "list_data = df.comments.unique().tolist()"
   ]
  },
  {
   "cell_type": "code",
   "execution_count": 6,
   "metadata": {},
   "outputs": [
    {
     "data": {
      "text/plain": [
       "1053"
      ]
     },
     "execution_count": 6,
     "metadata": {},
     "output_type": "execute_result"
    }
   ],
   "source": [
    "len(list_data)"
   ]
  },
  {
   "cell_type": "code",
   "execution_count": 7,
   "metadata": {},
   "outputs": [],
   "source": [
    "from sentence_transformers import SentenceTransformer"
   ]
  },
  {
   "cell_type": "code",
   "execution_count": 8,
   "metadata": {},
   "outputs": [],
   "source": [
    "# distilbert-base-nli-mean-tokens\n",
    "# paraphrase-distilroberta-base-v1\n",
    "# roberta-large-nli-stsb-mean-tokens\n",
    "#allenai-specter\n"
   ]
  },
  {
   "cell_type": "code",
   "execution_count": 9,
   "metadata": {
    "colab": {
     "base_uri": "https://localhost:8080/",
     "height": 67,
     "referenced_widgets": [
      "6b163e4049ca4cbe8a24e7ac79ced8a5",
      "be0f028285fa4e8da720237e1b1279bf",
      "b02fccb0afa047999665079b5248015f",
      "10748c34bb5448d9a34cd200a3979d56",
      "b927e6a6b1c44be1be1f58d582da2f6a",
      "ea4553e744634f56a3128b209cac5330",
      "39fd5938a4df4de2891cd8393dd7af2f",
      "7e2aa975791049c8a7f588ed76b379c0"
     ]
    },
    "id": "BjwnhvRQtW2S",
    "outputId": "458d7bd4-ba13-4112-85a9-fb050e99008f"
   },
   "outputs": [
    {
     "data": {
      "application/vnd.jupyter.widget-view+json": {
       "model_id": "9bbd4bb54313436d8c8a11524ed177d8",
       "version_major": 2,
       "version_minor": 0
      },
      "text/plain": [
       "Batches:   0%|          | 0/33 [00:00<?, ?it/s]"
      ]
     },
     "metadata": {},
     "output_type": "display_data"
    }
   ],
   "source": [
    "model=SentenceTransformer('xlm-r-distilroberta-base-paraphrase-v1')\n",
    "embeddings = model.encode(list_data, show_progress_bar=True)"
   ]
  },
  {
   "cell_type": "code",
   "execution_count": 10,
   "metadata": {
    "id": "g8zUQEqTta2y"
   },
   "outputs": [],
   "source": [
    "best_model = umap.UMAP(n_components=5).fit_transform(embeddings)\n",
    "\n",
    "#n_neighbors=10, min_dist=0.0, "
   ]
  },
  {
   "cell_type": "code",
   "execution_count": 11,
   "metadata": {},
   "outputs": [
    {
     "data": {
      "image/png": "[encoded data removed]",
      "text/plain": [
       "<Figure size 720x576 with 1 Axes>"
      ]
     },
     "metadata": {},
     "output_type": "display_data"
    }
   ],
   "source": [
    "#inertia\n",
    "\n",
    "kmeans_per_k = [KMeans(n_clusters=k, random_state=42).fit(best_model)\n",
    "                for k in range(1, 10)]\n",
    "inertias = [model.inertia_ for model in kmeans_per_k]\n",
    "\n",
    "plt.plot(range(1, 10), inertias, \"bo-\")\n",
    "plt.xlabel(\"$k$\", fontsize=14)\n",
    "plt.ylabel(\"Inertia\", fontsize=14)\n",
    "plt.show()"
   ]
  },
  {
   "cell_type": "code",
   "execution_count": 12,
   "metadata": {},
   "outputs": [],
   "source": [
    "# from nltk.cluster import KMeansClusterer,euclidean_distance\n",
    "# clusterer =KMeansClusterer(6,euclidean_distance)\n",
    "# cluster=np.array(clusterer.cluster(best_model,True))"
   ]
  },
  {
   "cell_type": "code",
   "execution_count": 13,
   "metadata": {},
   "outputs": [],
   "source": [
    "# cluster = KMeans(n_clusters=1, init=\"k-means++\").fit_predict(best_model)"
   ]
  },
  {
   "cell_type": "code",
   "execution_count": 14,
   "metadata": {},
   "outputs": [],
   "source": [
    "cluster = hdbscan.HDBSCAN().fit_predict(best_model)"
   ]
  },
  {
   "cell_type": "code",
   "execution_count": 15,
   "metadata": {
    "colab": {
     "base_uri": "https://localhost:8080/",
     "height": 523
    },
    "id": "bqq2_WsRtbN3",
    "outputId": "8e6703c5-89b1-434e-e8e5-74468bf87f8b"
   },
   "outputs": [],
   "source": [
    "def plot(cluster = cluster):    \n",
    "\n",
    "    clustered = (cluster >= 0)\n",
    "    reduced_dim = umap.UMAP(n_components=2).fit_transform(embeddings)\n",
    "\n",
    "\n",
    "\n",
    "    unique, counts = np.unique(cluster, return_counts=True)\n",
    "    print(dict(zip(unique, counts)))\n",
    "\n",
    "    plt.scatter(reduced_dim[~clustered, 0],\n",
    "                reduced_dim[~clustered, 1],\n",
    "                c=(0.5,0.5,0.5),\n",
    "                # s=1,\n",
    "                alpha=0.5\n",
    "                )\n",
    "    plt.scatter(reduced_dim[clustered, 0],\n",
    "                reduced_dim[clustered, 1],\n",
    "                c=cluster[clustered],\n",
    "                # s=1,\n",
    "                cmap='Accent')\n",
    "    plt.show()"
   ]
  },
  {
   "cell_type": "code",
   "execution_count": 16,
   "metadata": {},
   "outputs": [
    {
     "name": "stdout",
     "output_type": "stream",
     "text": [
      "{-1: 510, 0: 6, 1: 13, 2: 20, 3: 6, 4: 7, 5: 22, 6: 6, 7: 23, 8: 22, 9: 11, 10: 6, 11: 48, 12: 8, 13: 6, 14: 27, 15: 24, 16: 7, 17: 15, 18: 5, 19: 8, 20: 6, 21: 8, 22: 10, 23: 6, 24: 8, 25: 14, 26: 10, 27: 35, 28: 5, 29: 5, 30: 22, 31: 7, 32: 12, 33: 21, 34: 27, 35: 9, 36: 22, 37: 7, 38: 19}\n"
     ]
    },
    {
     "data": {
      "image/png": "[encoded data removed]",
      "text/plain": [
       "<Figure size 720x576 with 1 Axes>"
      ]
     },
     "metadata": {},
     "output_type": "display_data"
    }
   ],
   "source": [
    "plot()"
   ]
  },
  {
   "cell_type": "code",
   "execution_count": 17,
   "metadata": {},
   "outputs": [
    {
     "data": {
      "text/plain": [
       "1053"
      ]
     },
     "execution_count": 17,
     "metadata": {},
     "output_type": "execute_result"
    }
   ],
   "source": [
    "len(cluster)"
   ]
  },
  {
   "cell_type": "code",
   "execution_count": 18,
   "metadata": {},
   "outputs": [],
   "source": [
    "def word_root(text):\n",
    "    list_data3=[]\n",
    "    doc = nlp(text)\n",
    "    for token in doc:\n",
    "        if token.text.isalpha() and len(token.text)>2:\n",
    "            lemma = token.lemma_\n",
    "            list_data3.append(lemma)\n",
    "        else:pass\n",
    "    return \" \".join(list_data3)"
   ]
  },
  {
   "cell_type": "code",
   "execution_count": 19,
   "metadata": {},
   "outputs": [
    {
     "data": {
      "text/plain": [
       "'urgent urgently urgent urgented urge urgentment'"
      ]
     },
     "execution_count": 19,
     "metadata": {},
     "output_type": "execute_result"
    }
   ],
   "source": [
    "word_root(\"urgent urgently urgents urgented urge urgentment\")"
   ]
  },
  {
   "cell_type": "code",
   "execution_count": 20,
   "metadata": {},
   "outputs": [
    {
     "data": {
      "text/html": [
       "<div>\n",
       "<style scoped>\n",
       "    .dataframe tbody tr th:only-of-type {\n",
       "        vertical-align: middle;\n",
       "    }\n",
       "\n",
       "    .dataframe tbody tr th {\n",
       "        vertical-align: top;\n",
       "    }\n",
       "\n",
       "    .dataframe thead th {\n",
       "        text-align: right;\n",
       "    }\n",
       "</style>\n",
       "<table border=\"1\" class=\"dataframe\">\n",
       "  <thead>\n",
       "    <tr style=\"text-align: right;\">\n",
       "      <th></th>\n",
       "      <th>cluster</th>\n",
       "      <th>comments</th>\n",
       "    </tr>\n",
       "  </thead>\n",
       "  <tbody>\n",
       "    <tr>\n",
       "      <th>0</th>\n",
       "      <td>-1</td>\n",
       "      <td>after this class you see why silicon valley co...</td>\n",
       "    </tr>\n",
       "    <tr>\n",
       "      <th>1</th>\n",
       "      <td>0</td>\n",
       "      <td>sorry for post message here really need your h...</td>\n",
       "    </tr>\n",
       "    <tr>\n",
       "      <th>2</th>\n",
       "      <td>1</td>\n",
       "      <td>genuine faithful love loving care encourage gr...</td>\n",
       "    </tr>\n",
       "    <tr>\n",
       "      <th>3</th>\n",
       "      <td>2</td>\n",
       "      <td>its opportunity learn and grow and understand ...</td>\n",
       "    </tr>\n",
       "    <tr>\n",
       "      <th>4</th>\n",
       "      <td>3</td>\n",
       "      <td>what beautiful woman such beautiful woman and ...</td>\n",
       "    </tr>\n",
       "    <tr>\n",
       "      <th>5</th>\n",
       "      <td>4</td>\n",
       "      <td>totally sign people welcome happy morning hell...</td>\n",
       "    </tr>\n",
       "    <tr>\n",
       "      <th>6</th>\n",
       "      <td>5</td>\n",
       "      <td>prayer protect you and cure our lord have wron...</td>\n",
       "    </tr>\n",
       "    <tr>\n",
       "      <th>7</th>\n",
       "      <td>6</td>\n",
       "      <td>every time exercise learn how you can get fitt...</td>\n",
       "    </tr>\n",
       "    <tr>\n",
       "      <th>8</th>\n",
       "      <td>7</td>\n",
       "      <td>join charlie and vishen lakhiani brand new mas...</td>\n",
       "    </tr>\n",
       "    <tr>\n",
       "      <th>9</th>\n",
       "      <td>8</td>\n",
       "      <td>exactly what lucid dreaming thank you for your...</td>\n",
       "    </tr>\n",
       "    <tr>\n",
       "      <th>10</th>\n",
       "      <td>9</td>\n",
       "      <td>since this year the year priority this year ju...</td>\n",
       "    </tr>\n",
       "    <tr>\n",
       "      <th>11</th>\n",
       "      <td>10</td>\n",
       "      <td>excellent you vishen lakhiani thank for share ...</td>\n",
       "    </tr>\n",
       "    <tr>\n",
       "      <th>12</th>\n",
       "      <td>11</td>\n",
       "      <td>thank guy never hurt remind that worthy and mo...</td>\n",
       "    </tr>\n",
       "    <tr>\n",
       "      <th>13</th>\n",
       "      <td>12</td>\n",
       "      <td>beautiful love thisssss love she love he xxx l...</td>\n",
       "    </tr>\n",
       "    <tr>\n",
       "      <th>14</th>\n",
       "      <td>13</td>\n",
       "      <td>love this love this love this such inspiration...</td>\n",
       "    </tr>\n",
       "    <tr>\n",
       "      <th>15</th>\n",
       "      <td>14</td>\n",
       "      <td>true word truth hahaha exactly yep well say ab...</td>\n",
       "    </tr>\n",
       "    <tr>\n",
       "      <th>16</th>\n",
       "      <td>15</td>\n",
       "      <td>more gratitude and more power you you be amazi...</td>\n",
       "    </tr>\n",
       "    <tr>\n",
       "      <th>17</th>\n",
       "      <td>16</td>\n",
       "      <td>inspiring mom like she role model for every mo...</td>\n",
       "    </tr>\n",
       "    <tr>\n",
       "      <th>18</th>\n",
       "      <td>17</td>\n",
       "      <td>very true sadness anger loss be just part life...</td>\n",
       "    </tr>\n",
       "    <tr>\n",
       "      <th>19</th>\n",
       "      <td>18</td>\n",
       "      <td>after one month and not quite fail each time k...</td>\n",
       "    </tr>\n",
       "    <tr>\n",
       "      <th>20</th>\n",
       "      <td>19</td>\n",
       "      <td>very inspiring what powerful motivation beauti...</td>\n",
       "    </tr>\n",
       "    <tr>\n",
       "      <th>21</th>\n",
       "      <td>20</td>\n",
       "      <td>yessssssssss youuuuuu let ittttt meeeeeeeee oh...</td>\n",
       "    </tr>\n",
       "    <tr>\n",
       "      <th>22</th>\n",
       "      <td>21</td>\n",
       "      <td>great nice great nice good very nice good lect...</td>\n",
       "    </tr>\n",
       "    <tr>\n",
       "      <th>23</th>\n",
       "      <td>22</td>\n",
       "      <td>its amazing awesome incredible awesome wow ama...</td>\n",
       "    </tr>\n",
       "    <tr>\n",
       "      <th>24</th>\n",
       "      <td>23</td>\n",
       "      <td>too good equality that be cool cool super great</td>\n",
       "    </tr>\n",
       "    <tr>\n",
       "      <th>25</th>\n",
       "      <td>24</td>\n",
       "      <td>english difficult understand for some indian c...</td>\n",
       "    </tr>\n",
       "    <tr>\n",
       "      <th>26</th>\n",
       "      <td>25</td>\n",
       "      <td>say add sugar you check the ingredient that on...</td>\n",
       "    </tr>\n",
       "    <tr>\n",
       "      <th>27</th>\n",
       "      <td>26</td>\n",
       "      <td>want businessman your ad youtube be extremely ...</td>\n",
       "    </tr>\n",
       "    <tr>\n",
       "      <th>28</th>\n",
       "      <td>27</td>\n",
       "      <td>when you despise group and find your safe have...</td>\n",
       "    </tr>\n",
       "    <tr>\n",
       "      <th>29</th>\n",
       "      <td>28</td>\n",
       "      <td>got spoof few week ago be upset have lose year...</td>\n",
       "    </tr>\n",
       "    <tr>\n",
       "      <th>30</th>\n",
       "      <td>29</td>\n",
       "      <td>pure source energy tampo allen britt anie tiff...</td>\n",
       "    </tr>\n",
       "    <tr>\n",
       "      <th>31</th>\n",
       "      <td>30</td>\n",
       "      <td>sumona bose self hug level john bradley mason ...</td>\n",
       "    </tr>\n",
       "    <tr>\n",
       "      <th>32</th>\n",
       "      <td>31</td>\n",
       "      <td>have keep listen your video do you listen the ...</td>\n",
       "    </tr>\n",
       "    <tr>\n",
       "      <th>33</th>\n",
       "      <td>32</td>\n",
       "      <td>how do one get customer support for product pu...</td>\n",
       "    </tr>\n",
       "    <tr>\n",
       "      <th>34</th>\n",
       "      <td>33</td>\n",
       "      <td>ramya padbidri molahalli tarakorn kamolprempiy...</td>\n",
       "    </tr>\n",
       "    <tr>\n",
       "      <th>35</th>\n",
       "      <td>34</td>\n",
       "      <td>kimberly franklin cole trenton vaughn jasa kal...</td>\n",
       "    </tr>\n",
       "    <tr>\n",
       "      <th>36</th>\n",
       "      <td>35</td>\n",
       "      <td>want join you have access this ben chalmer que...</td>\n",
       "    </tr>\n",
       "    <tr>\n",
       "      <th>37</th>\n",
       "      <td>36</td>\n",
       "      <td>would really appreciate reply query from day a...</td>\n",
       "    </tr>\n",
       "    <tr>\n",
       "      <th>38</th>\n",
       "      <td>37</td>\n",
       "      <td>muy buenos das estoy muy beuteful girl antonin...</td>\n",
       "    </tr>\n",
       "    <tr>\n",
       "      <th>39</th>\n",
       "      <td>38</td>\n",
       "      <td>mean seriously come cast native american spiri...</td>\n",
       "    </tr>\n",
       "  </tbody>\n",
       "</table>\n",
       "</div>"
      ],
      "text/plain": [
       "    cluster                                           comments\n",
       "0        -1  after this class you see why silicon valley co...\n",
       "1         0  sorry for post message here really need your h...\n",
       "2         1  genuine faithful love loving care encourage gr...\n",
       "3         2  its opportunity learn and grow and understand ...\n",
       "4         3  what beautiful woman such beautiful woman and ...\n",
       "5         4  totally sign people welcome happy morning hell...\n",
       "6         5  prayer protect you and cure our lord have wron...\n",
       "7         6  every time exercise learn how you can get fitt...\n",
       "8         7  join charlie and vishen lakhiani brand new mas...\n",
       "9         8  exactly what lucid dreaming thank you for your...\n",
       "10        9  since this year the year priority this year ju...\n",
       "11       10  excellent you vishen lakhiani thank for share ...\n",
       "12       11  thank guy never hurt remind that worthy and mo...\n",
       "13       12  beautiful love thisssss love she love he xxx l...\n",
       "14       13  love this love this love this such inspiration...\n",
       "15       14  true word truth hahaha exactly yep well say ab...\n",
       "16       15  more gratitude and more power you you be amazi...\n",
       "17       16  inspiring mom like she role model for every mo...\n",
       "18       17  very true sadness anger loss be just part life...\n",
       "19       18  after one month and not quite fail each time k...\n",
       "20       19  very inspiring what powerful motivation beauti...\n",
       "21       20  yessssssssss youuuuuu let ittttt meeeeeeeee oh...\n",
       "22       21  great nice great nice good very nice good lect...\n",
       "23       22  its amazing awesome incredible awesome wow ama...\n",
       "24       23    too good equality that be cool cool super great\n",
       "25       24  english difficult understand for some indian c...\n",
       "26       25  say add sugar you check the ingredient that on...\n",
       "27       26  want businessman your ad youtube be extremely ...\n",
       "28       27  when you despise group and find your safe have...\n",
       "29       28  got spoof few week ago be upset have lose year...\n",
       "30       29  pure source energy tampo allen britt anie tiff...\n",
       "31       30  sumona bose self hug level john bradley mason ...\n",
       "32       31  have keep listen your video do you listen the ...\n",
       "33       32  how do one get customer support for product pu...\n",
       "34       33  ramya padbidri molahalli tarakorn kamolprempiy...\n",
       "35       34  kimberly franklin cole trenton vaughn jasa kal...\n",
       "36       35  want join you have access this ben chalmer que...\n",
       "37       36  would really appreciate reply query from day a...\n",
       "38       37  muy buenos das estoy muy beuteful girl antonin...\n",
       "39       38  mean seriously come cast native american spiri..."
      ]
     },
     "execution_count": 20,
     "metadata": {},
     "output_type": "execute_result"
    }
   ],
   "source": [
    "docs = pd.DataFrame(list_data,columns=[\"comments\"])\n",
    "docs[\"cluster\"] = cluster\n",
    "labeled_docs = docs.groupby([\"cluster\"], as_index=False).agg({\"comments\": \" \".join})\n",
    "labeled_docs.comments = labeled_docs.comments.apply(lambda x: word_root(str(x).lower()))  \n",
    "labeled_docs"
   ]
  },
  {
   "cell_type": "code",
   "execution_count": 21,
   "metadata": {},
   "outputs": [
    {
     "name": "stdout",
     "output_type": "stream",
     "text": [
      "\u001b[1m   Bigram Cluster 1: \u001b[0m\n",
      "[('militer mohon', 0.5886), ('military want', 0.5092), ('stop military', 0.4459), ('military kindly', 0.4426), ('urge urgent', 0.4245), ('perhatian mendesak', 0.424), ('need urgent', 0.4211), ('mohon bantu', 0.4156), ('detain military', 0.4139), ('military try', 0.4135)]\n",
      "\u001b[1m   Bigram Cluster 2: \u001b[0m\n",
      "[('generous love', 0.605), ('kind love', 0.6018), ('faithful love', 0.6015), ('loving care', 0.5849), ('loving kind', 0.579), ('passionate kind', 0.5511), ('love loving', 0.549), ('loyal loving', 0.5471), ('love love', 0.5412), ('passionate loyal', 0.5374)]\n",
      "\u001b[1m   Bigram Cluster 3: \u001b[0m\n",
      "[('learn history', 0.542), ('american history', 0.5032), ('teach history', 0.5004), ('educate black', 0.4963), ('history american', 0.4822), ('america history', 0.4773), ('black history', 0.4698), ('history teach', 0.4609), ('time learn', 0.4492), ('opportunity learn', 0.4467)]\n",
      "\u001b[1m   Bigram Cluster 4: \u001b[0m\n",
      "[('woman beautiful', 0.6349), ('beautiful woman', 0.6339), ('woman beauty', 0.5806), ('humble woman', 0.5645), ('lovely speech', 0.5454), ('beautiful mama', 0.5359), ('woman brave', 0.4708), ('beautiful lovely', 0.4657), ('woman powerful', 0.4459), ('speech beaitiful', 0.4315)]\n",
      "\u001b[1m   Bigram Cluster 5: \u001b[0m\n",
      "[('hello people', 0.5554), ('people welcome', 0.5397), ('morning hello', 0.5124), ('happy morning', 0.5099), ('people mexico', 0.4966), ('welcome happy', 0.4797), ('hello hello', 0.4665), ('sign people', 0.4213), ('totally sign', 0.3651)]\n",
      "\u001b[1m   Bigram Cluster 6: \u001b[0m\n",
      "[('heaven forgive', 0.582), ('mercy allah', 0.5503), ('ordain forgive', 0.5466), ('changer forgive', 0.53), ('forgive heavenly', 0.5271), ('tomorrow forgive', 0.517), ('deserve forgive', 0.5044), ('forgive mercy', 0.5017), ('forgive forgiveness', 0.5007), ('joke forgive', 0.4983)]\n",
      "\u001b[1m   Bigram Cluster 7: \u001b[0m\n",
      "[('exercise learn', 0.6202), ('regular exercise', 0.5525), ('efficient exercise', 0.546), ('hour workout', 0.5442), ('exercise time', 0.5364), ('miss workout', 0.5291), ('good exercise', 0.5246), ('physical exercise', 0.5143), ('exercise home', 0.5045), ('time exercise', 0.4985)]\n",
      "\u001b[1m   Bigram Cluster 8: \u001b[0m\n",
      "[('learn magic', 0.4721), ('remember dream', 0.4565), ('lucid dream', 0.4498), ('dream transform', 0.4433), ('learn achieve', 0.4269), ('dream dream', 0.4216), ('masterclass learn', 0.4104), ('dream magic', 0.4075), ('learn break', 0.4056), ('course learn', 0.4037)]\n",
      "\u001b[1m   Bigram Cluster 9: \u001b[0m\n",
      "[('lucid dream', 0.6237), ('lucid dreaming', 0.6079), ('interpret dream', 0.5955), ('inspiration lucid', 0.5843), ('dream dream', 0.5397), ('particular dream', 0.538), ('reply lucid', 0.5311), ('insomnia lucid', 0.5117), ('look lucid', 0.5108), ('help lucid', 0.485)]\n",
      "\u001b[1m   Bigram Cluster 10: \u001b[0m\n",
      "[('year welcome', 0.5408), ('year good', 0.5144), ('priority year', 0.493), ('new year', 0.4725), ('good luck', 0.4513), ('year priority', 0.451), ('year year', 0.4412), ('thank happy', 0.4387), ('welcome good', 0.42), ('wish happy', 0.4169)]\n",
      "\u001b[1m   Bigram Cluster 11: \u001b[0m\n",
      "[('lakhiani thank', 0.6269), ('lakhiani incredible', 0.5654), ('brilliant thank', 0.5091), ('thank vishen', 0.4843), ('share inspirational', 0.4649), ('resonate thank', 0.4537), ('thank share', 0.4361), ('lakhiani share', 0.4243), ('lakhiani brilliant', 0.4169), ('inspirational video', 0.378)]\n",
      "\u001b[1m   Bigram Cluster 12: \u001b[0m\n",
      "[('gratitud merci', 0.6656), ('grazie grazie', 0.6433), ('trustworthy thank', 0.6077), ('lot tack', 0.5995), ('worthy thank', 0.5945), ('thank guy', 0.582), ('siempre gratitud', 0.5798), ('thank kind', 0.5768), ('thank appreciate', 0.5758), ('tack thank', 0.5755)]\n",
      "\u001b[1m   Bigram Cluster 13: \u001b[0m\n",
      "[('thisssss love', 0.6973), ('guy love', 0.6922), ('love passionate', 0.6812), ('love love', 0.6612), ('beautiful love', 0.642), ('love thisssss', 0.6351), ('love guy', 0.6192), ('love xxx', 0.6017), ('xxx love', 0.5864), ('love just', 0.5628)]\n",
      "\u001b[1m   Bigram Cluster 14: \u001b[0m\n",
      "[('love love', 0.7458), ('inspiration love', 0.6698), ('love moment', 0.6184), ('love gracia', 0.5976), ('love inspiration', 0.5847), ('gracia love', 0.5595), ('yearn embrace', 0.5495), ('moment yearn', 0.3263)]\n",
      "\u001b[1m   Bigram Cluster 15: \u001b[0m\n",
      "[('true yes', 0.5834), ('agree yes', 0.5817), ('true true', 0.5747), ('agree completely', 0.5746), ('true speak', 0.5503), ('absolutely true', 0.5496), ('say true', 0.5493), ('yes true', 0.5492), ('yes agree', 0.5482), ('great agree', 0.5317)]\n",
      "\u001b[1m   Bigram Cluster 16: \u001b[0m\n",
      "[('vishenthank incredible', 0.5541), ('vishen thank', 0.5423), ('vishen amazing', 0.5048), ('thank bless', 0.4704), ('thank amazing', 0.4564), ('birthday vishenthank', 0.4459), ('tremendously thank', 0.4453), ('bless infinitely', 0.443), ('huge thank', 0.4408), ('thank create', 0.4395)]\n",
      "\u001b[1m   Bigram Cluster 17: \u001b[0m\n",
      "[('inspiring mom', 0.4722), ('mindvalley inspir', 0.4482), ('mom teach', 0.419), ('teach kindness', 0.4029), ('world inspiring', 0.3974), ('learn mindvalley', 0.395), ('thank inspire', 0.3905), ('mind teach', 0.3805), ('empower learn', 0.3799), ('love mindvalley', 0.3599)]\n",
      "\u001b[1m   Bigram Cluster 18: \u001b[0m\n",
      "[('happiness lose', 0.4809), ('sadness anger', 0.4263), ('fake happiness', 0.4189), ('time heal', 0.4062), ('happiness extreme', 0.4055), ('true sadness', 0.4011), ('achieve happiness', 0.3998), ('happiness play', 0.3937), ('enlightenment change', 0.3847), ('world change', 0.3655)]\n",
      "\u001b[1m   Bigram Cluster 19: \u001b[0m\n",
      "[('exercise lose', 0.4717), ('goal weight', 0.4118), ('fitness goal', 0.4103), ('weight week', 0.4096), ('optimize diet', 0.3895), ('incorporate cardio', 0.3862), ('time try', 0.3836), ('lose weight', 0.3791), ('week fat', 0.3759), ('really fitness', 0.3679)]\n",
      "\u001b[1m   Bigram Cluster 20: \u001b[0m\n",
      "[('motivate inspirational', 0.7829), ('inspirational inspirational', 0.7824), ('incredible inspirational', 0.7445), ('inspirational motivate', 0.721), ('inspire inspiring', 0.7104), ('motivation beautiful', 0.6638), ('powerful motivation', 0.6493), ('inspirational extremely', 0.6482), ('inspiring powerful', 0.61), ('positive inspire', 0.5967)]\n",
      "\u001b[1m   Bigram Cluster 21: \u001b[0m\n",
      "[('ittttt meeeeeeeee', 0.8361), ('meeeeeeeee ohh', 0.8039), ('yessssssssss youuuuuu', 0.7921), ('youuuuuu let', 0.752), ('ohh meee', 0.6976), ('let ittttt', 0.6462)]\n",
      "\u001b[1m   Bigram Cluster 22: \u001b[0m\n",
      "[('good lecture', 0.7051), ('lecture nice', 0.5838), ('nice goal', 0.5751), ('good nice', 0.5624), ('nice good', 0.5466), ('great nice', 0.5417), ('nice great', 0.5321)]\n",
      "\u001b[1m   Bigram Cluster 23: \u001b[0m\n",
      "[('talent amazing', 0.7713), ('amazing amazing', 0.721), ('wow amazing', 0.7136), ('awesome incredible', 0.7013), ('amazing awesome', 0.699), ('amazing bravo', 0.6771), ('incredible awesome', 0.6769), ('awesome wow', 0.6622), ('amazed talent', 0.6314), ('bravo amazed', 0.6138)]\n",
      "\u001b[1m   Bigram Cluster 24: \u001b[0m\n",
      "[('good equality', 0.6976), ('equality cool', 0.6062), ('super great', 0.4998), ('cool super', 0.4783), ('cool cool', 0.4223)]\n",
      "\u001b[1m   Bigram Cluster 25: \u001b[0m\n",
      "[('course spanish', 0.5401), ('translate russian', 0.496), ('transform hindi', 0.4685), ('program translate', 0.4601), ('russian language', 0.4189), ('como traducirlo', 0.4186), ('hindi course', 0.4101), ('want russian', 0.3868), ('spanish understand', 0.3817), ('english difficult', 0.3627)]\n",
      "\u001b[1m   Bigram Cluster 26: \u001b[0m\n",
      "[('label sugar', 0.6276), ('choice sugar', 0.6091), ('add sugar', 0.5988), ('say sugar', 0.5889), ('absorb sugar', 0.5869), ('sugar add', 0.5842), ('externalize sugar', 0.5673), ('sugar sugar', 0.561), ('product sugar', 0.5495), ('sugar orange', 0.5447)]\n",
      "\u001b[1m   Bigram Cluster 27: \u001b[0m\n",
      "[('favor espero', 0.4195), ('businessman ad', 0.3835), ('favor tome', 0.3798), ('ad youtube', 0.3794), ('invasive annoying', 0.3783), ('want interrupt', 0.3738), ('asistir pero', 0.3682), ('interrupt min', 0.3517), ('trie mindful', 0.3396), ('por favor', 0.3357)]\n",
      "\u001b[1m   Bigram Cluster 28: \u001b[0m\n",
      "[('knowledge bhagvat', 0.3636), ('asimilacin conocimiento', 0.3604), ('aprender encontrarse', 0.3602), ('know people', 0.3475), ('group safe', 0.3436), ('aprendizaje entonce', 0.3425), ('require aprender', 0.3403), ('knowledge learning', 0.3402), ('learn ultimate', 0.3316), ('people fear', 0.3284)]\n",
      "\u001b[1m   Bigram Cluster 29: \u001b[0m\n",
      "[('narcissistic parent', 0.5115), ('broken heart', 0.4337), ('ago upset', 0.4247), ('abuse narcissist', 0.421), ('grow narcissistic', 0.4203), ('lose year', 0.4143), ('english break', 0.3954), ('lose love', 0.3953), ('heart break', 0.3953), ('spelling upset', 0.3895)]\n",
      "\u001b[1m   Bigram Cluster 30: \u001b[0m\n",
      "[('energy tampo', 0.6744), ('source energy', 0.6166), ('jennifer epperson', 0.5685), ('pure source', 0.5662), ('emerson jennifer', 0.5581), ('tiffany emerson', 0.5308), ('anie tiffany', 0.4511), ('allen britt', 0.4457), ('tampo allen', 0.409), ('britt anie', 0.3995)]\n",
      "\u001b[1m   Bigram Cluster 31: \u001b[0m\n",
      "[('level john', 0.4927), ('hug level', 0.4703), ('musk thoma', 0.4688), ('mason bull', 0.4584), ('bull hmmm', 0.424), ('hmmm bull', 0.4237), ('sumona bose', 0.419), ('rachel holme', 0.416), ('hester sean', 0.4043), ('shero imene', 0.4003)]\n",
      "\u001b[1m   Bigram Cluster 32: \u001b[0m\n",
      "[('listen video', 0.6035), ('look video', 0.5654), ('miss video', 0.5532), ('video people', 0.543), ('video vishyy', 0.5379), ('video listen', 0.5325), ('glad video', 0.5209), ('video thank', 0.5157), ('video just', 0.4768), ('video youtube', 0.4733)]\n",
      "\u001b[1m   Bigram Cluster 33: \u001b[0m\n",
      "[('listen ariana', 0.3802), ('purchase listen', 0.3639), ('contribution lady', 0.3357), ('ariana song', 0.3333), ('customer support', 0.3273), ('interested join', 0.2932), ('song believe', 0.2912), ('god woman', 0.2664), ('beauty pageant', 0.2626), ('woman sound', 0.2597)]\n",
      "\u001b[1m   Bigram Cluster 34: \u001b[0m\n",
      "[('rashmi karkhani', 0.514), ('sabharwal vikram', 0.4748), ('ramya padbidri', 0.4653), ('karkhani shubham', 0.4603), ('gunjan aggarwal', 0.4454), ('jra shevanthi', 0.4412), ('rameez saima', 0.4151), ('khan abijith', 0.4136), ('gagan sabharwal', 0.4132), ('shaban rashmi', 0.4064)]\n",
      "\u001b[1m   Bigram Cluster 35: \u001b[0m\n",
      "[('gracie koziatek', 0.4495), ('franklin cole', 0.4394), ('kerri straughen', 0.4342), ('stephen gracie', 0.4312), ('jonald renz', 0.4232), ('khai erlyn', 0.4228), ('kazz denisse', 0.4194), ('erlyn kazz', 0.4163), ('koziatek kellie', 0.4126), ('denisse samhiveryl', 0.4072)]\n",
      "\u001b[1m   Bigram Cluster 36: \u001b[0m\n",
      "[('membership program', 0.4279), ('evercoach course', 0.4266), ('membership evercoach', 0.4081), ('course include', 0.38), ('program cost', 0.364), ('exercise program', 0.3611), ('program appreciate', 0.3578), ('american program', 0.3515), ('cost program', 0.3392), ('evercoach gym', 0.3353)]\n",
      "\u001b[1m   Bigram Cluster 37: \u001b[0m\n",
      "[('try email', 0.5572), ('send email', 0.4515), ('help email', 0.451), ('say email', 0.4482), ('email send', 0.4468), ('email long', 0.4451), ('email respond', 0.4416), ('email like', 0.4403), ('change email', 0.4219), ('try contact', 0.4179)]\n",
      "\u001b[1m   Bigram Cluster 38: \u001b[0m\n",
      "[('good beacuose', 0.4316), ('teach amazing', 0.4072), ('buenos das', 0.3832), ('beacuose peopleof', 0.3806), ('beuteful girl', 0.3602), ('ofcourse teach', 0.3579), ('great instructor', 0.3576), ('truly enjoy', 0.3567), ('das estoy', 0.3538), ('muy buenos', 0.3516)]\n",
      "\u001b[1m   Bigram Cluster 39: \u001b[0m\n",
      "[('spiritual sister', 0.4088), ('cast sister', 0.4022), ('grow satan', 0.3781), ('american spiritual', 0.3735), ('sister cast', 0.3722), ('cast native', 0.3309), ('celtic sister', 0.3289), ('nah stand', 0.3272), ('practice paganism', 0.3266), ('cast celtic', 0.323)]\n"
     ]
    }
   ],
   "source": [
    "from keybert import KeyBERT\n",
    "array_text = labeled_docs.comments.tolist()\n",
    "kw_extractor = KeyBERT(model=model)\n",
    "bigram=[]\n",
    "for j in range(len(array_text)-1):\n",
    "    keywords = kw_extractor.extract_keywords(array_text[j+1],top_n=10,keyphrase_ngram_range=(2, 2))\n",
    "    print(f'\\033[1m   Bigram Cluster {j+1}: \\033[0m' )\n",
    "    print([word for word in keywords])\n",
    "    bigram.append([word[0] for word in keywords])"
   ]
  },
  {
   "cell_type": "code",
   "execution_count": 22,
   "metadata": {},
   "outputs": [
    {
     "name": "stdout",
     "output_type": "stream",
     "text": [
      "\u001b[1m   Unigram Cluster 1: \u001b[0m\n",
      "[('mohon', 0.3645), ('bantu', 0.3622), ('military', 0.3551), ('militer', 0.3522), ('urgent', 0.35), ('membutuhkan', 0.3475), ('militar', 0.3202), ('mendesak', 0.315), ('menghentikan', 0.3133), ('want', 0.3117)]\n",
      "\u001b[1m   Unigram Cluster 2: \u001b[0m\n",
      "[('compassion', 0.4741), ('loving', 0.445), ('love', 0.4364), ('passionate', 0.4203), ('respect', 0.4037), ('loyal', 0.3918), ('kind', 0.3448), ('faithful', 0.3431), ('supportive', 0.3324), ('generous', 0.3221)]\n",
      "\u001b[1m   Unigram Cluster 3: \u001b[0m\n",
      "[('learn', 0.3224), ('commemorate', 0.3189), ('history', 0.2878), ('racism', 0.2807), ('america', 0.2689), ('american', 0.2682), ('african', 0.2597), ('educate', 0.2454), ('culture', 0.2422), ('explore', 0.241)]\n",
      "\u001b[1m   Unigram Cluster 4: \u001b[0m\n",
      "[('beautiful', 0.4512), ('beauty', 0.4457), ('lovely', 0.3753), ('woman', 0.3197), ('beaitiful', 0.3192), ('speech', 0.2749), ('brave', 0.2689), ('humble', 0.2674), ('powerful', 0.2407), ('mama', 0.2346)]\n",
      "\u001b[1m   Unigram Cluster 5: \u001b[0m\n",
      "[('welcome', 0.3999), ('hello', 0.3987), ('mexico', 0.3386), ('happy', 0.29), ('morning', 0.2837), ('sign', 0.2521), ('people', 0.2128), ('totally', 0.16)]\n",
      "\u001b[1m   Unigram Cluster 6: \u001b[0m\n",
      "[('bless', 0.4378), ('prayer', 0.4071), ('merciful', 0.367), ('repent', 0.3658), ('pray', 0.3498), ('forgive', 0.3497), ('deserve', 0.3432), ('lord', 0.3297), ('peace', 0.3237), ('revenge', 0.3226)]\n",
      "\u001b[1m   Unigram Cluster 7: \u001b[0m\n",
      "[('exercise', 0.5335), ('workout', 0.473), ('training', 0.2912), ('kickboxing', 0.289), ('healthy', 0.2789), ('yoga', 0.274), ('learn', 0.2686), ('routine', 0.2589), ('vacation', 0.254), ('gym', 0.2302)]\n",
      "\u001b[1m   Unigram Cluster 8: \u001b[0m\n",
      "[('learn', 0.3468), ('dream', 0.3381), ('achieve', 0.2789), ('sleep', 0.2725), ('believe', 0.2701), ('lucid', 0.2594), ('masterclass', 0.254), ('meditation', 0.2534), ('dreaming', 0.2517), ('breakthrough', 0.2388)]\n",
      "\u001b[1m   Unigram Cluster 9: \u001b[0m\n",
      "[('dreaming', 0.4523), ('dream', 0.4515), ('sleep', 0.3644), ('lucid', 0.3635), ('insomnia', 0.3519), ('vision', 0.3452), ('visualize', 0.3332), ('meditation', 0.2965), ('interpret', 0.2904), ('think', 0.2897)]\n",
      "\u001b[1m   Unigram Cluster 10: \u001b[0m\n",
      "[('welcome', 0.3385), ('thank', 0.3349), ('great', 0.3297), ('year', 0.3266), ('happy', 0.3175), ('good', 0.314), ('luck', 0.3123), ('enjoy', 0.3032), ('wish', 0.2912), ('nice', 0.2822)]\n",
      "\u001b[1m   Unigram Cluster 11: \u001b[0m\n",
      "[('thank', 0.4498), ('lakhiani', 0.3304), ('inspirational', 0.3275), ('incredible', 0.292), ('excellent', 0.2864), ('activist', 0.271), ('mindvalley', 0.2643), ('video', 0.2594), ('brilliant', 0.2416), ('share', 0.2356)]\n",
      "\u001b[1m   Unigram Cluster 12: \u001b[0m\n",
      "[('tack', 0.619), ('grazie', 0.5753), ('merci', 0.5729), ('grateful', 0.4813), ('gratitud', 0.4787), ('thank', 0.4762), ('appreciate', 0.4252), ('congratulation', 0.4159), ('blessing', 0.3851), ('trustworthy', 0.3719)]\n",
      "\u001b[1m   Unigram Cluster 13: \u001b[0m\n",
      "[('love', 0.5412), ('passionate', 0.497), ('beautiful', 0.3431), ('thisssss', 0.2237), ('xxx', 0.2113), ('guy', 0.1835), ('just', 0.0615)]\n",
      "\u001b[1m   Unigram Cluster 14: \u001b[0m\n",
      "[('love', 0.6314), ('embrace', 0.5627), ('gracia', 0.274), ('moment', 0.2523), ('inspiration', 0.2239), ('yearn', 0.1971)]\n",
      "\u001b[1m   Unigram Cluster 15: \u001b[0m\n",
      "[('agree', 0.5115), ('true', 0.4555), ('believe', 0.4328), ('correct', 0.3922), ('absolutely', 0.389), ('truth', 0.3723), ('definitely', 0.3602), ('yes', 0.339), ('succeed', 0.3232), ('speak', 0.3221)]\n",
      "\u001b[1m   Unigram Cluster 16: \u001b[0m\n",
      "[('vishenthank', 0.4177), ('thank', 0.3447), ('gratitude', 0.3274), ('bless', 0.3164), ('inspire', 0.3137), ('blessing', 0.3064), ('incredible', 0.2998), ('celebrate', 0.2976), ('generous', 0.2966), ('amazing', 0.2926)]\n",
      "\u001b[1m   Unigram Cluster 17: \u001b[0m\n",
      "[('inspiring', 0.3193), ('inspire', 0.3132), ('inspir', 0.2967), ('mindvalley', 0.2701), ('merci', 0.267), ('entrepreneur', 0.2666), ('mom', 0.2558), ('empower', 0.2532), ('educational', 0.2485), ('amazing', 0.2453)]\n",
      "\u001b[1m   Unigram Cluster 18: \u001b[0m\n",
      "[('happiness', 0.3678), ('reality', 0.3349), ('change', 0.3129), ('sadness', 0.3099), ('transformation', 0.2904), ('emotion', 0.2689), ('life', 0.2616), ('circumstance', 0.2599), ('loss', 0.2561), ('emotionally', 0.2531)]\n",
      "\u001b[1m   Unigram Cluster 19: \u001b[0m\n",
      "[('exercise', 0.3961), ('fitness', 0.3626), ('overweight', 0.3369), ('run', 0.3156), ('try', 0.3048), ('diet', 0.3034), ('weight', 0.2975), ('start', 0.2625), ('trial', 0.2448), ('fail', 0.2272)]\n",
      "\u001b[1m   Unigram Cluster 20: \u001b[0m\n",
      "[('inspirational', 0.5876), ('inspiring', 0.5644), ('motivate', 0.5304), ('inspire', 0.5279), ('motivation', 0.5087), ('powerful', 0.3679), ('incredible', 0.3471), ('beautiful', 0.3338), ('extremely', 0.2643), ('positive', 0.2262)]\n",
      "\u001b[1m   Unigram Cluster 21: \u001b[0m\n",
      "[('meeeeeeeee', 0.7627), ('yessssssssss', 0.7132), ('youuuuuu', 0.6696), ('meee', 0.5675), ('ittttt', 0.5579), ('ohh', 0.5528), ('let', 0.5168)]\n",
      "\u001b[1m   Unigram Cluster 22: \u001b[0m\n",
      "[('nice', 0.4713), ('good', 0.4038), ('lecture', 0.3569), ('great', 0.3372), ('goal', 0.3211)]\n",
      "\u001b[1m   Unigram Cluster 23: \u001b[0m\n",
      "[('amazing', 0.615), ('incredible', 0.5836), ('awesome', 0.5751), ('wow', 0.5077), ('amazed', 0.4166), ('talent', 0.413), ('bravo', 0.3959)]\n",
      "\u001b[1m   Unigram Cluster 24: \u001b[0m\n",
      "[('equality', 0.4655), ('good', 0.4063), ('great', 0.3996), ('cool', 0.39), ('super', 0.3618)]\n",
      "\u001b[1m   Unigram Cluster 25: \u001b[0m\n",
      "[('translate', 0.3735), ('traducirlo', 0.3709), ('spanish', 0.3492), ('course', 0.3284), ('program', 0.3141), ('english', 0.3035), ('language', 0.2981), ('russian', 0.293), ('portugal', 0.2616), ('transform', 0.2541)]\n",
      "\u001b[1m   Unigram Cluster 26: \u001b[0m\n",
      "[('sugar', 0.4885), ('consume', 0.3697), ('fruit', 0.365), ('advertise', 0.3547), ('nutrient', 0.3533), ('vegetable', 0.3501), ('nutrition', 0.3338), ('clarify', 0.3319), ('smoothie', 0.3318), ('nutella', 0.3277)]\n",
      "\u001b[1m   Unigram Cluster 27: \u001b[0m\n",
      "[('asistir', 0.3838), ('favor', 0.3169), ('watch', 0.3125), ('youtube', 0.3108), ('interrupt', 0.3081), ('want', 0.3044), ('gustaria', 0.3041), ('interested', 0.3032), ('siempre', 0.3003), ('annoying', 0.297)]\n",
      "\u001b[1m   Unigram Cluster 28: \u001b[0m\n",
      "[('aprendizaje', 0.298), ('aprender', 0.2867), ('conocimiento', 0.2807), ('educate', 0.2793), ('knowledge', 0.2559), ('respect', 0.2544), ('learn', 0.25), ('fear', 0.2452), ('safe', 0.242), ('hate', 0.2411)]\n",
      "\u001b[1m   Unigram Cluster 29: \u001b[0m\n",
      "[('narcissistic', 0.4245), ('narcissist', 0.4168), ('broken', 0.3271), ('upset', 0.3259), ('divorce', 0.3201), ('lose', 0.3161), ('break', 0.3072), ('relationshipsive', 0.2935), ('suicide', 0.2887), ('boyfriend', 0.2737)]\n",
      "\u001b[1m   Unigram Cluster 30: \u001b[0m\n",
      "[('energy', 0.5822), ('pure', 0.4565), ('emerson', 0.432), ('jennifer', 0.4266), ('epperson', 0.4023), ('allen', 0.3853), ('tiffany', 0.3771), ('anie', 0.3648), ('source', 0.3516), ('britt', 0.3193)]\n",
      "\u001b[1m   Unigram Cluster 31: \u001b[0m\n",
      "[('sumona', 0.3952), ('bull', 0.3938), ('musk', 0.3755), ('bose', 0.3746), ('hug', 0.3719), ('sean', 0.3713), ('john', 0.3672), ('thoma', 0.367), ('kapoor', 0.3659), ('level', 0.3484)]\n",
      "\u001b[1m   Unigram Cluster 32: \u001b[0m\n",
      "[('video', 0.4313), ('program', 0.3563), ('youtube', 0.3537), ('listen', 0.3507), ('cameraman', 0.2963), ('vishyy', 0.2511), ('thank', 0.2431), ('live', 0.239), ('socierty', 0.2367), ('afford', 0.2283)]\n",
      "\u001b[1m   Unigram Cluster 33: \u001b[0m\n",
      "[('lady', 0.2691), ('woman', 0.2669), ('listen', 0.2438), ('support', 0.2386), ('interested', 0.2353), ('ariana', 0.2341), ('song', 0.2115), ('card', 0.2052), ('interesting', 0.2045), ('sing', 0.1823)]\n",
      "\u001b[1m   Unigram Cluster 34: \u001b[0m\n",
      "[('ramya', 0.4438), ('karkhani', 0.4105), ('samrat', 0.4007), ('sabharwal', 0.3909), ('rashmi', 0.385), ('rashid', 0.3707), ('sadhna', 0.3598), ('shevanthi', 0.3578), ('gunjan', 0.3562), ('madan', 0.355)]\n",
      "\u001b[1m   Unigram Cluster 35: \u001b[0m\n",
      "[('kellie', 0.4094), ('franklin', 0.3943), ('renz', 0.3912), ('stephen', 0.3805), ('glen', 0.3736), ('koziatek', 0.3729), ('ozyazgan', 0.3728), ('erlyn', 0.3718), ('kelisha', 0.3706), ('kerri', 0.3689)]\n",
      "\u001b[1m   Unigram Cluster 36: \u001b[0m\n",
      "[('program', 0.3024), ('course', 0.2636), ('membership', 0.255), ('masterclass', 0.2308), ('evercoach', 0.2297), ('watch', 0.2275), ('fitness', 0.2082), ('television', 0.2019), ('exercise', 0.194), ('join', 0.1844)]\n",
      "\u001b[1m   Unigram Cluster 37: \u001b[0m\n",
      "[('try', 0.3518), ('beware', 0.3312), ('email', 0.3051), ('message', 0.2951), ('send', 0.2862), ('want', 0.2802), ('offerrerererrrr', 0.2687), ('mail', 0.2676), ('server', 0.2503), ('wish', 0.2447)]\n",
      "\u001b[1m   Unigram Cluster 38: \u001b[0m\n",
      "[('buenos', 0.3219), ('yuo', 0.3175), ('beacuose', 0.3119), ('teach', 0.3114), ('enjoy', 0.3085), ('girl', 0.3028), ('roxas', 0.2993), ('great', 0.2988), ('ofcourse', 0.2911), ('angel', 0.2866)]\n",
      "\u001b[1m   Unigram Cluster 39: \u001b[0m\n",
      "[('satan', 0.335), ('sister', 0.3164), ('facebook', 0.2828), ('evolve', 0.2781), ('spiritual', 0.276), ('orgs', 0.2752), ('soul', 0.2744), ('world', 0.2742), ('stadia', 0.2702), ('stand', 0.2622)]\n"
     ]
    }
   ],
   "source": [
    "unigram=[]\n",
    "for j in range(len(array_text)-1):\n",
    "    keywords = kw_extractor.extract_keywords(array_text[j+1],top_n=10,keyphrase_ngram_range=(1, 1))\n",
    "    print(f'\\033[1m   Unigram Cluster {j+1}: \\033[0m' )\n",
    "    print([word for word in keywords])\n",
    "    unigram.append([word[0] for word in keywords])"
   ]
  },
  {
   "cell_type": "code",
   "execution_count": 23,
   "metadata": {},
   "outputs": [
    {
     "name": "stdout",
     "output_type": "stream",
     "text": [
      "\u001b[1m   Cluster 1: \u001b[0m\n",
      "['mohon', 'bantu', 'military', 'militer', 'urgent', 'membutuhkan', 'militar', 'mendesak', 'menghentikan', 'want', 'militer mohon', 'military want', 'stop military', 'military kindly', 'urge urgent', 'perhatian mendesak', 'need urgent', 'mohon bantu', 'detain military', 'military try']\n",
      "\u001b[1m   Cluster 2: \u001b[0m\n",
      "['compassion', 'loving', 'love', 'passionate', 'respect', 'loyal', 'kind', 'faithful', 'supportive', 'generous', 'generous love', 'kind love', 'faithful love', 'loving care', 'passionate kind', 'loyal loving']\n",
      "\u001b[1m   Cluster 3: \u001b[0m\n",
      "['learn', 'commemorate', 'history', 'racism', 'america', 'american', 'african', 'educate', 'culture', 'explore', 'learn history', 'american history', 'teach history', 'educate black', 'america history', 'time learn', 'opportunity learn']\n",
      "\u001b[1m   Cluster 4: \u001b[0m\n",
      "['beautiful', 'beauty', 'lovely', 'woman', 'beaitiful', 'speech', 'brave', 'humble', 'powerful', 'mama', 'woman beautiful', 'woman beauty', 'humble woman', 'lovely speech', 'beautiful mama', 'woman brave', 'woman powerful', 'speech beaitiful']\n",
      "\u001b[1m   Cluster 5: \u001b[0m\n",
      "['welcome', 'hello', 'mexico', 'happy', 'morning', 'sign', 'people', 'totally', 'hello people', 'people welcome', 'morning hello', 'happy morning', 'people mexico', 'sign people', 'totally sign']\n",
      "\u001b[1m   Cluster 6: \u001b[0m\n",
      "['bless', 'prayer', 'merciful', 'repent', 'pray', 'forgive', 'deserve', 'lord', 'peace', 'revenge', 'heaven forgive', 'mercy allah', 'ordain forgive', 'changer forgive', 'forgive heavenly', 'tomorrow forgive', 'deserve forgive', 'forgive forgiveness', 'joke forgive']\n",
      "\u001b[1m   Cluster 7: \u001b[0m\n",
      "['exercise', 'workout', 'training', 'kickboxing', 'healthy', 'yoga', 'learn', 'routine', 'vacation', 'gym', 'exercise learn', 'regular exercise', 'efficient exercise', 'hour workout', 'exercise time', 'miss workout', 'good exercise', 'physical exercise', 'exercise home']\n",
      "\u001b[1m   Cluster 8: \u001b[0m\n",
      "['learn', 'dream', 'achieve', 'sleep', 'believe', 'lucid', 'masterclass', 'meditation', 'dreaming', 'breakthrough', 'learn magic', 'remember dream', 'lucid dream', 'dream transform', 'learn achieve', 'masterclass learn', 'learn break', 'course learn']\n",
      "\u001b[1m   Cluster 9: \u001b[0m\n",
      "['dreaming', 'dream', 'sleep', 'lucid', 'insomnia', 'vision', 'visualize', 'meditation', 'interpret', 'think', 'lucid dream', 'lucid dreaming', 'interpret dream', 'inspiration lucid', 'particular dream', 'reply lucid', 'insomnia lucid', 'look lucid', 'help lucid']\n",
      "\u001b[1m   Cluster 10: \u001b[0m\n",
      "['welcome', 'thank', 'great', 'year', 'happy', 'good', 'luck', 'enjoy', 'wish', 'nice', 'year welcome', 'year good', 'priority year', 'new year', 'good luck', 'thank happy', 'wish happy']\n",
      "\u001b[1m   Cluster 11: \u001b[0m\n",
      "['thank', 'lakhiani', 'inspirational', 'incredible', 'excellent', 'activist', 'mindvalley', 'video', 'brilliant', 'share', 'lakhiani thank', 'lakhiani incredible', 'brilliant thank', 'thank vishen', 'share inspirational', 'resonate thank', 'inspirational video']\n",
      "\u001b[1m   Cluster 12: \u001b[0m\n",
      "['tack', 'grazie', 'merci', 'grateful', 'gratitud', 'thank', 'appreciate', 'congratulation', 'blessing', 'trustworthy', 'gratitud merci', 'trustworthy thank', 'lot tack', 'worthy thank', 'thank guy', 'siempre gratitud', 'thank kind', 'thank appreciate']\n",
      "\u001b[1m   Cluster 13: \u001b[0m\n",
      "['love', 'passionate', 'beautiful', 'thisssss', 'xxx', 'guy', 'just', 'thisssss love', 'guy love', 'love passionate', 'beautiful love', 'love xxx', 'love just']\n",
      "\u001b[1m   Cluster 14: \u001b[0m\n",
      "['love', 'embrace', 'gracia', 'moment', 'inspiration', 'yearn', 'love love', 'inspiration love', 'love moment', 'love gracia', 'yearn embrace']\n",
      "\u001b[1m   Cluster 15: \u001b[0m\n",
      "['agree', 'true', 'believe', 'correct', 'absolutely', 'truth', 'definitely', 'yes', 'succeed', 'speak', 'true yes', 'agree yes', 'agree completely', 'true speak', 'absolutely true', 'say true', 'great agree']\n",
      "\u001b[1m   Cluster 16: \u001b[0m\n",
      "['vishenthank', 'thank', 'gratitude', 'bless', 'inspire', 'blessing', 'incredible', 'celebrate', 'generous', 'amazing', 'vishenthank incredible', 'vishen thank', 'vishen amazing', 'thank bless', 'birthday vishenthank', 'tremendously thank', 'bless infinitely', 'huge thank', 'thank create']\n",
      "\u001b[1m   Cluster 17: \u001b[0m\n",
      "['inspiring', 'inspire', 'inspir', 'mindvalley', 'merci', 'entrepreneur', 'mom', 'empower', 'educational', 'amazing', 'inspiring mom', 'mindvalley inspir', 'mom teach', 'teach kindness', 'world inspiring', 'learn mindvalley', 'thank inspire', 'mind teach', 'empower learn', 'love mindvalley']\n",
      "\u001b[1m   Cluster 18: \u001b[0m\n",
      "['happiness', 'reality', 'change', 'sadness', 'transformation', 'emotion', 'life', 'circumstance', 'loss', 'emotionally', 'happiness lose', 'sadness anger', 'fake happiness', 'time heal', 'happiness extreme', 'true sadness', 'achieve happiness', 'happiness play', 'enlightenment change', 'world change']\n",
      "\u001b[1m   Cluster 19: \u001b[0m\n",
      "['exercise', 'fitness', 'overweight', 'run', 'try', 'diet', 'weight', 'start', 'trial', 'fail', 'exercise lose', 'goal weight', 'fitness goal', 'weight week', 'optimize diet', 'incorporate cardio', 'time try', 'week fat', 'really fitness']\n",
      "\u001b[1m   Cluster 20: \u001b[0m\n",
      "['inspirational', 'inspiring', 'motivate', 'inspire', 'motivation', 'powerful', 'incredible', 'beautiful', 'extremely', 'positive', 'motivate inspirational', 'incredible inspirational', 'inspire inspiring', 'motivation beautiful', 'powerful motivation', 'inspirational extremely', 'positive inspire']\n",
      "\u001b[1m   Cluster 21: \u001b[0m\n",
      "['meeeeeeeee', 'yessssssssss', 'youuuuuu', 'meee', 'ittttt', 'ohh', 'let', 'ittttt meeeeeeeee', 'meeeeeeeee ohh', 'yessssssssss youuuuuu', 'youuuuuu let', 'ohh meee']\n",
      "\u001b[1m   Cluster 22: \u001b[0m\n",
      "['nice', 'good', 'lecture', 'great', 'goal', 'good lecture', 'lecture nice', 'nice goal', 'great nice']\n",
      "\u001b[1m   Cluster 23: \u001b[0m\n",
      "['amazing', 'incredible', 'awesome', 'wow', 'amazed', 'talent', 'bravo', 'talent amazing', 'wow amazing', 'awesome incredible', 'amazing bravo', 'amazed talent']\n",
      "\u001b[1m   Cluster 24: \u001b[0m\n",
      "['equality', 'good', 'great', 'cool', 'super', 'good equality', 'equality cool', 'super great']\n",
      "\u001b[1m   Cluster 25: \u001b[0m\n",
      "['translate', 'traducirlo', 'spanish', 'course', 'program', 'english', 'language', 'russian', 'portugal', 'transform', 'course spanish', 'translate russian', 'transform hindi', 'program translate', 'russian language', 'como traducirlo', 'want russian', 'spanish understand', 'english difficult']\n",
      "\u001b[1m   Cluster 26: \u001b[0m\n",
      "['sugar', 'consume', 'fruit', 'advertise', 'nutrient', 'vegetable', 'nutrition', 'clarify', 'smoothie', 'nutella', 'label sugar', 'choice sugar', 'add sugar', 'say sugar', 'absorb sugar', 'externalize sugar', 'product sugar', 'sugar orange']\n",
      "\u001b[1m   Cluster 27: \u001b[0m\n",
      "['asistir', 'favor', 'watch', 'youtube', 'interrupt', 'want', 'gustaria', 'interested', 'siempre', 'annoying', 'favor espero', 'businessman ad', 'favor tome', 'ad youtube', 'invasive annoying', 'want interrupt', 'asistir pero', 'interrupt min', 'trie mindful', 'por favor']\n",
      "\u001b[1m   Cluster 28: \u001b[0m\n",
      "['aprendizaje', 'aprender', 'conocimiento', 'educate', 'knowledge', 'respect', 'learn', 'fear', 'safe', 'hate', 'knowledge bhagvat', 'asimilacin conocimiento', 'aprender encontrarse', 'know people', 'group safe', 'aprendizaje entonce', 'require aprender', 'knowledge learning', 'learn ultimate', 'people fear']\n",
      "\u001b[1m   Cluster 29: \u001b[0m\n",
      "['narcissistic', 'narcissist', 'broken', 'upset', 'divorce', 'lose', 'break', 'relationshipsive', 'suicide', 'boyfriend', 'narcissistic parent', 'broken heart', 'ago upset', 'abuse narcissist', 'grow narcissistic', 'lose year', 'english break', 'lose love', 'spelling upset']\n",
      "\u001b[1m   Cluster 30: \u001b[0m\n",
      "['energy', 'pure', 'emerson', 'jennifer', 'epperson', 'allen', 'tiffany', 'anie', 'source', 'britt', 'energy tampo', 'source energy', 'jennifer epperson', 'pure source', 'emerson jennifer', 'tiffany emerson', 'anie tiffany', 'allen britt']\n",
      "\u001b[1m   Cluster 31: \u001b[0m\n",
      "['sumona', 'bull', 'musk', 'bose', 'hug', 'sean', 'john', 'thoma', 'kapoor', 'level', 'level john', 'hug level', 'musk thoma', 'mason bull', 'bull hmmm', 'sumona bose', 'rachel holme', 'hester sean', 'shero imene']\n",
      "\u001b[1m   Cluster 32: \u001b[0m\n",
      "['video', 'program', 'youtube', 'listen', 'cameraman', 'vishyy', 'thank', 'live', 'socierty', 'afford', 'listen video', 'look video', 'miss video', 'video people', 'video vishyy', 'glad video', 'video thank', 'video just', 'video youtube']\n",
      "\u001b[1m   Cluster 33: \u001b[0m\n",
      "['lady', 'woman', 'listen', 'support', 'interested', 'ariana', 'song', 'card', 'interesting', 'sing', 'listen ariana', 'purchase listen', 'contribution lady', 'ariana song', 'customer support', 'interested join', 'song believe', 'god woman', 'beauty pageant', 'woman sound']\n",
      "\u001b[1m   Cluster 34: \u001b[0m\n",
      "['ramya', 'karkhani', 'samrat', 'sabharwal', 'rashmi', 'rashid', 'sadhna', 'shevanthi', 'gunjan', 'madan', 'rashmi karkhani', 'sabharwal vikram', 'ramya padbidri', 'karkhani shubham', 'gunjan aggarwal', 'jra shevanthi', 'rameez saima', 'khan abijith', 'gagan sabharwal', 'shaban rashmi']\n",
      "\u001b[1m   Cluster 35: \u001b[0m\n",
      "['kellie', 'franklin', 'renz', 'stephen', 'glen', 'koziatek', 'ozyazgan', 'erlyn', 'kelisha', 'kerri', 'gracie koziatek', 'franklin cole', 'kerri straughen', 'stephen gracie', 'jonald renz', 'khai erlyn', 'kazz denisse', 'koziatek kellie', 'denisse samhiveryl']\n",
      "\u001b[1m   Cluster 36: \u001b[0m\n",
      "['program', 'course', 'membership', 'masterclass', 'evercoach', 'watch', 'fitness', 'television', 'exercise', 'join', 'membership program', 'evercoach course', 'course include', 'program cost', 'exercise program', 'program appreciate', 'american program', 'evercoach gym']\n",
      "\u001b[1m   Cluster 37: \u001b[0m\n",
      "['try', 'beware', 'email', 'message', 'send', 'want', 'offerrerererrrr', 'mail', 'server', 'wish', 'try email', 'send email', 'help email', 'say email', 'email long', 'email respond', 'email like', 'change email', 'try contact']\n",
      "\u001b[1m   Cluster 38: \u001b[0m\n",
      "['buenos', 'yuo', 'beacuose', 'teach', 'enjoy', 'girl', 'roxas', 'great', 'ofcourse', 'angel', 'good beacuose', 'teach amazing', 'buenos das', 'beacuose peopleof', 'beuteful girl', 'ofcourse teach', 'great instructor', 'truly enjoy', 'das estoy', 'muy buenos']\n",
      "\u001b[1m   Cluster 39: \u001b[0m\n",
      "['satan', 'sister', 'facebook', 'evolve', 'spiritual', 'orgs', 'soul', 'world', 'stadia', 'stand', 'spiritual sister', 'cast sister', 'grow satan', 'american spiritual', 'cast native', 'celtic sister', 'nah stand', 'practice paganism']\n"
     ]
    }
   ],
   "source": [
    "for i in range(len(array_text)-1):\n",
    "    clusterer=[]\n",
    "    bigramer=[]\n",
    "    print(f'\\033[1m   Cluster {i+1}: \\033[0m')\n",
    "    [clusterer.append(j) for j in unigram[i]]\n",
    "    clusterer.append(bigram[i][0])\n",
    "    \n",
    "    for word in bigram[i][0].split(\" \"):\n",
    "        if word not in bigramer:\n",
    "            bigramer.append(word)\n",
    "    \n",
    "    for each in bigram[i]:\n",
    "        first,second=each.split(\" \")\n",
    "        if first != second and not(first in bigramer and second in bigramer):\n",
    "            clusterer.append(each)\n",
    "            if bigramer.append(first): first not in bigramer\n",
    "            if bigramer.append(second): second not in bigramer\n",
    "    print(clusterer)"
   ]
  },
  {
   "cell_type": "code",
   "execution_count": 24,
   "metadata": {},
   "outputs": [
    {
     "ename": "NameError",
     "evalue": "name 'sentences' is not defined",
     "output_type": "error",
     "traceback": [
      "\u001b[1;31m---------------------------------------------------------------------------\u001b[0m",
      "\u001b[1;31mNameError\u001b[0m                                 Traceback (most recent call last)",
      "\u001b[1;32m<ipython-input-24-317bbbf38984>\u001b[0m in \u001b[0;36m<module>\u001b[1;34m\u001b[0m\n\u001b[1;32m----> 1\u001b[1;33m \u001b[0mlen\u001b[0m\u001b[1;33m(\u001b[0m\u001b[0msentences\u001b[0m\u001b[1;33m)\u001b[0m\u001b[1;33m\u001b[0m\u001b[1;33m\u001b[0m\u001b[0m\n\u001b[0m",
      "\u001b[1;31mNameError\u001b[0m: name 'sentences' is not defined"
     ]
    }
   ],
   "source": [
    "len(sentences)"
   ]
  },
  {
   "cell_type": "code",
   "execution_count": null,
   "metadata": {},
   "outputs": [],
   "source": [
    "from sentence_transformers import SentenceTransformer, util\n",
    "model = SentenceTransformer('xlm-r-distilroberta-base-paraphrase-v1')\n",
    "\n",
    "sentences = array_text[1:]\n",
    "\n",
    "#Encode all sentences\n",
    "embeddings = model.encode(sentences)\n",
    "\n",
    "#Compute cosine similarity between all pairs\n",
    "cos_sim = util.pytorch_cos_sim(embeddings, embeddings)\n",
    "\n",
    "#Add all pairs to a list with their cosine similarity score\n",
    "all_sentence_combinations = []\n",
    "for i in range(len(cos_sim)-1):\n",
    "    for j in range(i+1, len(cos_sim)):\n",
    "        all_sentence_combinations.append([cos_sim[i][j], i, j])\n",
    "\n",
    "#Sort list by the highest cosine similarity score\n",
    "all_sentence_combinations = sorted(all_sentence_combinations, key=lambda x: x[0], reverse=True)\n",
    "\n",
    "print(\"Top similar pairs:\")\n",
    "for score, i, j in all_sentence_combinations:\n",
    "    print(\"cluster {} \\t cluster {} \\t similarity: {:.4f}\".format(i+1, j+1, cos_sim[i][j]))"
   ]
  },
  {
   "cell_type": "code",
   "execution_count": null,
   "metadata": {},
   "outputs": [],
   "source": []
  }
 ],
 "metadata": {
  "colab": {
   "name": "Untitled5.ipynb",
   "provenance": []
  },
  "kernelspec": {
   "display_name": "Python 3",
   "language": "python",
   "name": "python3"
  },
  "language_info": {
   "codemirror_mode": {
    "name": "ipython",
    "version": 3
   },
   "file_extension": ".py",
   "mimetype": "text/x-python",
   "name": "python",
   "nbconvert_exporter": "python",
   "pygments_lexer": "ipython3",
   "version": "3.8.7"
  },
  "varInspector": {
   "cols": {
    "lenName": 16,
    "lenType": 16,
    "lenVar": 40
   },
   "kernels_config": {
    "python": {
     "delete_cmd_postfix": "",
     "delete_cmd_prefix": "del ",
     "library": "var_list.py",
     "varRefreshCmd": "print(var_dic_list())"
    },
    "r": {
     "delete_cmd_postfix": ") ",
     "delete_cmd_prefix": "rm(",
     "library": "var_list.r",
     "varRefreshCmd": "cat(var_dic_list()) "
    }
   },
   "types_to_exclude": [
    "module",
    "function",
    "builtin_function_or_method",
    "instance",
    "_Feature"
   ],
   "window_display": false
  },
  "widgets": {
   "application/vnd.jupyter.widget-state+json": {
    "10748c34bb5448d9a34cd200a3979d56": {
     "model_module": "@jupyter-widgets/controls",
     "model_name": "HTMLModel",
     "state": {
      "_dom_classes": [],
      "_model_module": "@jupyter-widgets/controls",
      "_model_module_version": "1.5.0",
      "_model_name": "HTMLModel",
      "_view_count": null,
      "_view_module": "@jupyter-widgets/controls",
      "_view_module_version": "1.5.0",
      "_view_name": "HTMLView",
      "description": "",
      "description_tooltip": null,
      "layout": "IPY_MODEL_7e2aa975791049c8a7f588ed76b379c0",
      "placeholder": "​",
      "style": "IPY_MODEL_39fd5938a4df4de2891cd8393dd7af2f",
      "value": " 140/140 [01:59&lt;00:00,  1.17it/s]"
     }
    },
    "39fd5938a4df4de2891cd8393dd7af2f": {
     "model_module": "@jupyter-widgets/controls",
     "model_name": "DescriptionStyleModel",
     "state": {
      "_model_module": "@jupyter-widgets/controls",
      "_model_module_version": "1.5.0",
      "_model_name": "DescriptionStyleModel",
      "_view_count": null,
      "_view_module": "@jupyter-widgets/base",
      "_view_module_version": "1.2.0",
      "_view_name": "StyleView",
      "description_width": ""
     }
    },
    "6b163e4049ca4cbe8a24e7ac79ced8a5": {
     "model_module": "@jupyter-widgets/controls",
     "model_name": "HBoxModel",
     "state": {
      "_dom_classes": [],
      "_model_module": "@jupyter-widgets/controls",
      "_model_module_version": "1.5.0",
      "_model_name": "HBoxModel",
      "_view_count": null,
      "_view_module": "@jupyter-widgets/controls",
      "_view_module_version": "1.5.0",
      "_view_name": "HBoxView",
      "box_style": "",
      "children": [
       "IPY_MODEL_b02fccb0afa047999665079b5248015f",
       "IPY_MODEL_10748c34bb5448d9a34cd200a3979d56"
      ],
      "layout": "IPY_MODEL_be0f028285fa4e8da720237e1b1279bf"
     }
    },
    "7e2aa975791049c8a7f588ed76b379c0": {
     "model_module": "@jupyter-widgets/base",
     "model_name": "LayoutModel",
     "state": {
      "_model_module": "@jupyter-widgets/base",
      "_model_module_version": "1.2.0",
      "_model_name": "LayoutModel",
      "_view_count": null,
      "_view_module": "@jupyter-widgets/base",
      "_view_module_version": "1.2.0",
      "_view_name": "LayoutView",
      "align_content": null,
      "align_items": null,
      "align_self": null,
      "border": null,
      "bottom": null,
      "display": null,
      "flex": null,
      "flex_flow": null,
      "grid_area": null,
      "grid_auto_columns": null,
      "grid_auto_flow": null,
      "grid_auto_rows": null,
      "grid_column": null,
      "grid_gap": null,
      "grid_row": null,
      "grid_template_areas": null,
      "grid_template_columns": null,
      "grid_template_rows": null,
      "height": null,
      "justify_content": null,
      "justify_items": null,
      "left": null,
      "margin": null,
      "max_height": null,
      "max_width": null,
      "min_height": null,
      "min_width": null,
      "object_fit": null,
      "object_position": null,
      "order": null,
      "overflow": null,
      "overflow_x": null,
      "overflow_y": null,
      "padding": null,
      "right": null,
      "top": null,
      "visibility": null,
      "width": null
     }
    },
    "b02fccb0afa047999665079b5248015f": {
     "model_module": "@jupyter-widgets/controls",
     "model_name": "FloatProgressModel",
     "state": {
      "_dom_classes": [],
      "_model_module": "@jupyter-widgets/controls",
      "_model_module_version": "1.5.0",
      "_model_name": "FloatProgressModel",
      "_view_count": null,
      "_view_module": "@jupyter-widgets/controls",
      "_view_module_version": "1.5.0",
      "_view_name": "ProgressView",
      "bar_style": "success",
      "description": "Batches: 100%",
      "description_tooltip": null,
      "layout": "IPY_MODEL_ea4553e744634f56a3128b209cac5330",
      "max": 140,
      "min": 0,
      "orientation": "horizontal",
      "style": "IPY_MODEL_b927e6a6b1c44be1be1f58d582da2f6a",
      "value": 140
     }
    },
    "b927e6a6b1c44be1be1f58d582da2f6a": {
     "model_module": "@jupyter-widgets/controls",
     "model_name": "ProgressStyleModel",
     "state": {
      "_model_module": "@jupyter-widgets/controls",
      "_model_module_version": "1.5.0",
      "_model_name": "ProgressStyleModel",
      "_view_count": null,
      "_view_module": "@jupyter-widgets/base",
      "_view_module_version": "1.2.0",
      "_view_name": "StyleView",
      "bar_color": null,
      "description_width": "initial"
     }
    },
    "be0f028285fa4e8da720237e1b1279bf": {
     "model_module": "@jupyter-widgets/base",
     "model_name": "LayoutModel",
     "state": {
      "_model_module": "@jupyter-widgets/base",
      "_model_module_version": "1.2.0",
      "_model_name": "LayoutModel",
      "_view_count": null,
      "_view_module": "@jupyter-widgets/base",
      "_view_module_version": "1.2.0",
      "_view_name": "LayoutView",
      "align_content": null,
      "align_items": null,
      "align_self": null,
      "border": null,
      "bottom": null,
      "display": null,
      "flex": null,
      "flex_flow": null,
      "grid_area": null,
      "grid_auto_columns": null,
      "grid_auto_flow": null,
      "grid_auto_rows": null,
      "grid_column": null,
      "grid_gap": null,
      "grid_row": null,
      "grid_template_areas": null,
      "grid_template_columns": null,
      "grid_template_rows": null,
      "height": null,
      "justify_content": null,
      "justify_items": null,
      "left": null,
      "margin": null,
      "max_height": null,
      "max_width": null,
      "min_height": null,
      "min_width": null,
      "object_fit": null,
      "object_position": null,
      "order": null,
      "overflow": null,
      "overflow_x": null,
      "overflow_y": null,
      "padding": null,
      "right": null,
      "top": null,
      "visibility": null,
      "width": null
     }
    },
    "ea4553e744634f56a3128b209cac5330": {
     "model_module": "@jupyter-widgets/base",
     "model_name": "LayoutModel",
     "state": {
      "_model_module": "@jupyter-widgets/base",
      "_model_module_version": "1.2.0",
      "_model_name": "LayoutModel",
      "_view_count": null,
      "_view_module": "@jupyter-widgets/base",
      "_view_module_version": "1.2.0",
      "_view_name": "LayoutView",
      "align_content": null,
      "align_items": null,
      "align_self": null,
      "border": null,
      "bottom": null,
      "display": null,
      "flex": null,
      "flex_flow": null,
      "grid_area": null,
      "grid_auto_columns": null,
      "grid_auto_flow": null,
      "grid_auto_rows": null,
      "grid_column": null,
      "grid_gap": null,
      "grid_row": null,
      "grid_template_areas": null,
      "grid_template_columns": null,
      "grid_template_rows": null,
      "height": null,
      "justify_content": null,
      "justify_items": null,
      "left": null,
      "margin": null,
      "max_height": null,
      "max_width": null,
      "min_height": null,
      "min_width": null,
      "object_fit": null,
      "object_position": null,
      "order": null,
      "overflow": null,
      "overflow_x": null,
      "overflow_y": null,
      "padding": null,
      "right": null,
      "top": null,
      "visibility": null,
      "width": null
     }
    }
   }
  }
 },
 "nbformat": 4,
 "nbformat_minor": 4
}

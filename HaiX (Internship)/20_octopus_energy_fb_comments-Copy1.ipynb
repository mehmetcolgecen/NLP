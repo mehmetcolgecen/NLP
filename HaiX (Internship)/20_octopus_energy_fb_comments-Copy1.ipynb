{
 "cells": [
  {
   "cell_type": "code",
   "execution_count": 1,
   "metadata": {},
   "outputs": [],
   "source": [
    "import re\n",
    "import pandas as pd\n",
    "import numpy as np\n",
    "from sklearn.cluster import KMeans\n",
    "import hdbscan\n",
    "import nltk\n",
    "import spacy\n",
    "\n",
    "import matplotlib.pyplot as plt\n",
    "from matplotlib.axes._axes import _log as matplotlib_axes_logger\n",
    "matplotlib_axes_logger.setLevel('ERROR')\n",
    "import seaborn as sns\n",
    "sns.set(style='white', rc={'figure.figsize':(10,8)})\n",
    "\n",
    "np.random.seed(42)\n",
    "%config Completer.use_jedi = False\n",
    "pd.set_option('display.max_columns', 30)\n",
    "# pd.set_option('display.max_rows', 100)\n",
    "\n",
    "spaci = spacy.load(\"en_core_web_sm\")"
   ]
  },
  {
   "cell_type": "code",
   "execution_count": 2,
   "metadata": {
    "colab": {
     "base_uri": "https://localhost:8080/",
     "height": 621
    },
    "id": "ek3w6OZQsoqv",
    "outputId": "92306d37-cc10-4cb7-c62e-006de9eae451"
   },
   "outputs": [
    {
     "data": {
      "text/html": [
       "<div>\n",
       "<style scoped>\n",
       "    .dataframe tbody tr th:only-of-type {\n",
       "        vertical-align: middle;\n",
       "    }\n",
       "\n",
       "    .dataframe tbody tr th {\n",
       "        vertical-align: top;\n",
       "    }\n",
       "\n",
       "    .dataframe thead th {\n",
       "        text-align: right;\n",
       "    }\n",
       "</style>\n",
       "<table border=\"1\" class=\"dataframe\">\n",
       "  <thead>\n",
       "    <tr style=\"text-align: right;\">\n",
       "      <th></th>\n",
       "      <th>Unnamed: 0</th>\n",
       "      <th>fb_comment</th>\n",
       "    </tr>\n",
       "  </thead>\n",
       "  <tbody>\n",
       "    <tr>\n",
       "      <th>0</th>\n",
       "      <td>0</td>\n",
       "      <td>Congratulations Laura</td>\n",
       "    </tr>\n",
       "    <tr>\n",
       "      <th>1</th>\n",
       "      <td>1</td>\n",
       "      <td>Rang u as my smart meter ain't working on scre...</td>\n",
       "    </tr>\n",
       "    <tr>\n",
       "      <th>2</th>\n",
       "      <td>2</td>\n",
       "      <td>I just applied switched to Octopus , but can I...</td>\n",
       "    </tr>\n",
       "    <tr>\n",
       "      <th>3</th>\n",
       "      <td>3</td>\n",
       "      <td>What do I need to do to get smart metres...</td>\n",
       "    </tr>\n",
       "    <tr>\n",
       "      <th>4</th>\n",
       "      <td>4</td>\n",
       "      <td>Could of phoned me</td>\n",
       "    </tr>\n",
       "  </tbody>\n",
       "</table>\n",
       "</div>"
      ],
      "text/plain": [
       "   Unnamed: 0                                         fb_comment\n",
       "0           0                              Congratulations Laura\n",
       "1           1  Rang u as my smart meter ain't working on scre...\n",
       "2           2  I just applied switched to Octopus , but can I...\n",
       "3           3        What do I need to do to get smart metres...\n",
       "4           4                                Could of phoned me "
      ]
     },
     "execution_count": 2,
     "metadata": {},
     "output_type": "execute_result"
    }
   ],
   "source": [
    "df = pd.read_csv('octopus_energy_fb_comments.csv')\n",
    "df.head()"
   ]
  },
  {
   "cell_type": "code",
   "execution_count": 3,
   "metadata": {},
   "outputs": [],
   "source": [
    "# def clean_data_small(text):\n",
    "#     list_data2=[]\n",
    "#     sentence=text.split(' ')\n",
    "#     for word in sentence:\n",
    "#         if not word.startswith('http') \\\n",
    "#            and not word.startswith('@') :\n",
    "#             list_data2.append(word)\n",
    "#     return \" \".join(list_data2)\n",
    "# df.fb_comment = df.fb_comment.apply(lambda x: clean_data_small(str(x)))"
   ]
  },
  {
   "cell_type": "code",
   "execution_count": 4,
   "metadata": {},
   "outputs": [],
   "source": [
    "df.fb_comment.replace(\"_\" , \" \", regex=True, inplace = True)\n",
    "df.fb_comment.replace(\"^\" , \" \", regex=True, inplace = True)"
   ]
  },
  {
   "cell_type": "code",
   "execution_count": 5,
   "metadata": {},
   "outputs": [
    {
     "data": {
      "text/plain": [
       "0                                Congratulations Laura\n",
       "1     Rang u as my smart meter ain't working on scr...\n",
       "2     I just applied switched to Octopus , but can ...\n",
       "3          What do I need to do to get smart metres...\n",
       "4                                  Could of phoned me \n",
       "Name: fb_comment, dtype: object"
      ]
     },
     "execution_count": 5,
     "metadata": {},
     "output_type": "execute_result"
    }
   ],
   "source": [
    "df.fb_comment.head()"
   ]
  },
  {
   "cell_type": "code",
   "execution_count": 6,
   "metadata": {
    "scrolled": true
   },
   "outputs": [],
   "source": [
    "import string\n",
    "for punc in string.punctuation:\n",
    "    if punc == \"@\": pass\n",
    "    elif punc == \"'\":\n",
    "        df.fb_comment.replace(f\"\\{punc}\", \" \", regex=True, inplace = True)\n",
    "    else:\n",
    "        try:\n",
    "            df.fb_comment.replace(f\"\\{punc}\", \"\", regex=True, inplace = True)\n",
    "        except:\n",
    "            pass"
   ]
  },
  {
   "cell_type": "code",
   "execution_count": 7,
   "metadata": {},
   "outputs": [
    {
     "data": {
      "text/plain": [
       "' Congratulations Laura'"
      ]
     },
     "execution_count": 7,
     "metadata": {},
     "output_type": "execute_result"
    }
   ],
   "source": [
    "df.fb_comment[0]"
   ]
  },
  {
   "cell_type": "code",
   "execution_count": 8,
   "metadata": {},
   "outputs": [],
   "source": [
    "junk_words = \"tqvm yessssssssssit youuuuuu nan nt citi kashif a very were yet than through via here rishisunak more much getting go going ive dont able when which who year barclays hsbcin amp like an no any since after banking im there out how starlingbank starling one only again over other then am may some do cant about banks would could its even their after has them get got within now all just if what or at had hsbcukbusiness up by into will an was our us so been hsbcuk co om ke ha gone your we can from as but to the hsbc and of you for are have they is my hsbc_uk with it in on this ðÿ be not bank me that\"\n",
    "junk_words_list = junk_words.split(\" \")"
   ]
  },
  {
   "cell_type": "code",
   "execution_count": 9,
   "metadata": {},
   "outputs": [],
   "source": [
    "def remove_unicode(text):\n",
    "\n",
    "    try:\n",
    "        text = text.encode(\"latin_1\").decode(\"raw_unicode_escape\").encode('utf-16', 'surrogatepass').decode('utf-16')\n",
    "    except:\n",
    "        text = text\n",
    "\n",
    "    emoji_pattern = re.compile(\"[\"\n",
    "        u\"\\U0001F600-\\U0001F64F\"  # emoticons\n",
    "        u\"\\U0001F300-\\U0001F5FF\"  # symbols & pictographs\n",
    "        u\"\\U0001F680-\\U0001F6FF\"  # transport & map symbols\n",
    "        u\"\\U0001F1E0-\\U0001F1FF\"  # flags (iOS)\n",
    "        u\"\\U00002500-\\U00002BEF\"  # chinese char\n",
    "        u\"\\U00002702-\\U000027B0\"\n",
    "        u\"\\U00002702-\\U000027B0\"\n",
    "        u\"\\U000024C2-\\U0001F251\"\n",
    "        u\"\\U0001f926-\\U0001f937\"\n",
    "        u\"\\U00010000-\\U0010ffff\"\n",
    "        u\"\\u2640-\\u2642\" \n",
    "        u\"\\u2600-\\u2B55\"\n",
    "        u\"\\u200d\"\n",
    "        u\"\\u23cf\"\n",
    "        u\"\\u23e9\"\n",
    "        u\"\\u231a\"\n",
    "        u\"\\ufe0f\"  # dingbats\n",
    "        u\"\\u3030\"\n",
    "        \"]+\", re.UNICODE)\n",
    "\n",
    "    text = re.sub(emoji_pattern, '', str(text))\n",
    "    text = ''.join(text.split('\\\\n')) # to remove uncompiled \\n\n",
    "    text = re.sub('\\n', '', text)     # to remove compiled \\n\n",
    "\n",
    "    return text"
   ]
  },
  {
   "cell_type": "code",
   "execution_count": 10,
   "metadata": {},
   "outputs": [],
   "source": [
    "def clean_data(text, small_word_lmt=2, extra_words=junk_words_list):\n",
    "    list_data2=[]\n",
    "    text = remove_unicode(text)\n",
    "    sentence=text.lower().split(' ')\n",
    "    for word in sentence:\n",
    "        if word == \"hi\":\n",
    "            word = word.replace(\"hi\", \"hello\")\n",
    "        if word.startswith(\"@\"):\n",
    "            list_data2.append(word)\n",
    "        elif not word.startswith('http') \\\n",
    "           and word.isalpha() \\\n",
    "           and len(word)>small_word_lmt \\\n",
    "           and word not in extra_words:\n",
    "            list_data2.append(word)\n",
    "    return \" \".join(list_data2)\n",
    "df.fb_comment = df.fb_comment.apply(lambda x: clean_data(x))"
   ]
  },
  {
   "cell_type": "code",
   "execution_count": 11,
   "metadata": {},
   "outputs": [
    {
     "data": {
      "text/plain": [
       "'congratulations laura'"
      ]
     },
     "execution_count": 11,
     "metadata": {},
     "output_type": "execute_result"
    }
   ],
   "source": [
    "df.fb_comment[0]"
   ]
  },
  {
   "cell_type": "code",
   "execution_count": 12,
   "metadata": {},
   "outputs": [],
   "source": [
    "def word_root(text):\n",
    "    list_data3=[]\n",
    "    \n",
    "    doc = spaci(text)\n",
    "    for token in doc:\n",
    "        lemma = token.lemma_\n",
    "        if lemma != \"do\":\n",
    "            list_data3.append(lemma)\n",
    "        else:pass\n",
    "    return \" \".join(list_data3)\n",
    "df.fb_comment = df.fb_comment.apply(lambda x: word_root(x))  "
   ]
  },
  {
   "cell_type": "code",
   "execution_count": 13,
   "metadata": {},
   "outputs": [
    {
     "data": {
      "text/plain": [
       "'congratulation laura'"
      ]
     },
     "execution_count": 13,
     "metadata": {},
     "output_type": "execute_result"
    }
   ],
   "source": [
    "df.fb_comment[0]"
   ]
  },
  {
   "cell_type": "code",
   "execution_count": 14,
   "metadata": {},
   "outputs": [],
   "source": [
    "# adjustment for non-english words\n",
    "\n",
    "# nltk.download('words')\n",
    "# eng_words = set(nltk.corpus.words.words())\n",
    "# df[\"eng\"] = df.fb_comment.apply(lambda x: \" \".join([i for i in nltk.wordpunct_tokenize(x) if i in eng_words]))\n",
    "# df[\"noneng\"] = df.fb_comment.apply(lambda x: \" \".join([i for i in nltk.wordpunct_tokenize(x) if i not in eng_words]))\n",
    "# df.noneng.tolist()"
   ]
  },
  {
   "cell_type": "code",
   "execution_count": 15,
   "metadata": {},
   "outputs": [],
   "source": [
    "filter_size = len(df.fb_comment)/100\n",
    "filter_size  = 7.5"
   ]
  },
  {
   "cell_type": "code",
   "execution_count": 16,
   "metadata": {},
   "outputs": [],
   "source": [
    "bigram_measures = nltk.collocations.BigramAssocMeasures()\n",
    "finder = nltk.collocations.BigramCollocationFinder.from_documents([fb_comment.split() for fb_comment in df.fb_comment])\n",
    "# Filter only those that occur at least 50 times\n",
    "bigram_scores = []\n",
    "while not bigram_scores:\n",
    "    finder.apply_freq_filter(filter_size)\n",
    "    bigram_scores = finder.score_ngrams(bigram_measures.pmi)\n",
    "    \n",
    "    filter_size -= 0.1"
   ]
  },
  {
   "cell_type": "code",
   "execution_count": 61,
   "metadata": {},
   "outputs": [
    {
     "data": {
      "text/plain": [
       "[(('meter_reading', 'meter_reading', 'meter_reading'), 15.02221851299496),\n",
       " (('wait_smart_meter', 'wait_smart_meter', 'wait_smart_meter'),\n",
       "  15.02221851299496),\n",
       " (('hello_octopus', 'hello_octopus', 'hello_octopus'), 14.682368510110337),\n",
       " (('week_ago', 'week_ago', 'week_ago'), 14.682368510110337),\n",
       " (('great_company', 'great_company', 'great_company'), 14.378362323220237),\n",
       " (('lisa_middleton', 'lisa_middleton', 'lisa_middleton'), 14.378362323220237),\n",
       " (('email_send', 'email_send', 'send_email'), 14.111325986828946),\n",
       " (('switch_octopus', 'switch_octopus', 'switch_octopus'), 14.103355275720366),\n",
       " (('smart_meter_instal', 'smart_meter_instal', 'smart_meter_instal'),\n",
       "  14.099034110045793),\n",
       " (('direct_debit', 'direct_debit', 'direct_debit'), 13.621339076712772),\n",
       " (('reply_email', 'reply_email', 'reply_email'), 12.847292830494279),\n",
       " (('email_send', 'email_send', 'email_send'), 12.670753395442961),\n",
       " (('customer_service', 'customer_service', 'customer_service'),\n",
       "  11.208437321777925),\n",
       " (('octopus_energy', 'octopus_energy', 'octopus_energy'), 10.165155380034413),\n",
       " (('smart_meter', 'smart_meter', 'smart_meter'), 9.407508668879753)]"
      ]
     },
     "execution_count": 61,
     "metadata": {},
     "output_type": "execute_result"
    }
   ],
   "source": [
    "trigram_measures = nltk.collocations.TrigramAssocMeasures()\n",
    "finder = nltk.collocations.TrigramCollocationFinder.from_documents([fb_comment.split() for fb_comment in df.fb_comment])\n",
    "# Filter only those that occur at least 50 times\n",
    "trigram_scores = []\n",
    "while not trigram_scores:\n",
    "    finder.apply_freq_filter(filter_size)\n",
    "    trigram_scores = finder.score_ngrams(trigram_measures.pmi)\n",
    "    filter_size -= 0.1\n",
    "trigram_scores"
   ]
  },
  {
   "cell_type": "code",
   "execution_count": 18,
   "metadata": {},
   "outputs": [],
   "source": [
    "bigram_pmi = pd.DataFrame(bigram_scores)\n",
    "bigram_pmi.columns = ['bigram', 'pmi']\n",
    "bigram_pmi.sort_values(by='pmi', axis = 0, ascending = False, inplace = True)"
   ]
  },
  {
   "cell_type": "code",
   "execution_count": 19,
   "metadata": {},
   "outputs": [],
   "source": [
    "trigram_pmi = pd.DataFrame(trigram_scores)\n",
    "trigram_pmi.columns = ['trigram', 'pmi']\n",
    "trigram_pmi.sort_values(by='pmi', axis = 0, ascending = False, inplace = True)"
   ]
  },
  {
   "cell_type": "code",
   "execution_count": 20,
   "metadata": {},
   "outputs": [],
   "source": [
    "def bigram_filter(bigram):\n",
    "    tag = nltk.pos_tag(bigram)\n",
    "    if tag[0][1] not in ['JJ', 'NN'] and tag[1][1] not in ['NN']:\n",
    "        return False\n",
    "    if bigram[0] in stop_words or bigram[1] in stop_words:\n",
    "        return False\n",
    "    if 'n' in bigram or 't' in bigram:\n",
    "        return False\n",
    "    if 'PRON' in bigram:\n",
    "        return False\n",
    "    return True"
   ]
  },
  {
   "cell_type": "code",
   "execution_count": 21,
   "metadata": {},
   "outputs": [],
   "source": [
    "from nltk.corpus import stopwords\n",
    "stop_words = stopwords.words(\"english\")"
   ]
  },
  {
   "cell_type": "code",
   "execution_count": 22,
   "metadata": {},
   "outputs": [],
   "source": [
    "# Filter for trigrams with only noun-type structures\n",
    "def trigram_filter(trigram):\n",
    "    tag = nltk.pos_tag(trigram)\n",
    "    if tag[0][1] not in ['JJ', 'NN'] and tag[1][1] not in ['JJ','NN']:\n",
    "        return False\n",
    "    if trigram[0] in stop_words or trigram[-1] in stop_words or trigram[1] in stop_words:\n",
    "        return False\n",
    "    if 'n' in trigram or 't' in trigram:\n",
    "         return False\n",
    "    if 'PRON' in trigram:\n",
    "        return False\n",
    "    return True"
   ]
  },
  {
   "cell_type": "code",
   "execution_count": 23,
   "metadata": {},
   "outputs": [],
   "source": [
    "# Can set pmi threshold to whatever makes sense - eyeball through and select threshold where n-grams stop making sense\n",
    "# choose top 500 ngrams in this case ranked by PMI that have noun like structures\n",
    "filtered_bigram = bigram_pmi[bigram_pmi.apply(lambda bigram:\\\n",
    "                                              bigram_filter(bigram['bigram'])\\\n",
    "                                              and bigram.pmi > 3, axis = 1)][:500]\n",
    "filtered_trigram = trigram_pmi[trigram_pmi.apply(lambda trigram: \\\n",
    "                                                 trigram_filter(trigram['trigram'])\\\n",
    "                                                 and trigram.pmi > 3, axis = 1)][:500]"
   ]
  },
  {
   "cell_type": "code",
   "execution_count": 24,
   "metadata": {},
   "outputs": [],
   "source": [
    "bigrams = [' '.join(x) for x in filtered_bigram.bigram.values if len(x[0]) > 2 or len(x[1]) > 2]\n",
    "trigrams = [' '.join(x) for x in filtered_trigram.trigram.values if len(x[0]) > 2 or len(x[1]) > 2 and len(x[2]) > 2]"
   ]
  },
  {
   "cell_type": "code",
   "execution_count": 25,
   "metadata": {},
   "outputs": [],
   "source": [
    "# bigrams = [' '.join(x) for x in bigram_pmi.bigram.values if len(x[0]) > 2 or len(x[1]) > 2]\n",
    "# trigrams = [' '.join(x) for x in trigram_pmi.trigram.values if len(x[0]) > 2 or len(x[1]) > 2 and len(x[2]) > 2]"
   ]
  },
  {
   "cell_type": "code",
   "execution_count": 26,
   "metadata": {},
   "outputs": [
    {
     "data": {
      "text/plain": [
       "['lisa middleton',\n",
       " 'direct debit',\n",
       " 'week ago',\n",
       " 'customer service',\n",
       " 'smart meter',\n",
       " 'meter fit',\n",
       " 'meter instal',\n",
       " 'reply email',\n",
       " 'great company',\n",
       " 'octopus energy',\n",
       " 'meter reading',\n",
       " 'wait smart',\n",
       " 'send email',\n",
       " 'email send',\n",
       " 'hello octopus',\n",
       " 'switch octopus']"
      ]
     },
     "execution_count": 26,
     "metadata": {},
     "output_type": "execute_result"
    }
   ],
   "source": [
    "bigrams"
   ]
  },
  {
   "cell_type": "code",
   "execution_count": 27,
   "metadata": {},
   "outputs": [
    {
     "data": {
      "text/plain": [
       "['smart meter instal', 'smart meter fit', 'wait smart meter']"
      ]
     },
     "execution_count": 27,
     "metadata": {},
     "output_type": "execute_result"
    }
   ],
   "source": [
    "trigrams"
   ]
  },
  {
   "cell_type": "code",
   "execution_count": 28,
   "metadata": {},
   "outputs": [],
   "source": [
    "replace_ngrams = {}\n",
    "\n",
    "for i in trigrams:\n",
    "    replace_ngrams[i] = i.replace(\" \",\"_\")\n",
    "for j in bigrams:\n",
    "    replace_ngrams[j] = j.replace(\" \",\"_\")"
   ]
  },
  {
   "cell_type": "code",
   "execution_count": 29,
   "metadata": {},
   "outputs": [],
   "source": [
    "for key, value in replace_ngrams.items():\n",
    "    df.fb_comment.replace(f\"\\S*{key}\\S*\" , f\"{value} \"*3, regex=True, inplace = True)\n",
    "    "
   ]
  },
  {
   "cell_type": "code",
   "execution_count": 30,
   "metadata": {},
   "outputs": [],
   "source": [
    "# replace_key_words = ['delay', 'wait', 'on_hold', 'any_news', 'awful', 'disappointed', 'give_up', 'regret', 'worse', 'worst', 'unhappy', 'sucksunbelievable', 'frustrated', 'disgusted', 'happy', 'disgrace', 'awesome', 'fantastic', 'well_done', 'great', 'leave', 'bye', 'switch', 'covidenvironment', 'fossil', 'coal', 'fuel', 'climate', 'carbon', 'best', 'wonderfull']\n",
    "# for key_word in replace_key_words:\n",
    "#     df.fb_comment.replace(f\"\\S*{key_word}\\S*\" , f\"{key_word} \"*2, regex=True, inplace = True)\n"
   ]
  },
  {
   "cell_type": "code",
   "execution_count": 31,
   "metadata": {},
   "outputs": [],
   "source": [
    "# df.drop(df[df.fb_comment.str.contains(\"tatacrucible\")].index, axis=0,inplace=True)"
   ]
  },
  {
   "cell_type": "code",
   "execution_count": 32,
   "metadata": {
    "colab": {
     "base_uri": "https://localhost:8080/"
    },
    "id": "AJi9HfxAs-i6",
    "outputId": "d9488f7a-38fe-43f3-f66d-a032b478d821"
   },
   "outputs": [
    {
     "data": {
      "text/plain": [
       "(768,)"
      ]
     },
     "execution_count": 32,
     "metadata": {},
     "output_type": "execute_result"
    }
   ],
   "source": [
    "df_clean = df.fb_comment\n",
    "df_clean.shape"
   ]
  },
  {
   "cell_type": "code",
   "execution_count": 33,
   "metadata": {
    "colab": {
     "base_uri": "https://localhost:8080/"
    },
    "id": "fQrLe1lptC5s",
    "outputId": "66b96f28-a9a5-47b9-defa-0079ea6fe6d7"
   },
   "outputs": [
    {
     "data": {
      "text/plain": [
       "(768,)"
      ]
     },
     "execution_count": 33,
     "metadata": {},
     "output_type": "execute_result"
    }
   ],
   "source": [
    "df_clean = df_clean.dropna()\n",
    "df_clean.shape"
   ]
  },
  {
   "cell_type": "code",
   "execution_count": 34,
   "metadata": {
    "id": "47pXDb_dtU04"
   },
   "outputs": [],
   "source": [
    "list_data = df_clean.to_list()\n",
    "list_data = [str(sent) for sent in list_data]"
   ]
  },
  {
   "cell_type": "code",
   "execution_count": 35,
   "metadata": {},
   "outputs": [],
   "source": [
    "from sentence_transformers import SentenceTransformer"
   ]
  },
  {
   "cell_type": "code",
   "execution_count": 36,
   "metadata": {},
   "outputs": [],
   "source": [
    "# distilbert-base-nli-mean-tokens\n",
    "# paraphrase-distilroberta-base-v1"
   ]
  },
  {
   "cell_type": "code",
   "execution_count": 37,
   "metadata": {},
   "outputs": [
    {
     "data": {
      "application/vnd.jupyter.widget-view+json": {
       "model_id": "a1dacae7599840cd827fe327622b6eee",
       "version_major": 2,
       "version_minor": 0
      },
      "text/plain": [
       "Batches:   0%|          | 0/24 [00:00<?, ?it/s]"
      ]
     },
     "metadata": {},
     "output_type": "display_data"
    }
   ],
   "source": [
    "model=SentenceTransformer('distilbert-base-nli-mean-tokens')\n",
    "embeddings1 = model.encode(list_data, show_progress_bar=True)"
   ]
  },
  {
   "cell_type": "code",
   "execution_count": 38,
   "metadata": {},
   "outputs": [],
   "source": [
    "# embeddings1[embeddings1.argmax()]"
   ]
  },
  {
   "cell_type": "code",
   "execution_count": 39,
   "metadata": {
    "colab": {
     "base_uri": "https://localhost:8080/",
     "height": 67,
     "referenced_widgets": [
      "6b163e4049ca4cbe8a24e7ac79ced8a5",
      "be0f028285fa4e8da720237e1b1279bf",
      "b02fccb0afa047999665079b5248015f",
      "10748c34bb5448d9a34cd200a3979d56",
      "b927e6a6b1c44be1be1f58d582da2f6a",
      "ea4553e744634f56a3128b209cac5330",
      "39fd5938a4df4de2891cd8393dd7af2f",
      "7e2aa975791049c8a7f588ed76b379c0"
     ]
    },
    "id": "BjwnhvRQtW2S",
    "outputId": "458d7bd4-ba13-4112-85a9-fb050e99008f"
   },
   "outputs": [
    {
     "data": {
      "application/vnd.jupyter.widget-view+json": {
       "model_id": "fdd95d1bbedf4b9599b40488a4be7dc2",
       "version_major": 2,
       "version_minor": 0
      },
      "text/plain": [
       "Batches:   0%|          | 0/24 [00:00<?, ?it/s]"
      ]
     },
     "metadata": {},
     "output_type": "display_data"
    }
   ],
   "source": [
    "model=SentenceTransformer('paraphrase-distilroberta-base-v1')\n",
    "embeddings2 = model.encode(list_data, show_progress_bar=True)"
   ]
  },
  {
   "cell_type": "code",
   "execution_count": 40,
   "metadata": {},
   "outputs": [
    {
     "data": {
      "application/vnd.jupyter.widget-view+json": {
       "model_id": "c4d446340ee944718b6c83b3e20afb18",
       "version_major": 2,
       "version_minor": 0
      },
      "text/plain": [
       "Batches:   0%|          | 0/24 [00:00<?, ?it/s]"
      ]
     },
     "metadata": {},
     "output_type": "display_data"
    }
   ],
   "source": [
    "model=SentenceTransformer('roberta-large-nli-stsb-mean-tokens')\n",
    "embeddings3 = model.encode(list_data, show_progress_bar=True)"
   ]
  },
  {
   "cell_type": "code",
   "execution_count": 41,
   "metadata": {},
   "outputs": [
    {
     "data": {
      "application/vnd.jupyter.widget-view+json": {
       "model_id": "52dd27498a1546288333022292ed099a",
       "version_major": 2,
       "version_minor": 0
      },
      "text/plain": [
       "Batches:   0%|          | 0/24 [00:00<?, ?it/s]"
      ]
     },
     "metadata": {},
     "output_type": "display_data"
    }
   ],
   "source": [
    "model=SentenceTransformer('allenai-specter')\n",
    "embeddings4 = model.encode(list_data, show_progress_bar=True)"
   ]
  },
  {
   "cell_type": "code",
   "execution_count": 42,
   "metadata": {
    "colab": {
     "base_uri": "https://localhost:8080/"
    },
    "id": "4YBHVN6XtYlW",
    "outputId": "9d0ba510-e720-4633-ffc5-b442db8720e2"
   },
   "outputs": [],
   "source": [
    "embeddings1_norm = embeddings1 /  np.linalg.norm(embeddings1, axis=1, keepdims=True)\n",
    "embeddings2_norm = embeddings2 /  np.linalg.norm(embeddings2, axis=1, keepdims=True)\n",
    "embeddings3_norm = embeddings3 /  np.linalg.norm(embeddings3, axis=1, keepdims=True)\n",
    "embeddings4_norm = embeddings4 /  np.linalg.norm(embeddings4, axis=1, keepdims=True)"
   ]
  },
  {
   "cell_type": "code",
   "execution_count": 43,
   "metadata": {},
   "outputs": [],
   "source": [
    "import umap"
   ]
  },
  {
   "cell_type": "code",
   "execution_count": 44,
   "metadata": {
    "id": "g8zUQEqTta2y"
   },
   "outputs": [],
   "source": [
    "UMAP_bert1 = umap.UMAP(n_components=2).fit_transform(embeddings1)\n",
    "UMAP_bert1_norm = umap.UMAP(n_components=2).fit_transform(embeddings1_norm)\n",
    "\n",
    "UMAP_bert2 = umap.UMAP(n_components=2).fit_transform(embeddings2)\n",
    "UMAP_bert2_norm = umap.UMAP(n_components=2).fit_transform(embeddings2_norm)\n",
    "\n",
    "#n_neighbors=10, min_dist=0.0, "
   ]
  },
  {
   "cell_type": "code",
   "execution_count": 45,
   "metadata": {},
   "outputs": [],
   "source": [
    "UMAP_bert3 = umap.UMAP(n_components=2).fit_transform(embeddings3)\n",
    "UMAP_bert3_norm = umap.UMAP(n_components=2).fit_transform(embeddings3_norm)\n",
    "\n",
    "UMAP_bert4 = umap.UMAP(n_components=2).fit_transform(embeddings4)\n",
    "UMAP_bert4_norm = umap.UMAP(n_components=2).fit_transform(embeddings4_norm)"
   ]
  },
  {
   "cell_type": "code",
   "execution_count": 46,
   "metadata": {},
   "outputs": [
    {
     "data": {
      "text/plain": [
       "{'UMAP_bert1': 0.06839510208580099,\n",
       " 'UMAP_bert1_norm': 0.0816521943246372,\n",
       " 'UMAP_bert2': 0.013453226058924657,\n",
       " 'UMAP_bert2_norm': 0.15975758947527258,\n",
       " 'UMAP_bert3': 0.01627091958361818,\n",
       " 'UMAP_bert3_norm': 0.02140541073543355,\n",
       " 'UMAP_bert4': 0.07374506450527117,\n",
       " 'UMAP_bert4_norm': 0.07419665556482467}"
      ]
     },
     "execution_count": 46,
     "metadata": {},
     "output_type": "execute_result"
    }
   ],
   "source": [
    "from pyclustertend import hopkins\n",
    "\n",
    "embeddings = {\"UMAP_bert1\" : UMAP_bert1, \"UMAP_bert1_norm\" : UMAP_bert1_norm, \n",
    "              \"UMAP_bert2\" : UMAP_bert2, \"UMAP_bert2_norm\" : UMAP_bert2_norm,\n",
    "              \"UMAP_bert3\" : UMAP_bert3, \"UMAP_bert3_norm\" : UMAP_bert3_norm, \n",
    "              \"UMAP_bert4\" : UMAP_bert4, \"UMAP_bert4_norm\" : UMAP_bert4_norm}\n",
    "\n",
    "embeds = {}\n",
    "\n",
    "for key, emb in embeddings.items():\n",
    "    embeds[key] = hopkins(emb,emb.shape[0])\n",
    "\n",
    "embeds\n",
    "# embeddings[embeds.index(min(embeds))]\n",
    "# print(f\"the hopkins score for embeddings {i} is : {hs}\")"
   ]
  },
  {
   "cell_type": "code",
   "execution_count": 47,
   "metadata": {},
   "outputs": [
    {
     "data": {
      "text/plain": [
       "'UMAP_bert2'"
      ]
     },
     "execution_count": 47,
     "metadata": {},
     "output_type": "execute_result"
    }
   ],
   "source": [
    "best_embed_name = min(embeds, key=embeds.get)\n",
    "best_model = embeddings[best_embed_name]\n",
    "best_embed_name"
   ]
  },
  {
   "cell_type": "code",
   "execution_count": 48,
   "metadata": {},
   "outputs": [
    {
     "data": {
      "image/png": "[encoded data removed]",
      "text/plain": [
       "<Figure size 720x576 with 1 Axes>"
      ]
     },
     "metadata": {},
     "output_type": "display_data"
    }
   ],
   "source": [
    "#inertia\n",
    "\n",
    "kmeans_per_k = [KMeans(n_clusters=k, random_state=42).fit(best_model)\n",
    "                for k in range(1, 10)]\n",
    "inertias = [model.inertia_ for model in kmeans_per_k]\n",
    "\n",
    "plt.plot(range(1, 10), inertias, \"bo-\")\n",
    "plt.xlabel(\"$k$\", fontsize=14)\n",
    "plt.ylabel(\"Inertia\", fontsize=14)\n",
    "plt.show()"
   ]
  },
  {
   "cell_type": "code",
   "execution_count": 55,
   "metadata": {},
   "outputs": [],
   "source": [
    "cluster = KMeans(n_clusters=4, init=\"k-means++\").fit_predict(best_model)"
   ]
  },
  {
   "cell_type": "code",
   "execution_count": 56,
   "metadata": {
    "colab": {
     "base_uri": "https://localhost:8080/",
     "height": 523
    },
    "id": "bqq2_WsRtbN3",
    "outputId": "8e6703c5-89b1-434e-e8e5-74468bf87f8b"
   },
   "outputs": [],
   "source": [
    "def plot(cluster = cluster):    \n",
    "\n",
    "    clustered = (cluster >= 0)\n",
    "    reduced_dim = best_model\n",
    "\n",
    "\n",
    "\n",
    "    unique, counts = np.unique(cluster, return_counts=True)\n",
    "    print(dict(zip(unique, counts)))\n",
    "\n",
    "    plt.scatter(reduced_dim[~clustered, 0],\n",
    "                reduced_dim[~clustered, 1],\n",
    "                c=(0.5,0.5,0.5),\n",
    "                # s=1,\n",
    "                alpha=0.5\n",
    "                )\n",
    "    plt.scatter(reduced_dim[clustered, 0],\n",
    "                reduced_dim[clustered, 1],\n",
    "                c=cluster[clustered],\n",
    "                # s=1,\n",
    "                cmap='Spectral')\n",
    "    plt.show()"
   ]
  },
  {
   "cell_type": "code",
   "execution_count": 57,
   "metadata": {},
   "outputs": [
    {
     "name": "stdout",
     "output_type": "stream",
     "text": [
      "{0: 192, 1: 254, 2: 23, 3: 299}\n"
     ]
    },
    {
     "data": {
      "image/png": "[encoded data removed]",
      "text/plain": [
       "<Figure size 720x576 with 1 Axes>"
      ]
     },
     "metadata": {},
     "output_type": "display_data"
    }
   ],
   "source": [
    "plot()"
   ]
  },
  {
   "cell_type": "code",
   "execution_count": 58,
   "metadata": {},
   "outputs": [],
   "source": [
    "from sklearn.feature_extraction.text import TfidfVectorizer\n",
    "\n",
    "def tfidfmatrix(data, vectorizer):\n",
    "    terms = vectorizer.fit_transform(data)\n",
    "    return pd.DataFrame(terms.toarray(), columns = vectorizer.get_feature_names())"
   ]
  },
  {
   "cell_type": "code",
   "execution_count": 59,
   "metadata": {
    "colab": {
     "base_uri": "https://localhost:8080/",
     "height": 415
    },
    "id": "CK77OfTntbQp",
    "outputId": "2f611718-91f7-4618-d637-33676c32b08e"
   },
   "outputs": [],
   "source": [
    "def cluster_words(cluster = cluster, top_n = 20):\n",
    "    print(\"-\"*50,best_embed_name,\"-\"*50)\n",
    "\n",
    "    docs = pd.DataFrame(df_clean)\n",
    "    docs[\"cluster\"] = cluster\n",
    "\n",
    "    labeled_docs = docs.groupby([\"cluster\"], as_index=False).agg({\"fb_comment\": \" \".join})\n",
    "\n",
    "    tfidf_vec = TfidfVectorizer()\n",
    "    try:\n",
    "        tfidf_mat = tfidfmatrix(labeled_docs.fb_comment, tfidf_vec)\n",
    "    except: pass\n",
    "\n",
    "    global most_common\n",
    "    most_common = pd.DataFrame({n: tfidf_mat.T[col].nlargest(top_n).index.tolist() \n",
    "                            for n, col in enumerate(tfidf_mat.T)}).T\n",
    "#         most_common.index = np.unique(cluster)\n",
    "    display(most_common)"
   ]
  },
  {
   "cell_type": "code",
   "execution_count": 60,
   "metadata": {
    "id": "HrVmmyMGtbWR"
   },
   "outputs": [
    {
     "name": "stdout",
     "output_type": "stream",
     "text": [
      "-------------------------------------------------- UMAP_bert2 --------------------------------------------------\n"
     ]
    },
    {
     "data": {
      "text/html": [
       "<div>\n",
       "<style scoped>\n",
       "    .dataframe tbody tr th:only-of-type {\n",
       "        vertical-align: middle;\n",
       "    }\n",
       "\n",
       "    .dataframe tbody tr th {\n",
       "        vertical-align: top;\n",
       "    }\n",
       "\n",
       "    .dataframe thead th {\n",
       "        text-align: right;\n",
       "    }\n",
       "</style>\n",
       "<table border=\"1\" class=\"dataframe\">\n",
       "  <thead>\n",
       "    <tr style=\"text-align: right;\">\n",
       "      <th></th>\n",
       "      <th>0</th>\n",
       "      <th>1</th>\n",
       "      <th>2</th>\n",
       "      <th>3</th>\n",
       "      <th>4</th>\n",
       "      <th>5</th>\n",
       "      <th>6</th>\n",
       "      <th>7</th>\n",
       "      <th>8</th>\n",
       "      <th>9</th>\n",
       "      <th>10</th>\n",
       "      <th>11</th>\n",
       "      <th>12</th>\n",
       "      <th>13</th>\n",
       "      <th>14</th>\n",
       "      <th>15</th>\n",
       "      <th>16</th>\n",
       "      <th>17</th>\n",
       "      <th>18</th>\n",
       "      <th>19</th>\n",
       "    </tr>\n",
       "  </thead>\n",
       "  <tbody>\n",
       "    <tr>\n",
       "      <th>0</th>\n",
       "      <td>lisa_middleton</td>\n",
       "      <td>apple</td>\n",
       "      <td>cake</td>\n",
       "      <td>amazing</td>\n",
       "      <td>bake</td>\n",
       "      <td>pie</td>\n",
       "      <td>pink</td>\n",
       "      <td>love</td>\n",
       "      <td>make</td>\n",
       "      <td>news</td>\n",
       "      <td>great</td>\n",
       "      <td>please</td>\n",
       "      <td>ice</td>\n",
       "      <td>jame</td>\n",
       "      <td>chocolate</td>\n",
       "      <td>crumble</td>\n",
       "      <td>rebecca</td>\n",
       "      <td>robert</td>\n",
       "      <td>vegan</td>\n",
       "      <td>bit</td>\n",
       "    </tr>\n",
       "    <tr>\n",
       "      <th>1</th>\n",
       "      <td>smart_meter</td>\n",
       "      <td>octopus_energy</td>\n",
       "      <td>octopus</td>\n",
       "      <td>month</td>\n",
       "      <td>hello_octopus</td>\n",
       "      <td>meter</td>\n",
       "      <td>still</td>\n",
       "      <td>email</td>\n",
       "      <td>wait_smart_meter</td>\n",
       "      <td>switch_octopus</td>\n",
       "      <td>smart_meter_instal</td>\n",
       "      <td>customer_service</td>\n",
       "      <td>direct_debit</td>\n",
       "      <td>switch</td>\n",
       "      <td>customer</td>\n",
       "      <td>say</td>\n",
       "      <td>company</td>\n",
       "      <td>bill</td>\n",
       "      <td>please</td>\n",
       "      <td>smart_meter_fit</td>\n",
       "    </tr>\n",
       "    <tr>\n",
       "      <th>2</th>\n",
       "      <td>abby</td>\n",
       "      <td>above</td>\n",
       "      <td>absolute</td>\n",
       "      <td>absolutely</td>\n",
       "      <td>accept</td>\n",
       "      <td>accidentally</td>\n",
       "      <td>accolade</td>\n",
       "      <td>account</td>\n",
       "      <td>acknowledge</td>\n",
       "      <td>acknowledgement</td>\n",
       "      <td>acknowledgementthank</td>\n",
       "      <td>acquaintance</td>\n",
       "      <td>action</td>\n",
       "      <td>active</td>\n",
       "      <td>actually</td>\n",
       "      <td>adam</td>\n",
       "      <td>add</td>\n",
       "      <td>address</td>\n",
       "      <td>adequacy</td>\n",
       "      <td>adjust</td>\n",
       "    </tr>\n",
       "    <tr>\n",
       "      <th>3</th>\n",
       "      <td>customer_service</td>\n",
       "      <td>email</td>\n",
       "      <td>email_send</td>\n",
       "      <td>reply_email</td>\n",
       "      <td>company</td>\n",
       "      <td>customer</td>\n",
       "      <td>great_company</td>\n",
       "      <td>call</td>\n",
       "      <td>back</td>\n",
       "      <td>still</td>\n",
       "      <td>month</td>\n",
       "      <td>switch</td>\n",
       "      <td>please</td>\n",
       "      <td>answer</td>\n",
       "      <td>good</td>\n",
       "      <td>know</td>\n",
       "      <td>thank</td>\n",
       "      <td>use</td>\n",
       "      <td>reply</td>\n",
       "      <td>try</td>\n",
       "    </tr>\n",
       "  </tbody>\n",
       "</table>\n",
       "</div>"
      ],
      "text/plain": [
       "                 0               1           2            3              4   \\\n",
       "0    lisa_middleton           apple        cake      amazing           bake   \n",
       "1       smart_meter  octopus_energy     octopus        month  hello_octopus   \n",
       "2              abby           above    absolute   absolutely         accept   \n",
       "3  customer_service           email  email_send  reply_email        company   \n",
       "\n",
       "             5              6        7                 8                9   \\\n",
       "0           pie           pink     love              make             news   \n",
       "1         meter          still    email  wait_smart_meter   switch_octopus   \n",
       "2  accidentally       accolade  account       acknowledge  acknowledgement   \n",
       "3      customer  great_company     call              back            still   \n",
       "\n",
       "                     10                11            12      13         14  \\\n",
       "0                 great            please           ice    jame  chocolate   \n",
       "1    smart_meter_instal  customer_service  direct_debit  switch   customer   \n",
       "2  acknowledgementthank      acquaintance        action  active   actually   \n",
       "3                 month            switch        please  answer       good   \n",
       "\n",
       "        15       16       17        18               19  \n",
       "0  crumble  rebecca   robert     vegan              bit  \n",
       "1      say  company     bill    please  smart_meter_fit  \n",
       "2     adam      add  address  adequacy           adjust  \n",
       "3     know    thank      use     reply              try  "
      ]
     },
     "metadata": {},
     "output_type": "display_data"
    }
   ],
   "source": [
    "cluster_words()"
   ]
  },
  {
   "cell_type": "code",
   "execution_count": null,
   "metadata": {},
   "outputs": [],
   "source": []
  },
  {
   "cell_type": "code",
   "execution_count": null,
   "metadata": {},
   "outputs": [],
   "source": []
  },
  {
   "cell_type": "code",
   "execution_count": null,
   "metadata": {},
   "outputs": [],
   "source": []
  }
 ],
 "metadata": {
  "colab": {
   "name": "Untitled5.ipynb",
   "provenance": []
  },
  "kernelspec": {
   "display_name": "Python 3",
   "language": "python",
   "name": "python3"
  },
  "language_info": {
   "codemirror_mode": {
    "name": "ipython",
    "version": 3
   },
   "file_extension": ".py",
   "mimetype": "text/x-python",
   "name": "python",
   "nbconvert_exporter": "python",
   "pygments_lexer": "ipython3",
   "version": "3.8.7"
  },
  "varInspector": {
   "cols": {
    "lenName": 16,
    "lenType": 16,
    "lenVar": 40
   },
   "kernels_config": {
    "python": {
     "delete_cmd_postfix": "",
     "delete_cmd_prefix": "del ",
     "library": "var_list.py",
     "varRefreshCmd": "print(var_dic_list())"
    },
    "r": {
     "delete_cmd_postfix": ") ",
     "delete_cmd_prefix": "rm(",
     "library": "var_list.r",
     "varRefreshCmd": "cat(var_dic_list()) "
    }
   },
   "types_to_exclude": [
    "module",
    "function",
    "builtin_function_or_method",
    "instance",
    "_Feature"
   ],
   "window_display": false
  },
  "widgets": {
   "application/vnd.jupyter.widget-state+json": {
    "10748c34bb5448d9a34cd200a3979d56": {
     "model_module": "@jupyter-widgets/controls",
     "model_name": "HTMLModel",
     "state": {
      "_dom_classes": [],
      "_model_module": "@jupyter-widgets/controls",
      "_model_module_version": "1.5.0",
      "_model_name": "HTMLModel",
      "_view_count": null,
      "_view_module": "@jupyter-widgets/controls",
      "_view_module_version": "1.5.0",
      "_view_name": "HTMLView",
      "description": "",
      "description_tooltip": null,
      "layout": "IPY_MODEL_7e2aa975791049c8a7f588ed76b379c0",
      "placeholder": "​",
      "style": "IPY_MODEL_39fd5938a4df4de2891cd8393dd7af2f",
      "value": " 140/140 [01:59&lt;00:00,  1.17it/s]"
     }
    },
    "39fd5938a4df4de2891cd8393dd7af2f": {
     "model_module": "@jupyter-widgets/controls",
     "model_name": "DescriptionStyleModel",
     "state": {
      "_model_module": "@jupyter-widgets/controls",
      "_model_module_version": "1.5.0",
      "_model_name": "DescriptionStyleModel",
      "_view_count": null,
      "_view_module": "@jupyter-widgets/base",
      "_view_module_version": "1.2.0",
      "_view_name": "StyleView",
      "description_width": ""
     }
    },
    "6b163e4049ca4cbe8a24e7ac79ced8a5": {
     "model_module": "@jupyter-widgets/controls",
     "model_name": "HBoxModel",
     "state": {
      "_dom_classes": [],
      "_model_module": "@jupyter-widgets/controls",
      "_model_module_version": "1.5.0",
      "_model_name": "HBoxModel",
      "_view_count": null,
      "_view_module": "@jupyter-widgets/controls",
      "_view_module_version": "1.5.0",
      "_view_name": "HBoxView",
      "box_style": "",
      "children": [
       "IPY_MODEL_b02fccb0afa047999665079b5248015f",
       "IPY_MODEL_10748c34bb5448d9a34cd200a3979d56"
      ],
      "layout": "IPY_MODEL_be0f028285fa4e8da720237e1b1279bf"
     }
    },
    "7e2aa975791049c8a7f588ed76b379c0": {
     "model_module": "@jupyter-widgets/base",
     "model_name": "LayoutModel",
     "state": {
      "_model_module": "@jupyter-widgets/base",
      "_model_module_version": "1.2.0",
      "_model_name": "LayoutModel",
      "_view_count": null,
      "_view_module": "@jupyter-widgets/base",
      "_view_module_version": "1.2.0",
      "_view_name": "LayoutView",
      "align_content": null,
      "align_items": null,
      "align_self": null,
      "border": null,
      "bottom": null,
      "display": null,
      "flex": null,
      "flex_flow": null,
      "grid_area": null,
      "grid_auto_columns": null,
      "grid_auto_flow": null,
      "grid_auto_rows": null,
      "grid_column": null,
      "grid_gap": null,
      "grid_row": null,
      "grid_template_areas": null,
      "grid_template_columns": null,
      "grid_template_rows": null,
      "height": null,
      "justify_content": null,
      "justify_items": null,
      "left": null,
      "margin": null,
      "max_height": null,
      "max_width": null,
      "min_height": null,
      "min_width": null,
      "object_fit": null,
      "object_position": null,
      "order": null,
      "overflow": null,
      "overflow_x": null,
      "overflow_y": null,
      "padding": null,
      "right": null,
      "top": null,
      "visibility": null,
      "width": null
     }
    },
    "b02fccb0afa047999665079b5248015f": {
     "model_module": "@jupyter-widgets/controls",
     "model_name": "FloatProgressModel",
     "state": {
      "_dom_classes": [],
      "_model_module": "@jupyter-widgets/controls",
      "_model_module_version": "1.5.0",
      "_model_name": "FloatProgressModel",
      "_view_count": null,
      "_view_module": "@jupyter-widgets/controls",
      "_view_module_version": "1.5.0",
      "_view_name": "ProgressView",
      "bar_style": "success",
      "description": "Batches: 100%",
      "description_tooltip": null,
      "layout": "IPY_MODEL_ea4553e744634f56a3128b209cac5330",
      "max": 140,
      "min": 0,
      "orientation": "horizontal",
      "style": "IPY_MODEL_b927e6a6b1c44be1be1f58d582da2f6a",
      "value": 140
     }
    },
    "b927e6a6b1c44be1be1f58d582da2f6a": {
     "model_module": "@jupyter-widgets/controls",
     "model_name": "ProgressStyleModel",
     "state": {
      "_model_module": "@jupyter-widgets/controls",
      "_model_module_version": "1.5.0",
      "_model_name": "ProgressStyleModel",
      "_view_count": null,
      "_view_module": "@jupyter-widgets/base",
      "_view_module_version": "1.2.0",
      "_view_name": "StyleView",
      "bar_color": null,
      "description_width": "initial"
     }
    },
    "be0f028285fa4e8da720237e1b1279bf": {
     "model_module": "@jupyter-widgets/base",
     "model_name": "LayoutModel",
     "state": {
      "_model_module": "@jupyter-widgets/base",
      "_model_module_version": "1.2.0",
      "_model_name": "LayoutModel",
      "_view_count": null,
      "_view_module": "@jupyter-widgets/base",
      "_view_module_version": "1.2.0",
      "_view_name": "LayoutView",
      "align_content": null,
      "align_items": null,
      "align_self": null,
      "border": null,
      "bottom": null,
      "display": null,
      "flex": null,
      "flex_flow": null,
      "grid_area": null,
      "grid_auto_columns": null,
      "grid_auto_flow": null,
      "grid_auto_rows": null,
      "grid_column": null,
      "grid_gap": null,
      "grid_row": null,
      "grid_template_areas": null,
      "grid_template_columns": null,
      "grid_template_rows": null,
      "height": null,
      "justify_content": null,
      "justify_items": null,
      "left": null,
      "margin": null,
      "max_height": null,
      "max_width": null,
      "min_height": null,
      "min_width": null,
      "object_fit": null,
      "object_position": null,
      "order": null,
      "overflow": null,
      "overflow_x": null,
      "overflow_y": null,
      "padding": null,
      "right": null,
      "top": null,
      "visibility": null,
      "width": null
     }
    },
    "ea4553e744634f56a3128b209cac5330": {
     "model_module": "@jupyter-widgets/base",
     "model_name": "LayoutModel",
     "state": {
      "_model_module": "@jupyter-widgets/base",
      "_model_module_version": "1.2.0",
      "_model_name": "LayoutModel",
      "_view_count": null,
      "_view_module": "@jupyter-widgets/base",
      "_view_module_version": "1.2.0",
      "_view_name": "LayoutView",
      "align_content": null,
      "align_items": null,
      "align_self": null,
      "border": null,
      "bottom": null,
      "display": null,
      "flex": null,
      "flex_flow": null,
      "grid_area": null,
      "grid_auto_columns": null,
      "grid_auto_flow": null,
      "grid_auto_rows": null,
      "grid_column": null,
      "grid_gap": null,
      "grid_row": null,
      "grid_template_areas": null,
      "grid_template_columns": null,
      "grid_template_rows": null,
      "height": null,
      "justify_content": null,
      "justify_items": null,
      "left": null,
      "margin": null,
      "max_height": null,
      "max_width": null,
      "min_height": null,
      "min_width": null,
      "object_fit": null,
      "object_position": null,
      "order": null,
      "overflow": null,
      "overflow_x": null,
      "overflow_y": null,
      "padding": null,
      "right": null,
      "top": null,
      "visibility": null,
      "width": null
     }
    }
   }
  }
 },
 "nbformat": 4,
 "nbformat_minor": 4
}

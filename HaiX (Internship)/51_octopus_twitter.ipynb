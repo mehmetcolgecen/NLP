{
 "cells": [
  {
   "cell_type": "code",
   "execution_count": 1,
   "metadata": {},
   "outputs": [],
   "source": [
    "import time\n",
    "start = time.time()"
   ]
  },
  {
   "cell_type": "code",
   "execution_count": 2,
   "metadata": {},
   "outputs": [],
   "source": [
    "import re\n",
    "import pandas as pd\n",
    "import numpy as np\n",
    "from sklearn.cluster import KMeans\n",
    "import umap\n",
    "import nltk\n",
    "import spacy\n",
    "import string\n",
    "import hdbscan\n",
    "\n",
    "import preprocessor as p\n",
    "\n",
    "import matplotlib.pyplot as plt\n",
    "from matplotlib.axes._axes import _log as matplotlib_axes_logger\n",
    "matplotlib_axes_logger.setLevel('ERROR')\n",
    "import seaborn as sns\n",
    "sns.set(style='white', rc={'figure.figsize':(10,8)})\n",
    "\n",
    "np.random.seed(42)\n",
    "%config Completer.use_jedi = False\n",
    "pd.set_option('display.max_columns', 30)\n",
    "# pd.set_option('display.max_rows', 100)\n",
    "\n",
    "nlp = spacy.load(\"en_core_web_sm\")"
   ]
  },
  {
   "cell_type": "code",
   "execution_count": 3,
   "metadata": {
    "colab": {
     "base_uri": "https://localhost:8080/",
     "height": 621
    },
    "id": "ek3w6OZQsoqv",
    "outputId": "92306d37-cc10-4cb7-c62e-006de9eae451"
   },
   "outputs": [
    {
     "data": {
      "text/html": [
       "<div>\n",
       "<style scoped>\n",
       "    .dataframe tbody tr th:only-of-type {\n",
       "        vertical-align: middle;\n",
       "    }\n",
       "\n",
       "    .dataframe tbody tr th {\n",
       "        vertical-align: top;\n",
       "    }\n",
       "\n",
       "    .dataframe thead th {\n",
       "        text-align: right;\n",
       "    }\n",
       "</style>\n",
       "<table border=\"1\" class=\"dataframe\">\n",
       "  <thead>\n",
       "    <tr style=\"text-align: right;\">\n",
       "      <th></th>\n",
       "      <th>Unnamed: 0</th>\n",
       "      <th>comments</th>\n",
       "    </tr>\n",
       "  </thead>\n",
       "  <tbody>\n",
       "    <tr>\n",
       "      <th>0</th>\n",
       "      <td>0</td>\n",
       "      <td>@octopus_energy I think your wheel is broken 🤣...</td>\n",
       "    </tr>\n",
       "    <tr>\n",
       "      <th>1</th>\n",
       "      <td>1</td>\n",
       "      <td>Our 3 stories of the week...\\n\\nNo 3: Kind cou...</td>\n",
       "    </tr>\n",
       "    <tr>\n",
       "      <th>2</th>\n",
       "      <td>2</td>\n",
       "      <td>@adamtranter Glad I jumped ship ages ago. Hope...</td>\n",
       "    </tr>\n",
       "    <tr>\n",
       "      <th>3</th>\n",
       "      <td>3</td>\n",
       "      <td>@newelland @octopus_energy I get that HRM is u...</td>\n",
       "    </tr>\n",
       "    <tr>\n",
       "      <th>4</th>\n",
       "      <td>4</td>\n",
       "      <td>@newelland @octopus_energy I've also wondered ...</td>\n",
       "    </tr>\n",
       "  </tbody>\n",
       "</table>\n",
       "</div>"
      ],
      "text/plain": [
       "   Unnamed: 0                                           comments\n",
       "0           0  @octopus_energy I think your wheel is broken 🤣...\n",
       "1           1  Our 3 stories of the week...\\n\\nNo 3: Kind cou...\n",
       "2           2  @adamtranter Glad I jumped ship ages ago. Hope...\n",
       "3           3  @newelland @octopus_energy I get that HRM is u...\n",
       "4           4  @newelland @octopus_energy I've also wondered ..."
      ]
     },
     "execution_count": 3,
     "metadata": {},
     "output_type": "execute_result"
    }
   ],
   "source": [
    "df = pd.read_csv('octopus_energy_tweets.csv')\n",
    "df.rename(columns={\"tweet\":\"comments\"},inplace=True)\n",
    "df.head()"
   ]
  },
  {
   "cell_type": "code",
   "execution_count": 4,
   "metadata": {},
   "outputs": [],
   "source": [
    "df.comments.replace(\"\\n\" , \" \", regex=True, inplace = True)\n",
    "df.comments=df.comments.apply(lambda x:p.clean(str(x)))"
   ]
  },
  {
   "cell_type": "code",
   "execution_count": 5,
   "metadata": {},
   "outputs": [],
   "source": [
    "def word_root(text):\n",
    "    lemma=\"i\"\n",
    "    list_data3=[]\n",
    "    doc = nlp(text)\n",
    "    for token in doc:\n",
    "        if token.text.isalpha():\n",
    "            lemma = token.lemma_\n",
    "        if len(lemma)>2:\n",
    "            list_data3.append(lemma)\n",
    "        else:pass\n",
    "    return \" \".join(list_data3)\n",
    "df.comments = df.comments.apply(lambda x: word_root(str(x).lower()))  "
   ]
  },
  {
   "cell_type": "code",
   "execution_count": 6,
   "metadata": {},
   "outputs": [],
   "source": [
    "df.replace('nan', np.nan, inplace = True)\n",
    "df.replace('', np.nan, inplace = True)\n",
    "df.replace('do', np.nan, inplace = True)\n",
    "df = df.dropna()\n",
    "df.reset_index(drop=True,inplace=True)"
   ]
  },
  {
   "cell_type": "code",
   "execution_count": 7,
   "metadata": {},
   "outputs": [],
   "source": [
    "list_data = df.comments.unique().tolist()"
   ]
  },
  {
   "cell_type": "code",
   "execution_count": 8,
   "metadata": {},
   "outputs": [],
   "source": [
    "from sentence_transformers import SentenceTransformer"
   ]
  },
  {
   "cell_type": "code",
   "execution_count": 9,
   "metadata": {},
   "outputs": [],
   "source": [
    "# distilbert-base-nli-mean-tokens\n",
    "# paraphrase-distilroberta-base-v1\n",
    "# roberta-large-nli-stsb-mean-tokens\n",
    "#allenai-specter\n"
   ]
  },
  {
   "cell_type": "code",
   "execution_count": 10,
   "metadata": {
    "colab": {
     "base_uri": "https://localhost:8080/",
     "height": 67,
     "referenced_widgets": [
      "6b163e4049ca4cbe8a24e7ac79ced8a5",
      "be0f028285fa4e8da720237e1b1279bf",
      "b02fccb0afa047999665079b5248015f",
      "10748c34bb5448d9a34cd200a3979d56",
      "b927e6a6b1c44be1be1f58d582da2f6a",
      "ea4553e744634f56a3128b209cac5330",
      "39fd5938a4df4de2891cd8393dd7af2f",
      "7e2aa975791049c8a7f588ed76b379c0"
     ]
    },
    "id": "BjwnhvRQtW2S",
    "outputId": "458d7bd4-ba13-4112-85a9-fb050e99008f"
   },
   "outputs": [
    {
     "data": {
      "application/vnd.jupyter.widget-view+json": {
       "model_id": "f64198caad9048a681a188973f5fd184",
       "version_major": 2,
       "version_minor": 0
      },
      "text/plain": [
       "Batches:   0%|          | 0/16 [00:00<?, ?it/s]"
      ]
     },
     "metadata": {},
     "output_type": "display_data"
    },
    {
     "name": "stdout",
     "output_type": "stream",
     "text": [
      "Wall time: 48 s\n"
     ]
    }
   ],
   "source": [
    "%%time\n",
    "model=SentenceTransformer('xlm-r-distilroberta-base-paraphrase-v1')\n",
    "embeddings = model.encode(list_data, show_progress_bar=True)"
   ]
  },
  {
   "cell_type": "code",
   "execution_count": 11,
   "metadata": {
    "id": "g8zUQEqTta2y"
   },
   "outputs": [
    {
     "name": "stdout",
     "output_type": "stream",
     "text": [
      "Wall time: 10.5 s\n"
     ]
    }
   ],
   "source": [
    "%%time\n",
    "best_model = umap.UMAP(n_components=5,min_dist=0.0).fit_transform(embeddings)\n",
    "\n",
    "#n_neighbors=10, min_dist=0.0, "
   ]
  },
  {
   "cell_type": "code",
   "execution_count": 12,
   "metadata": {},
   "outputs": [
    {
     "data": {
      "text/plain": [
       "['Octopus_twitter_model']"
      ]
     },
     "execution_count": 12,
     "metadata": {},
     "output_type": "execute_result"
    }
   ],
   "source": [
    "import joblib\n",
    "joblib.dump(best_model, \"Octopus_twitter_model\")"
   ]
  },
  {
   "cell_type": "code",
   "execution_count": 26,
   "metadata": {},
   "outputs": [
    {
     "data": {
      "image/png": "[encoded data removed]",
      "text/plain": [
       "<Figure size 720x576 with 1 Axes>"
      ]
     },
     "metadata": {},
     "output_type": "display_data"
    }
   ],
   "source": [
    "#inertia\n",
    "\n",
    "kmeans_per_k = [KMeans(n_clusters=k, random_state=42).fit(best_model)\n",
    "                for k in range(1, 10)]\n",
    "inertias = [model.inertia_ for model in kmeans_per_k]\n",
    "\n",
    "plt.plot(range(1, 10), inertias, \"bo-\")\n",
    "plt.xlabel(\"$k$\", fontsize=14)\n",
    "plt.ylabel(\"Inertia\", fontsize=14)\n",
    "plt.show()"
   ]
  },
  {
   "cell_type": "code",
   "execution_count": 27,
   "metadata": {},
   "outputs": [],
   "source": [
    "# from nltk.cluster import KMeansClusterer,euclidean_distance\n",
    "# clusterer =KMeansClusterer(6,euclidean_distance)\n",
    "# cluster=np.array(clusterer.cluster(best_model,True))"
   ]
  },
  {
   "cell_type": "code",
   "execution_count": 28,
   "metadata": {},
   "outputs": [],
   "source": [
    "# cluster = KMeans(n_clusters=1, init=\"k-means++\").fit_predict(best_model)"
   ]
  },
  {
   "cell_type": "code",
   "execution_count": 12,
   "metadata": {},
   "outputs": [],
   "source": [
    "cluster = hdbscan.HDBSCAN().fit_predict(best_model)"
   ]
  },
  {
   "cell_type": "code",
   "execution_count": 13,
   "metadata": {
    "colab": {
     "base_uri": "https://localhost:8080/",
     "height": 523
    },
    "id": "bqq2_WsRtbN3",
    "outputId": "8e6703c5-89b1-434e-e8e5-74468bf87f8b"
   },
   "outputs": [],
   "source": [
    "def plot(cluster = cluster):    \n",
    "\n",
    "    clustered = (cluster >= 0)\n",
    "    reduced_dim = umap.UMAP(n_components=2).fit_transform(embeddings)\n",
    "\n",
    "\n",
    "\n",
    "    unique, counts = np.unique(cluster, return_counts=True)\n",
    "    print(dict(zip(unique, counts)))\n",
    "\n",
    "    plt.scatter(reduced_dim[~clustered, 0],\n",
    "                reduced_dim[~clustered, 1],\n",
    "                c=(0.5,0.5,0.5),\n",
    "                # s=1,\n",
    "                alpha=0.5\n",
    "                )\n",
    "    plt.scatter(reduced_dim[clustered, 0],\n",
    "                reduced_dim[clustered, 1],\n",
    "                c=cluster[clustered],\n",
    "                # s=1,\n",
    "                cmap='hsv')\n",
    "    plt.show()"
   ]
  },
  {
   "cell_type": "code",
   "execution_count": 14,
   "metadata": {},
   "outputs": [
    {
     "name": "stdout",
     "output_type": "stream",
     "text": [
      "{-1: 137, 0: 29, 1: 31, 2: 16, 3: 8, 4: 15, 5: 80, 6: 34, 7: 15, 8: 10, 9: 16, 10: 46, 11: 8, 12: 10, 13: 6, 14: 37}\n"
     ]
    },
    {
     "data": {
      "image/png": "[encoded data removed]",
      "text/plain": [
       "<Figure size 720x576 with 1 Axes>"
      ]
     },
     "metadata": {},
     "output_type": "display_data"
    }
   ],
   "source": [
    "plot()"
   ]
  },
  {
   "cell_type": "code",
   "execution_count": 32,
   "metadata": {},
   "outputs": [
    {
     "data": {
      "text/plain": [
       "498"
      ]
     },
     "execution_count": 32,
     "metadata": {},
     "output_type": "execute_result"
    }
   ],
   "source": [
    "len(cluster)"
   ]
  },
  {
   "cell_type": "code",
   "execution_count": 18,
   "metadata": {},
   "outputs": [],
   "source": [
    "# stopwords = nlp.Defaults.stop_words"
   ]
  },
  {
   "cell_type": "code",
   "execution_count": 19,
   "metadata": {},
   "outputs": [],
   "source": [
    "def word_root(text):\n",
    "    lemma=\"i\"\n",
    "    list_data3=[]\n",
    "    doc = nlp(text)\n",
    "    for token in doc:\n",
    "        if token.text.isalpha():\n",
    "            lemma = token.lemma_\n",
    "        if len(lemma)>2:\n",
    "            list_data3.append(lemma)\n",
    "        else:pass\n",
    "    return \" \".join(list_data3)"
   ]
  },
  {
   "cell_type": "code",
   "execution_count": 15,
   "metadata": {
    "scrolled": true
   },
   "outputs": [
    {
     "data": {
      "text/html": [
       "<div>\n",
       "<style scoped>\n",
       "    .dataframe tbody tr th:only-of-type {\n",
       "        vertical-align: middle;\n",
       "    }\n",
       "\n",
       "    .dataframe tbody tr th {\n",
       "        vertical-align: top;\n",
       "    }\n",
       "\n",
       "    .dataframe thead th {\n",
       "        text-align: right;\n",
       "    }\n",
       "</style>\n",
       "<table border=\"1\" class=\"dataframe\">\n",
       "  <thead>\n",
       "    <tr style=\"text-align: right;\">\n",
       "      <th></th>\n",
       "      <th>cluster</th>\n",
       "      <th>comments</th>\n",
       "    </tr>\n",
       "  </thead>\n",
       "  <tbody>\n",
       "    <tr>\n",
       "      <th>0</th>\n",
       "      <td>-1</td>\n",
       "      <td>yeah yeah hear hear mostly mostly good thing a...</td>\n",
       "    </tr>\n",
       "    <tr>\n",
       "      <th>1</th>\n",
       "      <td>0</td>\n",
       "      <td>octopus energy help natwest group group custom...</td>\n",
       "    </tr>\n",
       "    <tr>\n",
       "      <th>2</th>\n",
       "      <td>1</td>\n",
       "      <td>love this adorable adorable big one one that f...</td>\n",
       "    </tr>\n",
       "    <tr>\n",
       "      <th>3</th>\n",
       "      <td>2</td>\n",
       "      <td>have thank thank thank for sharing sharing luc...</td>\n",
       "    </tr>\n",
       "    <tr>\n",
       "      <th>4</th>\n",
       "      <td>3</td>\n",
       "      <td>think your wheel break hit and roll back back ...</td>\n",
       "    </tr>\n",
       "    <tr>\n",
       "      <th>5</th>\n",
       "      <td>4</td>\n",
       "      <td>just imagine the chaos chaos every uninformed ...</td>\n",
       "    </tr>\n",
       "    <tr>\n",
       "      <th>6</th>\n",
       "      <td>5</td>\n",
       "      <td>get that hrm use exert control over employee e...</td>\n",
       "    </tr>\n",
       "    <tr>\n",
       "      <th>7</th>\n",
       "      <td>6</td>\n",
       "      <td>can have timetable for smart meter roll out ou...</td>\n",
       "    </tr>\n",
       "    <tr>\n",
       "      <th>8</th>\n",
       "      <td>7</td>\n",
       "      <td>see this this this meet michael liebreich lieb...</td>\n",
       "    </tr>\n",
       "    <tr>\n",
       "      <th>9</th>\n",
       "      <td>8</td>\n",
       "      <td>forget you can join and split and have the sha...</td>\n",
       "    </tr>\n",
       "    <tr>\n",
       "      <th>10</th>\n",
       "      <td>9</td>\n",
       "      <td>thank you you its extremely frustrating this h...</td>\n",
       "    </tr>\n",
       "    <tr>\n",
       "      <th>11</th>\n",
       "      <td>10</td>\n",
       "      <td>our story the week week kind couple help deliv...</td>\n",
       "    </tr>\n",
       "    <tr>\n",
       "      <th>12</th>\n",
       "      <td>11</td>\n",
       "      <td>just move from fix tariff with over their trac...</td>\n",
       "    </tr>\n",
       "    <tr>\n",
       "      <th>13</th>\n",
       "      <td>12</td>\n",
       "      <td>utterly devastate discover that the investor w...</td>\n",
       "    </tr>\n",
       "    <tr>\n",
       "      <th>14</th>\n",
       "      <td>13</td>\n",
       "      <td>cent kwh kwh kwh that due cheap renewable rene...</td>\n",
       "    </tr>\n",
       "    <tr>\n",
       "      <th>15</th>\n",
       "      <td>14</td>\n",
       "      <td>switch your gas and electric before the price ...</td>\n",
       "    </tr>\n",
       "  </tbody>\n",
       "</table>\n",
       "</div>"
      ],
      "text/plain": [
       "    cluster                                           comments\n",
       "0        -1  yeah yeah hear hear mostly mostly good thing a...\n",
       "1         0  octopus energy help natwest group group custom...\n",
       "2         1  love this adorable adorable big one one that f...\n",
       "3         2  have thank thank thank for sharing sharing luc...\n",
       "4         3  think your wheel break hit and roll back back ...\n",
       "5         4  just imagine the chaos chaos every uninformed ...\n",
       "6         5  get that hrm use exert control over employee e...\n",
       "7         6  can have timetable for smart meter roll out ou...\n",
       "8         7  see this this this meet michael liebreich lieb...\n",
       "9         8  forget you can join and split and have the sha...\n",
       "10        9  thank you you its extremely frustrating this h...\n",
       "11       10  our story the week week kind couple help deliv...\n",
       "12       11  just move from fix tariff with over their trac...\n",
       "13       12  utterly devastate discover that the investor w...\n",
       "14       13  cent kwh kwh kwh that due cheap renewable rene...\n",
       "15       14  switch your gas and electric before the price ..."
      ]
     },
     "execution_count": 15,
     "metadata": {},
     "output_type": "execute_result"
    }
   ],
   "source": [
    "docs = pd.DataFrame(list_data,columns=[\"comments\"])\n",
    "docs[\"cluster\"] = cluster\n",
    "labeled_docs = docs.groupby([\"cluster\"], as_index=False).agg({\"comments\": \" \".join})\n",
    "# labeled_docs.comments = labeled_docs.comments.apply(lambda x: word_root(str(x).lower()))  \n",
    "labeled_docs"
   ]
  },
  {
   "cell_type": "code",
   "execution_count": 21,
   "metadata": {},
   "outputs": [],
   "source": [
    "# counts = pd.Series(' '.join(labeled_docs['comments']).split()).value_counts()[:100].index"
   ]
  },
  {
   "cell_type": "code",
   "execution_count": 34,
   "metadata": {},
   "outputs": [],
   "source": [
    "labeled_docs.comments.replace(r\"\\S*octo\\S*\", \"octopus\", regex=True, inplace = True)"
   ]
  },
  {
   "cell_type": "code",
   "execution_count": 16,
   "metadata": {
    "scrolled": true
   },
   "outputs": [
    {
     "name": "stdout",
     "output_type": "stream",
     "text": [
      "Top similar pairs:\n",
      "cluster 10 \t cluster 11 \t similarity: 0.5116\n",
      "cluster 8 \t cluster 9 \t similarity: 0.4999\n",
      "cluster 4 \t cluster 10 \t similarity: 0.4981\n",
      "cluster 4 \t cluster 11 \t similarity: 0.4967\n",
      "cluster 2 \t cluster 10 \t similarity: 0.4950\n",
      "cluster 4 \t cluster 12 \t similarity: 0.4918\n",
      "cluster 10 \t cluster 13 \t similarity: 0.4846\n",
      "cluster 14 \t cluster 15 \t similarity: 0.4611\n",
      "cluster 13 \t cluster 15 \t similarity: 0.4352\n",
      "cluster 2 \t cluster 4 \t similarity: 0.4272\n",
      "cluster 12 \t cluster 15 \t similarity: 0.4270\n",
      "cluster 11 \t cluster 15 \t similarity: 0.4239\n",
      "cluster 5 \t cluster 10 \t similarity: 0.4231\n",
      "cluster 7 \t cluster 15 \t similarity: 0.4185\n",
      "cluster 5 \t cluster 7 \t similarity: 0.4103\n",
      "cluster 3 \t cluster 11 \t similarity: 0.4042\n",
      "cluster 4 \t cluster 15 \t similarity: 0.4040\n",
      "cluster 5 \t cluster 11 \t similarity: 0.3972\n",
      "cluster 8 \t cluster 15 \t similarity: 0.3965\n",
      "cluster 9 \t cluster 15 \t similarity: 0.3926\n",
      "cluster 10 \t cluster 15 \t similarity: 0.3889\n",
      "cluster 5 \t cluster 6 \t similarity: 0.3884\n",
      "cluster 5 \t cluster 13 \t similarity: 0.3867\n",
      "cluster 7 \t cluster 8 \t similarity: 0.3853\n",
      "cluster 9 \t cluster 12 \t similarity: 0.3831\n",
      "cluster 1 \t cluster 7 \t similarity: 0.3830\n",
      "cluster 7 \t cluster 12 \t similarity: 0.3812\n",
      "cluster 8 \t cluster 13 \t similarity: 0.3782\n",
      "cluster 1 \t cluster 13 \t similarity: 0.3772\n",
      "cluster 1 \t cluster 4 \t similarity: 0.3751\n",
      "cluster 4 \t cluster 5 \t similarity: 0.3696\n",
      "cluster 8 \t cluster 14 \t similarity: 0.3676\n",
      "cluster 7 \t cluster 11 \t similarity: 0.3657\n",
      "cluster 7 \t cluster 10 \t similarity: 0.3633\n",
      "cluster 4 \t cluster 9 \t similarity: 0.3620\n",
      "cluster 9 \t cluster 13 \t similarity: 0.3618\n",
      "cluster 13 \t cluster 14 \t similarity: 0.3604\n",
      "cluster 8 \t cluster 10 \t similarity: 0.3585\n",
      "cluster 11 \t cluster 12 \t similarity: 0.3582\n",
      "cluster 5 \t cluster 9 \t similarity: 0.3491\n",
      "cluster 3 \t cluster 10 \t similarity: 0.3478\n",
      "cluster 1 \t cluster 11 \t similarity: 0.3461\n",
      "cluster 4 \t cluster 13 \t similarity: 0.3421\n",
      "cluster 3 \t cluster 13 \t similarity: 0.3312\n",
      "cluster 6 \t cluster 10 \t similarity: 0.3297\n",
      "cluster 1 \t cluster 3 \t similarity: 0.3255\n",
      "cluster 2 \t cluster 3 \t similarity: 0.3251\n",
      "cluster 1 \t cluster 12 \t similarity: 0.3245\n",
      "cluster 2 \t cluster 13 \t similarity: 0.3243\n",
      "cluster 11 \t cluster 13 \t similarity: 0.3158\n",
      "cluster 2 \t cluster 9 \t similarity: 0.3148\n",
      "cluster 1 \t cluster 9 \t similarity: 0.3121\n",
      "cluster 4 \t cluster 7 \t similarity: 0.3118\n",
      "cluster 1 \t cluster 5 \t similarity: 0.3106\n",
      "cluster 6 \t cluster 13 \t similarity: 0.3096\n",
      "cluster 1 \t cluster 10 \t similarity: 0.3093\n",
      "cluster 10 \t cluster 12 \t similarity: 0.3086\n",
      "cluster 2 \t cluster 11 \t similarity: 0.3078\n",
      "cluster 1 \t cluster 2 \t similarity: 0.3076\n",
      "cluster 5 \t cluster 8 \t similarity: 0.3073\n",
      "cluster 12 \t cluster 13 \t similarity: 0.3067\n",
      "cluster 9 \t cluster 11 \t similarity: 0.3006\n",
      "cluster 10 \t cluster 14 \t similarity: 0.2989\n",
      "cluster 5 \t cluster 12 \t similarity: 0.2941\n",
      "cluster 2 \t cluster 5 \t similarity: 0.2923\n",
      "cluster 6 \t cluster 7 \t similarity: 0.2908\n",
      "cluster 9 \t cluster 10 \t similarity: 0.2878\n",
      "cluster 8 \t cluster 11 \t similarity: 0.2874\n",
      "cluster 7 \t cluster 13 \t similarity: 0.2863\n",
      "cluster 1 \t cluster 15 \t similarity: 0.2851\n",
      "cluster 2 \t cluster 8 \t similarity: 0.2850\n",
      "cluster 12 \t cluster 14 \t similarity: 0.2850\n",
      "cluster 4 \t cluster 6 \t similarity: 0.2828\n",
      "cluster 2 \t cluster 15 \t similarity: 0.2805\n",
      "cluster 1 \t cluster 8 \t similarity: 0.2766\n",
      "cluster 8 \t cluster 12 \t similarity: 0.2722\n",
      "cluster 6 \t cluster 9 \t similarity: 0.2719\n",
      "cluster 2 \t cluster 6 \t similarity: 0.2716\n",
      "cluster 3 \t cluster 4 \t similarity: 0.2710\n",
      "cluster 9 \t cluster 14 \t similarity: 0.2708\n",
      "cluster 4 \t cluster 8 \t similarity: 0.2682\n",
      "cluster 3 \t cluster 7 \t similarity: 0.2664\n",
      "cluster 5 \t cluster 15 \t similarity: 0.2659\n",
      "cluster 3 \t cluster 5 \t similarity: 0.2657\n",
      "cluster 1 \t cluster 14 \t similarity: 0.2645\n",
      "cluster 7 \t cluster 14 \t similarity: 0.2571\n",
      "cluster 2 \t cluster 14 \t similarity: 0.2458\n",
      "cluster 2 \t cluster 12 \t similarity: 0.2384\n",
      "cluster 7 \t cluster 9 \t similarity: 0.2352\n",
      "cluster 11 \t cluster 14 \t similarity: 0.2319\n",
      "cluster 6 \t cluster 8 \t similarity: 0.2318\n",
      "cluster 1 \t cluster 6 \t similarity: 0.2251\n",
      "cluster 3 \t cluster 8 \t similarity: 0.2150\n",
      "cluster 3 \t cluster 9 \t similarity: 0.2107\n",
      "cluster 6 \t cluster 11 \t similarity: 0.1977\n",
      "cluster 3 \t cluster 12 \t similarity: 0.1959\n",
      "cluster 6 \t cluster 12 \t similarity: 0.1934\n",
      "cluster 2 \t cluster 7 \t similarity: 0.1807\n",
      "cluster 5 \t cluster 14 \t similarity: 0.1782\n",
      "cluster 3 \t cluster 15 \t similarity: 0.1677\n",
      "cluster 4 \t cluster 14 \t similarity: 0.1646\n",
      "cluster 6 \t cluster 15 \t similarity: 0.1557\n",
      "cluster 6 \t cluster 14 \t similarity: 0.1447\n",
      "cluster 3 \t cluster 14 \t similarity: 0.1321\n",
      "cluster 3 \t cluster 6 \t similarity: 0.1114\n",
      "Wall time: 4.11 s\n"
     ]
    }
   ],
   "source": [
    "%%time\n",
    "array_text = labeled_docs.comments.tolist()\n",
    "from sentence_transformers import SentenceTransformer, util\n",
    "\n",
    "sentences = array_text[1:]\n",
    "\n",
    "#Encode all sentences\n",
    "embeddings = model.encode(sentences)\n",
    "\n",
    "#Compute cosine similarity between all pairs\n",
    "cos_sim = util.pytorch_cos_sim(embeddings, embeddings)\n",
    "\n",
    "#Add all pairs to a list with their cosine similarity score\n",
    "all_sentence_combinations = []\n",
    "for i in range(len(cos_sim)-1):\n",
    "    for j in range(i+1, len(cos_sim)):\n",
    "        all_sentence_combinations.append([cos_sim[i][j], i, j])\n",
    "\n",
    "#Sort list by the highest cosine similarity score\n",
    "all_sentence_combinations = sorted(all_sentence_combinations, key=lambda x: x[0], reverse=True)\n",
    "similar = []\n",
    "print(\"Top similar pairs:\")\n",
    "for score, i, j in all_sentence_combinations:\n",
    "    print(\"cluster {} \\t cluster {} \\t similarity: {:.4f}\".format(i+1, j+1, cos_sim[i][j]))\n",
    "    similar.append((score,i+1,j+1))"
   ]
  },
  {
   "cell_type": "code",
   "execution_count": 17,
   "metadata": {},
   "outputs": [
    {
     "name": "stdout",
     "output_type": "stream",
     "text": [
      "Wall time: 21 ms\n"
     ]
    },
    {
     "name": "stderr",
     "output_type": "stream",
     "text": [
      "<timed exec>:9: SettingWithCopyWarning: \n",
      "A value is trying to be set on a copy of a slice from a DataFrame\n",
      "\n",
      "See the caveats in the documentation: https://pandas.pydata.org/pandas-docs/stable/user_guide/indexing.html#returning-a-view-versus-a-copy\n",
      "<timed exec>:10: SettingWithCopyWarning: \n",
      "A value is trying to be set on a copy of a slice from a DataFrame\n",
      "\n",
      "See the caveats in the documentation: https://pandas.pydata.org/pandas-docs/stable/user_guide/indexing.html#returning-a-view-versus-a-copy\n",
      "<timed exec>:7: SettingWithCopyWarning: \n",
      "A value is trying to be set on a copy of a slice from a DataFrame\n",
      "\n",
      "See the caveats in the documentation: https://pandas.pydata.org/pandas-docs/stable/user_guide/indexing.html#returning-a-view-versus-a-copy\n"
     ]
    }
   ],
   "source": [
    "%%time\n",
    "i=0\n",
    "while similar[i][0]>0.40:\n",
    "    one, two = sorted([similar[i][1],similar[i][2]])\n",
    "    if labeled_docs.comments[one] == \"\" and labeled_docs.comments[two] == \"\":\n",
    "        pass\n",
    "    elif labeled_docs.comments[one] == \"\" and labeled_docs.comments[two] != \"\":\n",
    "        labeled_docs.comments[one] = labeled_docs.comments[two]\n",
    "    else:\n",
    "        labeled_docs.comments[one] = labeled_docs.comments[one] +\" \"+labeled_docs.comments[two]\n",
    "    labeled_docs.comments[two]=\"\"\n",
    "    i+=1\n",
    "\n"
   ]
  },
  {
   "cell_type": "code",
   "execution_count": 18,
   "metadata": {},
   "outputs": [
    {
     "data": {
      "text/html": [
       "<div>\n",
       "<style scoped>\n",
       "    .dataframe tbody tr th:only-of-type {\n",
       "        vertical-align: middle;\n",
       "    }\n",
       "\n",
       "    .dataframe tbody tr th {\n",
       "        vertical-align: top;\n",
       "    }\n",
       "\n",
       "    .dataframe thead th {\n",
       "        text-align: right;\n",
       "    }\n",
       "</style>\n",
       "<table border=\"1\" class=\"dataframe\">\n",
       "  <thead>\n",
       "    <tr style=\"text-align: right;\">\n",
       "      <th></th>\n",
       "      <th>cluster</th>\n",
       "      <th>comments</th>\n",
       "    </tr>\n",
       "  </thead>\n",
       "  <tbody>\n",
       "    <tr>\n",
       "      <th>0</th>\n",
       "      <td>-1</td>\n",
       "      <td>yeah yeah hear hear mostly mostly good thing a...</td>\n",
       "    </tr>\n",
       "    <tr>\n",
       "      <th>1</th>\n",
       "      <td>0</td>\n",
       "      <td>octopus energy help natwest group group custom...</td>\n",
       "    </tr>\n",
       "    <tr>\n",
       "      <th>2</th>\n",
       "      <td>1</td>\n",
       "      <td>love this adorable adorable big one one that f...</td>\n",
       "    </tr>\n",
       "    <tr>\n",
       "      <th>3</th>\n",
       "      <td>2</td>\n",
       "      <td>have thank thank thank for sharing sharing luc...</td>\n",
       "    </tr>\n",
       "    <tr>\n",
       "      <th>4</th>\n",
       "      <td>4</td>\n",
       "      <td>just imagine the chaos chaos every uninformed ...</td>\n",
       "    </tr>\n",
       "    <tr>\n",
       "      <th>5</th>\n",
       "      <td>5</td>\n",
       "      <td>get that hrm use exert control over employee e...</td>\n",
       "    </tr>\n",
       "    <tr>\n",
       "      <th>6</th>\n",
       "      <td>7</td>\n",
       "      <td>see this this this meet michael liebreich lieb...</td>\n",
       "    </tr>\n",
       "    <tr>\n",
       "      <th>7</th>\n",
       "      <td>13</td>\n",
       "      <td>cent kwh kwh kwh that due cheap renewable rene...</td>\n",
       "    </tr>\n",
       "  </tbody>\n",
       "</table>\n",
       "</div>"
      ],
      "text/plain": [
       "   cluster                                           comments\n",
       "0       -1  yeah yeah hear hear mostly mostly good thing a...\n",
       "1        0  octopus energy help natwest group group custom...\n",
       "2        1  love this adorable adorable big one one that f...\n",
       "3        2  have thank thank thank for sharing sharing luc...\n",
       "4        4  just imagine the chaos chaos every uninformed ...\n",
       "5        5  get that hrm use exert control over employee e...\n",
       "6        7  see this this this meet michael liebreich lieb...\n",
       "7       13  cent kwh kwh kwh that due cheap renewable rene..."
      ]
     },
     "execution_count": 18,
     "metadata": {},
     "output_type": "execute_result"
    }
   ],
   "source": [
    "labeled_docs.replace('', np.nan, inplace = True)\n",
    "labeled_docs=labeled_docs.dropna()\n",
    "labeled_docs.reset_index(drop=True,inplace=True)\n",
    "labeled_docs"
   ]
  },
  {
   "cell_type": "code",
   "execution_count": 19,
   "metadata": {
    "scrolled": true
   },
   "outputs": [
    {
     "name": "stdout",
     "output_type": "stream",
     "text": [
      "Top similar pairs:\n",
      "cluster 6 \t cluster 7 \t similarity: 0.4089\n",
      "cluster 4 \t cluster 5 \t similarity: 0.3884\n",
      "cluster 1 \t cluster 3 \t similarity: 0.3255\n",
      "cluster 2 \t cluster 3 \t similarity: 0.3251\n",
      "cluster 1 \t cluster 4 \t similarity: 0.3106\n",
      "cluster 1 \t cluster 2 \t similarity: 0.3076\n",
      "cluster 4 \t cluster 6 \t similarity: 0.3073\n",
      "cluster 1 \t cluster 7 \t similarity: 0.3013\n",
      "cluster 2 \t cluster 4 \t similarity: 0.2923\n",
      "cluster 2 \t cluster 6 \t similarity: 0.2850\n",
      "cluster 1 \t cluster 6 \t similarity: 0.2766\n",
      "cluster 2 \t cluster 7 \t similarity: 0.2753\n",
      "cluster 2 \t cluster 5 \t similarity: 0.2716\n",
      "cluster 3 \t cluster 4 \t similarity: 0.2657\n",
      "cluster 5 \t cluster 6 \t similarity: 0.2318\n",
      "cluster 1 \t cluster 5 \t similarity: 0.2251\n",
      "cluster 4 \t cluster 7 \t similarity: 0.2248\n",
      "cluster 3 \t cluster 6 \t similarity: 0.2150\n",
      "cluster 3 \t cluster 7 \t similarity: 0.1699\n",
      "cluster 5 \t cluster 7 \t similarity: 0.1400\n",
      "cluster 3 \t cluster 5 \t similarity: 0.1114\n",
      "Wall time: 2.17 s\n"
     ]
    }
   ],
   "source": [
    "%%time\n",
    "array_text = labeled_docs.comments.tolist()\n",
    "from sentence_transformers import SentenceTransformer, util\n",
    "\n",
    "sentences = array_text[1:]\n",
    "\n",
    "#Encode all sentences\n",
    "embeddings = model.encode(sentences)\n",
    "\n",
    "#Compute cosine similarity between all pairs\n",
    "cos_sim = util.pytorch_cos_sim(embeddings, embeddings)\n",
    "\n",
    "#Add all pairs to a list with their cosine similarity score\n",
    "all_sentence_combinations = []\n",
    "for i in range(len(cos_sim)-1):\n",
    "    for j in range(i+1, len(cos_sim)):\n",
    "        all_sentence_combinations.append([cos_sim[i][j], i, j])\n",
    "\n",
    "#Sort list by the highest cosine similarity score\n",
    "all_sentence_combinations = sorted(all_sentence_combinations, key=lambda x: x[0], reverse=True)\n",
    "similar = []\n",
    "print(\"Top similar pairs:\")\n",
    "for score, i, j in all_sentence_combinations:\n",
    "    print(\"cluster {} \\t cluster {} \\t similarity: {:.4f}\".format(i+1, j+1, cos_sim[i][j]))\n",
    "    similar.append((score,i+1,j+1))"
   ]
  },
  {
   "cell_type": "code",
   "execution_count": 20,
   "metadata": {},
   "outputs": [
    {
     "name": "stdout",
     "output_type": "stream",
     "text": [
      "Wall time: 6 ms\n"
     ]
    },
    {
     "name": "stderr",
     "output_type": "stream",
     "text": [
      "<timed exec>:9: SettingWithCopyWarning: \n",
      "A value is trying to be set on a copy of a slice from a DataFrame\n",
      "\n",
      "See the caveats in the documentation: https://pandas.pydata.org/pandas-docs/stable/user_guide/indexing.html#returning-a-view-versus-a-copy\n",
      "c:\\users\\user\\appdata\\local\\programs\\python\\python38\\lib\\site-packages\\IPython\\core\\magics\\execution.py:1321: SettingWithCopyWarning: \n",
      "A value is trying to be set on a copy of a slice from a DataFrame\n",
      "\n",
      "See the caveats in the documentation: https://pandas.pydata.org/pandas-docs/stable/user_guide/indexing.html#returning-a-view-versus-a-copy\n",
      "  exec(code, glob, local_ns)\n",
      "<timed exec>:10: SettingWithCopyWarning: \n",
      "A value is trying to be set on a copy of a slice from a DataFrame\n",
      "\n",
      "See the caveats in the documentation: https://pandas.pydata.org/pandas-docs/stable/user_guide/indexing.html#returning-a-view-versus-a-copy\n"
     ]
    }
   ],
   "source": [
    "%%time\n",
    "i=0\n",
    "while similar[i][0]>0.40:\n",
    "    one, two = sorted([similar[i][1],similar[i][2]])\n",
    "    if labeled_docs.comments[one] == \"\" and labeled_docs.comments[two] == \"\":\n",
    "        pass\n",
    "    elif labeled_docs.comments[one] == \"\" and labeled_docs.comments[two] != \"\":\n",
    "        labeled_docs.comments[one] = labeled_docs.comments[two]\n",
    "    else:\n",
    "        labeled_docs.comments[one] = labeled_docs.comments[one] +\" \"+labeled_docs.comments[two]\n",
    "    labeled_docs.comments[two]=\"\"\n",
    "    i+=1"
   ]
  },
  {
   "cell_type": "code",
   "execution_count": 21,
   "metadata": {},
   "outputs": [
    {
     "name": "stderr",
     "output_type": "stream",
     "text": [
      "c:\\users\\user\\appdata\\local\\programs\\python\\python38\\lib\\site-packages\\pandas\\core\\frame.py:4521: SettingWithCopyWarning: \n",
      "A value is trying to be set on a copy of a slice from a DataFrame\n",
      "\n",
      "See the caveats in the documentation: https://pandas.pydata.org/pandas-docs/stable/user_guide/indexing.html#returning-a-view-versus-a-copy\n",
      "  return super().replace(\n"
     ]
    },
    {
     "data": {
      "text/html": [
       "<div>\n",
       "<style scoped>\n",
       "    .dataframe tbody tr th:only-of-type {\n",
       "        vertical-align: middle;\n",
       "    }\n",
       "\n",
       "    .dataframe tbody tr th {\n",
       "        vertical-align: top;\n",
       "    }\n",
       "\n",
       "    .dataframe thead th {\n",
       "        text-align: right;\n",
       "    }\n",
       "</style>\n",
       "<table border=\"1\" class=\"dataframe\">\n",
       "  <thead>\n",
       "    <tr style=\"text-align: right;\">\n",
       "      <th></th>\n",
       "      <th>cluster</th>\n",
       "      <th>comments</th>\n",
       "    </tr>\n",
       "  </thead>\n",
       "  <tbody>\n",
       "    <tr>\n",
       "      <th>0</th>\n",
       "      <td>-1</td>\n",
       "      <td>yeah yeah hear hear mostly mostly good thing a...</td>\n",
       "    </tr>\n",
       "    <tr>\n",
       "      <th>1</th>\n",
       "      <td>0</td>\n",
       "      <td>octopus energy help natwest group group custom...</td>\n",
       "    </tr>\n",
       "    <tr>\n",
       "      <th>2</th>\n",
       "      <td>1</td>\n",
       "      <td>love this adorable adorable big one one that f...</td>\n",
       "    </tr>\n",
       "    <tr>\n",
       "      <th>3</th>\n",
       "      <td>2</td>\n",
       "      <td>have thank thank thank for sharing sharing luc...</td>\n",
       "    </tr>\n",
       "    <tr>\n",
       "      <th>4</th>\n",
       "      <td>4</td>\n",
       "      <td>just imagine the chaos chaos every uninformed ...</td>\n",
       "    </tr>\n",
       "    <tr>\n",
       "      <th>5</th>\n",
       "      <td>5</td>\n",
       "      <td>get that hrm use exert control over employee e...</td>\n",
       "    </tr>\n",
       "    <tr>\n",
       "      <th>6</th>\n",
       "      <td>7</td>\n",
       "      <td>see this this this meet michael liebreich lieb...</td>\n",
       "    </tr>\n",
       "  </tbody>\n",
       "</table>\n",
       "</div>"
      ],
      "text/plain": [
       "   cluster                                           comments\n",
       "0       -1  yeah yeah hear hear mostly mostly good thing a...\n",
       "1        0  octopus energy help natwest group group custom...\n",
       "2        1  love this adorable adorable big one one that f...\n",
       "3        2  have thank thank thank for sharing sharing luc...\n",
       "4        4  just imagine the chaos chaos every uninformed ...\n",
       "5        5  get that hrm use exert control over employee e...\n",
       "6        7  see this this this meet michael liebreich lieb..."
      ]
     },
     "execution_count": 21,
     "metadata": {},
     "output_type": "execute_result"
    }
   ],
   "source": [
    "labeled_docs.replace('', np.nan, inplace = True)\n",
    "labeled_docs=labeled_docs.dropna()\n",
    "labeled_docs.reset_index(drop=True,inplace=True)\n",
    "labeled_docs"
   ]
  },
  {
   "cell_type": "code",
   "execution_count": 22,
   "metadata": {},
   "outputs": [
    {
     "data": {
      "text/html": [
       "<div>\n",
       "<style scoped>\n",
       "    .dataframe tbody tr th:only-of-type {\n",
       "        vertical-align: middle;\n",
       "    }\n",
       "\n",
       "    .dataframe tbody tr th {\n",
       "        vertical-align: top;\n",
       "    }\n",
       "\n",
       "    .dataframe thead th {\n",
       "        text-align: right;\n",
       "    }\n",
       "</style>\n",
       "<table border=\"1\" class=\"dataframe\">\n",
       "  <thead>\n",
       "    <tr style=\"text-align: right;\">\n",
       "      <th></th>\n",
       "      <th>cluster</th>\n",
       "      <th>comments</th>\n",
       "    </tr>\n",
       "  </thead>\n",
       "  <tbody>\n",
       "    <tr>\n",
       "      <th>0</th>\n",
       "      <td>-1</td>\n",
       "      <td>yeah yeah hear hear mostly mostly good thing a...</td>\n",
       "    </tr>\n",
       "    <tr>\n",
       "      <th>1</th>\n",
       "      <td>0</td>\n",
       "      <td>octopus energy help natwest group group custom...</td>\n",
       "    </tr>\n",
       "    <tr>\n",
       "      <th>2</th>\n",
       "      <td>1</td>\n",
       "      <td>love this adorable adorable big one one that f...</td>\n",
       "    </tr>\n",
       "    <tr>\n",
       "      <th>3</th>\n",
       "      <td>2</td>\n",
       "      <td>have thank thank thank for sharing sharing luc...</td>\n",
       "    </tr>\n",
       "    <tr>\n",
       "      <th>4</th>\n",
       "      <td>4</td>\n",
       "      <td>just imagine the chaos chaos every uninformed ...</td>\n",
       "    </tr>\n",
       "    <tr>\n",
       "      <th>5</th>\n",
       "      <td>5</td>\n",
       "      <td>get that hrm use exert control over employee e...</td>\n",
       "    </tr>\n",
       "    <tr>\n",
       "      <th>6</th>\n",
       "      <td>7</td>\n",
       "      <td>see this this this meet michael liebreich lieb...</td>\n",
       "    </tr>\n",
       "  </tbody>\n",
       "</table>\n",
       "</div>"
      ],
      "text/plain": [
       "   cluster                                           comments\n",
       "0       -1  yeah yeah hear hear mostly mostly good thing a...\n",
       "1        0  octopus energy help natwest group group custom...\n",
       "2        1  love this adorable adorable big one one that f...\n",
       "3        2  have thank thank thank for sharing sharing luc...\n",
       "4        4  just imagine the chaos chaos every uninformed ...\n",
       "5        5  get that hrm use exert control over employee e...\n",
       "6        7  see this this this meet michael liebreich lieb..."
      ]
     },
     "execution_count": 22,
     "metadata": {},
     "output_type": "execute_result"
    }
   ],
   "source": [
    "labeled_docs"
   ]
  },
  {
   "cell_type": "code",
   "execution_count": null,
   "metadata": {},
   "outputs": [],
   "source": []
  },
  {
   "cell_type": "code",
   "execution_count": 23,
   "metadata": {
    "scrolled": true
   },
   "outputs": [
    {
     "name": "stdout",
     "output_type": "stream",
     "text": [
      "\u001b[1m   Bigram Cluster 1: \u001b[0m\n",
      "[('octopus toy', 0.4473), ('octopusesese supply', 0.4277), ('toy octopusenergy', 0.426), ('octosol octosol', 0.4079), ('switch octopus', 0.4058), ('add octopus', 0.3961), ('come octoshine', 0.3938), ('octopi octopi', 0.3933), ('toy octopus', 0.3905), ('energy octopus', 0.3903)]\n",
      "\u001b[1m   Bigram Cluster 2: \u001b[0m\n",
      "[('adorable adorable', 0.53), ('logo gorgeous', 0.5024), ('love adorable', 0.502), ('adorable big', 0.4781), ('awesome close', 0.4666), ('close awesome', 0.4534), ('lovely gesture', 0.4362), ('look big', 0.4199), ('oooh close', 0.418), ('nice nice', 0.4161)]\n",
      "\u001b[1m   Bigram Cluster 3: \u001b[0m\n",
      "[('thank thank', 0.5978), ('offer thank', 0.5779), ('thank sharing', 0.5714), ('octopus thank', 0.5699), ('sort thank', 0.566), ('awesome thank', 0.5649), ('thank send', 0.5616), ('send thank', 0.5578), ('great thank', 0.5468), ('thankyou send', 0.5443)]\n",
      "\u001b[1m   Bigram Cluster 4: \u001b[0m\n",
      "[('security professional', 0.4265), ('chaos protect', 0.4103), ('cybersecurity cybersecurity', 0.4059), ('cybersecurity lolz', 0.3906), ('security people', 0.3701), ('fantastic security', 0.3689), ('wonder secure', 0.3504), ('network cybersecurity', 0.3496), ('team accountant', 0.3362), ('protect worker', 0.3361)]\n",
      "\u001b[1m   Bigram Cluster 5: \u001b[0m\n",
      "[('employ people', 0.428), ('employee make', 0.4123), ('work leadership', 0.4122), ('make employee', 0.4039), ('skill people', 0.4009), ('company people', 0.3985), ('corporate mould', 0.396), ('skill happen', 0.3957), ('especially employee', 0.3953), ('understand workforce', 0.3936)]\n",
      "\u001b[1m   Bigram Cluster 6: \u001b[0m\n",
      "[('podcast listen', 0.5012), ('energy listen', 0.4652), ('excellent podcast', 0.4173), ('live listen', 0.416), ('listen listen', 0.3991), ('recommend listen', 0.3899), ('amp keynote', 0.3897), ('good podcast', 0.3868), ('podcast podcast', 0.3808), ('podcast highly', 0.3802)]\n",
      "Wall time: 1min 2s\n"
     ]
    }
   ],
   "source": [
    "%%time\n",
    "from keybert import KeyBERT\n",
    "array_text = labeled_docs.comments.tolist()\n",
    "kw_extractor = KeyBERT(model=model)\n",
    "bigram=[]\n",
    "for j in range(len(array_text)-1):\n",
    "    keywords = kw_extractor.extract_keywords(array_text[j+1],top_n=10,keyphrase_ngram_range=(2, 2))\n",
    "    print(f'\\033[1m   Bigram Cluster {j+1}: \\033[0m' )\n",
    "    print([word for word in keywords])\n",
    "    bigram.append([word[0] for word in keywords])"
   ]
  },
  {
   "cell_type": "code",
   "execution_count": 24,
   "metadata": {},
   "outputs": [
    {
     "name": "stdout",
     "output_type": "stream",
     "text": [
      "\u001b[1m   Unigram Cluster 1: \u001b[0m\n",
      "[('octosol', 0.3619), ('octopod', 0.3582), ('octopus', 0.3546), ('octopi', 0.3504), ('octopusenergy', 0.3492), ('octopusesese', 0.3469), ('octoshine', 0.3445), ('toy', 0.291), ('octolux', 0.2815), ('candy', 0.2558)]\n",
      "\u001b[1m   Unigram Cluster 2: \u001b[0m\n",
      "[('adorable', 0.4948), ('lovely', 0.3954), ('gorgeous', 0.3857), ('nice', 0.3831), ('similar', 0.3807), ('cheer', 0.3762), ('excellent', 0.3671), ('kind', 0.3661), ('close', 0.3638), ('sorry', 0.3559)]\n",
      "\u001b[1m   Unigram Cluster 3: \u001b[0m\n",
      "[('thankyou', 0.5348), ('thank', 0.4858), ('octopus', 0.2605), ('post', 0.2505), ('awesome', 0.2485), ('sharing', 0.2465), ('lucky', 0.2459), ('offer', 0.2442), ('send', 0.2365), ('pilgrim', 0.2246)]\n",
      "\u001b[1m   Unigram Cluster 4: \u001b[0m\n",
      "[('cybersecurity', 0.3714), ('chaos', 0.2946), ('security', 0.2823), ('secure', 0.2703), ('provider', 0.2503), ('hack', 0.2472), ('confuse', 0.2445), ('worker', 0.2408), ('protect', 0.2337), ('accountant', 0.231)]\n",
      "\u001b[1m   Unigram Cluster 5: \u001b[0m\n",
      "[('workforce', 0.3705), ('employee', 0.3433), ('employ', 0.336), ('organizational', 0.327), ('management', 0.3256), ('employment', 0.3236), ('leadership', 0.3232), ('hire', 0.3196), ('staff', 0.3196), ('corporate', 0.3108)]\n",
      "\u001b[1m   Unigram Cluster 6: \u001b[0m\n",
      "[('podcast', 0.3608), ('electrical', 0.319), ('listen', 0.3021), ('electrification', 0.2897), ('electric', 0.2828), ('interview', 0.2802), ('electricity', 0.2784), ('yep', 0.2777), ('mph', 0.2715), ('speaking', 0.2647)]\n",
      "Wall time: 24.8 s\n"
     ]
    }
   ],
   "source": [
    "%%time\n",
    "unigram=[]\n",
    "for j in range(len(array_text)-1):\n",
    "    keywords = kw_extractor.extract_keywords(array_text[j+1],top_n=10,keyphrase_ngram_range=(1, 1))\n",
    "    print(f'\\033[1m   Unigram Cluster {j+1}: \\033[0m' )\n",
    "    print([word for word in keywords])\n",
    "    unigram.append([word[0] for word in keywords])"
   ]
  },
  {
   "cell_type": "code",
   "execution_count": 25,
   "metadata": {},
   "outputs": [
    {
     "name": "stdout",
     "output_type": "stream",
     "text": [
      "\u001b[1m   Cluster 1: \u001b[0m\n",
      "['octosol', 'octopod', 'octopus', 'octopi', 'octopusenergy', 'octopusesese', 'octoshine', 'toy', 'octolux', 'candy', 'octopus toy', 'octopusesese supply', 'toy octopusenergy', 'switch octopus', 'add octopus', 'come octoshine', 'energy octopus']\n",
      "\u001b[1m   Cluster 2: \u001b[0m\n",
      "['adorable', 'lovely', 'gorgeous', 'nice', 'similar', 'cheer', 'excellent', 'kind', 'close', 'sorry', 'adorable adorable', 'logo gorgeous', 'love adorable', 'adorable big', 'awesome close', 'lovely gesture', 'look big', 'oooh close']\n",
      "\u001b[1m   Cluster 3: \u001b[0m\n",
      "['thankyou', 'thank', 'octopus', 'post', 'awesome', 'sharing', 'lucky', 'offer', 'send', 'pilgrim', 'thank thank', 'offer thank', 'thank sharing', 'octopus thank', 'sort thank', 'awesome thank', 'thank send', 'great thank', 'thankyou send']\n",
      "\u001b[1m   Cluster 4: \u001b[0m\n",
      "['cybersecurity', 'chaos', 'security', 'secure', 'provider', 'hack', 'confuse', 'worker', 'protect', 'accountant', 'security professional', 'chaos protect', 'cybersecurity lolz', 'security people', 'fantastic security', 'wonder secure', 'network cybersecurity', 'team accountant', 'protect worker']\n",
      "\u001b[1m   Cluster 5: \u001b[0m\n",
      "['workforce', 'employee', 'employ', 'organizational', 'management', 'employment', 'leadership', 'hire', 'staff', 'corporate', 'employ people', 'employee make', 'work leadership', 'skill people', 'company people', 'corporate mould', 'skill happen', 'especially employee', 'understand workforce']\n",
      "\u001b[1m   Cluster 6: \u001b[0m\n",
      "['podcast', 'electrical', 'listen', 'electrification', 'electric', 'interview', 'electricity', 'yep', 'mph', 'speaking', 'podcast listen', 'energy listen', 'excellent podcast', 'live listen', 'recommend listen', 'amp keynote', 'good podcast', 'podcast highly']\n"
     ]
    }
   ],
   "source": [
    "for i in range(len(array_text)-1):\n",
    "    clusterer=[]\n",
    "    bigramer=[]\n",
    "    print(f'\\033[1m   Cluster {i+1}: \\033[0m')\n",
    "    [clusterer.append(j) for j in unigram[i]]\n",
    "    clusterer.append(bigram[i][0])\n",
    "    \n",
    "    for word in bigram[i][0].split(\" \"):\n",
    "        if word not in bigramer:\n",
    "            bigramer.append(word)\n",
    "    \n",
    "    for each in bigram[i]:\n",
    "        first,second=each.split(\" \")\n",
    "        if first != second and not(first in bigramer and second in bigramer):\n",
    "            clusterer.append(each)\n",
    "            if bigramer.append(first): first not in bigramer\n",
    "            if bigramer.append(second): second not in bigramer\n",
    "    print(clusterer)"
   ]
  },
  {
   "cell_type": "code",
   "execution_count": 26,
   "metadata": {},
   "outputs": [
    {
     "name": "stdout",
     "output_type": "stream",
     "text": [
      "181.5307514667511\n"
     ]
    }
   ],
   "source": [
    "end = time.time()\n",
    "print(end - start)"
   ]
  },
  {
   "cell_type": "code",
   "execution_count": null,
   "metadata": {},
   "outputs": [],
   "source": []
  }
 ],
 "metadata": {
  "colab": {
   "name": "Untitled5.ipynb",
   "provenance": []
  },
  "kernelspec": {
   "display_name": "Python 3",
   "language": "python",
   "name": "python3"
  },
  "language_info": {
   "codemirror_mode": {
    "name": "ipython",
    "version": 3
   },
   "file_extension": ".py",
   "mimetype": "text/x-python",
   "name": "python",
   "nbconvert_exporter": "python",
   "pygments_lexer": "ipython3",
   "version": "3.8.7"
  },
  "varInspector": {
   "cols": {
    "lenName": 16,
    "lenType": 16,
    "lenVar": 40
   },
   "kernels_config": {
    "python": {
     "delete_cmd_postfix": "",
     "delete_cmd_prefix": "del ",
     "library": "var_list.py",
     "varRefreshCmd": "print(var_dic_list())"
    },
    "r": {
     "delete_cmd_postfix": ") ",
     "delete_cmd_prefix": "rm(",
     "library": "var_list.r",
     "varRefreshCmd": "cat(var_dic_list()) "
    }
   },
   "types_to_exclude": [
    "module",
    "function",
    "builtin_function_or_method",
    "instance",
    "_Feature"
   ],
   "window_display": false
  },
  "widgets": {
   "application/vnd.jupyter.widget-state+json": {
    "10748c34bb5448d9a34cd200a3979d56": {
     "model_module": "@jupyter-widgets/controls",
     "model_name": "HTMLModel",
     "state": {
      "_dom_classes": [],
      "_model_module": "@jupyter-widgets/controls",
      "_model_module_version": "1.5.0",
      "_model_name": "HTMLModel",
      "_view_count": null,
      "_view_module": "@jupyter-widgets/controls",
      "_view_module_version": "1.5.0",
      "_view_name": "HTMLView",
      "description": "",
      "description_tooltip": null,
      "layout": "IPY_MODEL_7e2aa975791049c8a7f588ed76b379c0",
      "placeholder": "​",
      "style": "IPY_MODEL_39fd5938a4df4de2891cd8393dd7af2f",
      "value": " 140/140 [01:59&lt;00:00,  1.17it/s]"
     }
    },
    "39fd5938a4df4de2891cd8393dd7af2f": {
     "model_module": "@jupyter-widgets/controls",
     "model_name": "DescriptionStyleModel",
     "state": {
      "_model_module": "@jupyter-widgets/controls",
      "_model_module_version": "1.5.0",
      "_model_name": "DescriptionStyleModel",
      "_view_count": null,
      "_view_module": "@jupyter-widgets/base",
      "_view_module_version": "1.2.0",
      "_view_name": "StyleView",
      "description_width": ""
     }
    },
    "6b163e4049ca4cbe8a24e7ac79ced8a5": {
     "model_module": "@jupyter-widgets/controls",
     "model_name": "HBoxModel",
     "state": {
      "_dom_classes": [],
      "_model_module": "@jupyter-widgets/controls",
      "_model_module_version": "1.5.0",
      "_model_name": "HBoxModel",
      "_view_count": null,
      "_view_module": "@jupyter-widgets/controls",
      "_view_module_version": "1.5.0",
      "_view_name": "HBoxView",
      "box_style": "",
      "children": [
       "IPY_MODEL_b02fccb0afa047999665079b5248015f",
       "IPY_MODEL_10748c34bb5448d9a34cd200a3979d56"
      ],
      "layout": "IPY_MODEL_be0f028285fa4e8da720237e1b1279bf"
     }
    },
    "7e2aa975791049c8a7f588ed76b379c0": {
     "model_module": "@jupyter-widgets/base",
     "model_name": "LayoutModel",
     "state": {
      "_model_module": "@jupyter-widgets/base",
      "_model_module_version": "1.2.0",
      "_model_name": "LayoutModel",
      "_view_count": null,
      "_view_module": "@jupyter-widgets/base",
      "_view_module_version": "1.2.0",
      "_view_name": "LayoutView",
      "align_content": null,
      "align_items": null,
      "align_self": null,
      "border": null,
      "bottom": null,
      "display": null,
      "flex": null,
      "flex_flow": null,
      "grid_area": null,
      "grid_auto_columns": null,
      "grid_auto_flow": null,
      "grid_auto_rows": null,
      "grid_column": null,
      "grid_gap": null,
      "grid_row": null,
      "grid_template_areas": null,
      "grid_template_columns": null,
      "grid_template_rows": null,
      "height": null,
      "justify_content": null,
      "justify_items": null,
      "left": null,
      "margin": null,
      "max_height": null,
      "max_width": null,
      "min_height": null,
      "min_width": null,
      "object_fit": null,
      "object_position": null,
      "order": null,
      "overflow": null,
      "overflow_x": null,
      "overflow_y": null,
      "padding": null,
      "right": null,
      "top": null,
      "visibility": null,
      "width": null
     }
    },
    "b02fccb0afa047999665079b5248015f": {
     "model_module": "@jupyter-widgets/controls",
     "model_name": "FloatProgressModel",
     "state": {
      "_dom_classes": [],
      "_model_module": "@jupyter-widgets/controls",
      "_model_module_version": "1.5.0",
      "_model_name": "FloatProgressModel",
      "_view_count": null,
      "_view_module": "@jupyter-widgets/controls",
      "_view_module_version": "1.5.0",
      "_view_name": "ProgressView",
      "bar_style": "success",
      "description": "Batches: 100%",
      "description_tooltip": null,
      "layout": "IPY_MODEL_ea4553e744634f56a3128b209cac5330",
      "max": 140,
      "min": 0,
      "orientation": "horizontal",
      "style": "IPY_MODEL_b927e6a6b1c44be1be1f58d582da2f6a",
      "value": 140
     }
    },
    "b927e6a6b1c44be1be1f58d582da2f6a": {
     "model_module": "@jupyter-widgets/controls",
     "model_name": "ProgressStyleModel",
     "state": {
      "_model_module": "@jupyter-widgets/controls",
      "_model_module_version": "1.5.0",
      "_model_name": "ProgressStyleModel",
      "_view_count": null,
      "_view_module": "@jupyter-widgets/base",
      "_view_module_version": "1.2.0",
      "_view_name": "StyleView",
      "bar_color": null,
      "description_width": "initial"
     }
    },
    "be0f028285fa4e8da720237e1b1279bf": {
     "model_module": "@jupyter-widgets/base",
     "model_name": "LayoutModel",
     "state": {
      "_model_module": "@jupyter-widgets/base",
      "_model_module_version": "1.2.0",
      "_model_name": "LayoutModel",
      "_view_count": null,
      "_view_module": "@jupyter-widgets/base",
      "_view_module_version": "1.2.0",
      "_view_name": "LayoutView",
      "align_content": null,
      "align_items": null,
      "align_self": null,
      "border": null,
      "bottom": null,
      "display": null,
      "flex": null,
      "flex_flow": null,
      "grid_area": null,
      "grid_auto_columns": null,
      "grid_auto_flow": null,
      "grid_auto_rows": null,
      "grid_column": null,
      "grid_gap": null,
      "grid_row": null,
      "grid_template_areas": null,
      "grid_template_columns": null,
      "grid_template_rows": null,
      "height": null,
      "justify_content": null,
      "justify_items": null,
      "left": null,
      "margin": null,
      "max_height": null,
      "max_width": null,
      "min_height": null,
      "min_width": null,
      "object_fit": null,
      "object_position": null,
      "order": null,
      "overflow": null,
      "overflow_x": null,
      "overflow_y": null,
      "padding": null,
      "right": null,
      "top": null,
      "visibility": null,
      "width": null
     }
    },
    "ea4553e744634f56a3128b209cac5330": {
     "model_module": "@jupyter-widgets/base",
     "model_name": "LayoutModel",
     "state": {
      "_model_module": "@jupyter-widgets/base",
      "_model_module_version": "1.2.0",
      "_model_name": "LayoutModel",
      "_view_count": null,
      "_view_module": "@jupyter-widgets/base",
      "_view_module_version": "1.2.0",
      "_view_name": "LayoutView",
      "align_content": null,
      "align_items": null,
      "align_self": null,
      "border": null,
      "bottom": null,
      "display": null,
      "flex": null,
      "flex_flow": null,
      "grid_area": null,
      "grid_auto_columns": null,
      "grid_auto_flow": null,
      "grid_auto_rows": null,
      "grid_column": null,
      "grid_gap": null,
      "grid_row": null,
      "grid_template_areas": null,
      "grid_template_columns": null,
      "grid_template_rows": null,
      "height": null,
      "justify_content": null,
      "justify_items": null,
      "left": null,
      "margin": null,
      "max_height": null,
      "max_width": null,
      "min_height": null,
      "min_width": null,
      "object_fit": null,
      "object_position": null,
      "order": null,
      "overflow": null,
      "overflow_x": null,
      "overflow_y": null,
      "padding": null,
      "right": null,
      "top": null,
      "visibility": null,
      "width": null
     }
    }
   }
  }
 },
 "nbformat": 4,
 "nbformat_minor": 4
}

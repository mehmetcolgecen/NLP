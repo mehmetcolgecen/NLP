{
 "cells": [
  {
   "cell_type": "code",
   "execution_count": 1,
   "metadata": {},
   "outputs": [],
   "source": [
    "import time\n",
    "start = time.time()"
   ]
  },
  {
   "cell_type": "code",
   "execution_count": 2,
   "metadata": {},
   "outputs": [],
   "source": [
    "import re\n",
    "import pandas as pd\n",
    "import numpy as np\n",
    "from sklearn.cluster import KMeans\n",
    "import umap\n",
    "import nltk\n",
    "import spacy\n",
    "import string\n",
    "import hdbscan\n",
    "\n",
    "import preprocessor as p\n",
    "\n",
    "import matplotlib.pyplot as plt\n",
    "from matplotlib.axes._axes import _log as matplotlib_axes_logger\n",
    "matplotlib_axes_logger.setLevel('ERROR')\n",
    "import seaborn as sns\n",
    "sns.set(style='white', rc={'figure.figsize':(10,8)})\n",
    "\n",
    "np.random.seed(42)\n",
    "%config Completer.use_jedi = False\n",
    "pd.set_option('display.max_columns', 30)\n",
    "# pd.set_option('display.max_rows', 100)\n",
    "\n",
    "nlp = spacy.load(\"en_core_web_sm\")"
   ]
  },
  {
   "cell_type": "code",
   "execution_count": 3,
   "metadata": {
    "colab": {
     "base_uri": "https://localhost:8080/",
     "height": 621
    },
    "id": "ek3w6OZQsoqv",
    "outputId": "92306d37-cc10-4cb7-c62e-006de9eae451"
   },
   "outputs": [
    {
     "data": {
      "text/html": [
       "<div>\n",
       "<style scoped>\n",
       "    .dataframe tbody tr th:only-of-type {\n",
       "        vertical-align: middle;\n",
       "    }\n",
       "\n",
       "    .dataframe tbody tr th {\n",
       "        vertical-align: top;\n",
       "    }\n",
       "\n",
       "    .dataframe thead th {\n",
       "        text-align: right;\n",
       "    }\n",
       "</style>\n",
       "<table border=\"1\" class=\"dataframe\">\n",
       "  <thead>\n",
       "    <tr style=\"text-align: right;\">\n",
       "      <th></th>\n",
       "      <th>Unnamed: 0</th>\n",
       "      <th>comments</th>\n",
       "    </tr>\n",
       "  </thead>\n",
       "  <tbody>\n",
       "    <tr>\n",
       "      <th>0</th>\n",
       "      <td>0</td>\n",
       "      <td>@Vishen , a CEO that I would REALLY love to he...</td>\n",
       "    </tr>\n",
       "    <tr>\n",
       "      <th>1</th>\n",
       "      <td>1</td>\n",
       "      <td>The latest episode of the @mindvalley podcast ...</td>\n",
       "    </tr>\n",
       "    <tr>\n",
       "      <th>2</th>\n",
       "      <td>2</td>\n",
       "      <td>@ImPaulMcKenna @mindvalley A new way of learni...</td>\n",
       "    </tr>\n",
       "    <tr>\n",
       "      <th>3</th>\n",
       "      <td>3</td>\n",
       "      <td>@moneyman11_c @Vishen @mindvalley What is real...</td>\n",
       "    </tr>\n",
       "    <tr>\n",
       "      <th>4</th>\n",
       "      <td>4</td>\n",
       "      <td>@manojaryan @Vishen @mindvalley It messed with...</td>\n",
       "    </tr>\n",
       "  </tbody>\n",
       "</table>\n",
       "</div>"
      ],
      "text/plain": [
       "   Unnamed: 0                                           comments\n",
       "0           0  @Vishen , a CEO that I would REALLY love to he...\n",
       "1           1  The latest episode of the @mindvalley podcast ...\n",
       "2           2  @ImPaulMcKenna @mindvalley A new way of learni...\n",
       "3           3  @moneyman11_c @Vishen @mindvalley What is real...\n",
       "4           4  @manojaryan @Vishen @mindvalley It messed with..."
      ]
     },
     "execution_count": 3,
     "metadata": {},
     "output_type": "execute_result"
    }
   ],
   "source": [
    "df = pd.read_csv('mindvalley_tweets.csv')\n",
    "df.rename(columns={\"tweet\":\"comments\"},inplace=True)\n",
    "df.head()"
   ]
  },
  {
   "cell_type": "code",
   "execution_count": 4,
   "metadata": {},
   "outputs": [],
   "source": [
    "df.comments.replace(\"\\n\" , \" \", regex=True, inplace = True)\n",
    "df.comments=df.comments.apply(lambda x:p.clean(str(x)))"
   ]
  },
  {
   "cell_type": "code",
   "execution_count": 5,
   "metadata": {},
   "outputs": [],
   "source": [
    "df.replace('nan', np.nan, inplace = True)\n",
    "df.replace('', np.nan, inplace = True)\n",
    "df.replace('do', np.nan, inplace = True)\n",
    "df = df.dropna()\n",
    "df.reset_index(drop=True,inplace=True)"
   ]
  },
  {
   "cell_type": "code",
   "execution_count": 6,
   "metadata": {},
   "outputs": [],
   "source": [
    "list_data = df.comments.unique().tolist()"
   ]
  },
  {
   "cell_type": "code",
   "execution_count": 7,
   "metadata": {},
   "outputs": [],
   "source": [
    "from sentence_transformers import SentenceTransformer"
   ]
  },
  {
   "cell_type": "code",
   "execution_count": 8,
   "metadata": {},
   "outputs": [],
   "source": [
    "# distilbert-base-nli-mean-tokens\n",
    "# paraphrase-distilroberta-base-v1\n",
    "# roberta-large-nli-stsb-mean-tokens\n",
    "#allenai-specter\n"
   ]
  },
  {
   "cell_type": "code",
   "execution_count": 9,
   "metadata": {
    "colab": {
     "base_uri": "https://localhost:8080/",
     "height": 67,
     "referenced_widgets": [
      "6b163e4049ca4cbe8a24e7ac79ced8a5",
      "be0f028285fa4e8da720237e1b1279bf",
      "b02fccb0afa047999665079b5248015f",
      "10748c34bb5448d9a34cd200a3979d56",
      "b927e6a6b1c44be1be1f58d582da2f6a",
      "ea4553e744634f56a3128b209cac5330",
      "39fd5938a4df4de2891cd8393dd7af2f",
      "7e2aa975791049c8a7f588ed76b379c0"
     ]
    },
    "id": "BjwnhvRQtW2S",
    "outputId": "458d7bd4-ba13-4112-85a9-fb050e99008f"
   },
   "outputs": [
    {
     "data": {
      "application/vnd.jupyter.widget-view+json": {
       "model_id": "e9de0b4686344046a5e2ac2d966bda16",
       "version_major": 2,
       "version_minor": 0
      },
      "text/plain": [
       "Batches:   0%|          | 0/13 [00:00<?, ?it/s]"
      ]
     },
     "metadata": {},
     "output_type": "display_data"
    },
    {
     "name": "stdout",
     "output_type": "stream",
     "text": [
      "Wall time: 42.2 s\n"
     ]
    }
   ],
   "source": [
    "%%time\n",
    "model=SentenceTransformer('xlm-r-distilroberta-base-paraphrase-v1')\n",
    "embeddings = model.encode(list_data, show_progress_bar=True)"
   ]
  },
  {
   "cell_type": "code",
   "execution_count": 10,
   "metadata": {
    "id": "g8zUQEqTta2y"
   },
   "outputs": [
    {
     "name": "stdout",
     "output_type": "stream",
     "text": [
      "Wall time: 9.52 s\n"
     ]
    }
   ],
   "source": [
    "%%time\n",
    "best_model = umap.UMAP(n_components=5,min_dist=0.0).fit_transform(embeddings)\n",
    "\n",
    "#n_neighbors=10, min_dist=0.0, "
   ]
  },
  {
   "cell_type": "code",
   "execution_count": 11,
   "metadata": {},
   "outputs": [
    {
     "data": {
      "image/png": "[encoded data removed]",
      "text/plain": [
       "<Figure size 720x576 with 1 Axes>"
      ]
     },
     "metadata": {},
     "output_type": "display_data"
    }
   ],
   "source": [
    "#inertia\n",
    "\n",
    "kmeans_per_k = [KMeans(n_clusters=k, random_state=42).fit(best_model)\n",
    "                for k in range(1, 10)]\n",
    "inertias = [model.inertia_ for model in kmeans_per_k]\n",
    "\n",
    "plt.plot(range(1, 10), inertias, \"bo-\")\n",
    "plt.xlabel(\"$k$\", fontsize=14)\n",
    "plt.ylabel(\"Inertia\", fontsize=14)\n",
    "plt.show()"
   ]
  },
  {
   "cell_type": "code",
   "execution_count": 12,
   "metadata": {},
   "outputs": [],
   "source": [
    "# from nltk.cluster import KMeansClusterer,euclidean_distance\n",
    "# clusterer =KMeansClusterer(6,euclidean_distance)\n",
    "# cluster=np.array(clusterer.cluster(best_model,True))"
   ]
  },
  {
   "cell_type": "code",
   "execution_count": 13,
   "metadata": {},
   "outputs": [],
   "source": [
    "# cluster = KMeans(n_clusters=1, init=\"k-means++\").fit_predict(best_model)"
   ]
  },
  {
   "cell_type": "code",
   "execution_count": 14,
   "metadata": {},
   "outputs": [],
   "source": [
    "cluster = hdbscan.HDBSCAN().fit_predict(best_model)"
   ]
  },
  {
   "cell_type": "code",
   "execution_count": 15,
   "metadata": {
    "colab": {
     "base_uri": "https://localhost:8080/",
     "height": 523
    },
    "id": "bqq2_WsRtbN3",
    "outputId": "8e6703c5-89b1-434e-e8e5-74468bf87f8b"
   },
   "outputs": [],
   "source": [
    "def plot(cluster = cluster):    \n",
    "\n",
    "    clustered = (cluster >= 0)\n",
    "    reduced_dim = umap.UMAP(n_components=2).fit_transform(embeddings)\n",
    "\n",
    "\n",
    "\n",
    "    unique, counts = np.unique(cluster, return_counts=True)\n",
    "    print(dict(zip(unique, counts)))\n",
    "\n",
    "    plt.scatter(reduced_dim[~clustered, 0],\n",
    "                reduced_dim[~clustered, 1],\n",
    "                c=(0.5,0.5,0.5),\n",
    "                # s=1,\n",
    "                alpha=0.5\n",
    "                )\n",
    "    plt.scatter(reduced_dim[clustered, 0],\n",
    "                reduced_dim[clustered, 1],\n",
    "                c=cluster[clustered],\n",
    "                # s=1,\n",
    "                cmap='hsv')\n",
    "    plt.show()"
   ]
  },
  {
   "cell_type": "code",
   "execution_count": 16,
   "metadata": {},
   "outputs": [
    {
     "name": "stdout",
     "output_type": "stream",
     "text": [
      "{-1: 136, 0: 30, 1: 48, 2: 30, 3: 15, 4: 39, 5: 19, 6: 25, 7: 14, 8: 7, 9: 21, 10: 8, 11: 10}\n"
     ]
    },
    {
     "data": {
      "image/png": "[encoded data removed]",
      "text/plain": [
       "<Figure size 720x576 with 1 Axes>"
      ]
     },
     "metadata": {},
     "output_type": "display_data"
    }
   ],
   "source": [
    "plot()"
   ]
  },
  {
   "cell_type": "code",
   "execution_count": 17,
   "metadata": {},
   "outputs": [
    {
     "data": {
      "text/plain": [
       "402"
      ]
     },
     "execution_count": 17,
     "metadata": {},
     "output_type": "execute_result"
    }
   ],
   "source": [
    "len(cluster)"
   ]
  },
  {
   "cell_type": "code",
   "execution_count": 18,
   "metadata": {},
   "outputs": [],
   "source": [
    "def word_root(text):\n",
    "    list_data3=[]\n",
    "    doc = nlp(text)\n",
    "    for token in doc:\n",
    "        if token.text.isalpha() and len(token.text)>2:\n",
    "            lemma = token.lemma_\n",
    "            list_data3.append(lemma)\n",
    "        else:pass\n",
    "    return \" \".join(list_data3)"
   ]
  },
  {
   "cell_type": "code",
   "execution_count": 19,
   "metadata": {
    "scrolled": true
   },
   "outputs": [
    {
     "data": {
      "text/html": [
       "<div>\n",
       "<style scoped>\n",
       "    .dataframe tbody tr th:only-of-type {\n",
       "        vertical-align: middle;\n",
       "    }\n",
       "\n",
       "    .dataframe tbody tr th {\n",
       "        vertical-align: top;\n",
       "    }\n",
       "\n",
       "    .dataframe thead th {\n",
       "        text-align: right;\n",
       "    }\n",
       "</style>\n",
       "<table border=\"1\" class=\"dataframe\">\n",
       "  <thead>\n",
       "    <tr style=\"text-align: right;\">\n",
       "      <th></th>\n",
       "      <th>cluster</th>\n",
       "      <th>comments</th>\n",
       "    </tr>\n",
       "  </thead>\n",
       "  <tbody>\n",
       "    <tr>\n",
       "      <th>0</th>\n",
       "      <td>-1</td>\n",
       "      <td>new way learning well and well every day who k...</td>\n",
       "    </tr>\n",
       "    <tr>\n",
       "      <th>1</th>\n",
       "      <td>0</td>\n",
       "      <td>just finish film another quest with mindvalley...</td>\n",
       "    </tr>\n",
       "    <tr>\n",
       "      <th>2</th>\n",
       "      <td>1</td>\n",
       "      <td>absolutely correct same always love glad cross...</td>\n",
       "    </tr>\n",
       "    <tr>\n",
       "      <th>3</th>\n",
       "      <td>2</td>\n",
       "      <td>thank for the comment your alley thank you nee...</td>\n",
       "    </tr>\n",
       "    <tr>\n",
       "      <th>4</th>\n",
       "      <td>3</td>\n",
       "      <td>omg yesss that too when annular solar eclipse ...</td>\n",
       "    </tr>\n",
       "    <tr>\n",
       "      <th>5</th>\n",
       "      <td>4</td>\n",
       "      <td>what reality transurfe exactly mess with mind ...</td>\n",
       "    </tr>\n",
       "    <tr>\n",
       "      <th>6</th>\n",
       "      <td>5</td>\n",
       "      <td>chaos nothing more than your next level come g...</td>\n",
       "    </tr>\n",
       "    <tr>\n",
       "      <th>7</th>\n",
       "      <td>6</td>\n",
       "      <td>subscribe youtube because your ad be suck the ...</td>\n",
       "    </tr>\n",
       "    <tr>\n",
       "      <th>8</th>\n",
       "      <td>7</td>\n",
       "      <td>lucid dreaming the topic this week masterclass...</td>\n",
       "    </tr>\n",
       "    <tr>\n",
       "      <th>9</th>\n",
       "      <td>8</td>\n",
       "      <td>sulaiman launch podcast last year with the goa...</td>\n",
       "    </tr>\n",
       "    <tr>\n",
       "      <th>10</th>\n",
       "      <td>9</td>\n",
       "      <td>ceo that would really love hear your podcast a...</td>\n",
       "    </tr>\n",
       "    <tr>\n",
       "      <th>11</th>\n",
       "      <td>10</td>\n",
       "      <td>class be only for people who have full use upp...</td>\n",
       "    </tr>\n",
       "    <tr>\n",
       "      <th>12</th>\n",
       "      <td>11</td>\n",
       "      <td>the pure peace mermaid refresh meditation now ...</td>\n",
       "    </tr>\n",
       "  </tbody>\n",
       "</table>\n",
       "</div>"
      ],
      "text/plain": [
       "    cluster                                           comments\n",
       "0        -1  new way learning well and well every day who k...\n",
       "1         0  just finish film another quest with mindvalley...\n",
       "2         1  absolutely correct same always love glad cross...\n",
       "3         2  thank for the comment your alley thank you nee...\n",
       "4         3  omg yesss that too when annular solar eclipse ...\n",
       "5         4  what reality transurfe exactly mess with mind ...\n",
       "6         5  chaos nothing more than your next level come g...\n",
       "7         6  subscribe youtube because your ad be suck the ...\n",
       "8         7  lucid dreaming the topic this week masterclass...\n",
       "9         8  sulaiman launch podcast last year with the goa...\n",
       "10        9  ceo that would really love hear your podcast a...\n",
       "11       10  class be only for people who have full use upp...\n",
       "12       11  the pure peace mermaid refresh meditation now ..."
      ]
     },
     "execution_count": 19,
     "metadata": {},
     "output_type": "execute_result"
    }
   ],
   "source": [
    "docs = pd.DataFrame(list_data,columns=[\"comments\"])\n",
    "docs[\"cluster\"] = cluster\n",
    "labeled_docs = docs.groupby([\"cluster\"], as_index=False).agg({\"comments\": \" \".join})\n",
    "labeled_docs.comments = labeled_docs.comments.apply(lambda x: word_root(str(x).lower()))  \n",
    "labeled_docs"
   ]
  },
  {
   "cell_type": "code",
   "execution_count": 20,
   "metadata": {
    "scrolled": true
   },
   "outputs": [
    {
     "name": "stdout",
     "output_type": "stream",
     "text": [
      "Top similar pairs:\n",
      "cluster 11 \t cluster 12 \t similarity: 0.6396\n",
      "cluster 8 \t cluster 11 \t similarity: 0.5729\n",
      "cluster 8 \t cluster 12 \t similarity: 0.5119\n",
      "cluster 6 \t cluster 7 \t similarity: 0.4773\n",
      "cluster 2 \t cluster 10 \t similarity: 0.4734\n",
      "cluster 1 \t cluster 3 \t similarity: 0.4462\n",
      "cluster 2 \t cluster 6 \t similarity: 0.4377\n",
      "cluster 6 \t cluster 8 \t similarity: 0.4281\n",
      "cluster 1 \t cluster 8 \t similarity: 0.4216\n",
      "cluster 5 \t cluster 6 \t similarity: 0.4210\n",
      "cluster 4 \t cluster 6 \t similarity: 0.4206\n",
      "cluster 4 \t cluster 10 \t similarity: 0.4169\n",
      "cluster 1 \t cluster 6 \t similarity: 0.4119\n",
      "cluster 9 \t cluster 10 \t similarity: 0.4034\n",
      "cluster 2 \t cluster 3 \t similarity: 0.4025\n",
      "cluster 7 \t cluster 10 \t similarity: 0.4015\n",
      "cluster 4 \t cluster 8 \t similarity: 0.3891\n",
      "cluster 6 \t cluster 9 \t similarity: 0.3860\n",
      "cluster 1 \t cluster 11 \t similarity: 0.3854\n",
      "cluster 1 \t cluster 12 \t similarity: 0.3833\n",
      "cluster 8 \t cluster 10 \t similarity: 0.3700\n",
      "cluster 1 \t cluster 10 \t similarity: 0.3679\n",
      "cluster 1 \t cluster 2 \t similarity: 0.3665\n",
      "cluster 6 \t cluster 10 \t similarity: 0.3633\n",
      "cluster 1 \t cluster 4 \t similarity: 0.3631\n",
      "cluster 3 \t cluster 7 \t similarity: 0.3626\n",
      "cluster 5 \t cluster 8 \t similarity: 0.3619\n",
      "cluster 5 \t cluster 7 \t similarity: 0.3578\n",
      "cluster 8 \t cluster 9 \t similarity: 0.3542\n",
      "cluster 3 \t cluster 10 \t similarity: 0.3532\n",
      "cluster 2 \t cluster 7 \t similarity: 0.3509\n",
      "cluster 6 \t cluster 12 \t similarity: 0.3490\n",
      "cluster 3 \t cluster 6 \t similarity: 0.3486\n",
      "cluster 1 \t cluster 7 \t similarity: 0.3383\n",
      "cluster 1 \t cluster 9 \t similarity: 0.3379\n",
      "cluster 4 \t cluster 7 \t similarity: 0.3359\n",
      "cluster 2 \t cluster 8 \t similarity: 0.3336\n",
      "cluster 5 \t cluster 12 \t similarity: 0.3267\n",
      "cluster 3 \t cluster 9 \t similarity: 0.3224\n",
      "cluster 2 \t cluster 9 \t similarity: 0.3218\n",
      "cluster 2 \t cluster 4 \t similarity: 0.3165\n",
      "cluster 10 \t cluster 11 \t similarity: 0.3117\n",
      "cluster 10 \t cluster 12 \t similarity: 0.3070\n",
      "cluster 4 \t cluster 9 \t similarity: 0.3052\n",
      "cluster 3 \t cluster 8 \t similarity: 0.2967\n",
      "cluster 3 \t cluster 4 \t similarity: 0.2939\n",
      "cluster 4 \t cluster 11 \t similarity: 0.2835\n",
      "cluster 7 \t cluster 8 \t similarity: 0.2833\n",
      "cluster 6 \t cluster 11 \t similarity: 0.2818\n",
      "cluster 2 \t cluster 12 \t similarity: 0.2806\n",
      "cluster 1 \t cluster 5 \t similarity: 0.2744\n",
      "cluster 2 \t cluster 11 \t similarity: 0.2737\n",
      "cluster 9 \t cluster 11 \t similarity: 0.2737\n",
      "cluster 7 \t cluster 11 \t similarity: 0.2592\n",
      "cluster 7 \t cluster 12 \t similarity: 0.2476\n",
      "cluster 3 \t cluster 12 \t similarity: 0.2387\n",
      "cluster 3 \t cluster 11 \t similarity: 0.2346\n",
      "cluster 4 \t cluster 12 \t similarity: 0.2277\n",
      "cluster 5 \t cluster 10 \t similarity: 0.2215\n",
      "cluster 2 \t cluster 5 \t similarity: 0.2029\n",
      "cluster 9 \t cluster 12 \t similarity: 0.2003\n",
      "cluster 3 \t cluster 5 \t similarity: 0.1940\n",
      "cluster 4 \t cluster 5 \t similarity: 0.1929\n",
      "cluster 7 \t cluster 9 \t similarity: 0.1894\n",
      "cluster 5 \t cluster 11 \t similarity: 0.1820\n",
      "cluster 5 \t cluster 9 \t similarity: 0.0989\n",
      "Wall time: 3.54 s\n"
     ]
    }
   ],
   "source": [
    "%%time\n",
    "array_text = labeled_docs.comments.tolist()\n",
    "from sentence_transformers import SentenceTransformer, util\n",
    "\n",
    "sentences = array_text[1:]\n",
    "\n",
    "#Encode all sentences\n",
    "embeddings = model.encode(sentences)\n",
    "\n",
    "#Compute cosine similarity between all pairs\n",
    "cos_sim = util.pytorch_cos_sim(embeddings, embeddings)\n",
    "\n",
    "#Add all pairs to a list with their cosine similarity score\n",
    "all_sentence_combinations = []\n",
    "for i in range(len(cos_sim)-1):\n",
    "    for j in range(i+1, len(cos_sim)):\n",
    "        all_sentence_combinations.append([cos_sim[i][j], i, j])\n",
    "\n",
    "#Sort list by the highest cosine similarity score\n",
    "all_sentence_combinations = sorted(all_sentence_combinations, key=lambda x: x[0], reverse=True)\n",
    "similar = []\n",
    "print(\"Top similar pairs:\")\n",
    "for score, i, j in all_sentence_combinations:\n",
    "    print(\"cluster {} \\t cluster {} \\t similarity: {:.4f}\".format(i+1, j+1, cos_sim[i][j]))\n",
    "    similar.append((score,i+1,j+1))"
   ]
  },
  {
   "cell_type": "code",
   "execution_count": 21,
   "metadata": {},
   "outputs": [
    {
     "name": "stdout",
     "output_type": "stream",
     "text": [
      "Wall time: 24 ms\n"
     ]
    },
    {
     "name": "stderr",
     "output_type": "stream",
     "text": [
      "<timed exec>:9: SettingWithCopyWarning: \n",
      "A value is trying to be set on a copy of a slice from a DataFrame\n",
      "\n",
      "See the caveats in the documentation: https://pandas.pydata.org/pandas-docs/stable/user_guide/indexing.html#returning-a-view-versus-a-copy\n",
      "<timed exec>:10: SettingWithCopyWarning: \n",
      "A value is trying to be set on a copy of a slice from a DataFrame\n",
      "\n",
      "See the caveats in the documentation: https://pandas.pydata.org/pandas-docs/stable/user_guide/indexing.html#returning-a-view-versus-a-copy\n",
      "<timed exec>:7: SettingWithCopyWarning: \n",
      "A value is trying to be set on a copy of a slice from a DataFrame\n",
      "\n",
      "See the caveats in the documentation: https://pandas.pydata.org/pandas-docs/stable/user_guide/indexing.html#returning-a-view-versus-a-copy\n"
     ]
    }
   ],
   "source": [
    "%%time\n",
    "i=0\n",
    "while similar[i][0]>0.40:\n",
    "    one, two = sorted([similar[i][1],similar[i][2]])\n",
    "    if labeled_docs.comments[one] == \"\" and labeled_docs.comments[two] == \"\":\n",
    "        pass\n",
    "    elif labeled_docs.comments[one] == \"\" and labeled_docs.comments[two] != \"\":\n",
    "        labeled_docs.comments[one] = labeled_docs.comments[two]\n",
    "    else:\n",
    "        labeled_docs.comments[one] = labeled_docs.comments[one] +\" \"+labeled_docs.comments[two]\n",
    "    labeled_docs.comments[two]=\"\"\n",
    "    i+=1\n",
    "\n"
   ]
  },
  {
   "cell_type": "code",
   "execution_count": 22,
   "metadata": {},
   "outputs": [
    {
     "data": {
      "text/html": [
       "<div>\n",
       "<style scoped>\n",
       "    .dataframe tbody tr th:only-of-type {\n",
       "        vertical-align: middle;\n",
       "    }\n",
       "\n",
       "    .dataframe tbody tr th {\n",
       "        vertical-align: top;\n",
       "    }\n",
       "\n",
       "    .dataframe thead th {\n",
       "        text-align: right;\n",
       "    }\n",
       "</style>\n",
       "<table border=\"1\" class=\"dataframe\">\n",
       "  <thead>\n",
       "    <tr style=\"text-align: right;\">\n",
       "      <th></th>\n",
       "      <th>cluster</th>\n",
       "      <th>comments</th>\n",
       "    </tr>\n",
       "  </thead>\n",
       "  <tbody>\n",
       "    <tr>\n",
       "      <th>0</th>\n",
       "      <td>-1</td>\n",
       "      <td>new way learning well and well every day who k...</td>\n",
       "    </tr>\n",
       "    <tr>\n",
       "      <th>1</th>\n",
       "      <td>0</td>\n",
       "      <td>just finish film another quest with mindvalley...</td>\n",
       "    </tr>\n",
       "    <tr>\n",
       "      <th>2</th>\n",
       "      <td>1</td>\n",
       "      <td>absolutely correct same always love glad cross...</td>\n",
       "    </tr>\n",
       "    <tr>\n",
       "      <th>3</th>\n",
       "      <td>3</td>\n",
       "      <td>omg yesss that too when annular solar eclipse ...</td>\n",
       "    </tr>\n",
       "    <tr>\n",
       "      <th>4</th>\n",
       "      <td>4</td>\n",
       "      <td>what reality transurfe exactly mess with mind ...</td>\n",
       "    </tr>\n",
       "    <tr>\n",
       "      <th>5</th>\n",
       "      <td>8</td>\n",
       "      <td>sulaiman launch podcast last year with the goa...</td>\n",
       "    </tr>\n",
       "  </tbody>\n",
       "</table>\n",
       "</div>"
      ],
      "text/plain": [
       "   cluster                                           comments\n",
       "0       -1  new way learning well and well every day who k...\n",
       "1        0  just finish film another quest with mindvalley...\n",
       "2        1  absolutely correct same always love glad cross...\n",
       "3        3  omg yesss that too when annular solar eclipse ...\n",
       "4        4  what reality transurfe exactly mess with mind ...\n",
       "5        8  sulaiman launch podcast last year with the goa..."
      ]
     },
     "execution_count": 22,
     "metadata": {},
     "output_type": "execute_result"
    }
   ],
   "source": [
    "labeled_docs.replace('', np.nan, inplace = True)\n",
    "labeled_docs=labeled_docs.dropna()\n",
    "labeled_docs.reset_index(drop=True,inplace=True)\n",
    "labeled_docs"
   ]
  },
  {
   "cell_type": "code",
   "execution_count": 23,
   "metadata": {
    "scrolled": true
   },
   "outputs": [
    {
     "name": "stdout",
     "output_type": "stream",
     "text": [
      "Top similar pairs:\n",
      "cluster 1 \t cluster 2 \t similarity: 0.3665\n",
      "cluster 1 \t cluster 3 \t similarity: 0.3631\n",
      "cluster 1 \t cluster 5 \t similarity: 0.3379\n",
      "cluster 2 \t cluster 5 \t similarity: 0.3218\n",
      "cluster 2 \t cluster 3 \t similarity: 0.3165\n",
      "cluster 3 \t cluster 5 \t similarity: 0.3052\n",
      "cluster 1 \t cluster 4 \t similarity: 0.2744\n",
      "cluster 2 \t cluster 4 \t similarity: 0.2029\n",
      "cluster 3 \t cluster 4 \t similarity: 0.1929\n",
      "cluster 4 \t cluster 5 \t similarity: 0.0989\n",
      "Wall time: 1.41 s\n"
     ]
    }
   ],
   "source": [
    "%%time\n",
    "array_text = labeled_docs.comments.tolist()\n",
    "from sentence_transformers import SentenceTransformer, util\n",
    "\n",
    "sentences = array_text[1:]\n",
    "\n",
    "#Encode all sentences\n",
    "embeddings = model.encode(sentences)\n",
    "\n",
    "#Compute cosine similarity between all pairs\n",
    "cos_sim = util.pytorch_cos_sim(embeddings, embeddings)\n",
    "\n",
    "#Add all pairs to a list with their cosine similarity score\n",
    "all_sentence_combinations = []\n",
    "for i in range(len(cos_sim)-1):\n",
    "    for j in range(i+1, len(cos_sim)):\n",
    "        all_sentence_combinations.append([cos_sim[i][j], i, j])\n",
    "\n",
    "#Sort list by the highest cosine similarity score\n",
    "all_sentence_combinations = sorted(all_sentence_combinations, key=lambda x: x[0], reverse=True)\n",
    "similar = []\n",
    "print(\"Top similar pairs:\")\n",
    "for score, i, j in all_sentence_combinations:\n",
    "    print(\"cluster {} \\t cluster {} \\t similarity: {:.4f}\".format(i+1, j+1, cos_sim[i][j]))\n",
    "    similar.append((score,i+1,j+1))"
   ]
  },
  {
   "cell_type": "code",
   "execution_count": 24,
   "metadata": {},
   "outputs": [
    {
     "name": "stdout",
     "output_type": "stream",
     "text": [
      "Wall time: 999 µs\n"
     ]
    }
   ],
   "source": [
    "%%time\n",
    "i=0\n",
    "while similar[i][0]>0.40:\n",
    "    one, two = sorted([similar[i][1],similar[i][2]])\n",
    "    if labeled_docs.comments[one] == \"\" and labeled_docs.comments[two] == \"\":\n",
    "        pass\n",
    "    elif labeled_docs.comments[one] == \"\" and labeled_docs.comments[two] != \"\":\n",
    "        labeled_docs.comments[one] = labeled_docs.comments[two]\n",
    "    else:\n",
    "        labeled_docs.comments[one] = labeled_docs.comments[one] +\" \"+labeled_docs.comments[two]\n",
    "    labeled_docs.comments[two]=\"\"\n",
    "    i+=1"
   ]
  },
  {
   "cell_type": "code",
   "execution_count": 25,
   "metadata": {},
   "outputs": [
    {
     "name": "stderr",
     "output_type": "stream",
     "text": [
      "c:\\users\\user\\appdata\\local\\programs\\python\\python38\\lib\\site-packages\\pandas\\core\\frame.py:4521: SettingWithCopyWarning: \n",
      "A value is trying to be set on a copy of a slice from a DataFrame\n",
      "\n",
      "See the caveats in the documentation: https://pandas.pydata.org/pandas-docs/stable/user_guide/indexing.html#returning-a-view-versus-a-copy\n",
      "  return super().replace(\n"
     ]
    }
   ],
   "source": [
    "labeled_docs.replace('', np.nan, inplace = True)\n",
    "labeled_docs=labeled_docs.dropna()\n",
    "labeled_docs.reset_index(drop=True,inplace=True)"
   ]
  },
  {
   "cell_type": "code",
   "execution_count": 26,
   "metadata": {},
   "outputs": [
    {
     "data": {
      "text/html": [
       "<div>\n",
       "<style scoped>\n",
       "    .dataframe tbody tr th:only-of-type {\n",
       "        vertical-align: middle;\n",
       "    }\n",
       "\n",
       "    .dataframe tbody tr th {\n",
       "        vertical-align: top;\n",
       "    }\n",
       "\n",
       "    .dataframe thead th {\n",
       "        text-align: right;\n",
       "    }\n",
       "</style>\n",
       "<table border=\"1\" class=\"dataframe\">\n",
       "  <thead>\n",
       "    <tr style=\"text-align: right;\">\n",
       "      <th></th>\n",
       "      <th>cluster</th>\n",
       "      <th>comments</th>\n",
       "    </tr>\n",
       "  </thead>\n",
       "  <tbody>\n",
       "    <tr>\n",
       "      <th>0</th>\n",
       "      <td>-1</td>\n",
       "      <td>new way learning well and well every day who k...</td>\n",
       "    </tr>\n",
       "    <tr>\n",
       "      <th>1</th>\n",
       "      <td>0</td>\n",
       "      <td>just finish film another quest with mindvalley...</td>\n",
       "    </tr>\n",
       "    <tr>\n",
       "      <th>2</th>\n",
       "      <td>1</td>\n",
       "      <td>absolutely correct same always love glad cross...</td>\n",
       "    </tr>\n",
       "    <tr>\n",
       "      <th>3</th>\n",
       "      <td>3</td>\n",
       "      <td>omg yesss that too when annular solar eclipse ...</td>\n",
       "    </tr>\n",
       "    <tr>\n",
       "      <th>4</th>\n",
       "      <td>4</td>\n",
       "      <td>what reality transurfe exactly mess with mind ...</td>\n",
       "    </tr>\n",
       "    <tr>\n",
       "      <th>5</th>\n",
       "      <td>8</td>\n",
       "      <td>sulaiman launch podcast last year with the goa...</td>\n",
       "    </tr>\n",
       "  </tbody>\n",
       "</table>\n",
       "</div>"
      ],
      "text/plain": [
       "   cluster                                           comments\n",
       "0       -1  new way learning well and well every day who k...\n",
       "1        0  just finish film another quest with mindvalley...\n",
       "2        1  absolutely correct same always love glad cross...\n",
       "3        3  omg yesss that too when annular solar eclipse ...\n",
       "4        4  what reality transurfe exactly mess with mind ...\n",
       "5        8  sulaiman launch podcast last year with the goa..."
      ]
     },
     "execution_count": 26,
     "metadata": {},
     "output_type": "execute_result"
    }
   ],
   "source": [
    "labeled_docs"
   ]
  },
  {
   "cell_type": "code",
   "execution_count": null,
   "metadata": {},
   "outputs": [],
   "source": []
  },
  {
   "cell_type": "code",
   "execution_count": 27,
   "metadata": {
    "scrolled": true
   },
   "outputs": [
    {
     "name": "stdout",
     "output_type": "stream",
     "text": [
      "\u001b[1m   Bigram Cluster 1: \u001b[0m\n",
      "[('awesome quest', 0.4558), ('routine quest', 0.443), ('break quest', 0.4244), ('day quest', 0.4232), ('aim finish', 0.4186), ('embark quest', 0.4177), ('reading quest', 0.4162), ('begin tomorrow', 0.4158), ('dream quest', 0.413), ('mindvalley complete', 0.4094)]\n",
      "\u001b[1m   Bigram Cluster 2: \u001b[0m\n",
      "[('cross path', 0.447), ('cross lovely', 0.4206), ('rock love', 0.4029), ('yes try', 0.3951), ('love hear', 0.3828), ('think leap', 0.3803), ('love quote', 0.3799), ('nico try', 0.3754), ('hey adrienne', 0.3753), ('glad cross', 0.3741)]\n",
      "\u001b[1m   Bigram Cluster 3: \u001b[0m\n",
      "[('read book', 0.4806), ('worth read', 0.467), ('watch read', 0.4458), ('book equally', 0.4432), ('eclipse occur', 0.437), ('unattainable book', 0.4335), ('try read', 0.4273), ('read lot', 0.4148), ('recommend reading', 0.4047), ('new book', 0.4046)]\n",
      "\u001b[1m   Bigram Cluster 4: \u001b[0m\n",
      "[('prove mind', 0.4557), ('mess mind', 0.4237), ('extraordinary mind', 0.4208), ('state mind', 0.4093), ('level mind', 0.3894), ('mind stop', 0.389), ('lucid guy', 0.3752), ('masterclass mind', 0.3629), ('make think', 0.3616), ('dreaming mind', 0.3523)]\n",
      "\u001b[1m   Bigram Cluster 5: \u001b[0m\n",
      "[('launch podcast', 0.4372), ('talk startup', 0.3917), ('startup culture', 0.3676), ('aerospace startup', 0.3597), ('launch informal', 0.3567), ('podcast year', 0.3538), ('launch year', 0.3293), ('discuss topic', 0.3195), ('thread launch', 0.3189), ('interested discuss', 0.3099)]\n",
      "Wall time: 27.7 s\n"
     ]
    }
   ],
   "source": [
    "%%time\n",
    "from keybert import KeyBERT\n",
    "array_text = labeled_docs.comments.tolist()\n",
    "kw_extractor = KeyBERT(model=model)\n",
    "bigram=[]\n",
    "for j in range(len(array_text)-1):\n",
    "    keywords = kw_extractor.extract_keywords(array_text[j+1],top_n=10,keyphrase_ngram_range=(2, 2))\n",
    "    print(f'\\033[1m   Bigram Cluster {j+1}: \\033[0m' )\n",
    "    print([word for word in keywords])\n",
    "    bigram.append([word[0] for word in keywords])"
   ]
  },
  {
   "cell_type": "code",
   "execution_count": 28,
   "metadata": {},
   "outputs": [
    {
     "name": "stdout",
     "output_type": "stream",
     "text": [
      "\u001b[1m   Unigram Cluster 1: \u001b[0m\n",
      "[('finish', 0.3762), ('tomorrow', 0.3357), ('begin', 0.3286), ('complete', 0.3264), ('achieve', 0.3111), ('follow', 0.305), ('start', 0.304), ('luck', 0.3024), ('week', 0.3), ('end', 0.2935)]\n",
      "\u001b[1m   Unigram Cluster 2: \u001b[0m\n",
      "[('cross', 0.4228), ('twitter', 0.3803), ('try', 0.3643), ('rock', 0.333), ('agree', 0.332), ('facebook', 0.3269), ('adrienne', 0.3208), ('true', 0.3126), ('check', 0.3096), ('enjoy', 0.3016)]\n",
      "\u001b[1m   Unigram Cluster 3: \u001b[0m\n",
      "[('eclipse', 0.3842), ('book', 0.3428), ('read', 0.3264), ('fascinating', 0.3189), ('reading', 0.3004), ('expensive', 0.2901), ('premium', 0.2662), ('watch', 0.2605), ('burn', 0.2516), ('annular', 0.2503)]\n",
      "\u001b[1m   Unigram Cluster 4: \u001b[0m\n",
      "[('mind', 0.3186), ('guy', 0.3003), ('reality', 0.2845), ('think', 0.2735), ('billionarie', 0.2469), ('vision', 0.2354), ('brain', 0.2319), ('visione', 0.2299), ('divine', 0.2274), ('consciousness', 0.2274)]\n",
      "\u001b[1m   Unigram Cluster 5: \u001b[0m\n",
      "[('startup', 0.2983), ('podcast', 0.2964), ('launch', 0.2728), ('speak', 0.2698), ('discuss', 0.2542), ('engage', 0.2402), ('parle', 0.2386), ('technque', 0.2218), ('talk', 0.2146), ('interact', 0.2133)]\n",
      "Wall time: 16.8 s\n"
     ]
    }
   ],
   "source": [
    "%%time\n",
    "unigram=[]\n",
    "for j in range(len(array_text)-1):\n",
    "    keywords = kw_extractor.extract_keywords(array_text[j+1],top_n=10,keyphrase_ngram_range=(1, 1))\n",
    "    print(f'\\033[1m   Unigram Cluster {j+1}: \\033[0m' )\n",
    "    print([word for word in keywords])\n",
    "    unigram.append([word[0] for word in keywords])"
   ]
  },
  {
   "cell_type": "code",
   "execution_count": 29,
   "metadata": {},
   "outputs": [
    {
     "name": "stdout",
     "output_type": "stream",
     "text": [
      "\u001b[1m   Cluster 1: \u001b[0m\n",
      "['finish', 'tomorrow', 'begin', 'complete', 'achieve', 'follow', 'start', 'luck', 'week', 'end', 'awesome quest', 'routine quest', 'break quest', 'day quest', 'aim finish', 'embark quest', 'reading quest', 'begin tomorrow', 'dream quest', 'mindvalley complete']\n",
      "\u001b[1m   Cluster 2: \u001b[0m\n",
      "['cross', 'twitter', 'try', 'rock', 'agree', 'facebook', 'adrienne', 'true', 'check', 'enjoy', 'cross path', 'cross lovely', 'rock love', 'yes try', 'love hear', 'think leap', 'love quote', 'nico try', 'hey adrienne', 'glad cross']\n",
      "\u001b[1m   Cluster 3: \u001b[0m\n",
      "['eclipse', 'book', 'read', 'fascinating', 'reading', 'expensive', 'premium', 'watch', 'burn', 'annular', 'read book', 'worth read', 'watch read', 'book equally', 'eclipse occur', 'unattainable book', 'try read', 'read lot', 'recommend reading', 'new book']\n",
      "\u001b[1m   Cluster 4: \u001b[0m\n",
      "['mind', 'guy', 'reality', 'think', 'billionarie', 'vision', 'brain', 'visione', 'divine', 'consciousness', 'prove mind', 'mess mind', 'extraordinary mind', 'state mind', 'level mind', 'mind stop', 'lucid guy', 'masterclass mind', 'make think', 'dreaming mind']\n",
      "\u001b[1m   Cluster 5: \u001b[0m\n",
      "['startup', 'podcast', 'launch', 'speak', 'discuss', 'engage', 'parle', 'technque', 'talk', 'interact', 'launch podcast', 'talk startup', 'startup culture', 'aerospace startup', 'launch informal', 'podcast year', 'discuss topic', 'thread launch', 'interested discuss']\n"
     ]
    }
   ],
   "source": [
    "for i in range(len(array_text)-1):\n",
    "    clusterer=[]\n",
    "    bigramer=[]\n",
    "    print(f'\\033[1m   Cluster {i+1}: \\033[0m')\n",
    "    [clusterer.append(j) for j in unigram[i]]\n",
    "    clusterer.append(bigram[i][0])\n",
    "    \n",
    "    for word in bigram[i][0].split(\" \"):\n",
    "        if word not in bigramer:\n",
    "            bigramer.append(word)\n",
    "    \n",
    "    for each in bigram[i]:\n",
    "        first,second=each.split(\" \")\n",
    "        if first != second and not(first in bigramer and second in bigramer):\n",
    "            clusterer.append(each)\n",
    "            if bigramer.append(first): first not in bigramer\n",
    "            if bigramer.append(second): second not in bigramer\n",
    "    print(clusterer)"
   ]
  },
  {
   "cell_type": "code",
   "execution_count": 30,
   "metadata": {},
   "outputs": [
    {
     "name": "stdout",
     "output_type": "stream",
     "text": [
      "131.41869735717773\n"
     ]
    }
   ],
   "source": [
    "end = time.time()\n",
    "print(end - start)"
   ]
  },
  {
   "cell_type": "code",
   "execution_count": null,
   "metadata": {
    "scrolled": true
   },
   "outputs": [],
   "source": []
  }
 ],
 "metadata": {
  "colab": {
   "name": "Untitled5.ipynb",
   "provenance": []
  },
  "kernelspec": {
   "display_name": "Python 3",
   "language": "python",
   "name": "python3"
  },
  "language_info": {
   "codemirror_mode": {
    "name": "ipython",
    "version": 3
   },
   "file_extension": ".py",
   "mimetype": "text/x-python",
   "name": "python",
   "nbconvert_exporter": "python",
   "pygments_lexer": "ipython3",
   "version": "3.8.7"
  },
  "varInspector": {
   "cols": {
    "lenName": 16,
    "lenType": 16,
    "lenVar": 40
   },
   "kernels_config": {
    "python": {
     "delete_cmd_postfix": "",
     "delete_cmd_prefix": "del ",
     "library": "var_list.py",
     "varRefreshCmd": "print(var_dic_list())"
    },
    "r": {
     "delete_cmd_postfix": ") ",
     "delete_cmd_prefix": "rm(",
     "library": "var_list.r",
     "varRefreshCmd": "cat(var_dic_list()) "
    }
   },
   "types_to_exclude": [
    "module",
    "function",
    "builtin_function_or_method",
    "instance",
    "_Feature"
   ],
   "window_display": false
  },
  "widgets": {
   "application/vnd.jupyter.widget-state+json": {
    "10748c34bb5448d9a34cd200a3979d56": {
     "model_module": "@jupyter-widgets/controls",
     "model_name": "HTMLModel",
     "state": {
      "_dom_classes": [],
      "_model_module": "@jupyter-widgets/controls",
      "_model_module_version": "1.5.0",
      "_model_name": "HTMLModel",
      "_view_count": null,
      "_view_module": "@jupyter-widgets/controls",
      "_view_module_version": "1.5.0",
      "_view_name": "HTMLView",
      "description": "",
      "description_tooltip": null,
      "layout": "IPY_MODEL_7e2aa975791049c8a7f588ed76b379c0",
      "placeholder": "​",
      "style": "IPY_MODEL_39fd5938a4df4de2891cd8393dd7af2f",
      "value": " 140/140 [01:59&lt;00:00,  1.17it/s]"
     }
    },
    "39fd5938a4df4de2891cd8393dd7af2f": {
     "model_module": "@jupyter-widgets/controls",
     "model_name": "DescriptionStyleModel",
     "state": {
      "_model_module": "@jupyter-widgets/controls",
      "_model_module_version": "1.5.0",
      "_model_name": "DescriptionStyleModel",
      "_view_count": null,
      "_view_module": "@jupyter-widgets/base",
      "_view_module_version": "1.2.0",
      "_view_name": "StyleView",
      "description_width": ""
     }
    },
    "6b163e4049ca4cbe8a24e7ac79ced8a5": {
     "model_module": "@jupyter-widgets/controls",
     "model_name": "HBoxModel",
     "state": {
      "_dom_classes": [],
      "_model_module": "@jupyter-widgets/controls",
      "_model_module_version": "1.5.0",
      "_model_name": "HBoxModel",
      "_view_count": null,
      "_view_module": "@jupyter-widgets/controls",
      "_view_module_version": "1.5.0",
      "_view_name": "HBoxView",
      "box_style": "",
      "children": [
       "IPY_MODEL_b02fccb0afa047999665079b5248015f",
       "IPY_MODEL_10748c34bb5448d9a34cd200a3979d56"
      ],
      "layout": "IPY_MODEL_be0f028285fa4e8da720237e1b1279bf"
     }
    },
    "7e2aa975791049c8a7f588ed76b379c0": {
     "model_module": "@jupyter-widgets/base",
     "model_name": "LayoutModel",
     "state": {
      "_model_module": "@jupyter-widgets/base",
      "_model_module_version": "1.2.0",
      "_model_name": "LayoutModel",
      "_view_count": null,
      "_view_module": "@jupyter-widgets/base",
      "_view_module_version": "1.2.0",
      "_view_name": "LayoutView",
      "align_content": null,
      "align_items": null,
      "align_self": null,
      "border": null,
      "bottom": null,
      "display": null,
      "flex": null,
      "flex_flow": null,
      "grid_area": null,
      "grid_auto_columns": null,
      "grid_auto_flow": null,
      "grid_auto_rows": null,
      "grid_column": null,
      "grid_gap": null,
      "grid_row": null,
      "grid_template_areas": null,
      "grid_template_columns": null,
      "grid_template_rows": null,
      "height": null,
      "justify_content": null,
      "justify_items": null,
      "left": null,
      "margin": null,
      "max_height": null,
      "max_width": null,
      "min_height": null,
      "min_width": null,
      "object_fit": null,
      "object_position": null,
      "order": null,
      "overflow": null,
      "overflow_x": null,
      "overflow_y": null,
      "padding": null,
      "right": null,
      "top": null,
      "visibility": null,
      "width": null
     }
    },
    "b02fccb0afa047999665079b5248015f": {
     "model_module": "@jupyter-widgets/controls",
     "model_name": "FloatProgressModel",
     "state": {
      "_dom_classes": [],
      "_model_module": "@jupyter-widgets/controls",
      "_model_module_version": "1.5.0",
      "_model_name": "FloatProgressModel",
      "_view_count": null,
      "_view_module": "@jupyter-widgets/controls",
      "_view_module_version": "1.5.0",
      "_view_name": "ProgressView",
      "bar_style": "success",
      "description": "Batches: 100%",
      "description_tooltip": null,
      "layout": "IPY_MODEL_ea4553e744634f56a3128b209cac5330",
      "max": 140,
      "min": 0,
      "orientation": "horizontal",
      "style": "IPY_MODEL_b927e6a6b1c44be1be1f58d582da2f6a",
      "value": 140
     }
    },
    "b927e6a6b1c44be1be1f58d582da2f6a": {
     "model_module": "@jupyter-widgets/controls",
     "model_name": "ProgressStyleModel",
     "state": {
      "_model_module": "@jupyter-widgets/controls",
      "_model_module_version": "1.5.0",
      "_model_name": "ProgressStyleModel",
      "_view_count": null,
      "_view_module": "@jupyter-widgets/base",
      "_view_module_version": "1.2.0",
      "_view_name": "StyleView",
      "bar_color": null,
      "description_width": "initial"
     }
    },
    "be0f028285fa4e8da720237e1b1279bf": {
     "model_module": "@jupyter-widgets/base",
     "model_name": "LayoutModel",
     "state": {
      "_model_module": "@jupyter-widgets/base",
      "_model_module_version": "1.2.0",
      "_model_name": "LayoutModel",
      "_view_count": null,
      "_view_module": "@jupyter-widgets/base",
      "_view_module_version": "1.2.0",
      "_view_name": "LayoutView",
      "align_content": null,
      "align_items": null,
      "align_self": null,
      "border": null,
      "bottom": null,
      "display": null,
      "flex": null,
      "flex_flow": null,
      "grid_area": null,
      "grid_auto_columns": null,
      "grid_auto_flow": null,
      "grid_auto_rows": null,
      "grid_column": null,
      "grid_gap": null,
      "grid_row": null,
      "grid_template_areas": null,
      "grid_template_columns": null,
      "grid_template_rows": null,
      "height": null,
      "justify_content": null,
      "justify_items": null,
      "left": null,
      "margin": null,
      "max_height": null,
      "max_width": null,
      "min_height": null,
      "min_width": null,
      "object_fit": null,
      "object_position": null,
      "order": null,
      "overflow": null,
      "overflow_x": null,
      "overflow_y": null,
      "padding": null,
      "right": null,
      "top": null,
      "visibility": null,
      "width": null
     }
    },
    "ea4553e744634f56a3128b209cac5330": {
     "model_module": "@jupyter-widgets/base",
     "model_name": "LayoutModel",
     "state": {
      "_model_module": "@jupyter-widgets/base",
      "_model_module_version": "1.2.0",
      "_model_name": "LayoutModel",
      "_view_count": null,
      "_view_module": "@jupyter-widgets/base",
      "_view_module_version": "1.2.0",
      "_view_name": "LayoutView",
      "align_content": null,
      "align_items": null,
      "align_self": null,
      "border": null,
      "bottom": null,
      "display": null,
      "flex": null,
      "flex_flow": null,
      "grid_area": null,
      "grid_auto_columns": null,
      "grid_auto_flow": null,
      "grid_auto_rows": null,
      "grid_column": null,
      "grid_gap": null,
      "grid_row": null,
      "grid_template_areas": null,
      "grid_template_columns": null,
      "grid_template_rows": null,
      "height": null,
      "justify_content": null,
      "justify_items": null,
      "left": null,
      "margin": null,
      "max_height": null,
      "max_width": null,
      "min_height": null,
      "min_width": null,
      "object_fit": null,
      "object_position": null,
      "order": null,
      "overflow": null,
      "overflow_x": null,
      "overflow_y": null,
      "padding": null,
      "right": null,
      "top": null,
      "visibility": null,
      "width": null
     }
    }
   }
  }
 },
 "nbformat": 4,
 "nbformat_minor": 4
}

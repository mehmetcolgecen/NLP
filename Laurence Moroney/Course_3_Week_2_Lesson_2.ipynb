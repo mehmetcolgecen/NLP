{
  "nbformat": 4,
  "nbformat_minor": 0,
  "metadata": {
    "accelerator": "GPU",
    "colab": {
      "name": "Course 3 - Week 2 - Lesson 2.ipynb",
      "provenance": [],
      "collapsed_sections": [],
      "include_colab_link": true
    },
    "kernelspec": {
      "display_name": "Python 3",
      "name": "python3"
    }
  },
  "cells": [
    {
      "cell_type": "markdown",
      "metadata": {
        "id": "view-in-github",
        "colab_type": "text"
      },
      "source": [
        "<a href=\"https://colab.research.google.com/github/mehmetcolgecen/NLP/blob/main/Laurence%20Moroney/Course_3_Week_2_Lesson_2.ipynb\" target=\"_parent\"><img src=\"https://colab.research.google.com/assets/colab-badge.svg\" alt=\"Open In Colab\"/></a>"
      ]
    },
    {
      "cell_type": "code",
      "metadata": {
        "id": "4gs9htvM7n_x"
      },
      "source": [
        "# Run this to ensure TensorFlow 2.x is used\n",
        "try:\n",
        "  # %tensorflow_version only exists in Colab.\n",
        "  %tensorflow_version 2.x\n",
        "except Exception:\n",
        "  pass"
      ],
      "execution_count": null,
      "outputs": []
    },
    {
      "cell_type": "code",
      "metadata": {
        "id": "XYYDvoskkE61"
      },
      "source": [
        "import json\n",
        "import tensorflow as tf\n",
        "\n",
        "from tensorflow.keras.preprocessing.text import Tokenizer\n",
        "from tensorflow.keras.preprocessing.sequence import pad_sequences"
      ],
      "execution_count": null,
      "outputs": []
    },
    {
      "cell_type": "code",
      "metadata": {
        "id": "0eJSTTYnkJQd"
      },
      "source": [
        "vocab_size = 10000\n",
        "embedding_dim = 16\n",
        "max_length = 100\n",
        "trunc_type='post'\n",
        "padding_type='post'\n",
        "oov_tok = \"<OOV>\"\n",
        "training_size = 20000\n"
      ],
      "execution_count": null,
      "outputs": []
    },
    {
      "cell_type": "code",
      "metadata": {
        "colab": {
          "base_uri": "https://localhost:8080/"
        },
        "id": "BQVuQrZNkPn9",
        "outputId": "c45a3655-e519-4905-b798-2fa168285919"
      },
      "source": [
        "!wget --no-check-certificate \\\n",
        "    https://storage.googleapis.com/laurencemoroney-blog.appspot.com/sarcasm.json \\\n",
        "    -O /tmp/sarcasm.json\n"
      ],
      "execution_count": null,
      "outputs": [
        {
          "output_type": "stream",
          "text": [
            "--2021-01-20 08:38:21--  https://storage.googleapis.com/laurencemoroney-blog.appspot.com/sarcasm.json\n",
            "Resolving storage.googleapis.com (storage.googleapis.com)... 74.125.20.128, 74.125.142.128, 74.125.195.128, ...\n",
            "Connecting to storage.googleapis.com (storage.googleapis.com)|74.125.20.128|:443... connected.\n",
            "HTTP request sent, awaiting response... 200 OK\n",
            "Length: 5643545 (5.4M) [application/json]\n",
            "Saving to: ‘/tmp/sarcasm.json’\n",
            "\n",
            "\r/tmp/sarcasm.json     0%[                    ]       0  --.-KB/s               \r/tmp/sarcasm.json   100%[===================>]   5.38M  --.-KB/s    in 0.03s   \n",
            "\n",
            "2021-01-20 08:38:21 (187 MB/s) - ‘/tmp/sarcasm.json’ saved [5643545/5643545]\n",
            "\n"
          ],
          "name": "stdout"
        }
      ]
    },
    {
      "cell_type": "code",
      "metadata": {
        "id": "oaLaaqhNkUPd"
      },
      "source": [
        "with open(\"/tmp/sarcasm.json\", 'r') as f:\n",
        "    datastore = json.load(f)\n",
        "\n",
        "sentences = []\n",
        "labels = []\n",
        "\n",
        "for item in datastore:\n",
        "    sentences.append(item['headline'])\n",
        "    labels.append(item['is_sarcastic'])"
      ],
      "execution_count": null,
      "outputs": []
    },
    {
      "cell_type": "code",
      "metadata": {
        "id": "S1sD-7v0kYWk"
      },
      "source": [
        "training_sentences = sentences[0:training_size]\n",
        "testing_sentences = sentences[training_size:]\n",
        "training_labels = labels[0:training_size]\n",
        "testing_labels = labels[training_size:]"
      ],
      "execution_count": null,
      "outputs": []
    },
    {
      "cell_type": "code",
      "metadata": {
        "id": "3u8UB0MCkZ5N"
      },
      "source": [
        "tokenizer = Tokenizer(num_words=vocab_size, oov_token=oov_tok)\n",
        "tokenizer.fit_on_texts(training_sentences)\n",
        "\n",
        "word_index = tokenizer.word_index\n",
        "\n",
        "training_sequences = tokenizer.texts_to_sequences(training_sentences)\n",
        "training_padded = pad_sequences(training_sequences, maxlen=max_length, padding=padding_type, truncating=trunc_type)\n",
        "\n",
        "testing_sequences = tokenizer.texts_to_sequences(testing_sentences)\n",
        "testing_padded = pad_sequences(testing_sequences, maxlen=max_length, padding=padding_type, truncating=trunc_type)"
      ],
      "execution_count": null,
      "outputs": []
    },
    {
      "cell_type": "code",
      "metadata": {
        "id": "GrAlWBKf99Ya"
      },
      "source": [
        "# Need this block to get it to work with TensorFlow 2.x\n",
        "import numpy as np\n",
        "training_padded = np.array(training_padded)\n",
        "training_labels = np.array(training_labels)\n",
        "testing_padded = np.array(testing_padded)\n",
        "testing_labels = np.array(testing_labels)"
      ],
      "execution_count": null,
      "outputs": []
    },
    {
      "cell_type": "code",
      "metadata": {
        "id": "FufaT4vlkiDE"
      },
      "source": [
        "model = tf.keras.Sequential([\n",
        "    tf.keras.layers.Embedding(vocab_size, embedding_dim, input_length=max_length),\n",
        "    tf.keras.layers.GlobalAveragePooling1D(),\n",
        "    tf.keras.layers.Dense(24, activation='relu'),\n",
        "    tf.keras.layers.Dense(1, activation='sigmoid')\n",
        "])\n",
        "model.compile(loss='binary_crossentropy',optimizer='adam',metrics=['accuracy'])"
      ],
      "execution_count": null,
      "outputs": []
    },
    {
      "cell_type": "code",
      "metadata": {
        "colab": {
          "base_uri": "https://localhost:8080/"
        },
        "id": "XfDt1hmYkiys",
        "outputId": "d3ff5665-3c19-420a-eecf-35f364540437"
      },
      "source": [
        "model.summary()\n"
      ],
      "execution_count": null,
      "outputs": [
        {
          "output_type": "stream",
          "text": [
            "Model: \"sequential_1\"\n",
            "_________________________________________________________________\n",
            "Layer (type)                 Output Shape              Param #   \n",
            "=================================================================\n",
            "embedding_1 (Embedding)      (None, 100, 32)           320000    \n",
            "_________________________________________________________________\n",
            "global_average_pooling1d_1 ( (None, 32)                0         \n",
            "_________________________________________________________________\n",
            "dense_2 (Dense)              (None, 24)                792       \n",
            "_________________________________________________________________\n",
            "dense_3 (Dense)              (None, 1)                 25        \n",
            "=================================================================\n",
            "Total params: 320,817\n",
            "Trainable params: 320,817\n",
            "Non-trainable params: 0\n",
            "_________________________________________________________________\n"
          ],
          "name": "stdout"
        }
      ]
    },
    {
      "cell_type": "code",
      "metadata": {
        "colab": {
          "base_uri": "https://localhost:8080/"
        },
        "id": "2DTKQFf1kkyc",
        "outputId": "6a6e5fb0-fb54-49b7-e9cb-612a120aaede"
      },
      "source": [
        "num_epochs = 30\n",
        "history = model.fit(training_padded, training_labels, epochs=num_epochs, validation_data=(testing_padded, testing_labels), verbose=2)"
      ],
      "execution_count": null,
      "outputs": [
        {
          "output_type": "stream",
          "text": [
            "Epoch 1/30\n",
            "625/625 - 3s - loss: 0.6345 - accuracy: 0.6310 - val_loss: 0.5061 - val_accuracy: 0.7626\n",
            "Epoch 2/30\n",
            "625/625 - 3s - loss: 0.3636 - accuracy: 0.8521 - val_loss: 0.3729 - val_accuracy: 0.8331\n",
            "Epoch 3/30\n",
            "625/625 - 3s - loss: 0.2739 - accuracy: 0.8902 - val_loss: 0.3485 - val_accuracy: 0.8487\n",
            "Epoch 4/30\n",
            "625/625 - 3s - loss: 0.2266 - accuracy: 0.9122 - val_loss: 0.3569 - val_accuracy: 0.8492\n",
            "Epoch 5/30\n",
            "625/625 - 3s - loss: 0.1925 - accuracy: 0.9252 - val_loss: 0.3571 - val_accuracy: 0.8541\n",
            "Epoch 6/30\n",
            "625/625 - 3s - loss: 0.1684 - accuracy: 0.9369 - val_loss: 0.3755 - val_accuracy: 0.8520\n",
            "Epoch 7/30\n",
            "625/625 - 3s - loss: 0.1481 - accuracy: 0.9453 - val_loss: 0.3950 - val_accuracy: 0.8548\n",
            "Epoch 8/30\n",
            "625/625 - 3s - loss: 0.1299 - accuracy: 0.9536 - val_loss: 0.4481 - val_accuracy: 0.8362\n",
            "Epoch 9/30\n",
            "625/625 - 3s - loss: 0.1162 - accuracy: 0.9580 - val_loss: 0.4566 - val_accuracy: 0.8439\n",
            "Epoch 10/30\n",
            "625/625 - 3s - loss: 0.1038 - accuracy: 0.9646 - val_loss: 0.4841 - val_accuracy: 0.8422\n",
            "Epoch 11/30\n",
            "625/625 - 3s - loss: 0.0921 - accuracy: 0.9686 - val_loss: 0.5177 - val_accuracy: 0.8384\n",
            "Epoch 12/30\n",
            "625/625 - 3s - loss: 0.0839 - accuracy: 0.9721 - val_loss: 0.5606 - val_accuracy: 0.8335\n",
            "Epoch 13/30\n",
            "625/625 - 3s - loss: 0.0761 - accuracy: 0.9740 - val_loss: 0.5977 - val_accuracy: 0.8347\n",
            "Epoch 14/30\n",
            "625/625 - 3s - loss: 0.0675 - accuracy: 0.9776 - val_loss: 0.6393 - val_accuracy: 0.8314\n",
            "Epoch 15/30\n",
            "625/625 - 3s - loss: 0.0619 - accuracy: 0.9791 - val_loss: 0.6739 - val_accuracy: 0.8277\n",
            "Epoch 16/30\n",
            "625/625 - 3s - loss: 0.0580 - accuracy: 0.9808 - val_loss: 0.7275 - val_accuracy: 0.8247\n",
            "Epoch 17/30\n",
            "625/625 - 3s - loss: 0.0514 - accuracy: 0.9833 - val_loss: 0.7538 - val_accuracy: 0.8234\n",
            "Epoch 18/30\n",
            "625/625 - 3s - loss: 0.0457 - accuracy: 0.9855 - val_loss: 0.7943 - val_accuracy: 0.8214\n",
            "Epoch 19/30\n",
            "625/625 - 3s - loss: 0.0424 - accuracy: 0.9870 - val_loss: 0.8449 - val_accuracy: 0.8182\n",
            "Epoch 20/30\n",
            "625/625 - 3s - loss: 0.0400 - accuracy: 0.9873 - val_loss: 0.9360 - val_accuracy: 0.8152\n",
            "Epoch 21/30\n",
            "625/625 - 3s - loss: 0.0342 - accuracy: 0.9901 - val_loss: 0.9321 - val_accuracy: 0.8174\n",
            "Epoch 22/30\n",
            "625/625 - 3s - loss: 0.0317 - accuracy: 0.9901 - val_loss: 0.9882 - val_accuracy: 0.8161\n",
            "Epoch 23/30\n",
            "625/625 - 3s - loss: 0.0310 - accuracy: 0.9901 - val_loss: 1.0543 - val_accuracy: 0.8143\n",
            "Epoch 24/30\n",
            "625/625 - 3s - loss: 0.0284 - accuracy: 0.9911 - val_loss: 1.0566 - val_accuracy: 0.8146\n",
            "Epoch 25/30\n",
            "625/625 - 3s - loss: 0.0252 - accuracy: 0.9927 - val_loss: 1.0944 - val_accuracy: 0.8114\n",
            "Epoch 26/30\n",
            "625/625 - 3s - loss: 0.0234 - accuracy: 0.9934 - val_loss: 1.2124 - val_accuracy: 0.8091\n",
            "Epoch 27/30\n",
            "625/625 - 3s - loss: 0.0209 - accuracy: 0.9945 - val_loss: 1.2190 - val_accuracy: 0.8101\n",
            "Epoch 28/30\n",
            "625/625 - 3s - loss: 0.0200 - accuracy: 0.9940 - val_loss: 1.2691 - val_accuracy: 0.8086\n",
            "Epoch 29/30\n",
            "625/625 - 3s - loss: 0.0192 - accuracy: 0.9944 - val_loss: 1.2757 - val_accuracy: 0.8083\n",
            "Epoch 30/30\n",
            "625/625 - 3s - loss: 0.0223 - accuracy: 0.9933 - val_loss: 1.3168 - val_accuracy: 0.8106\n"
          ],
          "name": "stdout"
        }
      ]
    },
    {
      "cell_type": "code",
      "metadata": {
        "colab": {
          "base_uri": "https://localhost:8080/",
          "height": 541
        },
        "id": "2HYfBKXjkmU8",
        "outputId": "1fe84bb7-c88a-46be-8d9a-7539a038c698"
      },
      "source": [
        "import matplotlib.pyplot as plt\n",
        "\n",
        "\n",
        "def plot_graphs(history, string):\n",
        "  plt.plot(history.history[string])\n",
        "  plt.plot(history.history['val_'+string])\n",
        "  plt.xlabel(\"Epochs\")\n",
        "  plt.ylabel(string)\n",
        "  plt.legend([string, 'val_'+string])\n",
        "  plt.show()\n",
        "  \n",
        "plot_graphs(history, \"accuracy\")\n",
        "plot_graphs(history, \"loss\")"
      ],
      "execution_count": null,
      "outputs": [
        {
          "output_type": "display_data",
          "data": {
            "image/png": "[encoded data removed]",
            "text/plain": [
              "<Figure size 432x288 with 1 Axes>"
            ]
          },
          "metadata": {
            "tags": [],
            "needs_background": "light"
          }
        },
        {
          "output_type": "display_data",
          "data": {
            "image/png": "[encoded data removed]",
            "text/plain": [
              "<Figure size 432x288 with 1 Axes>"
            ]
          },
          "metadata": {
            "tags": [],
            "needs_background": "light"
          }
        }
      ]
    },
    {
      "cell_type": "code",
      "metadata": {
        "colab": {
          "base_uri": "https://localhost:8080/"
        },
        "id": "7SBdAZAenvzL",
        "outputId": "c1363cd4-a19a-4def-8b02-cd8f9bc51311"
      },
      "source": [
        "reverse_word_index = dict([(value, key) for (key, value) in word_index.items()])\n",
        "\n",
        "def decode_sentence(text):\n",
        "    return ' '.join([reverse_word_index.get(i, '?') for i in text])\n",
        "\n",
        "print(decode_sentence(training_padded[0]))\n",
        "print(training_sentences[2])\n",
        "print(labels[2])"
      ],
      "execution_count": null,
      "outputs": [
        {
          "output_type": "stream",
          "text": [
            "former <OOV> store clerk sues over secret 'black <OOV> for minority shoppers ? ? ? ? ? ? ? ? ? ? ? ? ? ? ? ? ? ? ? ? ? ? ? ? ? ? ? ? ? ? ? ? ? ? ? ? ? ? ? ? ? ? ? ? ? ? ? ? ? ? ? ? ? ? ? ? ? ? ? ? ? ? ? ? ? ? ? ? ? ? ? ? ? ? ? ? ? ? ? ? ? ? ? ? ? ? ? ?\n",
            "mom starting to fear son's web series closest thing she will have to grandchild\n",
            "1\n"
          ],
          "name": "stdout"
        }
      ]
    },
    {
      "cell_type": "code",
      "metadata": {
        "colab": {
          "base_uri": "https://localhost:8080/"
        },
        "id": "c9MqihtEkzQ9",
        "outputId": "92ff1bac-cf96-4e33-d91a-95df5d806181"
      },
      "source": [
        "e = model.layers[0]\n",
        "weights = e.get_weights()[0]\n",
        "print(weights.shape) # shape: (vocab_size, embedding_dim)\n"
      ],
      "execution_count": null,
      "outputs": [
        {
          "output_type": "stream",
          "text": [
            "(10000, 16)\n"
          ],
          "name": "stdout"
        }
      ]
    },
    {
      "cell_type": "code",
      "metadata": {
        "id": "LoBXVffknldU"
      },
      "source": [
        "import io\n",
        "\n",
        "out_v = io.open('vecs.tsv', 'w', encoding='utf-8')\n",
        "out_m = io.open('meta.tsv', 'w', encoding='utf-8')\n",
        "for word_num in range(1, vocab_size):\n",
        "  word = reverse_word_index[word_num]\n",
        "  embeddings = weights[word_num]\n",
        "  out_m.write(word + \"\\n\")\n",
        "  out_v.write('\\t'.join([str(x) for x in embeddings]) + \"\\n\")\n",
        "out_v.close()\n",
        "out_m.close()"
      ],
      "execution_count": null,
      "outputs": []
    },
    {
      "cell_type": "code",
      "metadata": {
        "id": "U4eZ5HtVnnEE"
      },
      "source": [
        "try:\n",
        "  from google.colab import files\n",
        "except ImportError:\n",
        "  pass\n",
        "else:\n",
        "  files.download('vecs.tsv')\n",
        "  files.download('meta.tsv')"
      ],
      "execution_count": null,
      "outputs": []
    },
    {
      "cell_type": "code",
      "metadata": {
        "colab": {
          "base_uri": "https://localhost:8080/"
        },
        "id": "cG8-ArY-qDcz",
        "outputId": "98d4bae0-f676-4dab-887f-8b9b6d80170e"
      },
      "source": [
        "sentence = [\"granny starting to fear spiders in the garden might be real\", \"game of thrones season finale showing this sunday night\"]\n",
        "sequences = tokenizer.texts_to_sequences(sentence)\n",
        "padded = pad_sequences(sequences, maxlen=max_length, padding=padding_type, truncating=trunc_type)\n",
        "print(model.predict(padded))"
      ],
      "execution_count": null,
      "outputs": [
        {
          "output_type": "stream",
          "text": [
            "[[9.5131767e-01]\n",
            " [2.9762241e-05]]\n"
          ],
          "name": "stdout"
        }
      ]
    },
    {
      "cell_type": "code",
      "metadata": {
        "id": "l-Sz3kgW8BB6"
      },
      "source": [
        ""
      ],
      "execution_count": null,
      "outputs": []
    }
  ]
}